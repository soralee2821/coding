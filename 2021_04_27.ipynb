{
  "nbformat": 4,
  "nbformat_minor": 0,
  "metadata": {
    "colab": {
      "name": "2021-04-27.ipynb",
      "provenance": [],
      "authorship_tag": "ABX9TyMz8Nl9k/n+rAJR5RVzO7AS",
      "include_colab_link": true
    },
    "kernelspec": {
      "name": "python3",
      "display_name": "Python 3"
    },
    "language_info": {
      "name": "python"
    }
  },
  "cells": [
    {
      "cell_type": "markdown",
      "metadata": {
        "id": "view-in-github",
        "colab_type": "text"
      },
      "source": [
        "<a href=\"https://colab.research.google.com/github/soralee2821/coding/blob/master/2021_04_27.ipynb\" target=\"_parent\"><img src=\"https://colab.research.google.com/assets/colab-badge.svg\" alt=\"Open In Colab\"/></a>"
      ]
    },
    {
      "cell_type": "markdown",
      "metadata": {
        "id": "fQLQ8cT6282p"
      },
      "source": [
        "# Multiprocessing"
      ]
    },
    {
      "cell_type": "code",
      "metadata": {
        "colab": {
          "base_uri": "https://localhost:8080/"
        },
        "id": "5ZTniVEy2330",
        "outputId": "3847d16a-c9f2-4dee-82ed-029414c0d89c"
      },
      "source": [
        "# share single value\n",
        "# raise condition occurs(2 processes excute simultaneosly)\n",
        "from multiprocessing import Process, Value, Array\n",
        "import time\n",
        "\n",
        "def add_100(number):\n",
        "    for i in range(100):\n",
        "        time.sleep(0.01)\n",
        "        number.value += 1\n",
        "\n",
        "if __name__ == \"__main__\":\n",
        "    shared_number = Value('i', 0)\n",
        "    print('Number at beginning is', shared_number.value)\n",
        "\n",
        "    p1 = Process(target=add_100, args=(shared_number,))\n",
        "    p2 = Process(target=add_100, args=(shared_number,))\n",
        "\n",
        "    p1.start()\n",
        "    p2.start()\n",
        "\n",
        "    p1.join()\n",
        "    p2.join()\n",
        "\n",
        "    print('number at end is', shared_number.value)"
      ],
      "execution_count": 1,
      "outputs": [
        {
          "output_type": "stream",
          "text": [
            "Number at beginning is 0\n",
            "number at end is 200\n"
          ],
          "name": "stdout"
        }
      ]
    },
    {
      "cell_type": "code",
      "metadata": {
        "colab": {
          "base_uri": "https://localhost:8080/"
        },
        "id": "bS7T-TYMR5Bd",
        "outputId": "00639ed5-eb19-46d7-c4d8-0ca9f6d1094b"
      },
      "source": [
        "# use Lock 1\n",
        "from multiprocessing import Process, Value, Array, Lock\n",
        "import time\n",
        "\n",
        "def add_100(number, lock):\n",
        "    for i in range(100):\n",
        "        time.sleep(0.01)\n",
        "        lock.acquire()\n",
        "        number.value += 1\n",
        "        lock.release()\n",
        "\n",
        "if __name__ == \"__main__\":\n",
        "    lock = Lock()\n",
        "    shared_number = Value('i', 0)\n",
        "    print('Number at beginning is', shared_number.value)\n",
        "\n",
        "    p1 = Process(target=add_100, args=(shared_number,lock))\n",
        "    p2 = Process(target=add_100, args=(shared_number,lock))\n",
        "\n",
        "    p1.start()\n",
        "    p2.start()\n",
        "\n",
        "    p1.join()\n",
        "    p2.join()\n",
        "\n",
        "    print('number at end is', shared_number.value)"
      ],
      "execution_count": 2,
      "outputs": [
        {
          "output_type": "stream",
          "text": [
            "Number at beginning is 0\n",
            "number at end is 200\n"
          ],
          "name": "stdout"
        }
      ]
    },
    {
      "cell_type": "code",
      "metadata": {
        "colab": {
          "base_uri": "https://localhost:8080/"
        },
        "id": "ATUXi1bfTdGM",
        "outputId": "2dbb718c-595b-419f-d09e-81e0d9abd43f"
      },
      "source": [
        "# use Lock 2\n",
        "from multiprocessing import Process, Value, Array, Lock\n",
        "import time\n",
        "\n",
        "def add_100(number, lock):\n",
        "    for i in range(100):\n",
        "        time.sleep(0.01)\n",
        "        with lock:\n",
        "            number.value += 1\n",
        "\n",
        "if __name__ == \"__main__\":\n",
        "    lock = Lock()\n",
        "    shared_number = Value('i', 0)\n",
        "    print('Number at beginning is', shared_number.value)\n",
        "\n",
        "    p1 = Process(target=add_100, args=(shared_number,lock))\n",
        "    p2 = Process(target=add_100, args=(shared_number,lock))\n",
        "\n",
        "    p1.start()\n",
        "    p2.start()\n",
        "\n",
        "    p1.join()\n",
        "    p2.join()\n",
        "\n",
        "    print('number at end is', shared_number.value)"
      ],
      "execution_count": 3,
      "outputs": [
        {
          "output_type": "stream",
          "text": [
            "Number at beginning is 0\n",
            "number at end is 200\n"
          ],
          "name": "stdout"
        }
      ]
    },
    {
      "cell_type": "code",
      "metadata": {
        "colab": {
          "base_uri": "https://localhost:8080/"
        },
        "id": "dtGobzoJTxxN",
        "outputId": "cb16522c-84a0-41d0-884c-5a52ef65bfdc"
      },
      "source": [
        "# share an array\n",
        "from multiprocessing import Process, Value, Array, Lock\n",
        "import time\n",
        "\n",
        "def add_100(numbers, lock):\n",
        "    for i in range(100):\n",
        "        time.sleep(0.01)\n",
        "        for i in range(len(numbers)):\n",
        "            with lock:\n",
        "                numbers[i] +=1\n",
        "\n",
        "if __name__ == \"__main__\":\n",
        "    lock = Lock()\n",
        "    shared_array = Array('d', [0.0, 100.0, 200.0])\n",
        "    print('array at beginning is', shared_array[:])\n",
        "\n",
        "    p1 = Process(target=add_100, args=(shared_array,lock))\n",
        "    p2 = Process(target=add_100, args=(shared_array,lock))\n",
        "\n",
        "    p1.start()\n",
        "    p2.start()\n",
        "\n",
        "    p1.join()\n",
        "    p2.join()\n",
        "\n",
        "    print('array at end is', shared_array[:])"
      ],
      "execution_count": 4,
      "outputs": [
        {
          "output_type": "stream",
          "text": [
            "array at beginning is [0.0, 100.0, 200.0]\n",
            "array at end is [200.0, 300.0, 400.0]\n"
          ],
          "name": "stdout"
        }
      ]
    },
    {
      "cell_type": "code",
      "metadata": {
        "colab": {
          "base_uri": "https://localhost:8080/"
        },
        "id": "wVWuVXL8U_9u",
        "outputId": "6d745481-5aeb-4429-96fa-46fe6fa39db7"
      },
      "source": [
        "# Queue\n",
        "from multiprocessing import Process, Value, Array, Lock\n",
        "from multiprocessing import Queue\n",
        "import time\n",
        "\n",
        "def square(numbers, queue):\n",
        "    for i in numbers:\n",
        "        queue.put(i*i)\n",
        "\n",
        "def make_negative(number, queue):\n",
        "    for i in numbers:\n",
        "        queue.put(-i*i)\n",
        "\n",
        "if __name__ == \"__main__\":\n",
        "    \n",
        "    numbers = range(1, 6)\n",
        "    q = Queue()\n",
        "    \n",
        "    p1 = Process(target=square, args=(numbers, q))\n",
        "    p2 = Process(target=make_negative, args=(numbers, q))\n",
        "\n",
        "    p1.start()\n",
        "    p2.start()\n",
        "\n",
        "    p1.join()\n",
        "    p2.join()\n",
        "\n",
        "    while not q.empty():\n",
        "        print(q.get())"
      ],
      "execution_count": 5,
      "outputs": [
        {
          "output_type": "stream",
          "text": [
            "1\n",
            "4\n",
            "9\n",
            "16\n",
            "25\n",
            "-1\n",
            "-4\n",
            "-9\n",
            "-16\n",
            "-25\n"
          ],
          "name": "stdout"
        }
      ]
    },
    {
      "cell_type": "code",
      "metadata": {
        "colab": {
          "base_uri": "https://localhost:8080/"
        },
        "id": "te5GgjgUWfHQ",
        "outputId": "323d39f1-374a-4213-c2d5-2bb5a7efa80e"
      },
      "source": [
        "# proeess pool\n",
        "from multiprocessing import Pool\n",
        "\n",
        "def cube(number):\n",
        "    return number * number * number\n",
        "\n",
        "if __name__ == \"__main__\":\n",
        "    \n",
        "    numbers = range(10)\n",
        "    pool = Pool()\n",
        "\n",
        "    result = pool.map(cube, numbers)\n",
        "    pool.close()\n",
        "    pool.join()\n",
        "    print(result)\n"
      ],
      "execution_count": 6,
      "outputs": [
        {
          "output_type": "stream",
          "text": [
            "[0, 1, 8, 27, 64, 125, 216, 343, 512, 729]\n"
          ],
          "name": "stdout"
        }
      ]
    }
  ]
}