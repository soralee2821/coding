{
  "nbformat": 4,
  "nbformat_minor": 0,
  "metadata": {
    "colab": {
      "name": "2020-10-22.ipynb",
      "provenance": [],
      "authorship_tag": "ABX9TyM553XtBKyoFgPMBFIQVfth",
      "include_colab_link": true
    },
    "kernelspec": {
      "name": "python3",
      "display_name": "Python 3"
    }
  },
  "cells": [
    {
      "cell_type": "markdown",
      "metadata": {
        "id": "view-in-github",
        "colab_type": "text"
      },
      "source": [
        "<a href=\"https://colab.research.google.com/github/soralee2821/coding/blob/master/2020_10_22.ipynb\" target=\"_parent\"><img src=\"https://colab.research.google.com/assets/colab-badge.svg\" alt=\"Open In Colab\"/></a>"
      ]
    },
    {
      "cell_type": "code",
      "metadata": {
        "id": "mMcbRTJw8-P9",
        "outputId": "abd2c4a6-99a8-4fb2-db57-962f4588bff2",
        "colab": {
          "base_uri": "https://localhost:8080/",
          "height": 52
        }
      },
      "source": [
        "a = input()\n",
        "print(ord(a))\n",
        "#ord() : 문자를 아스키코드로 변환하는 함수\n",
        "#chr() : 아스키코드를 문자로 변환하는 함수"
      ],
      "execution_count": 1,
      "outputs": [
        {
          "output_type": "stream",
          "text": [
            "A\n",
            "65\n"
          ],
          "name": "stdout"
        }
      ]
    },
    {
      "cell_type": "code",
      "metadata": {
        "id": "_4JSXm7-9nQx",
        "outputId": "7ee27808-bf64-4ec6-873c-df51f842df83",
        "colab": {
          "base_uri": "https://localhost:8080/",
          "height": 70
        }
      },
      "source": [
        "N = int(input())\n",
        "num_list = list(map(int, input()))\n",
        "num_sum = 0\n",
        "for i in range(N):\n",
        "  num_sum += num_list[i]\n",
        "print(num_sum)"
      ],
      "execution_count": 4,
      "outputs": [
        {
          "output_type": "stream",
          "text": [
            "11\n",
            "10987654321\n",
            "46\n"
          ],
          "name": "stdout"
        }
      ]
    },
    {
      "cell_type": "code",
      "metadata": {
        "id": "MxpKX1wA-nLQ",
        "outputId": "837c7a80-27d1-43f9-a194-6b36491a276a",
        "colab": {
          "base_uri": "https://localhost:8080/",
          "height": 70
        }
      },
      "source": [
        "N = int(input())\n",
        "num = list(input())\n",
        "num_sum = 0\n",
        "for i in num:\n",
        "  num_sum += int(i)\n",
        "print(num_sum)"
      ],
      "execution_count": 6,
      "outputs": [
        {
          "output_type": "stream",
          "text": [
            "11\n",
            "10987654321\n",
            "46\n"
          ],
          "name": "stdout"
        }
      ]
    },
    {
      "cell_type": "code",
      "metadata": {
        "id": "k-zTBGtk_bbM",
        "outputId": "e835bc96-0267-48ac-e962-b14bd546ad12",
        "colab": {
          "base_uri": "https://localhost:8080/",
          "height": 52
        }
      },
      "source": [
        "s = list(input())\n",
        "alpha = list('abcdefghijklmnopqrstuvwxyz')\n",
        "check = [-1 for i in range(len(alpha))]\n",
        "for i in range(len(s)):\n",
        "  if check[alpha.index(s[i])] == -1:\n",
        "    check[alpha.index(s[i])] = i\n",
        "print(*check)"
      ],
      "execution_count": 13,
      "outputs": [
        {
          "output_type": "stream",
          "text": [
            "baekjoon\n",
            "1 0 -1 -1 2 -1 -1 -1 -1 4 3 -1 -1 7 5 -1 -1 -1 -1 -1 -1 -1 -1 -1 -1 -1\n"
          ],
          "name": "stdout"
        }
      ]
    },
    {
      "cell_type": "code",
      "metadata": {
        "id": "p8PrukE6Qbxw",
        "outputId": "201807ba-ace6-44c3-fe38-e47f36639876",
        "colab": {
          "base_uri": "https://localhost:8080/",
          "height": 492
        }
      },
      "source": [
        "word = input()\n",
        "alphabet = list(range(97,123))  #소문자 a-z 아스키 코드 범위\n",
        "for x in alphabet:\n",
        "  print(word.find(chr(x)))"
      ],
      "execution_count": 18,
      "outputs": [
        {
          "output_type": "stream",
          "text": [
            "baekjoon\n",
            "1\n",
            "0\n",
            "-1\n",
            "-1\n",
            "2\n",
            "-1\n",
            "-1\n",
            "-1\n",
            "-1\n",
            "4\n",
            "3\n",
            "-1\n",
            "-1\n",
            "7\n",
            "5\n",
            "-1\n",
            "-1\n",
            "-1\n",
            "-1\n",
            "-1\n",
            "-1\n",
            "-1\n",
            "-1\n",
            "-1\n",
            "-1\n",
            "-1\n"
          ],
          "name": "stdout"
        }
      ]
    },
    {
      "cell_type": "code",
      "metadata": {
        "id": "EUiVRlYgTgUz"
      },
      "source": [
        ""
      ],
      "execution_count": null,
      "outputs": []
    }
  ]
}