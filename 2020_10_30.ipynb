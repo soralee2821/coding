{
  "nbformat": 4,
  "nbformat_minor": 0,
  "metadata": {
    "colab": {
      "name": "2020-10-30.ipynb",
      "provenance": [],
      "authorship_tag": "ABX9TyM7JLNj2wg+XAgrNZhzfftr",
      "include_colab_link": true
    },
    "kernelspec": {
      "name": "python3",
      "display_name": "Python 3"
    }
  },
  "cells": [
    {
      "cell_type": "markdown",
      "metadata": {
        "id": "view-in-github",
        "colab_type": "text"
      },
      "source": [
        "<a href=\"https://colab.research.google.com/github/soralee2821/coding/blob/master/2020_10_30.ipynb\" target=\"_parent\"><img src=\"https://colab.research.google.com/assets/colab-badge.svg\" alt=\"Open In Colab\"/></a>"
      ]
    },
    {
      "cell_type": "code",
      "metadata": {
        "id": "v5aMVdvaRrbU",
        "outputId": "cbecec7a-d469-4d91-d4cb-2731b11fd7c6",
        "colab": {
          "base_uri": "https://localhost:8080/"
        }
      },
      "source": [
        "N = int(input())\n",
        "n = 1\n",
        "room = 1\n",
        "plus = 6\n",
        "while N > n:\n",
        "  room += 1\n",
        "  n += plus\n",
        "  plus += 6\n",
        "print(room)"
      ],
      "execution_count": 1,
      "outputs": [
        {
          "output_type": "stream",
          "text": [
            "58\n",
            "5\n"
          ],
          "name": "stdout"
        }
      ]
    },
    {
      "cell_type": "code",
      "metadata": {
        "id": "hAaZpDnBRE5D",
        "outputId": "8001b913-e844-4b91-c6b0-07f3e7299e1d",
        "colab": {
          "base_uri": "https://localhost:8080/"
        }
      },
      "source": [
        "N = int(input())\n",
        "cnt = 1\n",
        "while N > 1:\n",
        "  N -= (6 * cnt)\n",
        "  cnt += 1\n",
        "print(cnt)"
      ],
      "execution_count": 2,
      "outputs": [
        {
          "output_type": "stream",
          "text": [
            "58\n",
            "5\n"
          ],
          "name": "stdout"
        }
      ]
    },
    {
      "cell_type": "code",
      "metadata": {
        "id": "VHiLV3E7a6yk"
      },
      "source": [
        ""
      ],
      "execution_count": null,
      "outputs": []
    }
  ]
}