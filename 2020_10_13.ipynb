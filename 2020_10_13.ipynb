{
  "nbformat": 4,
  "nbformat_minor": 0,
  "metadata": {
    "colab": {
      "name": "2020-10-13",
      "provenance": []
    },
    "kernelspec": {
      "name": "python3",
      "display_name": "Python 3"
    }
  },
  "cells": [
    {
      "cell_type": "code",
      "metadata": {
        "id": "JB6cqTPOjIB0"
      },
      "source": [
        "T = int(input())\n",
        "i = 0\n",
        "for i in range(T):\n",
        "  i += 1\n",
        "  a, b = map(int, input().split())\n",
        "  print(\"Case #%d: %d + %d = %d\" %(i,a,b,a+b))"
      ],
      "execution_count": null,
      "outputs": []
    },
    {
      "cell_type": "code",
      "metadata": {
        "id": "p9o3j0mfmq7y"
      },
      "source": [
        "import sys\n",
        "read = sys.stdin.readline\n",
        "T = int(read())\n",
        "for i in range(T):\n",
        "  test = [int(x) for x in read().split()]\n",
        "  print(\"Case #{}: {} + {} = {}\".format(i+1, test[0], test[1], test[0]+test[1]))"
      ],
      "execution_count": null,
      "outputs": []
    },
    {
      "cell_type": "code",
      "metadata": {
        "id": "GcC3SnYS8HJp"
      },
      "source": [
        "n, x = map(int, input().split())\n",
        "a = list(map(int, input().split()))\n",
        "for i in range(n):\n",
        "  if a[i] < x:\n",
        "    print(a[i], end=' ')"
      ],
      "execution_count": null,
      "outputs": []
    }
  ]
}