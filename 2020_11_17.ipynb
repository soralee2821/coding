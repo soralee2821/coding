{
  "nbformat": 4,
  "nbformat_minor": 0,
  "metadata": {
    "colab": {
      "name": "2020-11-17.ipynb",
      "provenance": [],
      "authorship_tag": "ABX9TyPQ94nzGuTT9vIp/2a9P8J7",
      "include_colab_link": true
    },
    "kernelspec": {
      "name": "python3",
      "display_name": "Python 3"
    }
  },
  "cells": [
    {
      "cell_type": "markdown",
      "metadata": {
        "id": "view-in-github",
        "colab_type": "text"
      },
      "source": [
        "<a href=\"https://colab.research.google.com/github/soralee2821/coding/blob/master/2020_11_17.ipynb\" target=\"_parent\"><img src=\"https://colab.research.google.com/assets/colab-badge.svg\" alt=\"Open In Colab\"/></a>"
      ]
    },
    {
      "cell_type": "code",
      "metadata": {
        "id": "dovsN42WXiwq",
        "outputId": "38a4f9c4-0909-423f-c631-966a97b32425",
        "colab": {
          "base_uri": "https://localhost:8080/"
        }
      },
      "source": [
        "#시간 초과됨#\n",
        "def prime(num):\n",
        "    if num == 1:\n",
        "        return False\n",
        "    elif num == 2:\n",
        "        return True\n",
        "    for i in range(2, num):\n",
        "        if num % i == 0:\n",
        "            return False\n",
        "    return True\n",
        "n = 1\n",
        "while True:\n",
        "    count = 0\n",
        "    n = int(input())\n",
        "    if n == 0:\n",
        "        break\n",
        "    for j in range(n+1,n*2+1):\n",
        "        if prime(j):\n",
        "            count += 1\n",
        "    print(count)"
      ],
      "execution_count": 6,
      "outputs": [
        {
          "output_type": "stream",
          "text": [
            "1\n",
            "1\n",
            "10\n",
            "4\n",
            "13\n",
            "3\n",
            "100\n",
            "21\n",
            "1000\n",
            "135\n",
            "10000\n",
            "1033\n",
            "100000\n",
            "8392\n",
            "0\n"
          ],
          "name": "stdout"
        }
      ]
    },
    {
      "cell_type": "code",
      "metadata": {
        "id": "KxsEiHhTTItR",
        "outputId": "ee63574f-90d4-46bc-b82d-80b9367fe819",
        "colab": {
          "base_uri": "https://localhost:8080/"
        }
      },
      "source": [
        "from math import sqrt\n",
        "def prime(num):\n",
        "    if num == 1: return False\n",
        "    for i in range(2, int(sqrt(num))+1):\n",
        "        if num % i == 0: return False\n",
        "    return True\n",
        "\n",
        "li = list(range(2,246912))\n",
        "prime_li = []\n",
        "for i in li:\n",
        "    if prime(i):\n",
        "        prime_li.append(i)\n",
        "\n",
        "while True:\n",
        "    count = 0\n",
        "    n = int(input())\n",
        "    if n == 0: break\n",
        "\n",
        "    for j in prime_li:\n",
        "        if n < j <= n*2:\n",
        "            count += 1\n",
        "    print(count)"
      ],
      "execution_count": 7,
      "outputs": [
        {
          "output_type": "stream",
          "text": [
            "1\n",
            "1\n",
            "10\n",
            "4\n",
            "13\n",
            "3\n",
            "100\n",
            "21\n",
            "1000\n",
            "135\n",
            "10000\n",
            "1033\n",
            "100000\n",
            "8392\n",
            "0\n"
          ],
          "name": "stdout"
        }
      ]
    },
    {
      "cell_type": "code",
      "metadata": {
        "id": "jopGVT_FQGl8"
      },
      "source": [
        ""
      ],
      "execution_count": null,
      "outputs": []
    }
  ]
}