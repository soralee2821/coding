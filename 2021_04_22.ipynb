{
  "nbformat": 4,
  "nbformat_minor": 0,
  "metadata": {
    "colab": {
      "name": "2021-04-22.ipynb",
      "provenance": [],
      "authorship_tag": "ABX9TyPbKVtc5qZwpub0xCbDRVPL",
      "include_colab_link": true
    },
    "kernelspec": {
      "name": "python3",
      "display_name": "Python 3"
    },
    "language_info": {
      "name": "python"
    }
  },
  "cells": [
    {
      "cell_type": "markdown",
      "metadata": {
        "id": "view-in-github",
        "colab_type": "text"
      },
      "source": [
        "<a href=\"https://colab.research.google.com/github/soralee2821/coding/blob/master/2021_04_22.ipynb\" target=\"_parent\"><img src=\"https://colab.research.google.com/assets/colab-badge.svg\" alt=\"Open In Colab\"/></a>"
      ]
    },
    {
      "cell_type": "markdown",
      "metadata": {
        "id": "-Va1xP0G1HmU"
      },
      "source": [
        "##Generators"
      ]
    },
    {
      "cell_type": "code",
      "metadata": {
        "colab": {
          "base_uri": "https://localhost:8080/"
        },
        "id": "I2ebM3Eqzcbo",
        "outputId": "33c8d10c-c04b-4127-fb0b-3a5759b682d9"
      },
      "source": [
        "def mygenerator():\n",
        "    yield 1\n",
        "    yield 2\n",
        "    yield 3\n",
        "\n",
        "g = mygenerator()\n",
        "\n",
        "for i in g:\n",
        "    print(i)"
      ],
      "execution_count": 1,
      "outputs": [
        {
          "output_type": "stream",
          "text": [
            "1\n",
            "2\n",
            "3\n"
          ],
          "name": "stdout"
        }
      ]
    },
    {
      "cell_type": "code",
      "metadata": {
        "colab": {
          "base_uri": "https://localhost:8080/"
        },
        "id": "2YlNqhWZ1gLB",
        "outputId": "c852f089-aa19-4b5e-ce08-7a56a68468a1"
      },
      "source": [
        "# next : call generator object\n",
        "def mygenerator():\n",
        "    yield 1\n",
        "    yield 2\n",
        "    yield 3\n",
        "\n",
        "g = mygenerator()\n",
        "\n",
        "value = next(g)\n",
        "print(value)\n",
        "\n",
        "value = next(g)\n",
        "print(value)\n",
        "\n",
        "value = next(g)\n",
        "print(value)"
      ],
      "execution_count": 2,
      "outputs": [
        {
          "output_type": "stream",
          "text": [
            "1\n",
            "2\n",
            "3\n"
          ],
          "name": "stdout"
        }
      ]
    },
    {
      "cell_type": "code",
      "metadata": {
        "colab": {
          "base_uri": "https://localhost:8080/",
          "height": 274
        },
        "id": "ZUDbyeSa1qsj",
        "outputId": "01760163-c5a4-40c8-f431-68a06649686b"
      },
      "source": [
        "# StopIteration : signal the end of iterator\n",
        "def mygenerator():\n",
        "    yield 1\n",
        "    yield 2\n",
        "    yield 3\n",
        "\n",
        "g = mygenerator()\n",
        "\n",
        "value = next(g)\n",
        "print(value)\n",
        "\n",
        "value = next(g)\n",
        "print(value)\n",
        "\n",
        "value = next(g)\n",
        "print(value)\n",
        "\n",
        "value = next(g)\n",
        "print(value)"
      ],
      "execution_count": 3,
      "outputs": [
        {
          "output_type": "stream",
          "text": [
            "1\n",
            "2\n",
            "3\n"
          ],
          "name": "stdout"
        },
        {
          "output_type": "error",
          "ename": "StopIteration",
          "evalue": "ignored",
          "traceback": [
            "\u001b[0;31m---------------------------------------------------------------------------\u001b[0m",
            "\u001b[0;31mStopIteration\u001b[0m                             Traceback (most recent call last)",
            "\u001b[0;32m<ipython-input-3-3e51d2f1c6c7>\u001b[0m in \u001b[0;36m<module>\u001b[0;34m()\u001b[0m\n\u001b[1;32m     16\u001b[0m \u001b[0mprint\u001b[0m\u001b[0;34m(\u001b[0m\u001b[0mvalue\u001b[0m\u001b[0;34m)\u001b[0m\u001b[0;34m\u001b[0m\u001b[0;34m\u001b[0m\u001b[0m\n\u001b[1;32m     17\u001b[0m \u001b[0;34m\u001b[0m\u001b[0m\n\u001b[0;32m---> 18\u001b[0;31m \u001b[0mvalue\u001b[0m \u001b[0;34m=\u001b[0m \u001b[0mnext\u001b[0m\u001b[0;34m(\u001b[0m\u001b[0mg\u001b[0m\u001b[0;34m)\u001b[0m\u001b[0;34m\u001b[0m\u001b[0;34m\u001b[0m\u001b[0m\n\u001b[0m\u001b[1;32m     19\u001b[0m \u001b[0mprint\u001b[0m\u001b[0;34m(\u001b[0m\u001b[0mvalue\u001b[0m\u001b[0;34m)\u001b[0m\u001b[0;34m\u001b[0m\u001b[0;34m\u001b[0m\u001b[0m\n",
            "\u001b[0;31mStopIteration\u001b[0m: "
          ]
        }
      ]
    },
    {
      "cell_type": "code",
      "metadata": {
        "colab": {
          "base_uri": "https://localhost:8080/"
        },
        "id": "37FLyr1Q1-kR",
        "outputId": "455d7423-af12-4f73-a120-0ffe2f306a7a"
      },
      "source": [
        "def mygenerator():\n",
        "    yield 1\n",
        "    yield 2\n",
        "    yield 3\n",
        "\n",
        "g = mygenerator()\n",
        "\n",
        "print(sum(g))"
      ],
      "execution_count": 4,
      "outputs": [
        {
          "output_type": "stream",
          "text": [
            "6\n"
          ],
          "name": "stdout"
        }
      ]
    },
    {
      "cell_type": "code",
      "metadata": {
        "colab": {
          "base_uri": "https://localhost:8080/"
        },
        "id": "Jads5jyF2Ilt",
        "outputId": "4ae0a636-c171-40c6-ee8b-1ba92351bd41"
      },
      "source": [
        "def mygenerator():\n",
        "    yield 3\n",
        "    yield 2\n",
        "    yield 1\n",
        "\n",
        "g = mygenerator()\n",
        "\n",
        "print(sorted(g))"
      ],
      "execution_count": 5,
      "outputs": [
        {
          "output_type": "stream",
          "text": [
            "[1, 2, 3]\n"
          ],
          "name": "stdout"
        }
      ]
    },
    {
      "cell_type": "code",
      "metadata": {
        "colab": {
          "base_uri": "https://localhost:8080/"
        },
        "id": "Y4JU9vFj2r-n",
        "outputId": "c1b73f49-5f3d-4e5e-cba0-a6a7ecca1657"
      },
      "source": [
        "def countdown(num):\n",
        "    print('Starting')\n",
        "    while num > 0:\n",
        "        yield num\n",
        "        num -= 1\n",
        "\n",
        "cd = countdown(4)\n",
        "\n",
        "value = next(cd)\n",
        "print(value)\n",
        "\n",
        "print(next(cd))\n",
        "print(next(cd))\n",
        "print(next(cd))"
      ],
      "execution_count": 6,
      "outputs": [
        {
          "output_type": "stream",
          "text": [
            "Starting\n",
            "4\n",
            "3\n",
            "2\n",
            "1\n"
          ],
          "name": "stdout"
        }
      ]
    },
    {
      "cell_type": "code",
      "metadata": {
        "colab": {
          "base_uri": "https://localhost:8080/"
        },
        "id": "JVLFXmi32v-E",
        "outputId": "a680f770-2c5d-49cf-b71a-b989e1c8a38d"
      },
      "source": [
        "# regular function vs generator function\n",
        "import sys\n",
        "def firstin(n):\n",
        "    nums = []\n",
        "    num = 0\n",
        "    while num < n:\n",
        "        nums.append(num)\n",
        "        num += 1\n",
        "    return nums\n",
        "\n",
        "def firstin_generator(n):\n",
        "    num = 0\n",
        "    while num < n:\n",
        "        yield num\n",
        "        num += 1\n",
        "\n",
        "print(sys.getsizeof(firstin(100000)))\n",
        "print(sys.getsizeof(firstin_generator(100000)))"
      ],
      "execution_count": 7,
      "outputs": [
        {
          "output_type": "stream",
          "text": [
            "824472\n",
            "128\n"
          ],
          "name": "stdout"
        }
      ]
    },
    {
      "cell_type": "code",
      "metadata": {
        "colab": {
          "base_uri": "https://localhost:8080/"
        },
        "id": "teyBzGo63xcy",
        "outputId": "535fba72-fec1-4c74-a268-d349eccab337"
      },
      "source": [
        "# generator example - fibonacci series\n",
        "def fibonacci(limit):\n",
        "    a , b = 0, 1\n",
        "    while a < limit:\n",
        "        yield a\n",
        "        a, b = b, a + b\n",
        "\n",
        "fib = fibonacci(30)\n",
        "\n",
        "for i in fib:\n",
        "    print(i)"
      ],
      "execution_count": 8,
      "outputs": [
        {
          "output_type": "stream",
          "text": [
            "0\n",
            "1\n",
            "1\n",
            "2\n",
            "3\n",
            "5\n",
            "8\n",
            "13\n",
            "21\n"
          ],
          "name": "stdout"
        }
      ]
    },
    {
      "cell_type": "code",
      "metadata": {
        "colab": {
          "base_uri": "https://localhost:8080/"
        },
        "id": "Nh8fgidv96Gm",
        "outputId": "c45d9c08-1d89-4582-d9f4-0e8ada63348b"
      },
      "source": [
        "#generator expression\n",
        "mygenerator = (i for i in range(10) if i % 2 == 0)\n",
        "for i in mygenerator:\n",
        "    print(i)"
      ],
      "execution_count": 9,
      "outputs": [
        {
          "output_type": "stream",
          "text": [
            "0\n",
            "2\n",
            "4\n",
            "6\n",
            "8\n"
          ],
          "name": "stdout"
        }
      ]
    },
    {
      "cell_type": "code",
      "metadata": {
        "colab": {
          "base_uri": "https://localhost:8080/"
        },
        "id": "Adedc_Fh-d5C",
        "outputId": "b4c2c545-697d-4265-dce7-05c98cc43293"
      },
      "source": [
        "# generator and list expression\n",
        "mygenerator = (i for i in range(10) if i % 2 == 0)\n",
        "print(list(mygenerator))\n",
        "\n",
        "mylist = [i for i in range(10) if i % 2 == 0]\n",
        "print(mylist)"
      ],
      "execution_count": 10,
      "outputs": [
        {
          "output_type": "stream",
          "text": [
            "[0, 2, 4, 6, 8]\n",
            "[0, 2, 4, 6, 8]\n"
          ],
          "name": "stdout"
        }
      ]
    },
    {
      "cell_type": "code",
      "metadata": {
        "colab": {
          "base_uri": "https://localhost:8080/"
        },
        "id": "UxJh0cUa-pUh",
        "outputId": "fbbe7464-a69d-4542-81cb-a0ef6ce1a3fd"
      },
      "source": [
        "# generator expression vs list expression\n",
        "mygenerator = (i for i in range(100000) if i % 2 == 0)\n",
        "print(sys.getsizeof(mygenerator))\n",
        "\n",
        "mylist = [i for i in range(100000) if i % 2 == 0]\n",
        "print(sys.getsizeof(mylist))"
      ],
      "execution_count": 11,
      "outputs": [
        {
          "output_type": "stream",
          "text": [
            "128\n",
            "406504\n"
          ],
          "name": "stdout"
        }
      ]
    }
  ]
}