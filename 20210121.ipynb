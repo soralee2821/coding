{
  "nbformat": 4,
  "nbformat_minor": 0,
  "metadata": {
    "colab": {
      "name": "20210121.ipynb",
      "provenance": [],
      "authorship_tag": "ABX9TyMcQ4wns/UOV0utzTGayvUS",
      "include_colab_link": true
    },
    "kernelspec": {
      "name": "python3",
      "display_name": "Python 3"
    }
  },
  "cells": [
    {
      "cell_type": "markdown",
      "metadata": {
        "id": "view-in-github",
        "colab_type": "text"
      },
      "source": [
        "<a href=\"https://colab.research.google.com/github/soralee2821/coding/blob/master/20210121.ipynb\" target=\"_parent\"><img src=\"https://colab.research.google.com/assets/colab-badge.svg\" alt=\"Open In Colab\"/></a>"
      ]
    },
    {
      "cell_type": "code",
      "metadata": {
        "colab": {
          "base_uri": "https://localhost:8080/"
        },
        "id": "HDa7iKOx4N6N",
        "outputId": "a3a30b7b-9393-42b8-f5c3-bb057a0591fc"
      },
      "source": [
        "#구구단 함수 만들기\r\n",
        "def GuGu(n):\r\n",
        "    result = []\r\n",
        "    i = 1\r\n",
        "    while i < 10:\r\n",
        "        result.append(n*i)\r\n",
        "        i += 1\r\n",
        "    return result\r\n",
        "\r\n",
        "print(GuGu(2))"
      ],
      "execution_count": 2,
      "outputs": [
        {
          "output_type": "stream",
          "text": [
            "[2, 4, 6, 8, 10, 12, 14, 16, 18]\n"
          ],
          "name": "stdout"
        }
      ]
    },
    {
      "cell_type": "code",
      "metadata": {
        "colab": {
          "base_uri": "https://localhost:8080/"
        },
        "id": "F5tWMOo5FAx6",
        "outputId": "f19ec792-e06b-4455-eb31-23049cc3e7e8"
      },
      "source": [
        "#1~999에서 3과 5의 배수 총합\r\n",
        "result = 0\r\n",
        "for n in range(1,1000):\r\n",
        "    if n % 3 == 0 or n % 5 == 0:\r\n",
        "        result += n\r\n",
        "print(result)"
      ],
      "execution_count": 3,
      "outputs": [
        {
          "output_type": "stream",
          "text": [
            "233168\n"
          ],
          "name": "stdout"
        }
      ]
    },
    {
      "cell_type": "code",
      "metadata": {
        "colab": {
          "base_uri": "https://localhost:8080/"
        },
        "id": "6kh3QK4J4-O5",
        "outputId": "e9612bb3-57e9-436e-cbbf-f7f326f0af7e"
      },
      "source": [
        "#페이징 : 총 페이지 수 / 페이지에 들어갈 수 있는 게시물 수\r\n",
        "def getTotalPage(m,n):\r\n",
        "    if m % n == 0:\r\n",
        "        return m//n\r\n",
        "    else:\r\n",
        "        return m//n + 1\r\n",
        "\r\n",
        "print(getTotalPage(5,10))"
      ],
      "execution_count": 4,
      "outputs": [
        {
          "output_type": "stream",
          "text": [
            "1\n"
          ],
          "name": "stdout"
        }
      ]
    },
    {
      "cell_type": "code",
      "metadata": {
        "id": "qdIiWAg4HSwo"
      },
      "source": [
        "#하위 폴더에서 .py 확장자인 파일이름 프린트\r\n",
        "import os\r\n",
        "\r\n",
        "def search(dirname):\r\n",
        "    try:\r\n",
        "        filenames = os.listdir(dirname)\r\n",
        "        for filename in filenames:\r\n",
        "            full_filename = os.path.join(dirname, filename)\r\n",
        "            if os.path.isdir(full_filename):\r\n",
        "                search(full_filename)   #재귀함수\r\n",
        "            else:\r\n",
        "                ext = os.path.splitext(full_filename)[-1]\r\n",
        "                if ext == \"py\":\r\n",
        "                    print(full_filename)\r\n",
        "    except PermissionError:\r\n",
        "        pass   #권한오류시 넘어가기\r\n",
        "\r\n",
        "search(\"./\")"
      ],
      "execution_count": 14,
      "outputs": []
    }
  ]
}