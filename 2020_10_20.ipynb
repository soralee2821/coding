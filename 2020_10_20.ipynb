{
  "nbformat": 4,
  "nbformat_minor": 0,
  "metadata": {
    "colab": {
      "name": "2020-10-20.ipynb",
      "provenance": [],
      "authorship_tag": "ABX9TyOiFBFN4pdXGHVZhAHOJ7ai",
      "include_colab_link": true
    },
    "kernelspec": {
      "name": "python3",
      "display_name": "Python 3"
    }
  },
  "cells": [
    {
      "cell_type": "markdown",
      "metadata": {
        "id": "view-in-github",
        "colab_type": "text"
      },
      "source": [
        "<a href=\"https://colab.research.google.com/github/soralee2821/coding/blob/master/2020_10_20.ipynb\" target=\"_parent\"><img src=\"https://colab.research.google.com/assets/colab-badge.svg\" alt=\"Open In Colab\"/></a>"
      ]
    },
    {
      "cell_type": "code",
      "metadata": {
        "id": "5qekwahAwufl",
        "outputId": "371dfc95-02a6-43ff-da29-9126889d8db0",
        "colab": {
          "base_uri": "https://localhost:8080/",
          "height": 52
        }
      },
      "source": [
        "score = 0\n",
        "check = 0\n",
        "t = list(input())\n",
        "for i in range(len(t)):\n",
        "    if t[i] == 'O':\n",
        "      check += 1\n",
        "      score += check\n",
        "    elif t[i] == 'X':\n",
        "      check = 0\n",
        "print(score)"
      ],
      "execution_count": null,
      "outputs": [
        {
          "output_type": "stream",
          "text": [
            "OOOOXOOOOXOOOOX\n",
            "30\n"
          ],
          "name": "stdout"
        }
      ]
    },
    {
      "cell_type": "code",
      "metadata": {
        "id": "y43OmuYM1ld9",
        "outputId": "fb542334-118c-4459-cb02-c63ef3f98872",
        "colab": {
          "base_uri": "https://localhost:8080/",
          "height": 210
        }
      },
      "source": [
        "n = int(input())\n",
        "for i in range(n):\n",
        "  score = 0\n",
        "  check = 0\n",
        "  t = []\n",
        "  t = list(input())\n",
        "  for i in range(len(t)):\n",
        "    if t[i] == 'O':\n",
        "      check += 1\n",
        "      score += check\n",
        "    elif t[i] == 'X':\n",
        "      check = 0\n",
        "  print(score)"
      ],
      "execution_count": null,
      "outputs": [
        {
          "output_type": "stream",
          "text": [
            "5\n",
            "OOXXOXXOOO\n",
            "10\n",
            "OOXXOOXXOO\n",
            "9\n",
            "OXOXOXOXOXOXOX\n",
            "7\n",
            "OOOOOOOOOO\n",
            "55\n",
            "OOOOXOOOOXOOOOX\n",
            "30\n"
          ],
          "name": "stdout"
        }
      ]
    },
    {
      "cell_type": "code",
      "metadata": {
        "id": "PEyG0Lxk4Ezq",
        "outputId": "56c346ba-2cff-4ade-acf0-2f39236807a2",
        "colab": {
          "base_uri": "https://localhost:8080/",
          "height": 210
        }
      },
      "source": [
        "n = int(input())\n",
        "for i in range(n):\n",
        "  score = 0\n",
        "  check = 0\n",
        "  t = []\n",
        "  t = list(input())\n",
        "  for i in range(len(t)):\n",
        "    if t[i] == 'O':\n",
        "      check += 1\n",
        "    else:\n",
        "      check = 0\n",
        "    score += check\n",
        "  print(score)"
      ],
      "execution_count": null,
      "outputs": [
        {
          "output_type": "stream",
          "text": [
            "5\n",
            "OOXXOXXOOO\n",
            "10\n",
            "OOXXOOXXOO\n",
            "9\n",
            "OXOXOXOXOXOXOX\n",
            "7\n",
            "OOOOOOOOOO\n",
            "55\n",
            "OOOOXOOOOXOOOOX\n",
            "30\n"
          ],
          "name": "stdout"
        }
      ]
    },
    {
      "cell_type": "code",
      "metadata": {
        "id": "tkx-DdCT45JF",
        "outputId": "246f9a41-4c3f-402f-feec-18ce6f03eb69",
        "colab": {
          "base_uri": "https://localhost:8080/",
          "height": 52
        }
      },
      "source": [
        "case = list(map(int, input().split()))\n",
        "n = case[0]\n",
        "sum = 0\n",
        "count = 0\n",
        "for i in range(n):\n",
        "  sum += case[i+1]\n",
        "avg = sum / n\n",
        "for i in range(n):\n",
        "  if case[i+1] > avg:\n",
        "    count += 1\n",
        "per = (count / n) * 100\n",
        "print(\"%.3f\" % per,'%')\n",
        "#다음부터는 예약어 sum을 변수명으로 사용하지 말 것"
      ],
      "execution_count": null,
      "outputs": [
        {
          "output_type": "stream",
          "text": [
            "7 100 95 90 80 70 60 50\n",
            "57.143 %\n"
          ],
          "name": "stdout"
        }
      ]
    },
    {
      "cell_type": "code",
      "metadata": {
        "id": "ST2C4cF96A6H",
        "outputId": "daa0de2c-c0b0-4d01-f427-a01863dc71fc",
        "colab": {
          "base_uri": "https://localhost:8080/",
          "height": 210
        }
      },
      "source": [
        "caseNum = int(input())\n",
        "for _ in range(caseNum):\n",
        "  case = []\n",
        "  sum = 0\n",
        "  count = 0\n",
        "  case = list(map(int, input().split()))\n",
        "  n = case[0]\n",
        "  for i in range(n):\n",
        "    sum += case[i+1]\n",
        "    avg = sum / n\n",
        "  for i in range(n):\n",
        "    if case[i+1] > avg:\n",
        "      count += 1\n",
        "  print(str(\"%.3f\" % round((count/n)*100,3))+\"%\")"
      ],
      "execution_count": null,
      "outputs": [
        {
          "output_type": "stream",
          "text": [
            "5\n",
            "5 50 50 70 80 100\n",
            "40.000%\n",
            "7 100 95 90 80 70 60 50\n",
            "57.143%\n",
            "3 70 90 80\n",
            "33.333%\n",
            "3 70 90 81\n",
            "66.667%\n",
            "9 100 99 98 97 96 95 94 93 91\n",
            "55.556%\n"
          ],
          "name": "stdout"
        }
      ]
    },
    {
      "cell_type": "code",
      "metadata": {
        "id": "Rj-ANS-6883r",
        "outputId": "8e2c9355-f25f-4b73-8bc8-8c1f7c7dc6ba",
        "colab": {
          "base_uri": "https://localhost:8080/",
          "height": 210
        }
      },
      "source": [
        "n = int(input())\n",
        "\n",
        "for _ in range(n):\n",
        "  case = list(map(int, input().split()))\n",
        "  avg = sum(case[1:])/case[0]\n",
        "  count = 0\n",
        "  for score in case[1:]:\n",
        "    if score > avg:\n",
        "      count += 1\n",
        "  print(str(\"%.3f\" % round((count/case[0])*100,3))+\"%\")"
      ],
      "execution_count": null,
      "outputs": [
        {
          "output_type": "stream",
          "text": [
            "5\n",
            "5 50 50 70 80 100\n",
            " 40.000%\n",
            "7 100 95 90 80 70 60 50\n",
            " 57.143%\n",
            "3 70 90 80\n",
            " 33.333%\n",
            "3 70 90 81\n",
            " 66.667%\n",
            "9 100 99 98 97 96 95 94 93 91\n",
            " 55.556%\n"
          ],
          "name": "stdout"
        }
      ]
    },
    {
      "cell_type": "code",
      "metadata": {
        "id": "kaPOYCBECPZd"
      },
      "source": [
        ""
      ],
      "execution_count": null,
      "outputs": []
    }
  ]
}