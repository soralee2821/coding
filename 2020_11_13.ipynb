{
  "nbformat": 4,
  "nbformat_minor": 0,
  "metadata": {
    "colab": {
      "name": "2020-11-13.ipynb",
      "provenance": [],
      "authorship_tag": "ABX9TyNAxSAupPhmQerffch9sqGR",
      "include_colab_link": true
    },
    "kernelspec": {
      "name": "python3",
      "display_name": "Python 3"
    }
  },
  "cells": [
    {
      "cell_type": "markdown",
      "metadata": {
        "id": "view-in-github",
        "colab_type": "text"
      },
      "source": [
        "<a href=\"https://colab.research.google.com/github/soralee2821/coding/blob/master/2020_11_13.ipynb\" target=\"_parent\"><img src=\"https://colab.research.google.com/assets/colab-badge.svg\" alt=\"Open In Colab\"/></a>"
      ]
    },
    {
      "cell_type": "code",
      "metadata": {
        "id": "0399LewiQ9Qp",
        "outputId": "41a20f89-e444-411b-af52-ddd107d04f11",
        "colab": {
          "base_uri": "https://localhost:8080/"
        }
      },
      "source": [
        "M = int(input())\n",
        "N = int(input())\n",
        "def prime(num):\n",
        "    if num == 1:\n",
        "        return False\n",
        "    elif num == 2:\n",
        "        return True\n",
        "    for i in range(2,num):\n",
        "        if num % i == 0:\n",
        "            return False\n",
        "    return True\n",
        "\n",
        "prime_list = []\n",
        "for j in range(M,N+1):\n",
        "    if prime(j):\n",
        "        prime_list.append(j)\n",
        "if len(prime_list) == 0:\n",
        "   print(-1)\n",
        "else:\n",
        "    print(sum(prime_list))\n",
        "    print(min(prime_list))   "
      ],
      "execution_count": 7,
      "outputs": [
        {
          "output_type": "stream",
          "text": [
            "64\n",
            "65\n",
            "-1\n"
          ],
          "name": "stdout"
        }
      ]
    },
    {
      "cell_type": "code",
      "metadata": {
        "id": "Buj7u-RWVTdL",
        "outputId": "3fc1d0ee-ce00-439c-d805-0666ef175552",
        "colab": {
          "base_uri": "https://localhost:8080/"
        }
      },
      "source": [
        "import math\n",
        "\n",
        "M, N = map(int, input().split())\n",
        "\n",
        "def prime(num):\n",
        "    if num == 1:\n",
        "        return False\n",
        "    n = int(math.sqrt(num))\n",
        "    for i in range(2,n+1):\n",
        "        if num % i == 0:\n",
        "            return False\n",
        "    return True\n",
        "\n",
        "for j in range(M,N+1):\n",
        "    if prime(j):\n",
        "        print(j)"
      ],
      "execution_count": 15,
      "outputs": [
        {
          "output_type": "stream",
          "text": [
            "3 16\n",
            "3\n",
            "5\n",
            "7\n",
            "11\n",
            "13\n"
          ],
          "name": "stdout"
        }
      ]
    },
    {
      "cell_type": "code",
      "metadata": {
        "id": "WL7cNcFbZJK1"
      },
      "source": [
        ""
      ],
      "execution_count": null,
      "outputs": []
    }
  ]
}