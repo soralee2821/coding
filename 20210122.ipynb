{
  "nbformat": 4,
  "nbformat_minor": 0,
  "metadata": {
    "colab": {
      "name": "20210122.ipynb",
      "provenance": [],
      "authorship_tag": "ABX9TyNhekqXw7AM1sJ/3EppersY",
      "include_colab_link": true
    },
    "kernelspec": {
      "name": "python3",
      "display_name": "Python 3"
    }
  },
  "cells": [
    {
      "cell_type": "markdown",
      "metadata": {
        "id": "view-in-github",
        "colab_type": "text"
      },
      "source": [
        "<a href=\"https://colab.research.google.com/github/soralee2821/coding/blob/master/20210122.ipynb\" target=\"_parent\"><img src=\"https://colab.research.google.com/assets/colab-badge.svg\" alt=\"Open In Colab\"/></a>"
      ]
    },
    {
      "cell_type": "markdown",
      "metadata": {
        "id": "EDQj8c-pYZb9"
      },
      "source": [
        "###정규표현식"
      ]
    },
    {
      "cell_type": "code",
      "metadata": {
        "id": "byG_ZjBrWqhU"
      },
      "source": [
        "#정규표현식 : 복잡한 문자열을 처리할 때 사용하는 기법"
      ],
      "execution_count": null,
      "outputs": []
    },
    {
      "cell_type": "code",
      "metadata": {
        "id": "EIuguZAhWw8G"
      },
      "source": [
        "#re : 정규표현식을 지원하는 모듈\r\n",
        "import re\r\n",
        "p = re.compile('ab*')   #pattern 객체"
      ],
      "execution_count": 2,
      "outputs": []
    },
    {
      "cell_type": "code",
      "metadata": {
        "colab": {
          "base_uri": "https://localhost:8080/"
        },
        "id": "nZE8u48HYXoD",
        "outputId": "dd544140-b463-48e3-a028-1d171babc2ce"
      },
      "source": [
        "#match\r\n",
        "import re\r\n",
        "p = re.compile('[a-z]+')\r\n",
        "m = p.match('python')   #match 객체\r\n",
        "n = p.match('3 python')   #match되지 않는 경우\r\n",
        "\r\n",
        "print(m)\r\n",
        "print(n)"
      ],
      "execution_count": 5,
      "outputs": [
        {
          "output_type": "stream",
          "text": [
            "<_sre.SRE_Match object; span=(0, 6), match='python'>\n",
            "None\n"
          ],
          "name": "stdout"
        }
      ]
    },
    {
      "cell_type": "code",
      "metadata": {
        "colab": {
          "base_uri": "https://localhost:8080/"
        },
        "id": "Ck5qd3EXY_NV",
        "outputId": "99363cf4-2a02-4a63-8fd2-4846a5376bc4"
      },
      "source": [
        "#search : 첫번째가 match되지 않아도, match되는 개체를 찾아서 반환\r\n",
        "import re\r\n",
        "p = re.compile('[a-z]+')\r\n",
        "m = p.search('python')\r\n",
        "n = p.search('3 python')\r\n",
        "\r\n",
        "print(m)\r\n",
        "print(n)\r\n"
      ],
      "execution_count": 6,
      "outputs": [
        {
          "output_type": "stream",
          "text": [
            "<_sre.SRE_Match object; span=(0, 6), match='python'>\n",
            "<_sre.SRE_Match object; span=(2, 8), match='python'>\n"
          ],
          "name": "stdout"
        }
      ]
    },
    {
      "cell_type": "code",
      "metadata": {
        "colab": {
          "base_uri": "https://localhost:8080/"
        },
        "id": "92ORjmdkZzZF",
        "outputId": "6cfeccfc-3432-45e0-b06b-2ed17508ff42"
      },
      "source": [
        "#findall : 일치하는 string을 list에 담아서 반환\r\n",
        "import re\r\n",
        "p = re.compile('[a-z]+')\r\n",
        "m = p.findall('life is too short')\r\n",
        "\r\n",
        "print(m)"
      ],
      "execution_count": 7,
      "outputs": [
        {
          "output_type": "stream",
          "text": [
            "['life', 'is', 'too', 'short']\n"
          ],
          "name": "stdout"
        }
      ]
    },
    {
      "cell_type": "code",
      "metadata": {
        "colab": {
          "base_uri": "https://localhost:8080/"
        },
        "id": "lMIsB0RxaGND",
        "outputId": "9f3fbbb8-ee12-4422-d5a1-03cdc8f71f05"
      },
      "source": [
        "#finditer : match되는 문자열을 match 객체 형태로 변환하여 반복가능한 객체 하나로 반환\r\n",
        "import re\r\n",
        "p = re.compile('[a-z]+')\r\n",
        "m = p.finditer('life is too short')\r\n",
        "\r\n",
        "print(m)\r\n",
        "\r\n",
        "for r in m:\r\n",
        "    print(r)"
      ],
      "execution_count": 9,
      "outputs": [
        {
          "output_type": "stream",
          "text": [
            "<callable_iterator object at 0x7f341b874f98>\n",
            "<_sre.SRE_Match object; span=(0, 4), match='life'>\n",
            "<_sre.SRE_Match object; span=(5, 7), match='is'>\n",
            "<_sre.SRE_Match object; span=(8, 11), match='too'>\n",
            "<_sre.SRE_Match object; span=(12, 17), match='short'>\n"
          ],
          "name": "stdout"
        }
      ]
    },
    {
      "cell_type": "code",
      "metadata": {
        "colab": {
          "base_uri": "https://localhost:8080/"
        },
        "id": "cLVEqAPnaecN",
        "outputId": "a34564c0-7369-42d3-d333-c3bb665990cf"
      },
      "source": [
        "#match 객체의 메서드\r\n",
        "import re\r\n",
        "p = re.compile('[a-z]+')\r\n",
        "m = p.match('python')   #match 객체\r\n",
        "\r\n",
        "print(m.group())\r\n",
        "print(m.start())\r\n",
        "print(m.end())\r\n",
        "print(m.span())"
      ],
      "execution_count": 11,
      "outputs": [
        {
          "output_type": "stream",
          "text": [
            "python\n",
            "0\n",
            "6\n",
            "(0, 6)\n"
          ],
          "name": "stdout"
        }
      ]
    },
    {
      "cell_type": "markdown",
      "metadata": {
        "id": "orLlokkG2E99"
      },
      "source": [
        "##compile 옵션"
      ]
    },
    {
      "cell_type": "code",
      "metadata": {
        "colab": {
          "base_uri": "https://localhost:8080/"
        },
        "id": "LYJQ8dLfcvUS",
        "outputId": "dcd31e44-e179-4010-c501-621e7a14a748"
      },
      "source": [
        "#DOTALL , S\r\n",
        "import re\r\n",
        "p = re.compile('a.b')\r\n",
        "m = p.match('a\\nb')\r\n",
        "print(m)"
      ],
      "execution_count": 13,
      "outputs": [
        {
          "output_type": "stream",
          "text": [
            "None\n"
          ],
          "name": "stdout"
        }
      ]
    },
    {
      "cell_type": "code",
      "metadata": {
        "colab": {
          "base_uri": "https://localhost:8080/"
        },
        "id": "JUUjJdUAdXWN",
        "outputId": "ca69cbfa-93f7-4381-f2a9-2d49542a2ba2"
      },
      "source": [
        "# DATALL, S(약어) : .가 줄바꿈도 포함하도록 바꿈\r\n",
        "import re\r\n",
        "p = re.compile('a.b', re.DOTALL)\r\n",
        "#p = re.compile('a.b', re.S)\r\n",
        "m = p.match('a\\nb')\r\n",
        "print(m)"
      ],
      "execution_count": 17,
      "outputs": [
        {
          "output_type": "stream",
          "text": [
            "<_sre.SRE_Match object; span=(0, 3), match='a\\nb'>\n"
          ],
          "name": "stdout"
        }
      ]
    },
    {
      "cell_type": "code",
      "metadata": {
        "colab": {
          "base_uri": "https://localhost:8080/"
        },
        "id": "u4qSUHq2dmoh",
        "outputId": "d62e22e0-f761-465f-d3ab-0c85313e8bdb"
      },
      "source": [
        "#IGNORECASE, I\r\n",
        "import re\r\n",
        "p = re.compile('[a-z]')\r\n",
        "print(p.match('python'))\r\n",
        "print(p.match('Python'))\r\n",
        "print(p.match('PYTHON'))"
      ],
      "execution_count": 18,
      "outputs": [
        {
          "output_type": "stream",
          "text": [
            "<_sre.SRE_Match object; span=(0, 1), match='p'>\n",
            "None\n",
            "None\n"
          ],
          "name": "stdout"
        }
      ]
    },
    {
      "cell_type": "code",
      "metadata": {
        "colab": {
          "base_uri": "https://localhost:8080/"
        },
        "id": "DSfxUNUPenAl",
        "outputId": "c446866e-4b99-41e3-e918-e80e749e1e88"
      },
      "source": [
        "#IGNORECASE, I : 대소문자를 무시하고 match함\r\n",
        "import re\r\n",
        "p = re.compile('[a-z]', re.I)\r\n",
        "print(p.match('python'))\r\n",
        "print(p.match('Python'))\r\n",
        "print(p.match('PYTHON'))"
      ],
      "execution_count": 19,
      "outputs": [
        {
          "output_type": "stream",
          "text": [
            "<_sre.SRE_Match object; span=(0, 1), match='p'>\n",
            "<_sre.SRE_Match object; span=(0, 1), match='P'>\n",
            "<_sre.SRE_Match object; span=(0, 1), match='P'>\n"
          ],
          "name": "stdout"
        }
      ]
    },
    {
      "cell_type": "code",
      "metadata": {
        "colab": {
          "base_uri": "https://localhost:8080/"
        },
        "id": "49b1vWYKeqO-",
        "outputId": "d9023182-5db4-4ab0-b8ca-54a352db998b"
      },
      "source": [
        "#MULTILINE, M\r\n",
        "import re\r\n",
        "p = re.compile(\"^python\\s\\w+\")\r\n",
        "\r\n",
        "data = \"\"\"python one\r\n",
        "life is too short\r\n",
        "python two\r\n",
        "you need python\r\n",
        "python three\"\"\"\r\n",
        "\r\n",
        "print(p.findall(data))   #첫 번째줄만 찾음"
      ],
      "execution_count": 22,
      "outputs": [
        {
          "output_type": "stream",
          "text": [
            "['python one']\n"
          ],
          "name": "stdout"
        }
      ]
    },
    {
      "cell_type": "code",
      "metadata": {
        "colab": {
          "base_uri": "https://localhost:8080/"
        },
        "id": "Xwhc4Z6zkHWX",
        "outputId": "95c36d3d-0a76-45c0-9a99-bd1f54bc2b18"
      },
      "source": [
        "import re\r\n",
        "p = re.compile(\"^python\\s\\w+\", re.M)   #여러줄에서 찾음\r\n",
        "\r\n",
        "data = \"\"\"python one\r\n",
        "life is too short\r\n",
        "python two\r\n",
        "you need python\r\n",
        "python three\"\"\"\r\n",
        "\r\n",
        "print(p.findall(data))"
      ],
      "execution_count": 23,
      "outputs": [
        {
          "output_type": "stream",
          "text": [
            "['python one', 'python two', 'python three']\n"
          ],
          "name": "stdout"
        }
      ]
    },
    {
      "cell_type": "code",
      "metadata": {
        "id": "RoNyAroxmgKs"
      },
      "source": [
        "#백슬레시 문제 - r을 앞에 붙여서 low string으로 바꾸면 \\\\만으로 \\ 표현 가능\r\n",
        "import re\r\n",
        "p = re.compile(r'\\\\section')"
      ],
      "execution_count": 26,
      "outputs": []
    },
    {
      "cell_type": "markdown",
      "metadata": {
        "id": "fWtrGy6a2Sts"
      },
      "source": [
        "##메타문자"
      ]
    },
    {
      "cell_type": "code",
      "metadata": {
        "colab": {
          "base_uri": "https://localhost:8080/"
        },
        "id": "tQKwGnfLnP9i",
        "outputId": "7ac15aef-374b-48f8-b417-91f6ec5bcbf1"
      },
      "source": [
        "# | : or과 같은 의미\r\n",
        "import re\r\n",
        "p = re.compile('Crow|Servo')\r\n",
        "m = p.match('CrowHello')\r\n",
        "print(m)"
      ],
      "execution_count": 28,
      "outputs": [
        {
          "output_type": "stream",
          "text": [
            "<_sre.SRE_Match object; span=(0, 4), match='Crow'>\n"
          ],
          "name": "stdout"
        }
      ]
    },
    {
      "cell_type": "code",
      "metadata": {
        "colab": {
          "base_uri": "https://localhost:8080/"
        },
        "id": "sZj8ov6fqVd1",
        "outputId": "cfb6bb4b-ba5d-4ce3-ddf0-724741fb98d3"
      },
      "source": [
        "# ^ : 맨 처음\r\n",
        "#re.search(검색 키워드, 검색 대상)로 사용 가능\r\n",
        "import re\r\n",
        "print(re.search('^Life','Life is too short'))\r\n",
        "print(re.search('^Life', 'My Life'))"
      ],
      "execution_count": 30,
      "outputs": [
        {
          "output_type": "stream",
          "text": [
            "<_sre.SRE_Match object; span=(0, 4), match='Life'>\n",
            "None\n"
          ],
          "name": "stdout"
        }
      ]
    },
    {
      "cell_type": "code",
      "metadata": {
        "colab": {
          "base_uri": "https://localhost:8080/"
        },
        "id": "5D0Ga1UyqzvQ",
        "outputId": "c738351c-ff1b-421e-a6ab-bf1ac4dddaff"
      },
      "source": [
        "# $ : 맨 끝\r\n",
        "import re\r\n",
        "print(re.search('short$','Life is too short'))\r\n",
        "print(re.search('short$', 'Life is too short, you need python'))"
      ],
      "execution_count": 31,
      "outputs": [
        {
          "output_type": "stream",
          "text": [
            "<_sre.SRE_Match object; span=(12, 17), match='short'>\n",
            "None\n"
          ],
          "name": "stdout"
        }
      ]
    },
    {
      "cell_type": "code",
      "metadata": {
        "colab": {
          "base_uri": "https://localhost:8080/"
        },
        "id": "GceeAlcurZ4U",
        "outputId": "ed66c2ce-9c8e-48ad-f3a8-b9b43ac4fa0a"
      },
      "source": [
        "# \\b : 공백을 나타냄\r\n",
        "import re\r\n",
        "p = re.compile(r'\\bclass\\b')\r\n",
        "print(p.search('no class at all'))\r\n",
        "print(p.search('the declassified algorithm'))\r\n",
        "print(p.search('one subclass is'))"
      ],
      "execution_count": 32,
      "outputs": [
        {
          "output_type": "stream",
          "text": [
            "<_sre.SRE_Match object; span=(3, 8), match='class'>\n",
            "None\n",
            "None\n"
          ],
          "name": "stdout"
        }
      ]
    },
    {
      "cell_type": "code",
      "metadata": {
        "colab": {
          "base_uri": "https://localhost:8080/"
        },
        "id": "kp8ZLTs2sg0o",
        "outputId": "b7baf893-6d68-4c16-9019-a38457af77a4"
      },
      "source": [
        "# () : 문자열을 묶어줄 때 사용\r\n",
        "import re\r\n",
        "p = re.compile('(ABC)+')\r\n",
        "m = p.search('ABCABCABC OK?')\r\n",
        "print(m)\r\n",
        "print(m.group())"
      ],
      "execution_count": 34,
      "outputs": [
        {
          "output_type": "stream",
          "text": [
            "<_sre.SRE_Match object; span=(0, 9), match='ABCABCABC'>\n",
            "ABCABCABC\n"
          ],
          "name": "stdout"
        }
      ]
    },
    {
      "cell_type": "code",
      "metadata": {
        "colab": {
          "base_uri": "https://localhost:8080/"
        },
        "id": "jf4bqNHEtMZ3",
        "outputId": "5aad6644-acab-4513-f8c6-7fd5a723e0f5"
      },
      "source": [
        "#match 객체에서 그루핑된 객체를 불러올 수 있음\r\n",
        "import re\r\n",
        "p = re.compile(r\"(\\w+)\\s+\\d+[-]\\d+[-]\\d+\")\r\n",
        "m = p.search('park 010-1234-1234')\r\n",
        "print(m.group(1))"
      ],
      "execution_count": 35,
      "outputs": [
        {
          "output_type": "stream",
          "text": [
            "park\n"
          ],
          "name": "stdout"
        }
      ]
    },
    {
      "cell_type": "code",
      "metadata": {
        "colab": {
          "base_uri": "https://localhost:8080/"
        },
        "id": "kPpIc7QfuE6a",
        "outputId": "9411adcc-ad21-4f73-f4fc-de9049b70eb1"
      },
      "source": [
        "# \\1 : 그룹을 한 번 더 불러오기 (그룹의 결과를 정규 표현식 안에서 사용 가능)\r\n",
        "import re\r\n",
        "p = re.compile(r'(\\b\\w+)\\s+\\1')\r\n",
        "print(p.search('Paris in the the spring').group())"
      ],
      "execution_count": 37,
      "outputs": [
        {
          "output_type": "stream",
          "text": [
            "the the\n"
          ],
          "name": "stdout"
        }
      ]
    },
    {
      "cell_type": "code",
      "metadata": {
        "colab": {
          "base_uri": "https://localhost:8080/"
        },
        "id": "S7Syn-ktvHSl",
        "outputId": "422f609b-9ada-4e50-ee84-b1eb20b292c7"
      },
      "source": [
        "# ?P<이름> : 그루핑된 객체에 이름 붙이기 가능\r\n",
        "import re\r\n",
        "p = re.compile(r\"(?P<name>\\w+)\\s+((\\d+)[-]\\d+[-]\\d+)\")\r\n",
        "m = p.search(\"park 010-1234-1234\")\r\n",
        "print(m.group(\"name\"))   #name이라는 이름을 가진 그룹 불러오기"
      ],
      "execution_count": 39,
      "outputs": [
        {
          "output_type": "stream",
          "text": [
            "park\n"
          ],
          "name": "stdout"
        }
      ]
    },
    {
      "cell_type": "code",
      "metadata": {
        "colab": {
          "base_uri": "https://localhost:8080/"
        },
        "id": "QXtDZo-exAw_",
        "outputId": "1b6e07ad-1964-4107-e19a-bd8071d43911"
      },
      "source": [
        "# (?P=) : 같은 이름을 가진 그룹을 불러오기\r\n",
        "import re\r\n",
        "p = re.compile(r'(?P<word>\\b\\w+)\\s+(?P=word)')\r\n",
        "print(p.search('Paris in the the spring').group())"
      ],
      "execution_count": 42,
      "outputs": [
        {
          "output_type": "stream",
          "text": [
            "the the\n"
          ],
          "name": "stdout"
        }
      ]
    },
    {
      "cell_type": "markdown",
      "metadata": {
        "id": "FVTPa2pb2n25"
      },
      "source": [
        "##전방탐색"
      ]
    },
    {
      "cell_type": "code",
      "metadata": {
        "colab": {
          "base_uri": "https://localhost:8080/"
        },
        "id": "c3Toy0v5xUo4",
        "outputId": "75235cbe-9d7c-47a5-c0bb-9e461dcc4505"
      },
      "source": [
        "# 전방탐색 긍정형 (?=)\r\n",
        "import re\r\n",
        "p = re.compile('.+:')\r\n",
        "m = p.search('http://google.com')\r\n",
        "print(m.group())"
      ],
      "execution_count": 43,
      "outputs": [
        {
          "output_type": "stream",
          "text": [
            "http:\n"
          ],
          "name": "stdout"
        }
      ]
    },
    {
      "cell_type": "code",
      "metadata": {
        "colab": {
          "base_uri": "https://localhost:8080/"
        },
        "id": "ZYUurhdVyoZy",
        "outputId": "46199be8-4c6e-4da9-96f3-ddbb973e82c3"
      },
      "source": [
        "#(?=) : 검색 조건에는 넣고, 검색 결과에는 뺄 때 사용함\r\n",
        "import re\r\n",
        "p = re.compile('.+(?=:)')\r\n",
        "m = p.search('http://google.com')\r\n",
        "print(m.group())"
      ],
      "execution_count": 44,
      "outputs": [
        {
          "output_type": "stream",
          "text": [
            "http\n"
          ],
          "name": "stdout"
        }
      ]
    },
    {
      "cell_type": "code",
      "metadata": {
        "colab": {
          "base_uri": "https://localhost:8080/"
        },
        "id": "xnNIsBA2zOz2",
        "outputId": "591c024d-a208-469e-85a0-8c31a6af07d5"
      },
      "source": [
        "#전방탐색 부정형 (?!)\r\n",
        "#(?!) : ()안 문자가 없는 것만 검색\r\n",
        "import re\r\n",
        "p = re.compile(\".*[.](?!bat$).*$\", re.M)\r\n",
        "l = p.findall(\"\"\"\r\n",
        "autoexec.exe\r\n",
        "autoexec.bat\r\n",
        "autoexec.jpg\r\n",
        "\"\"\")\r\n",
        "print(l)"
      ],
      "execution_count": 45,
      "outputs": [
        {
          "output_type": "stream",
          "text": [
            "['autoexec.exe', 'autoexec.jpg']\n"
          ],
          "name": "stdout"
        }
      ]
    },
    {
      "cell_type": "code",
      "metadata": {
        "colab": {
          "base_uri": "https://localhost:8080/"
        },
        "id": "qGt5I6pg0Q_D",
        "outputId": "ce98a233-6f32-4cc7-f5d5-0d6c8b71f063"
      },
      "source": [
        "#전방탐색 부정형 조건이 두 개인 경우\r\n",
        "import re\r\n",
        "p = re.compile(\".*[.](?!bat$|exe$).*$\", re.M)\r\n",
        "l = p.findall(\"\"\"\r\n",
        "autoexec.exe\r\n",
        "autoexec.bat\r\n",
        "autoexec.jpg\r\n",
        "\"\"\")\r\n",
        "print(l)"
      ],
      "execution_count": 46,
      "outputs": [
        {
          "output_type": "stream",
          "text": [
            "['autoexec.jpg']\n"
          ],
          "name": "stdout"
        }
      ]
    },
    {
      "cell_type": "code",
      "metadata": {
        "colab": {
          "base_uri": "https://localhost:8080/",
          "height": 35
        },
        "id": "NRyJ05jQ0oiV",
        "outputId": "08fa2597-6959-4ef5-a9b6-e738322c2e6c"
      },
      "source": [
        "#sub : 정규표현식에 맞는 문자열을 바꾸기\r\n",
        "import re\r\n",
        "p = re.compile('blue|white|red')\r\n",
        "p.sub('colour', 'blue socks and red shoes')"
      ],
      "execution_count": 48,
      "outputs": [
        {
          "output_type": "execute_result",
          "data": {
            "application/vnd.google.colaboratory.intrinsic+json": {
              "type": "string"
            },
            "text/plain": [
              "'colour socks and colour shoes'"
            ]
          },
          "metadata": {
            "tags": []
          },
          "execution_count": 48
        }
      ]
    },
    {
      "cell_type": "code",
      "metadata": {
        "colab": {
          "base_uri": "https://localhost:8080/"
        },
        "id": "tIp_cs0X1Tmp",
        "outputId": "f7f8e527-a4ba-456f-857c-8d34fd8e66a9"
      },
      "source": [
        "#Gready : 정규표현식에 맞는 모든 문자를 가져옴\r\n",
        "import re\r\n",
        "s = '<html><head><title>Title</title>'\r\n",
        "print(re.match('<.*>', s).group())"
      ],
      "execution_count": 49,
      "outputs": [
        {
          "output_type": "stream",
          "text": [
            "<html><head><title>Title</title>\n"
          ],
          "name": "stdout"
        }
      ]
    },
    {
      "cell_type": "code",
      "metadata": {
        "colab": {
          "base_uri": "https://localhost:8080/"
        },
        "id": "PALobQYG3lEb",
        "outputId": "ee243e4f-6600-4b3c-ee42-c25910605180"
      },
      "source": [
        "# Non-Greedy(반복되는 메타문자 뒤 ?) : 정규표현식에 맞는 최소한의 문자를 가져옴\r\n",
        "import re\r\n",
        "s = '<html><head><title>Title</title>'\r\n",
        "print(re.match('<.*?>', s).group())"
      ],
      "execution_count": 50,
      "outputs": [
        {
          "output_type": "stream",
          "text": [
            "<html>\n"
          ],
          "name": "stdout"
        }
      ]
    }
  ]
}