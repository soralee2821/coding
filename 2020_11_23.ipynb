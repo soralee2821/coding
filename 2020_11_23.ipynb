{
  "nbformat": 4,
  "nbformat_minor": 0,
  "metadata": {
    "colab": {
      "name": "2020-11-23.ipynb",
      "provenance": [],
      "authorship_tag": "ABX9TyN38YsasQluF3aPlhlZPHLv",
      "include_colab_link": true
    },
    "kernelspec": {
      "name": "python3",
      "display_name": "Python 3"
    }
  },
  "cells": [
    {
      "cell_type": "markdown",
      "metadata": {
        "id": "view-in-github",
        "colab_type": "text"
      },
      "source": [
        "<a href=\"https://colab.research.google.com/github/soralee2821/coding/blob/master/2020_11_23.ipynb\" target=\"_parent\"><img src=\"https://colab.research.google.com/assets/colab-badge.svg\" alt=\"Open In Colab\"/></a>"
      ]
    },
    {
      "cell_type": "code",
      "metadata": {
        "colab": {
          "base_uri": "https://localhost:8080/"
        },
        "id": "-8kQvxbvJQDX",
        "outputId": "c32d8834-b465-40a9-9732-c9340845b2fd"
      },
      "source": [
        "while True:\n",
        "    side = list(map(int, input().split()))\n",
        "    if sum(side) == 0:\n",
        "        break\n",
        "    max_side = max(side); side.remove(max_side)\n",
        "    side_sum = sum(list(map(lambda x:x**2, side)))\n",
        "    if ((max_side**2)==side_sum):\n",
        "        print(\"right\")\n",
        "    else:\n",
        "        print(\"wrong\")"
      ],
      "execution_count": 8,
      "outputs": [
        {
          "output_type": "stream",
          "text": [
            "6 8 10\n",
            "right\n",
            "25 52 60\n",
            "wrong\n",
            "5 12 13\n",
            "right\n",
            "0 0 0\n"
          ],
          "name": "stdout"
        }
      ]
    },
    {
      "cell_type": "code",
      "metadata": {
        "id": "FIQohC9rJ5Tq"
      },
      "source": [
        ""
      ],
      "execution_count": null,
      "outputs": []
    }
  ]
}