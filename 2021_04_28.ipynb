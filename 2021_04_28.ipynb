{
  "nbformat": 4,
  "nbformat_minor": 0,
  "metadata": {
    "colab": {
      "name": "2021-04-28.ipynb",
      "provenance": [],
      "authorship_tag": "ABX9TyPHfB5ZgKn1BzuPNrzilp88",
      "include_colab_link": true
    },
    "kernelspec": {
      "name": "python3",
      "display_name": "Python 3"
    },
    "language_info": {
      "name": "python"
    }
  },
  "cells": [
    {
      "cell_type": "markdown",
      "metadata": {
        "id": "view-in-github",
        "colab_type": "text"
      },
      "source": [
        "<a href=\"https://colab.research.google.com/github/soralee2821/coding/blob/master/2021_04_28.ipynb\" target=\"_parent\"><img src=\"https://colab.research.google.com/assets/colab-badge.svg\" alt=\"Open In Colab\"/></a>"
      ]
    },
    {
      "cell_type": "markdown",
      "metadata": {
        "id": "UTg4iWm0X5-s"
      },
      "source": [
        "# Function Argument"
      ]
    },
    {
      "cell_type": "markdown",
      "metadata": {
        "id": "41OLg-I1mp8b"
      },
      "source": [
        "### positional argument & keyward argument"
      ]
    },
    {
      "cell_type": "code",
      "metadata": {
        "colab": {
          "base_uri": "https://localhost:8080/"
        },
        "id": "Ir0mAaHXP6eG",
        "outputId": "d6c21994-a6d7-4387-f8e1-ef072d378e71"
      },
      "source": [
        "# parameter & argument\n",
        "\n",
        "def print_name(name):\n",
        "    print(name)\n",
        "# name - a parameter of the function\n",
        "\n",
        "print_name('Alex')\n",
        "# 'Alex' - an argument of the function"
      ],
      "execution_count": 1,
      "outputs": [
        {
          "output_type": "stream",
          "text": [
            "Alex\n"
          ],
          "name": "stdout"
        }
      ]
    },
    {
      "cell_type": "code",
      "metadata": {
        "colab": {
          "base_uri": "https://localhost:8080/"
        },
        "id": "gDN_1RrrYpw1",
        "outputId": "93492743-801b-4b3b-ab41-c3b21cd4f052"
      },
      "source": [
        "# positional argument\n",
        "\n",
        "def foo(a, b, c):\n",
        "    print(a, b, c)\n",
        "\n",
        "foo(1,2,3)"
      ],
      "execution_count": 2,
      "outputs": [
        {
          "output_type": "stream",
          "text": [
            "1 2 3\n"
          ],
          "name": "stdout"
        }
      ]
    },
    {
      "cell_type": "code",
      "metadata": {
        "colab": {
          "base_uri": "https://localhost:8080/"
        },
        "id": "LCoJnxH7Y_KR",
        "outputId": "a009311a-f54f-4023-f43a-c4ca2d3cc16b"
      },
      "source": [
        "# keyword argument\n",
        "# (order is not important)\n",
        "\n",
        "def foo(a, b, c):\n",
        "    print(a, b, c)\n",
        "\n",
        "foo(a=1, b=2, c=3)\n",
        "foo(c=3, b=2, a=1)"
      ],
      "execution_count": 3,
      "outputs": [
        {
          "output_type": "stream",
          "text": [
            "1 2 3\n",
            "1 2 3\n"
          ],
          "name": "stdout"
        }
      ]
    },
    {
      "cell_type": "code",
      "metadata": {
        "colab": {
          "base_uri": "https://localhost:8080/"
        },
        "id": "OK4e36iZZKgp",
        "outputId": "9add80bb-5568-40d1-bd31-55cc75775e60"
      },
      "source": [
        "# positional argument & keyword argument\n",
        "\n",
        "def foo(a, b, c):\n",
        "    print(a, b, c)\n",
        "\n",
        "foo(1, b=2, c=3)"
      ],
      "execution_count": 4,
      "outputs": [
        {
          "output_type": "stream",
          "text": [
            "1 2 3\n"
          ],
          "name": "stdout"
        }
      ]
    },
    {
      "cell_type": "code",
      "metadata": {
        "colab": {
          "base_uri": "https://localhost:8080/",
          "height": 134
        },
        "id": "pd32h-jjZknk",
        "outputId": "0632cf58-c2f6-49c6-c562-69b867f0ae56"
      },
      "source": [
        "# positional argument does not follows keyword argument\n",
        "\n",
        "def foo(a, b, c):\n",
        "    print(a, b, c)\n",
        "\n",
        "foo(1, b=2, 3)"
      ],
      "execution_count": 5,
      "outputs": [
        {
          "output_type": "error",
          "ename": "SyntaxError",
          "evalue": "ignored",
          "traceback": [
            "\u001b[0;36m  File \u001b[0;32m\"<ipython-input-5-58302fc0f798>\"\u001b[0;36m, line \u001b[0;32m6\u001b[0m\n\u001b[0;31m    foo(1, b=2, 3)\u001b[0m\n\u001b[0m               ^\u001b[0m\n\u001b[0;31mSyntaxError\u001b[0m\u001b[0;31m:\u001b[0m positional argument follows keyword argument\n"
          ]
        }
      ]
    },
    {
      "cell_type": "code",
      "metadata": {
        "colab": {
          "base_uri": "https://localhost:8080/",
          "height": 204
        },
        "id": "rDFXwoxFZpzT",
        "outputId": "e6353d7a-7179-4764-8a74-a855a8a75238"
      },
      "source": [
        "# keyword argument cannot get multiple values\n",
        "\n",
        "def foo(a, b, c):\n",
        "    print(a, b, c)\n",
        "\n",
        "foo(1, b=2, a=3)"
      ],
      "execution_count": 6,
      "outputs": [
        {
          "output_type": "error",
          "ename": "TypeError",
          "evalue": "ignored",
          "traceback": [
            "\u001b[0;31m---------------------------------------------------------------------------\u001b[0m",
            "\u001b[0;31mTypeError\u001b[0m                                 Traceback (most recent call last)",
            "\u001b[0;32m<ipython-input-6-a0526faaed97>\u001b[0m in \u001b[0;36m<module>\u001b[0;34m()\u001b[0m\n\u001b[1;32m      4\u001b[0m     \u001b[0mprint\u001b[0m\u001b[0;34m(\u001b[0m\u001b[0ma\u001b[0m\u001b[0;34m,\u001b[0m \u001b[0mb\u001b[0m\u001b[0;34m,\u001b[0m \u001b[0mc\u001b[0m\u001b[0;34m)\u001b[0m\u001b[0;34m\u001b[0m\u001b[0;34m\u001b[0m\u001b[0m\n\u001b[1;32m      5\u001b[0m \u001b[0;34m\u001b[0m\u001b[0m\n\u001b[0;32m----> 6\u001b[0;31m \u001b[0mfoo\u001b[0m\u001b[0;34m(\u001b[0m\u001b[0;36m1\u001b[0m\u001b[0;34m,\u001b[0m \u001b[0mb\u001b[0m\u001b[0;34m=\u001b[0m\u001b[0;36m2\u001b[0m\u001b[0;34m,\u001b[0m \u001b[0ma\u001b[0m\u001b[0;34m=\u001b[0m\u001b[0;36m3\u001b[0m\u001b[0;34m)\u001b[0m\u001b[0;34m\u001b[0m\u001b[0;34m\u001b[0m\u001b[0m\n\u001b[0m",
            "\u001b[0;31mTypeError\u001b[0m: foo() got multiple values for argument 'a'"
          ]
        }
      ]
    },
    {
      "cell_type": "markdown",
      "metadata": {
        "id": "WNt-kf-em44A"
      },
      "source": [
        "### default value"
      ]
    },
    {
      "cell_type": "code",
      "metadata": {
        "colab": {
          "base_uri": "https://localhost:8080/"
        },
        "id": "yOoYkHNGZtig",
        "outputId": "1d478c42-6c15-4d33-b781-c3fa8fa822bd"
      },
      "source": [
        "def foo(a, b, c, d=4):\n",
        "    print(a, b, c)\n",
        "\n",
        "foo(1, 2, 3)"
      ],
      "execution_count": 7,
      "outputs": [
        {
          "output_type": "stream",
          "text": [
            "1 2 3\n"
          ],
          "name": "stdout"
        }
      ]
    },
    {
      "cell_type": "code",
      "metadata": {
        "colab": {
          "base_uri": "https://localhost:8080/"
        },
        "id": "HbyLOU0RaWbT",
        "outputId": "086792ce-0057-46d9-d298-e5ae71c4d161"
      },
      "source": [
        "def foo(a, b, c, d=4):\n",
        "    print(a, b, c, d)\n",
        "\n",
        "foo(1, 2, 3, 7)"
      ],
      "execution_count": 8,
      "outputs": [
        {
          "output_type": "stream",
          "text": [
            "1 2 3 7\n"
          ],
          "name": "stdout"
        }
      ]
    },
    {
      "cell_type": "code",
      "metadata": {
        "colab": {
          "base_uri": "https://localhost:8080/",
          "height": 134
        },
        "id": "PL_B2H-iad8s",
        "outputId": "29ef79b7-798b-4d86-ba0a-980f96cc614f"
      },
      "source": [
        "# default value must be the last position\n",
        "\n",
        "def foo(a, b=2, c, d=4):\n",
        "    print(a, b, c, d)\n",
        "\n",
        "foo(1, 2, 3, 7)"
      ],
      "execution_count": 9,
      "outputs": [
        {
          "output_type": "error",
          "ename": "SyntaxError",
          "evalue": "ignored",
          "traceback": [
            "\u001b[0;36m  File \u001b[0;32m\"<ipython-input-9-2d8aced330af>\"\u001b[0;36m, line \u001b[0;32m3\u001b[0m\n\u001b[0;31m    def foo(a, b=2, c, d=4):\u001b[0m\n\u001b[0m           ^\u001b[0m\n\u001b[0;31mSyntaxError\u001b[0m\u001b[0;31m:\u001b[0m non-default argument follows default argument\n"
          ]
        }
      ]
    },
    {
      "cell_type": "markdown",
      "metadata": {
        "id": "0BInJ24hnCqj"
      },
      "source": [
        "### variable length arguments"
      ]
    },
    {
      "cell_type": "code",
      "metadata": {
        "colab": {
          "base_uri": "https://localhost:8080/"
        },
        "id": "A8B7x7b4axrW",
        "outputId": "6aa7b2de-83ac-4609-f459-531b3510d5b5"
      },
      "source": [
        "# *args : any positional argument\n",
        "# **kwargs : any number of keyword argment\n",
        "\n",
        "def foo(a, b, *args, **kwargs):\n",
        "    print(a, b)\n",
        "    for arg in args:\n",
        "        print(arg)\n",
        "    for key in kwargs:\n",
        "        print(key, kwargs[key])\n",
        "\n",
        "foo(1, 2, 3, 4, 5, six=6, seven=7)"
      ],
      "execution_count": 10,
      "outputs": [
        {
          "output_type": "stream",
          "text": [
            "1 2\n",
            "3\n",
            "4\n",
            "5\n",
            "six 6\n",
            "seven 7\n"
          ],
          "name": "stdout"
        }
      ]
    },
    {
      "cell_type": "code",
      "metadata": {
        "colab": {
          "base_uri": "https://localhost:8080/"
        },
        "id": "iXq-BXwpbvkQ",
        "outputId": "14dca93d-a285-40a5-dd9e-7958e8d1f678"
      },
      "source": [
        "# position argments can be omitted\n",
        "\n",
        "def foo(a, b, *args, **kwargs):\n",
        "    print(a, b)\n",
        "    for arg in args:\n",
        "        print(arg)\n",
        "    for key in kwargs:\n",
        "        print(key, kwargs[key])\n",
        "\n",
        "foo(1, 2, six=6, seven=7)"
      ],
      "execution_count": 11,
      "outputs": [
        {
          "output_type": "stream",
          "text": [
            "1 2\n",
            "six 6\n",
            "seven 7\n"
          ],
          "name": "stdout"
        }
      ]
    },
    {
      "cell_type": "code",
      "metadata": {
        "colab": {
          "base_uri": "https://localhost:8080/"
        },
        "id": "lynG-cxQcgcK",
        "outputId": "e8a72b90-5cd0-4de4-91de-02147c8ef98a"
      },
      "source": [
        "# keywords argments can be omitted\n",
        "\n",
        "def foo(a, b, *args, **kwargs):\n",
        "    print(a, b)\n",
        "    for arg in args:\n",
        "        print(arg)\n",
        "    for key in kwargs:\n",
        "        print(key, kwargs[key])\n",
        "\n",
        "foo(1, 2, 3, 4, 5)"
      ],
      "execution_count": 12,
      "outputs": [
        {
          "output_type": "stream",
          "text": [
            "1 2\n",
            "3\n",
            "4\n",
            "5\n"
          ],
          "name": "stdout"
        }
      ]
    },
    {
      "cell_type": "code",
      "metadata": {
        "colab": {
          "base_uri": "https://localhost:8080/",
          "height": 204
        },
        "id": "nMdQJcmnclAF",
        "outputId": "27eea087-6cdc-4b93-a972-33e94f3a5788"
      },
      "source": [
        "# every parameter after * must be keyword argment\n",
        "\n",
        "def foo(a, b, *, c, d):\n",
        "    print(a, b, c, d)\n",
        "    for arg in args:\n",
        "        print(arg)\n",
        "    for key in kwargs:\n",
        "        print(key, kwargs[key])\n",
        "\n",
        "foo(1, 2, 3, 4)"
      ],
      "execution_count": 13,
      "outputs": [
        {
          "output_type": "error",
          "ename": "TypeError",
          "evalue": "ignored",
          "traceback": [
            "\u001b[0;31m---------------------------------------------------------------------------\u001b[0m",
            "\u001b[0;31mTypeError\u001b[0m                                 Traceback (most recent call last)",
            "\u001b[0;32m<ipython-input-13-36289cb0fe8c>\u001b[0m in \u001b[0;36m<module>\u001b[0;34m()\u001b[0m\n\u001b[1;32m      8\u001b[0m         \u001b[0mprint\u001b[0m\u001b[0;34m(\u001b[0m\u001b[0mkey\u001b[0m\u001b[0;34m,\u001b[0m \u001b[0mkwargs\u001b[0m\u001b[0;34m[\u001b[0m\u001b[0mkey\u001b[0m\u001b[0;34m]\u001b[0m\u001b[0;34m)\u001b[0m\u001b[0;34m\u001b[0m\u001b[0;34m\u001b[0m\u001b[0m\n\u001b[1;32m      9\u001b[0m \u001b[0;34m\u001b[0m\u001b[0m\n\u001b[0;32m---> 10\u001b[0;31m \u001b[0mfoo\u001b[0m\u001b[0;34m(\u001b[0m\u001b[0;36m1\u001b[0m\u001b[0;34m,\u001b[0m \u001b[0;36m2\u001b[0m\u001b[0;34m,\u001b[0m \u001b[0;36m3\u001b[0m\u001b[0;34m,\u001b[0m \u001b[0;36m4\u001b[0m\u001b[0;34m)\u001b[0m\u001b[0;34m\u001b[0m\u001b[0;34m\u001b[0m\u001b[0m\n\u001b[0m",
            "\u001b[0;31mTypeError\u001b[0m: foo() takes 2 positional arguments but 4 were given"
          ]
        }
      ]
    },
    {
      "cell_type": "code",
      "metadata": {
        "colab": {
          "base_uri": "https://localhost:8080/"
        },
        "id": "T1z9ZCEwdbAw",
        "outputId": "82c01248-494a-469e-a917-2b3ce9d1a0b1"
      },
      "source": [
        "# every parameter after * must be keyword argment\n",
        "\n",
        "def foo(a, b, *, c, d):\n",
        "    print(a, b, c, d)\n",
        "\n",
        "foo(1, 2, c=3, d=4)"
      ],
      "execution_count": 14,
      "outputs": [
        {
          "output_type": "stream",
          "text": [
            "1 2 3 4\n"
          ],
          "name": "stdout"
        }
      ]
    },
    {
      "cell_type": "code",
      "metadata": {
        "colab": {
          "base_uri": "https://localhost:8080/",
          "height": 204
        },
        "id": "BSgl90e0diDa",
        "outputId": "ae093d00-f0fc-467a-de26-cc2a15466c4e"
      },
      "source": [
        "# every parameter after *args must be keyword argment\n",
        " \n",
        "def foo(*args, last):\n",
        "    for arg in args:\n",
        "        print(arg)\n",
        "    print(last)\n",
        "\n",
        "foo(1, 2, 3)"
      ],
      "execution_count": 15,
      "outputs": [
        {
          "output_type": "error",
          "ename": "TypeError",
          "evalue": "ignored",
          "traceback": [
            "\u001b[0;31m---------------------------------------------------------------------------\u001b[0m",
            "\u001b[0;31mTypeError\u001b[0m                                 Traceback (most recent call last)",
            "\u001b[0;32m<ipython-input-15-b35bd02a7b10>\u001b[0m in \u001b[0;36m<module>\u001b[0;34m()\u001b[0m\n\u001b[1;32m      6\u001b[0m     \u001b[0mprint\u001b[0m\u001b[0;34m(\u001b[0m\u001b[0mlast\u001b[0m\u001b[0;34m)\u001b[0m\u001b[0;34m\u001b[0m\u001b[0;34m\u001b[0m\u001b[0m\n\u001b[1;32m      7\u001b[0m \u001b[0;34m\u001b[0m\u001b[0m\n\u001b[0;32m----> 8\u001b[0;31m \u001b[0mfoo\u001b[0m\u001b[0;34m(\u001b[0m\u001b[0;36m1\u001b[0m\u001b[0;34m,\u001b[0m \u001b[0;36m2\u001b[0m\u001b[0;34m,\u001b[0m \u001b[0;36m3\u001b[0m\u001b[0;34m)\u001b[0m\u001b[0;34m\u001b[0m\u001b[0;34m\u001b[0m\u001b[0m\n\u001b[0m",
            "\u001b[0;31mTypeError\u001b[0m: foo() missing 1 required keyword-only argument: 'last'"
          ]
        }
      ]
    },
    {
      "cell_type": "code",
      "metadata": {
        "colab": {
          "base_uri": "https://localhost:8080/"
        },
        "id": "E6H50AZBd26D",
        "outputId": "44826825-f55a-4b69-e48a-45f8b064d8f7"
      },
      "source": [
        "# every parameter after *args must be keyword argment\n",
        " \n",
        "def foo(*args, last):\n",
        "    for arg in args:\n",
        "        print(arg)\n",
        "    print(last)\n",
        "\n",
        "foo(1, 2, 3, last=4)"
      ],
      "execution_count": 16,
      "outputs": [
        {
          "output_type": "stream",
          "text": [
            "1\n",
            "2\n",
            "3\n",
            "4\n"
          ],
          "name": "stdout"
        }
      ]
    },
    {
      "cell_type": "markdown",
      "metadata": {
        "id": "FB8WmtNtnZB6"
      },
      "source": [
        "### unpacking argument"
      ]
    },
    {
      "cell_type": "code",
      "metadata": {
        "colab": {
          "base_uri": "https://localhost:8080/"
        },
        "id": "fLdz5Z6MeHmh",
        "outputId": "40fbd2b9-b9c3-4ad9-f7ba-3dcb206b7a24"
      },
      "source": [
        "def foo(a, b, c):\n",
        "    print(a, b, c)\n",
        "\n",
        "my_list = [0, 1, 2]\n",
        "foo(*my_list)"
      ],
      "execution_count": 17,
      "outputs": [
        {
          "output_type": "stream",
          "text": [
            "0 1 2\n"
          ],
          "name": "stdout"
        }
      ]
    },
    {
      "cell_type": "code",
      "metadata": {
        "colab": {
          "base_uri": "https://localhost:8080/"
        },
        "id": "M5jZ-4kwfSLN",
        "outputId": "a1af26b5-aed2-4937-c229-aa076376a86f"
      },
      "source": [
        "def foo(a, b, c):\n",
        "    print(a, b, c)\n",
        "\n",
        "my_list = (0, 1, 2)\n",
        "foo(*my_list)"
      ],
      "execution_count": 18,
      "outputs": [
        {
          "output_type": "stream",
          "text": [
            "0 1 2\n"
          ],
          "name": "stdout"
        }
      ]
    },
    {
      "cell_type": "code",
      "metadata": {
        "colab": {
          "base_uri": "https://localhost:8080/",
          "height": 204
        },
        "id": "elEHbB36faTT",
        "outputId": "a97846f8-e707-4d3a-cd26-47743b874433"
      },
      "source": [
        "# length of the container must match the number of parameters\n",
        "\n",
        "def foo(a, b, c):\n",
        "    print(a, b, c)\n",
        "\n",
        "my_list = (0, 1, 2, 3)\n",
        "foo(*my_list)"
      ],
      "execution_count": 19,
      "outputs": [
        {
          "output_type": "error",
          "ename": "TypeError",
          "evalue": "ignored",
          "traceback": [
            "\u001b[0;31m---------------------------------------------------------------------------\u001b[0m",
            "\u001b[0;31mTypeError\u001b[0m                                 Traceback (most recent call last)",
            "\u001b[0;32m<ipython-input-19-7f1fb6e3a4d9>\u001b[0m in \u001b[0;36m<module>\u001b[0;34m()\u001b[0m\n\u001b[1;32m      5\u001b[0m \u001b[0;34m\u001b[0m\u001b[0m\n\u001b[1;32m      6\u001b[0m \u001b[0mmy_list\u001b[0m \u001b[0;34m=\u001b[0m \u001b[0;34m(\u001b[0m\u001b[0;36m0\u001b[0m\u001b[0;34m,\u001b[0m \u001b[0;36m1\u001b[0m\u001b[0;34m,\u001b[0m \u001b[0;36m2\u001b[0m\u001b[0;34m,\u001b[0m \u001b[0;36m3\u001b[0m\u001b[0;34m)\u001b[0m\u001b[0;34m\u001b[0m\u001b[0;34m\u001b[0m\u001b[0m\n\u001b[0;32m----> 7\u001b[0;31m \u001b[0mfoo\u001b[0m\u001b[0;34m(\u001b[0m\u001b[0;34m*\u001b[0m\u001b[0mmy_list\u001b[0m\u001b[0;34m)\u001b[0m\u001b[0;34m\u001b[0m\u001b[0;34m\u001b[0m\u001b[0m\n\u001b[0m",
            "\u001b[0;31mTypeError\u001b[0m: foo() takes 3 positional arguments but 4 were given"
          ]
        }
      ]
    },
    {
      "cell_type": "code",
      "metadata": {
        "colab": {
          "base_uri": "https://localhost:8080/"
        },
        "id": "L_xvtUocgHpD",
        "outputId": "e6f48697-3d70-4657-e6d4-e7119cfe264a"
      },
      "source": [
        "# the key of dictionary must be the same key of parameter\n",
        "\n",
        "def foo(a, b, c):\n",
        "    print(a, b, c)\n",
        "\n",
        "my_dict = {'a':1, 'b':2, 'c':3}\n",
        "foo(**my_dict)"
      ],
      "execution_count": 20,
      "outputs": [
        {
          "output_type": "stream",
          "text": [
            "1 2 3\n"
          ],
          "name": "stdout"
        }
      ]
    },
    {
      "cell_type": "code",
      "metadata": {
        "colab": {
          "base_uri": "https://localhost:8080/",
          "height": 204
        },
        "id": "wix8VoHdhFfb",
        "outputId": "bdeb7341-0973-4555-da78-7008623b06d9"
      },
      "source": [
        "# the key of dictionary must be the same key of parameter\n",
        "\n",
        "def foo(a, b, c):\n",
        "    print(a, b, c)\n",
        "\n",
        "my_dict = {'e':1, 'b':2, 'c':3}\n",
        "foo(**my_dict)"
      ],
      "execution_count": 21,
      "outputs": [
        {
          "output_type": "error",
          "ename": "TypeError",
          "evalue": "ignored",
          "traceback": [
            "\u001b[0;31m---------------------------------------------------------------------------\u001b[0m",
            "\u001b[0;31mTypeError\u001b[0m                                 Traceback (most recent call last)",
            "\u001b[0;32m<ipython-input-21-7fb78d40a62b>\u001b[0m in \u001b[0;36m<module>\u001b[0;34m()\u001b[0m\n\u001b[1;32m      5\u001b[0m \u001b[0;34m\u001b[0m\u001b[0m\n\u001b[1;32m      6\u001b[0m \u001b[0mmy_dict\u001b[0m \u001b[0;34m=\u001b[0m \u001b[0;34m{\u001b[0m\u001b[0;34m'e'\u001b[0m\u001b[0;34m:\u001b[0m\u001b[0;36m1\u001b[0m\u001b[0;34m,\u001b[0m \u001b[0;34m'b'\u001b[0m\u001b[0;34m:\u001b[0m\u001b[0;36m2\u001b[0m\u001b[0;34m,\u001b[0m \u001b[0;34m'c'\u001b[0m\u001b[0;34m:\u001b[0m\u001b[0;36m3\u001b[0m\u001b[0;34m}\u001b[0m\u001b[0;34m\u001b[0m\u001b[0;34m\u001b[0m\u001b[0m\n\u001b[0;32m----> 7\u001b[0;31m \u001b[0mfoo\u001b[0m\u001b[0;34m(\u001b[0m\u001b[0;34m**\u001b[0m\u001b[0mmy_dict\u001b[0m\u001b[0;34m)\u001b[0m\u001b[0;34m\u001b[0m\u001b[0;34m\u001b[0m\u001b[0m\n\u001b[0m",
            "\u001b[0;31mTypeError\u001b[0m: foo() got an unexpected keyword argument 'e'"
          ]
        }
      ]
    },
    {
      "cell_type": "code",
      "metadata": {
        "colab": {
          "base_uri": "https://localhost:8080/",
          "height": 204
        },
        "id": "9YjnYzc9g2_6",
        "outputId": "35750be8-2da0-40cd-b88b-cda4adb50c02"
      },
      "source": [
        "# length of the dictionary must match the number of parameters\n",
        "\n",
        "def foo(a, b, c):\n",
        "    print(a, b, c)\n",
        "\n",
        "my_dict = {'a':1, 'b':2, 'c':3, 'd':4}\n",
        "foo(**my_dict)"
      ],
      "execution_count": 22,
      "outputs": [
        {
          "output_type": "error",
          "ename": "TypeError",
          "evalue": "ignored",
          "traceback": [
            "\u001b[0;31m---------------------------------------------------------------------------\u001b[0m",
            "\u001b[0;31mTypeError\u001b[0m                                 Traceback (most recent call last)",
            "\u001b[0;32m<ipython-input-22-86c434bf8375>\u001b[0m in \u001b[0;36m<module>\u001b[0;34m()\u001b[0m\n\u001b[1;32m      5\u001b[0m \u001b[0;34m\u001b[0m\u001b[0m\n\u001b[1;32m      6\u001b[0m \u001b[0mmy_dict\u001b[0m \u001b[0;34m=\u001b[0m \u001b[0;34m{\u001b[0m\u001b[0;34m'a'\u001b[0m\u001b[0;34m:\u001b[0m\u001b[0;36m1\u001b[0m\u001b[0;34m,\u001b[0m \u001b[0;34m'b'\u001b[0m\u001b[0;34m:\u001b[0m\u001b[0;36m2\u001b[0m\u001b[0;34m,\u001b[0m \u001b[0;34m'c'\u001b[0m\u001b[0;34m:\u001b[0m\u001b[0;36m3\u001b[0m\u001b[0;34m,\u001b[0m \u001b[0;34m'd'\u001b[0m\u001b[0;34m:\u001b[0m\u001b[0;36m4\u001b[0m\u001b[0;34m}\u001b[0m\u001b[0;34m\u001b[0m\u001b[0;34m\u001b[0m\u001b[0m\n\u001b[0;32m----> 7\u001b[0;31m \u001b[0mfoo\u001b[0m\u001b[0;34m(\u001b[0m\u001b[0;34m**\u001b[0m\u001b[0mmy_dict\u001b[0m\u001b[0;34m)\u001b[0m\u001b[0;34m\u001b[0m\u001b[0;34m\u001b[0m\u001b[0m\n\u001b[0m",
            "\u001b[0;31mTypeError\u001b[0m: foo() got an unexpected keyword argument 'd'"
          ]
        }
      ]
    },
    {
      "cell_type": "markdown",
      "metadata": {
        "id": "v6TZG4tXl2PI"
      },
      "source": [
        "### global variable & local variable"
      ]
    },
    {
      "cell_type": "code",
      "metadata": {
        "colab": {
          "base_uri": "https://localhost:8080/"
        },
        "id": "4PDyNVU4hLJq",
        "outputId": "53df632b-6f79-4076-834c-3a2474a191ee"
      },
      "source": [
        "def foo():\n",
        "    x = number\n",
        "    print('number inside function', x)\n",
        "\n",
        "number = 0\n",
        "foo()"
      ],
      "execution_count": 23,
      "outputs": [
        {
          "output_type": "stream",
          "text": [
            "number inside function 0\n"
          ],
          "name": "stdout"
        }
      ]
    },
    {
      "cell_type": "code",
      "metadata": {
        "colab": {
          "base_uri": "https://localhost:8080/",
          "height": 327
        },
        "id": "t37KZjg0hhNz",
        "outputId": "0be863af-0613-48b6-b97d-cd9869fc5673"
      },
      "source": [
        "def foo():\n",
        "    x = number\n",
        "    number = 3\n",
        "    print('number inside function', x)\n",
        "\n",
        "number = 0\n",
        "foo()"
      ],
      "execution_count": 24,
      "outputs": [
        {
          "output_type": "error",
          "ename": "UnboundLocalError",
          "evalue": "ignored",
          "traceback": [
            "\u001b[0;31m---------------------------------------------------------------------------\u001b[0m",
            "\u001b[0;31mUnboundLocalError\u001b[0m                         Traceback (most recent call last)",
            "\u001b[0;32m<ipython-input-24-402ab62e7980>\u001b[0m in \u001b[0;36m<module>\u001b[0;34m()\u001b[0m\n\u001b[1;32m      5\u001b[0m \u001b[0;34m\u001b[0m\u001b[0m\n\u001b[1;32m      6\u001b[0m \u001b[0mnumber\u001b[0m \u001b[0;34m=\u001b[0m \u001b[0;36m0\u001b[0m\u001b[0;34m\u001b[0m\u001b[0;34m\u001b[0m\u001b[0m\n\u001b[0;32m----> 7\u001b[0;31m \u001b[0mfoo\u001b[0m\u001b[0;34m(\u001b[0m\u001b[0;34m)\u001b[0m\u001b[0;34m\u001b[0m\u001b[0;34m\u001b[0m\u001b[0m\n\u001b[0m",
            "\u001b[0;32m<ipython-input-24-402ab62e7980>\u001b[0m in \u001b[0;36mfoo\u001b[0;34m()\u001b[0m\n\u001b[1;32m      1\u001b[0m \u001b[0;32mdef\u001b[0m \u001b[0mfoo\u001b[0m\u001b[0;34m(\u001b[0m\u001b[0;34m)\u001b[0m\u001b[0;34m:\u001b[0m\u001b[0;34m\u001b[0m\u001b[0;34m\u001b[0m\u001b[0m\n\u001b[0;32m----> 2\u001b[0;31m     \u001b[0mx\u001b[0m \u001b[0;34m=\u001b[0m \u001b[0mnumber\u001b[0m\u001b[0;34m\u001b[0m\u001b[0;34m\u001b[0m\u001b[0m\n\u001b[0m\u001b[1;32m      3\u001b[0m     \u001b[0mnumber\u001b[0m \u001b[0;34m=\u001b[0m \u001b[0;36m3\u001b[0m\u001b[0;34m\u001b[0m\u001b[0;34m\u001b[0m\u001b[0m\n\u001b[1;32m      4\u001b[0m     \u001b[0mprint\u001b[0m\u001b[0;34m(\u001b[0m\u001b[0;34m'number inside function'\u001b[0m\u001b[0;34m,\u001b[0m \u001b[0mx\u001b[0m\u001b[0;34m)\u001b[0m\u001b[0;34m\u001b[0m\u001b[0;34m\u001b[0m\u001b[0m\n\u001b[1;32m      5\u001b[0m \u001b[0;34m\u001b[0m\u001b[0m\n",
            "\u001b[0;31mUnboundLocalError\u001b[0m: local variable 'number' referenced before assignment"
          ]
        }
      ]
    },
    {
      "cell_type": "code",
      "metadata": {
        "colab": {
          "base_uri": "https://localhost:8080/"
        },
        "id": "kzkZyDhkh6qi",
        "outputId": "0a44aa88-3700-411b-9901-1baa12f817fc"
      },
      "source": [
        "def foo():\n",
        "    global number\n",
        "    x = number\n",
        "    number = 3\n",
        "    print('number inside function', x)\n",
        "\n",
        "number = 0\n",
        "foo()\n",
        "print(number)"
      ],
      "execution_count": 25,
      "outputs": [
        {
          "output_type": "stream",
          "text": [
            "number inside function 0\n",
            "3\n"
          ],
          "name": "stdout"
        }
      ]
    },
    {
      "cell_type": "code",
      "metadata": {
        "colab": {
          "base_uri": "https://localhost:8080/"
        },
        "id": "ps1otFBliA-V",
        "outputId": "eaf7ab77-b4ba-427c-de8c-de242673eacc"
      },
      "source": [
        "# local variable cannot modify global variable\n",
        "\n",
        "def foo():\n",
        "    number = 3\n",
        "\n",
        "number = 0\n",
        "foo()\n",
        "print(number)"
      ],
      "execution_count": 26,
      "outputs": [
        {
          "output_type": "stream",
          "text": [
            "0\n"
          ],
          "name": "stdout"
        }
      ]
    },
    {
      "cell_type": "markdown",
      "metadata": {
        "id": "r3tL9LvIltjb"
      },
      "source": [
        "### parameter passing"
      ]
    },
    {
      "cell_type": "code",
      "metadata": {
        "colab": {
          "base_uri": "https://localhost:8080/"
        },
        "id": "p6c4UIDfiNPc",
        "outputId": "b50102c0-1c0a-431c-a46c-67636d0c86f9"
      },
      "source": [
        "# immutable object can not be changed within a function\n",
        "\n",
        "def foo(x):\n",
        "    x = 5\n",
        "\n",
        "var = 10\n",
        "foo(var)\n",
        "print(var)"
      ],
      "execution_count": 27,
      "outputs": [
        {
          "output_type": "stream",
          "text": [
            "10\n"
          ],
          "name": "stdout"
        }
      ]
    },
    {
      "cell_type": "code",
      "metadata": {
        "colab": {
          "base_uri": "https://localhost:8080/"
        },
        "id": "1yJnY2RnjiMV",
        "outputId": "df1b311f-d1a0-4cfb-f3cf-e15e392274bf"
      },
      "source": [
        "# mutable object can be modified within a function\n",
        "\n",
        "def foo(a_list):\n",
        "    a_list.append(4)\n",
        "\n",
        "my_list = [1, 2, 3]\n",
        "foo(my_list)\n",
        "print(my_list)"
      ],
      "execution_count": 28,
      "outputs": [
        {
          "output_type": "stream",
          "text": [
            "[1, 2, 3, 4]\n"
          ],
          "name": "stdout"
        }
      ]
    },
    {
      "cell_type": "code",
      "metadata": {
        "colab": {
          "base_uri": "https://localhost:8080/"
        },
        "id": "vNmeXTXLkUGT",
        "outputId": "ddf250d2-b50a-4814-b58a-6cd02cb100db"
      },
      "source": [
        "# immutable object in mutable object can be changed\n",
        "\n",
        "def foo(a_list):\n",
        "    a_list.append(4)\n",
        "    a_list[0] = 100\n",
        "\n",
        "my_list = [1, 2, 3]\n",
        "foo(my_list)\n",
        "print(my_list)"
      ],
      "execution_count": 29,
      "outputs": [
        {
          "output_type": "stream",
          "text": [
            "[100, 2, 3, 4]\n"
          ],
          "name": "stdout"
        }
      ]
    },
    {
      "cell_type": "code",
      "metadata": {
        "colab": {
          "base_uri": "https://localhost:8080/"
        },
        "id": "H1MVmAVlkpzv",
        "outputId": "ca9dbbf9-467e-4cba-8b77-06e9b62bc03a"
      },
      "source": [
        "# rebind the reference in the method -> local variable\n",
        "# rebinded reference cannot change global variable\n",
        "\n",
        "def foo(a_list):\n",
        "    a_list = [200, 300, 400]\n",
        "    a_list.append(4)\n",
        "    a_list[0] = 100\n",
        "\n",
        "my_list = [1, 2, 3]\n",
        "foo(my_list)\n",
        "print(my_list)"
      ],
      "execution_count": 30,
      "outputs": [
        {
          "output_type": "stream",
          "text": [
            "[1, 2, 3]\n"
          ],
          "name": "stdout"
        }
      ]
    },
    {
      "cell_type": "code",
      "metadata": {
        "colab": {
          "base_uri": "https://localhost:8080/"
        },
        "id": "JzruviGQlKVk",
        "outputId": "9bc6cd89-e859-4568-94df-fc6550b8d4d8"
      },
      "source": [
        "# a_list - parameter of global variable\n",
        "\n",
        "def foo(a_list):\n",
        "    a_list += [200, 300, 400]\n",
        "\n",
        "my_list = [1, 2, 3]\n",
        "foo(my_list)\n",
        "print(my_list)"
      ],
      "execution_count": 31,
      "outputs": [
        {
          "output_type": "stream",
          "text": [
            "[1, 2, 3, 200, 300, 400]\n"
          ],
          "name": "stdout"
        }
      ]
    },
    {
      "cell_type": "code",
      "metadata": {
        "colab": {
          "base_uri": "https://localhost:8080/"
        },
        "id": "zhJ2YtGnmUV7",
        "outputId": "07242c38-f50b-4ba6-8a49-82ee12fc0bbb"
      },
      "source": [
        "# a_list - parameter of local variable\n",
        "\n",
        "def foo(a_list):\n",
        "    a_list = a_list + [200, 300, 400]\n",
        "\n",
        "my_list = [1, 2, 3]\n",
        "foo(my_list)\n",
        "print(my_list)"
      ],
      "execution_count": 32,
      "outputs": [
        {
          "output_type": "stream",
          "text": [
            "[1, 2, 3]\n"
          ],
          "name": "stdout"
        }
      ]
    }
  ]
}