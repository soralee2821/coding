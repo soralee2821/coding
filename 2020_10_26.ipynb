{
  "nbformat": 4,
  "nbformat_minor": 0,
  "metadata": {
    "colab": {
      "name": "2020-10-26.ipynb",
      "provenance": [],
      "authorship_tag": "ABX9TyPJQrtdmswln7OIBTRKgDyQ",
      "include_colab_link": true
    },
    "kernelspec": {
      "name": "python3",
      "display_name": "Python 3"
    }
  },
  "cells": [
    {
      "cell_type": "markdown",
      "metadata": {
        "id": "view-in-github",
        "colab_type": "text"
      },
      "source": [
        "<a href=\"https://colab.research.google.com/github/soralee2821/coding/blob/master/2020_10_26.ipynb\" target=\"_parent\"><img src=\"https://colab.research.google.com/assets/colab-badge.svg\" alt=\"Open In Colab\"/></a>"
      ]
    },
    {
      "cell_type": "code",
      "metadata": {
        "id": "Dzektlt5BzXu",
        "outputId": "528d74bd-ccc2-43ca-e4b3-aa44d1a9d0f2",
        "colab": {
          "base_uri": "https://localhost:8080/",
          "height": 52
        }
      },
      "source": [
        "word = input().split()\n",
        "len(word)"
      ],
      "execution_count": 2,
      "outputs": [
        {
          "output_type": "stream",
          "text": [
            "Mazatneunde Wae Teullyeoyo\n"
          ],
          "name": "stdout"
        },
        {
          "output_type": "execute_result",
          "data": {
            "text/plain": [
              "3"
            ]
          },
          "metadata": {
            "tags": []
          },
          "execution_count": 2
        }
      ]
    },
    {
      "cell_type": "code",
      "metadata": {
        "id": "5J89xyTRCMrC",
        "outputId": "c717374c-e832-4a45-d80b-f65b39b35d17",
        "colab": {
          "base_uri": "https://localhost:8080/",
          "height": 52
        }
      },
      "source": [
        "a, b = input().split()\n",
        "A = ''\n",
        "B = ''\n",
        "for i in range(1,len(a)+1):\n",
        "  A += a[-i]\n",
        "for j in range(1,len(b)+1):\n",
        "  B += b[-j]\n",
        "A = int(A)\n",
        "B = int(B)\n",
        "if A > B:\n",
        "  print(A)\n",
        "else:\n",
        "  print(B)"
      ],
      "execution_count": 10,
      "outputs": [
        {
          "output_type": "stream",
          "text": [
            "734 893\n",
            "437\n"
          ],
          "name": "stdout"
        }
      ]
    },
    {
      "cell_type": "code",
      "metadata": {
        "id": "WtvwTvdlDerA",
        "outputId": "522f57f0-ce90-4205-c962-b0bb44302020",
        "colab": {
          "base_uri": "https://localhost:8080/",
          "height": 70
        }
      },
      "source": [
        "a, b = input().split()\n",
        "\n",
        "a = int(a[::-1])\n",
        "b = int(b[::-1])\n",
        "\n",
        "if a > b:\n",
        "  print(a)\n",
        "else:\n",
        "  print(b)"
      ],
      "execution_count": 12,
      "outputs": [
        {
          "output_type": "stream",
          "text": [
            "734 893\n",
            "437 398\n",
            "437\n"
          ],
          "name": "stdout"
        }
      ]
    },
    {
      "cell_type": "code",
      "metadata": {
        "id": "bZeubJdajJjB",
        "outputId": "2b312174-c23c-4ea5-d334-b9397918b6dd",
        "colab": {
          "base_uri": "https://localhost:8080/",
          "height": 52
        }
      },
      "source": [
        "num = list(input())\n",
        "time = 0\n",
        "for i in range(len(num)):\n",
        "  n = num[i]\n",
        "  if n in ['A','B','C']:\n",
        "    time += 3\n",
        "  elif n in ['D','E','F']:\n",
        "    time += 4\n",
        "  elif n in ['G','H','I']:\n",
        "    time += 5\n",
        "  elif n in ['J','K','L']:\n",
        "    time += 6\n",
        "  elif n in ['M','N','O']:\n",
        "    time += 7\n",
        "  elif n in ['P','Q','R','S']:\n",
        "    time += 8\n",
        "  elif n in ['T','U','V']:\n",
        "    time += 9\n",
        "  elif n in ['W','X','Y','Z']:\n",
        "    time += 10\n",
        "  else:\n",
        "    time += 11\n",
        "print(time)"
      ],
      "execution_count": 5,
      "outputs": [
        {
          "output_type": "stream",
          "text": [
            "UNUCIC\n",
            "36\n"
          ],
          "name": "stdout"
        }
      ]
    },
    {
      "cell_type": "code",
      "metadata": {
        "id": "wweTVPRrE3jf",
        "outputId": "46f889b8-a239-44ce-b884-f703e6e88f9f",
        "colab": {
          "base_uri": "https://localhost:8080/",
          "height": 52
        }
      },
      "source": [
        "num = list(input())\n",
        "time = 0\n",
        "for i in range(len(num)):\n",
        "  n = ord(num[i])\n",
        "  if n < 68:\n",
        "    time += 3\n",
        "  elif n < 71:\n",
        "    time += 4\n",
        "  elif n < 74:\n",
        "    time += 5\n",
        "  elif n < 77:\n",
        "    time += 6\n",
        "  elif n < 80:\n",
        "    time += 7\n",
        "  elif n < 84:\n",
        "    time += 8\n",
        "  elif n < 87:\n",
        "    time += 9\n",
        "  elif n < 91:\n",
        "    time += 10\n",
        "  else:\n",
        "    time += 11\n",
        "print(time)"
      ],
      "execution_count": 4,
      "outputs": [
        {
          "output_type": "stream",
          "text": [
            "UNUCIC\n",
            "36\n"
          ],
          "name": "stdout"
        }
      ]
    },
    {
      "cell_type": "code",
      "metadata": {
        "id": "1yPwbJpCcdX_",
        "outputId": "817b290f-e449-4604-bab2-fff4996717ce",
        "colab": {
          "base_uri": "https://localhost:8080/",
          "height": 52
        }
      },
      "source": [
        "dial = ['ABC','DEF','GHI','JKL','MNO','PQRS','TUV','WXYZ']\n",
        "num = input()\n",
        "time = 0\n",
        "for i in range(len(num)):\n",
        "  for j in dial:\n",
        "    if num[i] in j:\n",
        "      time += dial.index(j) + 3\n",
        "print(time)"
      ],
      "execution_count": 6,
      "outputs": [
        {
          "output_type": "stream",
          "text": [
            "UNUCIC\n",
            "36\n"
          ],
          "name": "stdout"
        }
      ]
    },
    {
      "cell_type": "code",
      "metadata": {
        "id": "DKeCSnFolHxe"
      },
      "source": [
        ""
      ],
      "execution_count": null,
      "outputs": []
    }
  ]
}