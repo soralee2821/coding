{
  "nbformat": 4,
  "nbformat_minor": 0,
  "metadata": {
    "colab": {
      "name": "2020-10-29.ipynb",
      "provenance": [],
      "authorship_tag": "ABX9TyPFFrjjxFzC/XPic34su2rv",
      "include_colab_link": true
    },
    "kernelspec": {
      "name": "python3",
      "display_name": "Python 3"
    }
  },
  "cells": [
    {
      "cell_type": "markdown",
      "metadata": {
        "id": "view-in-github",
        "colab_type": "text"
      },
      "source": [
        "<a href=\"https://colab.research.google.com/github/soralee2821/coding/blob/master/2020_10_29.ipynb\" target=\"_parent\"><img src=\"https://colab.research.google.com/assets/colab-badge.svg\" alt=\"Open In Colab\"/></a>"
      ]
    },
    {
      "cell_type": "code",
      "metadata": {
        "id": "vNLXDRpWX1X9",
        "outputId": "8bd2b1da-92ad-4041-a276-934ea1c0c567",
        "colab": {
          "base_uri": "https://localhost:8080/"
        }
      },
      "source": [
        "def sugar(N):\n",
        "    for i in range(int(N//3+1)):\n",
        "        for j in range(int(N//5+1)):\n",
        "            if ((i*3 + j*5) == N):\n",
        "                return i+j\n",
        "    return -1\n",
        "\n",
        "N = int(input())\n",
        "print(sugar(N))"
      ],
      "execution_count": 16,
      "outputs": [
        {
          "output_type": "stream",
          "text": [
            "11\n",
            "3\n"
          ],
          "name": "stdout"
        }
      ]
    },
    {
      "cell_type": "code",
      "metadata": {
        "id": "ZoMoxvl5a1JB",
        "outputId": "777e431a-fdb2-492f-eca9-d6eb2f958bcb",
        "colab": {
          "base_uri": "https://localhost:8080/"
        }
      },
      "source": [
        "N = int(input())\n",
        "bag = 0\n",
        "\n",
        "while N >= 0:\n",
        "    if N % 5 == 0:\n",
        "        bag += (N//5)\n",
        "        print(bag)\n",
        "        break\n",
        "    N -= 3\n",
        "    bag += 1\n",
        "else:\n",
        "  print(-1)"
      ],
      "execution_count": 22,
      "outputs": [
        {
          "output_type": "stream",
          "text": [
            "11\n",
            "3\n"
          ],
          "name": "stdout"
        }
      ]
    },
    {
      "cell_type": "code",
      "metadata": {
        "id": "h8mNxkBHlRHC"
      },
      "source": [
        ""
      ],
      "execution_count": null,
      "outputs": []
    }
  ]
}