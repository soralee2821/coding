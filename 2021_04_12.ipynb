{
  "nbformat": 4,
  "nbformat_minor": 0,
  "metadata": {
    "colab": {
      "name": "2021-04-12.ipynb",
      "provenance": [],
      "authorship_tag": "ABX9TyNfCDXAGl1xeZAYQ4LxdGbY",
      "include_colab_link": true
    },
    "kernelspec": {
      "name": "python3",
      "display_name": "Python 3"
    },
    "language_info": {
      "name": "python"
    }
  },
  "cells": [
    {
      "cell_type": "markdown",
      "metadata": {
        "id": "view-in-github",
        "colab_type": "text"
      },
      "source": [
        "<a href=\"https://colab.research.google.com/github/soralee2821/coding/blob/master/2021_04_12.ipynb\" target=\"_parent\"><img src=\"https://colab.research.google.com/assets/colab-badge.svg\" alt=\"Open In Colab\"/></a>"
      ]
    },
    {
      "cell_type": "markdown",
      "metadata": {
        "id": "TX3Iv7bURChj"
      },
      "source": [
        "##String"
      ]
    },
    {
      "cell_type": "code",
      "metadata": {
        "id": "2-L9BIqlEdqR",
        "colab": {
          "base_uri": "https://localhost:8080/"
        },
        "outputId": "4d8416c3-459e-4f94-9971-6759fc19e1e2"
      },
      "source": [
        "my_string = \"Hello world\"\n",
        "print(my_string)"
      ],
      "execution_count": 1,
      "outputs": [
        {
          "output_type": "stream",
          "text": [
            "Hello world\n"
          ],
          "name": "stdout"
        }
      ]
    },
    {
      "cell_type": "code",
      "metadata": {
        "colab": {
          "base_uri": "https://localhost:8080/"
        },
        "id": "jfJRZonGRA88",
        "outputId": "ab08a223-da4b-42db-fdab-8015401a04c2"
      },
      "source": [
        "my_string = 'Hello world'\n",
        "print(my_string)"
      ],
      "execution_count": 2,
      "outputs": [
        {
          "output_type": "stream",
          "text": [
            "Hello world\n"
          ],
          "name": "stdout"
        }
      ]
    },
    {
      "cell_type": "code",
      "metadata": {
        "colab": {
          "base_uri": "https://localhost:8080/"
        },
        "id": "3nNGmTy2RHJB",
        "outputId": "bee48a42-6785-43a6-8bc8-f7b5d1beb56d"
      },
      "source": [
        "my_string = 'I\\'m programmer'\n",
        "print(my_string)"
      ],
      "execution_count": 3,
      "outputs": [
        {
          "output_type": "stream",
          "text": [
            "I'm programmer\n"
          ],
          "name": "stdout"
        }
      ]
    },
    {
      "cell_type": "code",
      "metadata": {
        "colab": {
          "base_uri": "https://localhost:8080/"
        },
        "id": "XNQLOu8hRazB",
        "outputId": "462752a6-1a10-4d98-d0db-8b3237785ee6"
      },
      "source": [
        "my_string = \"I'm programmer\"\n",
        "print(my_string)"
      ],
      "execution_count": 5,
      "outputs": [
        {
          "output_type": "stream",
          "text": [
            "I'm programmer\n"
          ],
          "name": "stdout"
        }
      ]
    },
    {
      "cell_type": "code",
      "metadata": {
        "colab": {
          "base_uri": "https://localhost:8080/"
        },
        "id": "RbQbDrvhRhcr",
        "outputId": "3bbc35bb-f2d4-4f12-d3bb-c202c6cd1203"
      },
      "source": [
        "my_string = \"\"\"Hello\n",
        "world\"\"\"\n",
        "print(my_string)"
      ],
      "execution_count": 6,
      "outputs": [
        {
          "output_type": "stream",
          "text": [
            "Hello\n",
            "world\n"
          ],
          "name": "stdout"
        }
      ]
    },
    {
      "cell_type": "code",
      "metadata": {
        "colab": {
          "base_uri": "https://localhost:8080/"
        },
        "id": "r-StS8eLSAUj",
        "outputId": "21d2b440-e4c9-4162-deb4-342fded822be"
      },
      "source": [
        "my_string = \"\"\"Hello \\\n",
        "world\"\"\"\n",
        "print(my_string)"
      ],
      "execution_count": 7,
      "outputs": [
        {
          "output_type": "stream",
          "text": [
            "Hello world\n"
          ],
          "name": "stdout"
        }
      ]
    },
    {
      "cell_type": "code",
      "metadata": {
        "colab": {
          "base_uri": "https://localhost:8080/"
        },
        "id": "PlxNJgNkSSsW",
        "outputId": "8ed46777-1cb0-437f-e3b7-6d66e6aececa"
      },
      "source": [
        "my_string = \"Hello world\"\n",
        "char = my_string[0]\n",
        "print(char)"
      ],
      "execution_count": 8,
      "outputs": [
        {
          "output_type": "stream",
          "text": [
            "H\n"
          ],
          "name": "stdout"
        }
      ]
    },
    {
      "cell_type": "code",
      "metadata": {
        "colab": {
          "base_uri": "https://localhost:8080/"
        },
        "id": "yLpgI4nZVjai",
        "outputId": "4c075413-2d7c-4a6a-aad2-8c2fed880849"
      },
      "source": [
        "my_string = \"Hello world\"\n",
        "char = my_string[-1]\n",
        "print(char)"
      ],
      "execution_count": 9,
      "outputs": [
        {
          "output_type": "stream",
          "text": [
            "d\n"
          ],
          "name": "stdout"
        }
      ]
    },
    {
      "cell_type": "code",
      "metadata": {
        "colab": {
          "base_uri": "https://localhost:8080/",
          "height": 222
        },
        "id": "uIeum9koVpjx",
        "outputId": "83947672-e28c-4255-e50b-b5643ec5783e"
      },
      "source": [
        "#Strings are immutable.\n",
        "my_string = \"Hello world\"\n",
        "my_string[0] = 'h'\n",
        "print(char)"
      ],
      "execution_count": 10,
      "outputs": [
        {
          "output_type": "error",
          "ename": "TypeError",
          "evalue": "ignored",
          "traceback": [
            "\u001b[0;31m---------------------------------------------------------------------------\u001b[0m",
            "\u001b[0;31mTypeError\u001b[0m                                 Traceback (most recent call last)",
            "\u001b[0;32m<ipython-input-10-37703b55ce4c>\u001b[0m in \u001b[0;36m<module>\u001b[0;34m()\u001b[0m\n\u001b[1;32m      1\u001b[0m \u001b[0;31m#Strings are immutable.\u001b[0m\u001b[0;34m\u001b[0m\u001b[0;34m\u001b[0m\u001b[0;34m\u001b[0m\u001b[0m\n\u001b[1;32m      2\u001b[0m \u001b[0mmy_string\u001b[0m \u001b[0;34m=\u001b[0m \u001b[0;34m\"Hello world\"\u001b[0m\u001b[0;34m\u001b[0m\u001b[0;34m\u001b[0m\u001b[0m\n\u001b[0;32m----> 3\u001b[0;31m \u001b[0mmy_string\u001b[0m\u001b[0;34m[\u001b[0m\u001b[0;36m0\u001b[0m\u001b[0;34m]\u001b[0m \u001b[0;34m=\u001b[0m \u001b[0;34m'h'\u001b[0m\u001b[0;34m\u001b[0m\u001b[0;34m\u001b[0m\u001b[0m\n\u001b[0m\u001b[1;32m      4\u001b[0m \u001b[0mprint\u001b[0m\u001b[0;34m(\u001b[0m\u001b[0mchar\u001b[0m\u001b[0;34m)\u001b[0m\u001b[0;34m\u001b[0m\u001b[0;34m\u001b[0m\u001b[0m\n",
            "\u001b[0;31mTypeError\u001b[0m: 'str' object does not support item assignment"
          ]
        }
      ]
    },
    {
      "cell_type": "code",
      "metadata": {
        "colab": {
          "base_uri": "https://localhost:8080/"
        },
        "id": "8srAJK3TWx4M",
        "outputId": "209d1683-13e5-4638-d57e-8a40d1c638b0"
      },
      "source": [
        "my_string = \"Hello world\"\n",
        "substring = my_string[1:5]\n",
        "print(substring)"
      ],
      "execution_count": 11,
      "outputs": [
        {
          "output_type": "stream",
          "text": [
            "ello\n"
          ],
          "name": "stdout"
        }
      ]
    },
    {
      "cell_type": "code",
      "metadata": {
        "colab": {
          "base_uri": "https://localhost:8080/"
        },
        "id": "hN3hNBBhXBJu",
        "outputId": "36077788-4b38-45ab-d816-c078dab47f32"
      },
      "source": [
        "my_string = \"Hello world\"\n",
        "substring = my_string[:5]\n",
        "print(substring)"
      ],
      "execution_count": 12,
      "outputs": [
        {
          "output_type": "stream",
          "text": [
            "Hello\n"
          ],
          "name": "stdout"
        }
      ]
    },
    {
      "cell_type": "code",
      "metadata": {
        "colab": {
          "base_uri": "https://localhost:8080/"
        },
        "id": "YOcbLccBXNjU",
        "outputId": "e314aca5-ef78-4c2a-8119-2be00869ebd4"
      },
      "source": [
        "my_string = \"Hello world\"\n",
        "substring = my_string[1:]\n",
        "print(substring)"
      ],
      "execution_count": 13,
      "outputs": [
        {
          "output_type": "stream",
          "text": [
            "ello world\n"
          ],
          "name": "stdout"
        }
      ]
    },
    {
      "cell_type": "code",
      "metadata": {
        "colab": {
          "base_uri": "https://localhost:8080/"
        },
        "id": "juuW71n2XQIx",
        "outputId": "58737075-6cdd-4c42-c66f-95188a7c2728"
      },
      "source": [
        "my_string = \"Hello world\"\n",
        "substring = my_string[:]\n",
        "print(substring)"
      ],
      "execution_count": 14,
      "outputs": [
        {
          "output_type": "stream",
          "text": [
            "Hello world\n"
          ],
          "name": "stdout"
        }
      ]
    },
    {
      "cell_type": "code",
      "metadata": {
        "colab": {
          "base_uri": "https://localhost:8080/"
        },
        "id": "HvuXH4WtXX8B",
        "outputId": "aeff53de-0f23-458c-fc24-e81980ef8308"
      },
      "source": [
        "my_string = \"Hello world\"\n",
        "substring = my_string[::]\n",
        "print(substring)"
      ],
      "execution_count": 15,
      "outputs": [
        {
          "output_type": "stream",
          "text": [
            "Hello world\n"
          ],
          "name": "stdout"
        }
      ]
    },
    {
      "cell_type": "code",
      "metadata": {
        "colab": {
          "base_uri": "https://localhost:8080/"
        },
        "id": "5wzzXHOyXaxz",
        "outputId": "ab4421e3-0ad4-48ad-df85-bf3c920599b7"
      },
      "source": [
        "my_string = \"Hello world\"\n",
        "substring = my_string[::2]\n",
        "print(substring)"
      ],
      "execution_count": 16,
      "outputs": [
        {
          "output_type": "stream",
          "text": [
            "Hlowrd\n"
          ],
          "name": "stdout"
        }
      ]
    },
    {
      "cell_type": "code",
      "metadata": {
        "colab": {
          "base_uri": "https://localhost:8080/"
        },
        "id": "8w0a9N5MXd55",
        "outputId": "dd72b825-244d-455a-a3ce-32bec4343934"
      },
      "source": [
        "my_string = \"Hello world\"\n",
        "substring = my_string[::-1]\n",
        "print(substring)"
      ],
      "execution_count": 17,
      "outputs": [
        {
          "output_type": "stream",
          "text": [
            "dlrow olleH\n"
          ],
          "name": "stdout"
        }
      ]
    },
    {
      "cell_type": "code",
      "metadata": {
        "colab": {
          "base_uri": "https://localhost:8080/"
        },
        "id": "VKV89HNbXnbB",
        "outputId": "ff84a910-30e2-424b-c839-259d9bbe37b1"
      },
      "source": [
        "greeting = \"Hello\"\n",
        "name = \"Tom\"\n",
        "sentence = greeting + \" \" + name\n",
        "print(sentence)"
      ],
      "execution_count": 18,
      "outputs": [
        {
          "output_type": "stream",
          "text": [
            "Hello Tom\n"
          ],
          "name": "stdout"
        }
      ]
    },
    {
      "cell_type": "code",
      "metadata": {
        "colab": {
          "base_uri": "https://localhost:8080/"
        },
        "id": "IGWa7LziYAYK",
        "outputId": "d2cebdec-49ba-4648-b48d-3ce7008a909a"
      },
      "source": [
        "greeting = \"Hello\"\n",
        "for i in greeting:\n",
        "    print(i)"
      ],
      "execution_count": 20,
      "outputs": [
        {
          "output_type": "stream",
          "text": [
            "H\n",
            "e\n",
            "l\n",
            "l\n",
            "o\n"
          ],
          "name": "stdout"
        }
      ]
    },
    {
      "cell_type": "code",
      "metadata": {
        "colab": {
          "base_uri": "https://localhost:8080/"
        },
        "id": "Vi-AtOUXYL-w",
        "outputId": "da27ebea-c631-4ade-cdd8-b433ea2e684a"
      },
      "source": [
        "greeting = \"Hello\"\n",
        "if 'e' in greeting:\n",
        "    print(\"yes\")\n",
        "else:\n",
        "    print(\"no\")"
      ],
      "execution_count": 22,
      "outputs": [
        {
          "output_type": "stream",
          "text": [
            "yes\n"
          ],
          "name": "stdout"
        }
      ]
    },
    {
      "cell_type": "code",
      "metadata": {
        "colab": {
          "base_uri": "https://localhost:8080/"
        },
        "id": "_WuBDoekYZpq",
        "outputId": "f16d7b8d-f64b-4e50-f512-892a1f14d343"
      },
      "source": [
        "my_string = \"     Hello world     \"\n",
        "my_string.strip()\n",
        "print(my_string)"
      ],
      "execution_count": 25,
      "outputs": [
        {
          "output_type": "stream",
          "text": [
            "     Hello world     \n"
          ],
          "name": "stdout"
        }
      ]
    },
    {
      "cell_type": "code",
      "metadata": {
        "colab": {
          "base_uri": "https://localhost:8080/"
        },
        "id": "91BYJCqVYxXF",
        "outputId": "5d0f9156-24cd-4ee0-eb71-50f6c7051bef"
      },
      "source": [
        "my_string = \"     Hello world     \"\n",
        "my_string = my_string.strip()\n",
        "print(my_string)"
      ],
      "execution_count": 26,
      "outputs": [
        {
          "output_type": "stream",
          "text": [
            "Hello world\n"
          ],
          "name": "stdout"
        }
      ]
    },
    {
      "cell_type": "code",
      "metadata": {
        "colab": {
          "base_uri": "https://localhost:8080/"
        },
        "id": "9-YQkJxsZEns",
        "outputId": "5e641238-2f4b-4b61-82ba-a5e358eed8ec"
      },
      "source": [
        "my_string = \"Hello world\"\n",
        "print(my_string.upper())"
      ],
      "execution_count": 27,
      "outputs": [
        {
          "output_type": "stream",
          "text": [
            "HELLO WORLD\n"
          ],
          "name": "stdout"
        }
      ]
    },
    {
      "cell_type": "code",
      "metadata": {
        "colab": {
          "base_uri": "https://localhost:8080/"
        },
        "id": "aGLm5p3rZOpa",
        "outputId": "399bf193-3dba-4ae8-8fd5-dbaa95b4b808"
      },
      "source": [
        "my_string = \"Hello world\"\n",
        "print(my_string.lower())"
      ],
      "execution_count": 28,
      "outputs": [
        {
          "output_type": "stream",
          "text": [
            "hello world\n"
          ],
          "name": "stdout"
        }
      ]
    },
    {
      "cell_type": "code",
      "metadata": {
        "colab": {
          "base_uri": "https://localhost:8080/"
        },
        "id": "tq0TdKxMZUyD",
        "outputId": "19e892d3-c09b-46a7-b5b7-e087281b7167"
      },
      "source": [
        "my_string = \"Hello world\"\n",
        "print(my_string.startswith(\"H\"))\n",
        "print(my_string.startswith(\"Hello\"))\n",
        "print(my_string.startswith(\"world\"))"
      ],
      "execution_count": 30,
      "outputs": [
        {
          "output_type": "stream",
          "text": [
            "True\n",
            "True\n",
            "False\n"
          ],
          "name": "stdout"
        }
      ]
    },
    {
      "cell_type": "code",
      "metadata": {
        "colab": {
          "base_uri": "https://localhost:8080/"
        },
        "id": "q156-SjjZcqV",
        "outputId": "d297b6cb-8847-4465-cbf2-06d0d456fb3e"
      },
      "source": [
        "my_string = \"Hello world\"\n",
        "print(my_string.endswith(\"H\"))\n",
        "print(my_string.endswith(\"Hello\"))\n",
        "print(my_string.endswith(\"world\"))"
      ],
      "execution_count": 31,
      "outputs": [
        {
          "output_type": "stream",
          "text": [
            "False\n",
            "False\n",
            "True\n"
          ],
          "name": "stdout"
        }
      ]
    },
    {
      "cell_type": "code",
      "metadata": {
        "colab": {
          "base_uri": "https://localhost:8080/"
        },
        "id": "NglFgVOUZvL3",
        "outputId": "f4a83081-faa1-43ec-ac07-cc6a8c331d91"
      },
      "source": [
        "my_string = \"Hello world\"\n",
        "print(my_string.find('o'))\n",
        "print(my_string.find('lo'))\n",
        "print(my_string.find('pp'))"
      ],
      "execution_count": 33,
      "outputs": [
        {
          "output_type": "stream",
          "text": [
            "4\n",
            "3\n",
            "-1\n"
          ],
          "name": "stdout"
        }
      ]
    },
    {
      "cell_type": "code",
      "metadata": {
        "colab": {
          "base_uri": "https://localhost:8080/"
        },
        "id": "A_pF4cGhZ6cD",
        "outputId": "3789793a-63b9-4f19-d0c1-2d972ec27937"
      },
      "source": [
        "my_string = \"Hello world\"\n",
        "print(my_string.count('o'))\n",
        "print(my_string.count('p'))"
      ],
      "execution_count": 34,
      "outputs": [
        {
          "output_type": "stream",
          "text": [
            "2\n",
            "0\n"
          ],
          "name": "stdout"
        }
      ]
    },
    {
      "cell_type": "code",
      "metadata": {
        "colab": {
          "base_uri": "https://localhost:8080/"
        },
        "id": "mvhlmnifaU59",
        "outputId": "ecd471cb-435e-4277-b48c-645a9e34d801"
      },
      "source": [
        "my_string = \"Hello world\"\n",
        "print(my_string.replace('world', 'Universe'))"
      ],
      "execution_count": 35,
      "outputs": [
        {
          "output_type": "stream",
          "text": [
            "Hello Universe\n"
          ],
          "name": "stdout"
        }
      ]
    },
    {
      "cell_type": "code",
      "metadata": {
        "colab": {
          "base_uri": "https://localhost:8080/"
        },
        "id": "ISJPUH74aiax",
        "outputId": "545cf181-0e09-4fa4-9069-1eccd4210d55"
      },
      "source": [
        "my_string = \"Hello world\"\n",
        "print(my_string.replace('worrrrld', 'Universe'))"
      ],
      "execution_count": 36,
      "outputs": [
        {
          "output_type": "stream",
          "text": [
            "Hello world\n"
          ],
          "name": "stdout"
        }
      ]
    },
    {
      "cell_type": "code",
      "metadata": {
        "colab": {
          "base_uri": "https://localhost:8080/"
        },
        "id": "QFPpGDAOarzZ",
        "outputId": "37ddb377-11e1-4d8a-f3b0-b38e959de501"
      },
      "source": [
        "my_string = \"how are you doing\"\n",
        "my_list = my_string.split()\n",
        "print(my_list)"
      ],
      "execution_count": 37,
      "outputs": [
        {
          "output_type": "stream",
          "text": [
            "['how', 'are', 'you', 'doing']\n"
          ],
          "name": "stdout"
        }
      ]
    },
    {
      "cell_type": "code",
      "metadata": {
        "colab": {
          "base_uri": "https://localhost:8080/"
        },
        "id": "FQmHorbEbBME",
        "outputId": "8d0464e5-726c-48b7-811a-6f30ce947240"
      },
      "source": [
        "my_string = \"how,are,you,doing\"\n",
        "my_list = my_string.split(\",\")\n",
        "print(my_list)"
      ],
      "execution_count": 38,
      "outputs": [
        {
          "output_type": "stream",
          "text": [
            "['how', 'are', 'you', 'doing']\n"
          ],
          "name": "stdout"
        }
      ]
    },
    {
      "cell_type": "code",
      "metadata": {
        "colab": {
          "base_uri": "https://localhost:8080/"
        },
        "id": "TIK2KIfbeZNj",
        "outputId": "b08760f0-12fb-489d-cd40-1d358871db0e"
      },
      "source": [
        "my_string = \"how,are,you,doing\"\n",
        "my_list = my_string.split(\",\")\n",
        "print(my_list)\n",
        "new_string = ' '.join(my_list)\n",
        "print(new_string)"
      ],
      "execution_count": 40,
      "outputs": [
        {
          "output_type": "stream",
          "text": [
            "['how', 'are', 'you', 'doing']\n",
            "how are you doing\n"
          ],
          "name": "stdout"
        }
      ]
    },
    {
      "cell_type": "code",
      "metadata": {
        "colab": {
          "base_uri": "https://localhost:8080/"
        },
        "id": "70WY0xY4fbl8",
        "outputId": "67369352-07ca-441d-fd33-53ef899d21bf"
      },
      "source": [
        "from timeit import default_timer as timer\n",
        "my_list = ['a'] * 1000000\n",
        "\n",
        "#bad coding\n",
        "start = timer()\n",
        "my_string = ''\n",
        "for i in my_list:\n",
        "    my_string += i\n",
        "stop = timer()\n",
        "print(stop-start)\n",
        "\n",
        "#good coding\n",
        "start = timer()\n",
        "my_string = ''.join(my_list)\n",
        "stop = timer()\n",
        "print(stop-start)"
      ],
      "execution_count": 45,
      "outputs": [
        {
          "output_type": "stream",
          "text": [
            "0.18993435999982466\n",
            "0.009663417999945523\n"
          ],
          "name": "stdout"
        }
      ]
    },
    {
      "cell_type": "code",
      "metadata": {
        "colab": {
          "base_uri": "https://localhost:8080/"
        },
        "id": "1TwwBZCkgcDi",
        "outputId": "0aa2df2b-0beb-484a-ceda-0fa6cd5aaf7f"
      },
      "source": [
        "var = \"Tom\"\n",
        "my_string = \"the variable is %s\" % var\n",
        "print(my_string)"
      ],
      "execution_count": 46,
      "outputs": [
        {
          "output_type": "stream",
          "text": [
            "the variable is Tom\n"
          ],
          "name": "stdout"
        }
      ]
    },
    {
      "cell_type": "code",
      "metadata": {
        "colab": {
          "base_uri": "https://localhost:8080/"
        },
        "id": "AGm6Yxq4iBO4",
        "outputId": "f23fa98d-ca44-4cd6-eff0-41b6df699354"
      },
      "source": [
        "var = 3\n",
        "my_string = \"the variable is %d\" % var\n",
        "print(my_string)"
      ],
      "execution_count": 47,
      "outputs": [
        {
          "output_type": "stream",
          "text": [
            "the variable is 3\n"
          ],
          "name": "stdout"
        }
      ]
    },
    {
      "cell_type": "code",
      "metadata": {
        "colab": {
          "base_uri": "https://localhost:8080/"
        },
        "id": "Iw1TljDciKsb",
        "outputId": "ecf2f22c-dc6a-4b11-e1e1-1103ce3358ce"
      },
      "source": [
        "var = 3.1234567\n",
        "my_string = \"the variable is %f\" % var\n",
        "print(my_string)"
      ],
      "execution_count": 48,
      "outputs": [
        {
          "output_type": "stream",
          "text": [
            "the variable is 3.123457\n"
          ],
          "name": "stdout"
        }
      ]
    },
    {
      "cell_type": "code",
      "metadata": {
        "colab": {
          "base_uri": "https://localhost:8080/"
        },
        "id": "zK0dL_sbiWS1",
        "outputId": "4e13932b-6fdf-43fa-9683-1fd3f5388006"
      },
      "source": [
        "var = 3.1234567\n",
        "my_string = \"the variable is %.2f\" % var\n",
        "print(my_string)"
      ],
      "execution_count": 49,
      "outputs": [
        {
          "output_type": "stream",
          "text": [
            "the variable is 3.12\n"
          ],
          "name": "stdout"
        }
      ]
    },
    {
      "cell_type": "code",
      "metadata": {
        "colab": {
          "base_uri": "https://localhost:8080/"
        },
        "id": "CzEdMr9kieyK",
        "outputId": "c7680e28-272c-4b45-c28f-03c73d00e922"
      },
      "source": [
        "var = 3.1234567\n",
        "my_string = \"the variable is {}\".format(var)\n",
        "print(my_string)"
      ],
      "execution_count": 50,
      "outputs": [
        {
          "output_type": "stream",
          "text": [
            "the variable is 3.1234567\n"
          ],
          "name": "stdout"
        }
      ]
    },
    {
      "cell_type": "code",
      "metadata": {
        "colab": {
          "base_uri": "https://localhost:8080/"
        },
        "id": "j1ukzYsdiuBK",
        "outputId": "009f6b92-3740-40e0-8b67-0c4e35efa073"
      },
      "source": [
        "var = 3.1234567\n",
        "my_string = \"the variable is {:.2f}\".format(var)\n",
        "print(my_string)"
      ],
      "execution_count": 51,
      "outputs": [
        {
          "output_type": "stream",
          "text": [
            "the variable is 3.12\n"
          ],
          "name": "stdout"
        }
      ]
    },
    {
      "cell_type": "code",
      "metadata": {
        "colab": {
          "base_uri": "https://localhost:8080/"
        },
        "id": "l-TZdpnji2ye",
        "outputId": "98ddc5be-4c8c-408a-a1d3-0d9caa1247e3"
      },
      "source": [
        "var = 3.1234567\n",
        "var2 = 6\n",
        "my_string = \"the variable is {:.2f} and {}\".format(var, var2)\n",
        "print(my_string)"
      ],
      "execution_count": 52,
      "outputs": [
        {
          "output_type": "stream",
          "text": [
            "the variable is 3.12 and 6\n"
          ],
          "name": "stdout"
        }
      ]
    },
    {
      "cell_type": "code",
      "metadata": {
        "colab": {
          "base_uri": "https://localhost:8080/"
        },
        "id": "B-nGQoQijFEG",
        "outputId": "0decc6fd-672c-49ff-fd2a-871b0242e66f"
      },
      "source": [
        "var = 3.1234567\n",
        "var2 = 6\n",
        "my_string = f\"the variable is {var} and {var2}\"\n",
        "print(my_string)"
      ],
      "execution_count": 53,
      "outputs": [
        {
          "output_type": "stream",
          "text": [
            "the variable is 3.1234567 and 6\n"
          ],
          "name": "stdout"
        }
      ]
    },
    {
      "cell_type": "code",
      "metadata": {
        "colab": {
          "base_uri": "https://localhost:8080/"
        },
        "id": "Q5R31DcVj6wL",
        "outputId": "2e3824e8-44de-4444-b608-fb338c05de13"
      },
      "source": [
        "var = 3.1234567\n",
        "var2 = 6\n",
        "my_string = f\"the variable is {var:.2f} and {var2}\"\n",
        "print(my_string)"
      ],
      "execution_count": 55,
      "outputs": [
        {
          "output_type": "stream",
          "text": [
            "the variable is 3.12 and 6\n"
          ],
          "name": "stdout"
        }
      ]
    },
    {
      "cell_type": "code",
      "metadata": {
        "colab": {
          "base_uri": "https://localhost:8080/"
        },
        "id": "6KbJ9FGVjXzf",
        "outputId": "65e626b2-d345-4b04-992b-810d41c06f9e"
      },
      "source": [
        "var = 3.1234567\n",
        "var2 = 6\n",
        "my_string = f\"the variable is {var*2} and {var2}\"\n",
        "print(my_string)"
      ],
      "execution_count": 54,
      "outputs": [
        {
          "output_type": "stream",
          "text": [
            "the variable is 6.2469134 and 6\n"
          ],
          "name": "stdout"
        }
      ]
    }
  ]
}