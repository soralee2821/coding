{
  "nbformat": 4,
  "nbformat_minor": 0,
  "metadata": {
    "colab": {
      "name": "2020-12-09.ipynb",
      "provenance": [],
      "authorship_tag": "ABX9TyO1+ArYxqLIpxo/vrv2DQhl",
      "include_colab_link": true
    },
    "kernelspec": {
      "name": "python3",
      "display_name": "Python 3"
    }
  },
  "cells": [
    {
      "cell_type": "markdown",
      "metadata": {
        "id": "view-in-github",
        "colab_type": "text"
      },
      "source": [
        "<a href=\"https://colab.research.google.com/github/soralee2821/coding/blob/master/2020_12_09.ipynb\" target=\"_parent\"><img src=\"https://colab.research.google.com/assets/colab-badge.svg\" alt=\"Open In Colab\"/></a>"
      ]
    },
    {
      "cell_type": "code",
      "metadata": {
        "colab": {
          "base_uri": "https://localhost:8080/"
        },
        "id": "6uVHDVGkNbFI",
        "outputId": "e41d514e-9396-471b-bc72-5a1a80b4623e"
      },
      "source": [
        "import math\r\n",
        "r = int(input())\r\n",
        "print(r*r*math.pi)\r\n",
        "print(r*r*2)"
      ],
      "execution_count": 1,
      "outputs": [
        {
          "output_type": "stream",
          "text": [
            "1\n",
            "3.141592653589793\n",
            "2\n"
          ],
          "name": "stdout"
        }
      ]
    },
    {
      "cell_type": "code",
      "metadata": {
        "colab": {
          "base_uri": "https://localhost:8080/"
        },
        "id": "UoP6x54QNqDY",
        "outputId": "4bc14036-eedf-406b-8981-82a7722dfc26"
      },
      "source": [
        "t = int(input())\r\n",
        "for _ in range(t):\r\n",
        "    x1, y1, r1, x2, y2, r2 = map(int, input().split())\r\n",
        "    d = ((x2-x1)**2 + (y2-y1)**2)**0.5\r\n",
        "    r_sum = r1 + r2\r\n",
        "    r_diff = abs(r1-r2)\r\n",
        "    \r\n",
        "    if d == 0:\r\n",
        "        if r1 == r2:\r\n",
        "            print(-1) #같은 원\r\n",
        "        else:\r\n",
        "            print(0)  #동심원이지만 반지름 다름\r\n",
        "    else:\r\n",
        "        if d == r_sum or d == r_diff:\r\n",
        "            print(1)  #내접\r\n",
        "        elif d < r_sum and d > r_diff:\r\n",
        "            print(2)  #외접\r\n",
        "        else:\r\n",
        "            print(0)"
      ],
      "execution_count": 2,
      "outputs": [
        {
          "output_type": "stream",
          "text": [
            "3\n",
            "0 0 13 40 0 37\n",
            "2\n",
            "0 0 3 0 7 4\n",
            "1\n",
            "1 1 1 1 1 5\n",
            "0\n"
          ],
          "name": "stdout"
        }
      ]
    },
    {
      "cell_type": "code",
      "metadata": {
        "id": "eO5folJnWuzs"
      },
      "source": [
        ""
      ],
      "execution_count": null,
      "outputs": []
    }
  ]
}