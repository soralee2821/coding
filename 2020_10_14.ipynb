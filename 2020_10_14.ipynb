{
  "nbformat": 4,
  "nbformat_minor": 0,
  "metadata": {
    "colab": {
      "name": "2020-10-14",
      "provenance": [],
      "authorship_tag": "ABX9TyNT+AFdliwXHVWbQk148zWJ",
      "include_colab_link": true
    },
    "kernelspec": {
      "name": "python3",
      "display_name": "Python 3"
    }
  },
  "cells": [
    {
      "cell_type": "markdown",
      "metadata": {
        "id": "view-in-github",
        "colab_type": "text"
      },
      "source": [
        "<a href=\"https://colab.research.google.com/github/soralee2821/coding/blob/master/2020_10_14.ipynb\" target=\"_parent\"><img src=\"https://colab.research.google.com/assets/colab-badge.svg\" alt=\"Open In Colab\"/></a>"
      ]
    },
    {
      "cell_type": "code",
      "metadata": {
        "id": "JC4uIDBo-eDk"
      },
      "source": [
        "while a!=0 and b != 0:\n",
        "  a, b = map(int, input().split())\n",
        "  print(a+b)"
      ],
      "execution_count": null,
      "outputs": []
    },
    {
      "cell_type": "code",
      "metadata": {
        "id": "yTl8hsiA8QQ1"
      },
      "source": [
        "import sys\n",
        "while True:\n",
        "  a, b = map(int, input().split())\n",
        "  if a == 0 and b == 0:\n",
        "    break\n",
        "  else:\n",
        "    print(a+b)"
      ],
      "execution_count": null,
      "outputs": []
    },
    {
      "cell_type": "code",
      "metadata": {
        "id": "Vpf_yNP5-J7J"
      },
      "source": [
        "while True:\n",
        "  a, b = map(int, sys.stdin.readline().split())\n",
        "  if a == 0 and b == 0:\n",
        "    break\n",
        "  else:\n",
        "    print(a+b)"
      ],
      "execution_count": null,
      "outputs": []
    }
  ]
}