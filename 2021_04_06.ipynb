{
  "nbformat": 4,
  "nbformat_minor": 0,
  "metadata": {
    "colab": {
      "name": "2021-04-06.ipynb",
      "provenance": [],
      "authorship_tag": "ABX9TyPyBZ2NwEXghPEFdlsDMSm5",
      "include_colab_link": true
    },
    "kernelspec": {
      "name": "python3",
      "display_name": "Python 3"
    },
    "language_info": {
      "name": "python"
    }
  },
  "cells": [
    {
      "cell_type": "markdown",
      "metadata": {
        "id": "view-in-github",
        "colab_type": "text"
      },
      "source": [
        "<a href=\"https://colab.research.google.com/github/soralee2821/coding/blob/master/2021_04_06.ipynb\" target=\"_parent\"><img src=\"https://colab.research.google.com/assets/colab-badge.svg\" alt=\"Open In Colab\"/></a>"
      ]
    },
    {
      "cell_type": "markdown",
      "metadata": {
        "id": "etMUZpyAUDZW"
      },
      "source": [
        "## List"
      ]
    },
    {
      "cell_type": "code",
      "metadata": {
        "colab": {
          "base_uri": "https://localhost:8080/"
        },
        "id": "VZGseYS4T0rD",
        "outputId": "af5b3326-33fe-4510-d5c5-0c4e1aaf6d7e"
      },
      "source": [
        "mylist = [\"banana\", \"cherry\", \"apple\"]\n",
        "print(mylist)\n",
        "\n",
        "mylist2 = [5, True, \"apple\"]\n",
        "print(mylist2)"
      ],
      "execution_count": 1,
      "outputs": [
        {
          "output_type": "stream",
          "text": [
            "['banana', 'cherry', 'apple']\n",
            "[5, True, 'apple']\n"
          ],
          "name": "stdout"
        }
      ]
    },
    {
      "cell_type": "code",
      "metadata": {
        "colab": {
          "base_uri": "https://localhost:8080/"
        },
        "id": "09GKjePjUoNg",
        "outputId": "660fcad5-025b-463f-e221-6d299421c05d"
      },
      "source": [
        "mylist2 = [5, True, \"apple\", \"apple\"]\n",
        "print(mylist2)"
      ],
      "execution_count": 2,
      "outputs": [
        {
          "output_type": "stream",
          "text": [
            "[5, True, 'apple', 'apple']\n"
          ],
          "name": "stdout"
        }
      ]
    },
    {
      "cell_type": "code",
      "metadata": {
        "colab": {
          "base_uri": "https://localhost:8080/"
        },
        "id": "o4xicvsZU0wF",
        "outputId": "a95b60be-f3d6-4b91-d557-250926016adf"
      },
      "source": [
        "mylist = [\"banana\", \"cherry\", \"apple\"]\n",
        "print(mylist)\n",
        "\n",
        "item = mylist[1]\n",
        "print(item)\n",
        "item2 = mylist[-1]\n",
        "print(item2)"
      ],
      "execution_count": 4,
      "outputs": [
        {
          "output_type": "stream",
          "text": [
            "['banana', 'cherry', 'apple']\n",
            "cherry\n",
            "apple\n"
          ],
          "name": "stdout"
        }
      ]
    },
    {
      "cell_type": "code",
      "metadata": {
        "colab": {
          "base_uri": "https://localhost:8080/"
        },
        "id": "q7PoWt3eU6_l",
        "outputId": "52b2e505-151a-4a87-97e3-96ba8a270e96"
      },
      "source": [
        "mylist = [\"banana\", \"cherry\", \"apple\"]\n",
        "print(mylist)\n",
        "\n",
        "for i in mylist:\n",
        "    print(i)"
      ],
      "execution_count": 5,
      "outputs": [
        {
          "output_type": "stream",
          "text": [
            "['banana', 'cherry', 'apple']\n",
            "banana\n",
            "cherry\n",
            "apple\n"
          ],
          "name": "stdout"
        }
      ]
    },
    {
      "cell_type": "code",
      "metadata": {
        "colab": {
          "base_uri": "https://localhost:8080/"
        },
        "id": "YBiz-YCbVLvY",
        "outputId": "1414951a-40a3-47ba-a451-8a1eef0436aa"
      },
      "source": [
        "mylist = [\"banana\", \"cherry\", \"apple\"]\n",
        "print(mylist)\n",
        "\n",
        "if \"banana\" in mylist:\n",
        "    print(\"yes\")\n",
        "else:\n",
        "    print(\"no\")"
      ],
      "execution_count": 6,
      "outputs": [
        {
          "output_type": "stream",
          "text": [
            "['banana', 'cherry', 'apple']\n",
            "yes\n"
          ],
          "name": "stdout"
        }
      ]
    },
    {
      "cell_type": "code",
      "metadata": {
        "colab": {
          "base_uri": "https://localhost:8080/"
        },
        "id": "hwVRf2seVVUT",
        "outputId": "76a80c40-a15b-42e3-b413-63c665f9479b"
      },
      "source": [
        "mylist = [\"banana\", \"cherry\", \"apple\"]\n",
        "print(mylist)\n",
        "print(len(mylist))"
      ],
      "execution_count": 7,
      "outputs": [
        {
          "output_type": "stream",
          "text": [
            "['banana', 'cherry', 'apple']\n",
            "3\n"
          ],
          "name": "stdout"
        }
      ]
    },
    {
      "cell_type": "code",
      "metadata": {
        "colab": {
          "base_uri": "https://localhost:8080/"
        },
        "id": "ZQrrn6EkVasp",
        "outputId": "07ee515a-81f6-4db2-852d-9da0d45cea45"
      },
      "source": [
        "mylist = [\"banana\", \"cherry\", \"apple\"]\n",
        "print(mylist)\n",
        "\n",
        "mylist.append(\"lemon\")\n",
        "print(mylist)"
      ],
      "execution_count": 8,
      "outputs": [
        {
          "output_type": "stream",
          "text": [
            "['banana', 'cherry', 'apple']\n",
            "['banana', 'cherry', 'apple', 'lemon']\n"
          ],
          "name": "stdout"
        }
      ]
    },
    {
      "cell_type": "code",
      "metadata": {
        "colab": {
          "base_uri": "https://localhost:8080/"
        },
        "id": "RuPPgRAiVjsK",
        "outputId": "6d7949aa-e48c-41ef-aeed-b685c726c7e5"
      },
      "source": [
        "mylist = [\"banana\", \"cherry\", \"apple\"]\n",
        "print(mylist)\n",
        "\n",
        "mylist.insert(1, \"blueberry\")\n",
        "print(mylist)"
      ],
      "execution_count": 9,
      "outputs": [
        {
          "output_type": "stream",
          "text": [
            "['banana', 'cherry', 'apple']\n",
            "['banana', 'blueberry', 'cherry', 'apple']\n"
          ],
          "name": "stdout"
        }
      ]
    },
    {
      "cell_type": "code",
      "metadata": {
        "colab": {
          "base_uri": "https://localhost:8080/"
        },
        "id": "HgxWUsyoVqZF",
        "outputId": "8932430c-af16-426a-c1f1-2fb11f395476"
      },
      "source": [
        "mylist = [\"banana\", \"cherry\", \"apple\"]\n",
        "print(mylist)\n",
        "\n",
        "item = mylist.pop()\n",
        "print(item)\n",
        "print(mylist)"
      ],
      "execution_count": 10,
      "outputs": [
        {
          "output_type": "stream",
          "text": [
            "['banana', 'cherry', 'apple']\n",
            "apple\n",
            "['banana', 'cherry']\n"
          ],
          "name": "stdout"
        }
      ]
    },
    {
      "cell_type": "code",
      "metadata": {
        "colab": {
          "base_uri": "https://localhost:8080/"
        },
        "id": "gknUvfy-VxMI",
        "outputId": "70080d7c-24d3-4aa9-a04f-17a1a7f30085"
      },
      "source": [
        "mylist = [\"banana\", \"cherry\", \"apple\"]\n",
        "print(mylist)\n",
        "\n",
        "item = mylist.remove(\"cherry\")\n",
        "\n",
        "print(mylist)"
      ],
      "execution_count": 11,
      "outputs": [
        {
          "output_type": "stream",
          "text": [
            "['banana', 'cherry', 'apple']\n",
            "['banana', 'apple']\n"
          ],
          "name": "stdout"
        }
      ]
    },
    {
      "cell_type": "code",
      "metadata": {
        "colab": {
          "base_uri": "https://localhost:8080/"
        },
        "id": "e0XKwAYHV42e",
        "outputId": "80704ef0-ce58-4e0c-fdf4-1bd233eea8cf"
      },
      "source": [
        "mylist = [\"banana\", \"cherry\", \"apple\"]\n",
        "print(mylist)\n",
        "\n",
        "item = mylist.clear()\n",
        "\n",
        "print(mylist)"
      ],
      "execution_count": 12,
      "outputs": [
        {
          "output_type": "stream",
          "text": [
            "['banana', 'cherry', 'apple']\n",
            "[]\n"
          ],
          "name": "stdout"
        }
      ]
    },
    {
      "cell_type": "code",
      "metadata": {
        "colab": {
          "base_uri": "https://localhost:8080/"
        },
        "id": "PoirqM23V_0t",
        "outputId": "23f8cace-0db9-419f-f782-1994e07e8be4"
      },
      "source": [
        "mylist = [\"banana\", \"cherry\", \"apple\"]\n",
        "print(mylist)\n",
        "\n",
        "item = mylist.reverse()\n",
        "\n",
        "print(mylist)"
      ],
      "execution_count": 14,
      "outputs": [
        {
          "output_type": "stream",
          "text": [
            "['banana', 'cherry', 'apple']\n",
            "['apple', 'cherry', 'banana']\n"
          ],
          "name": "stdout"
        }
      ]
    },
    {
      "cell_type": "code",
      "metadata": {
        "colab": {
          "base_uri": "https://localhost:8080/"
        },
        "id": "BryPnnLJWGXK",
        "outputId": "7659ad55-a322-479d-c3c0-f1948ad05434"
      },
      "source": [
        "mylist = [\"banana\", \"cherry\", \"apple\"]\n",
        "print(mylist)\n",
        "\n",
        "mylist.sort()\n",
        "\n",
        "print(mylist)"
      ],
      "execution_count": 18,
      "outputs": [
        {
          "output_type": "stream",
          "text": [
            "['banana', 'cherry', 'apple']\n",
            "['apple', 'banana', 'cherry']\n"
          ],
          "name": "stdout"
        }
      ]
    },
    {
      "cell_type": "code",
      "metadata": {
        "colab": {
          "base_uri": "https://localhost:8080/"
        },
        "id": "_r6Qo3aUWM6g",
        "outputId": "466358c7-a792-4751-cf11-b583ec380a95"
      },
      "source": [
        "mylist = [1,2,3,-1,-3,-5]\n",
        "print(mylist)\n",
        "\n",
        "new_list = sorted(mylist)\n",
        "\n",
        "print(mylist)\n",
        "print(new_list)"
      ],
      "execution_count": 19,
      "outputs": [
        {
          "output_type": "stream",
          "text": [
            "[1, 2, 3, -1, -3, -5]\n",
            "[1, 2, 3, -1, -3, -5]\n",
            "[-5, -3, -1, 1, 2, 3]\n"
          ],
          "name": "stdout"
        }
      ]
    },
    {
      "cell_type": "code",
      "metadata": {
        "colab": {
          "base_uri": "https://localhost:8080/"
        },
        "id": "9IsmyuuKWQ8z",
        "outputId": "6360cf0c-a9e3-4d1d-c7ac-bbd471aa0805"
      },
      "source": [
        "mylist = [0]*5\n",
        "print(mylist)"
      ],
      "execution_count": 20,
      "outputs": [
        {
          "output_type": "stream",
          "text": [
            "[0, 0, 0, 0, 0]\n"
          ],
          "name": "stdout"
        }
      ]
    },
    {
      "cell_type": "code",
      "metadata": {
        "colab": {
          "base_uri": "https://localhost:8080/"
        },
        "id": "Ti3KVF26WtEt",
        "outputId": "432535c9-bf1a-4538-ef53-999a8639392b"
      },
      "source": [
        "mylist = [0]*5\n",
        "print(mylist)\n",
        "\n",
        "mylist2 = [1,2,3,4,5]\n",
        "\n",
        "new_list = mylist + mylist2\n",
        "print(new_list)"
      ],
      "execution_count": 21,
      "outputs": [
        {
          "output_type": "stream",
          "text": [
            "[0, 0, 0, 0, 0]\n",
            "[0, 0, 0, 0, 0, 1, 2, 3, 4, 5]\n"
          ],
          "name": "stdout"
        }
      ]
    },
    {
      "cell_type": "code",
      "metadata": {
        "colab": {
          "base_uri": "https://localhost:8080/"
        },
        "id": "xbbBOu72W60f",
        "outputId": "c132b337-1e82-4ef8-8362-b1286fec05a6"
      },
      "source": [
        "mylist = [1,2,3,4,5,6,7,8,9]\n",
        "\n",
        "a = mylist[1:5]\n",
        "print(a)"
      ],
      "execution_count": 22,
      "outputs": [
        {
          "output_type": "stream",
          "text": [
            "[2, 3, 4, 5]\n"
          ],
          "name": "stdout"
        }
      ]
    },
    {
      "cell_type": "code",
      "metadata": {
        "colab": {
          "base_uri": "https://localhost:8080/"
        },
        "id": "ax3xOozOXHcU",
        "outputId": "5f7abd4a-f1c2-4632-abdc-163ee4e80083"
      },
      "source": [
        "mylist = [1,2,3,4,5,6,7,8,9]\n",
        "\n",
        "a = mylist[:5]\n",
        "print(a)"
      ],
      "execution_count": 23,
      "outputs": [
        {
          "output_type": "stream",
          "text": [
            "[1, 2, 3, 4, 5]\n"
          ],
          "name": "stdout"
        }
      ]
    },
    {
      "cell_type": "code",
      "metadata": {
        "colab": {
          "base_uri": "https://localhost:8080/"
        },
        "id": "9qr6x_ooXOnn",
        "outputId": "914f1398-a937-431d-eec9-02351508de21"
      },
      "source": [
        "mylist = [1,2,3,4,5,6,7,8,9]\n",
        "\n",
        "a = mylist[1:]\n",
        "print(a)"
      ],
      "execution_count": 24,
      "outputs": [
        {
          "output_type": "stream",
          "text": [
            "[2, 3, 4, 5, 6, 7, 8, 9]\n"
          ],
          "name": "stdout"
        }
      ]
    },
    {
      "cell_type": "code",
      "metadata": {
        "colab": {
          "base_uri": "https://localhost:8080/"
        },
        "id": "KDBBv-07XR9U",
        "outputId": "708a1685-c47e-440c-a964-e6aa1f714495"
      },
      "source": [
        "mylist = [1,2,3,4,5,6,7,8,9]\n",
        "\n",
        "a = mylist[::1]\n",
        "print(a)"
      ],
      "execution_count": 25,
      "outputs": [
        {
          "output_type": "stream",
          "text": [
            "[1, 2, 3, 4, 5, 6, 7, 8, 9]\n"
          ],
          "name": "stdout"
        }
      ]
    },
    {
      "cell_type": "code",
      "metadata": {
        "colab": {
          "base_uri": "https://localhost:8080/"
        },
        "id": "L-kYa6rqXWre",
        "outputId": "9703548e-78e2-456f-a4d0-e15ca5ee498d"
      },
      "source": [
        "mylist = [1,2,3,4,5,6,7,8,9]\n",
        "\n",
        "a = mylist[::2]\n",
        "print(a)"
      ],
      "execution_count": 26,
      "outputs": [
        {
          "output_type": "stream",
          "text": [
            "[1, 3, 5, 7, 9]\n"
          ],
          "name": "stdout"
        }
      ]
    },
    {
      "cell_type": "code",
      "metadata": {
        "colab": {
          "base_uri": "https://localhost:8080/"
        },
        "id": "-lNTot6MXZd5",
        "outputId": "13f7bbe1-a6ba-4c2d-cb40-f6ac23fdb304"
      },
      "source": [
        "mylist = [1,2,3,4,5,6,7,8,9]\n",
        "\n",
        "a = mylist[::-1]\n",
        "print(a)"
      ],
      "execution_count": 27,
      "outputs": [
        {
          "output_type": "stream",
          "text": [
            "[9, 8, 7, 6, 5, 4, 3, 2, 1]\n"
          ],
          "name": "stdout"
        }
      ]
    },
    {
      "cell_type": "code",
      "metadata": {
        "colab": {
          "base_uri": "https://localhost:8080/"
        },
        "id": "ptKLRj7iXbwp",
        "outputId": "c6993703-e4a5-41bf-966e-99ca13c37d50"
      },
      "source": [
        "list_org = [\"banana\", \"cherry\", \"apple\"]\n",
        "\n",
        "list_cpy = list_org\n",
        "#both lists refer to the same memory\n",
        "list_cpy.append(\"lemon\")\n",
        "\n",
        "print(list_cpy)\n",
        "print(list_org)"
      ],
      "execution_count": 28,
      "outputs": [
        {
          "output_type": "stream",
          "text": [
            "['banana', 'cherry', 'apple', 'lemon']\n",
            "['banana', 'cherry', 'apple', 'lemon']\n"
          ],
          "name": "stdout"
        }
      ]
    },
    {
      "cell_type": "code",
      "metadata": {
        "colab": {
          "base_uri": "https://localhost:8080/"
        },
        "id": "QeNYkq_pXtko",
        "outputId": "e5454e41-f73b-483f-9380-b796d8923c8f"
      },
      "source": [
        "list_org = [\"banana\", \"cherry\", \"apple\"]\n",
        "\n",
        "list_cpy = list_org.copy()\n",
        "list_cpy.append(\"lemon\")\n",
        "\n",
        "print(list_cpy)\n",
        "print(list_org)"
      ],
      "execution_count": 29,
      "outputs": [
        {
          "output_type": "stream",
          "text": [
            "['banana', 'cherry', 'apple', 'lemon']\n",
            "['banana', 'cherry', 'apple']\n"
          ],
          "name": "stdout"
        }
      ]
    },
    {
      "cell_type": "code",
      "metadata": {
        "colab": {
          "base_uri": "https://localhost:8080/"
        },
        "id": "CMD75r0KX53V",
        "outputId": "62d3b31c-72fb-4252-f9a6-408754bd85db"
      },
      "source": [
        "list_org = [\"banana\", \"cherry\", \"apple\"]\n",
        "\n",
        "list_cpy = list(list_org)\n",
        "list_cpy.append(\"lemon\")\n",
        "\n",
        "print(list_cpy)\n",
        "print(list_org)"
      ],
      "execution_count": 30,
      "outputs": [
        {
          "output_type": "stream",
          "text": [
            "['banana', 'cherry', 'apple', 'lemon']\n",
            "['banana', 'cherry', 'apple']\n"
          ],
          "name": "stdout"
        }
      ]
    },
    {
      "cell_type": "code",
      "metadata": {
        "colab": {
          "base_uri": "https://localhost:8080/"
        },
        "id": "LnBBOFLPX-cN",
        "outputId": "770c7c58-decb-4676-c3a5-1bfefaa091d0"
      },
      "source": [
        "list_org = [\"banana\", \"cherry\", \"apple\"]\n",
        "\n",
        "list_cpy = list_org[:]\n",
        "list_cpy.append(\"lemon\")\n",
        "\n",
        "print(list_cpy)\n",
        "print(list_org)"
      ],
      "execution_count": 31,
      "outputs": [
        {
          "output_type": "stream",
          "text": [
            "['banana', 'cherry', 'apple', 'lemon']\n",
            "['banana', 'cherry', 'apple']\n"
          ],
          "name": "stdout"
        }
      ]
    },
    {
      "cell_type": "code",
      "metadata": {
        "colab": {
          "base_uri": "https://localhost:8080/"
        },
        "id": "FRoGw9esYBSM",
        "outputId": "d03219f1-8cc6-4c70-b5c6-d0fcb5acd13b"
      },
      "source": [
        "mylist = [1,2,3,4,5,6]\n",
        "a = [i*i for i in mylist]\n",
        "\n",
        "print(mylist)\n",
        "print(a)"
      ],
      "execution_count": 32,
      "outputs": [
        {
          "output_type": "stream",
          "text": [
            "[1, 2, 3, 4, 5, 6]\n",
            "[1, 4, 9, 16, 25, 36]\n"
          ],
          "name": "stdout"
        }
      ]
    }
  ]
}