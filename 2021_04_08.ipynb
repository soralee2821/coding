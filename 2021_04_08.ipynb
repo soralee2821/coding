{
  "nbformat": 4,
  "nbformat_minor": 0,
  "metadata": {
    "colab": {
      "name": "2021-04-08.ipynb",
      "provenance": [],
      "authorship_tag": "ABX9TyOT8R9Q7TClb/K6sbGQF7H+",
      "include_colab_link": true
    },
    "kernelspec": {
      "name": "python3",
      "display_name": "Python 3"
    },
    "language_info": {
      "name": "python"
    }
  },
  "cells": [
    {
      "cell_type": "markdown",
      "metadata": {
        "id": "view-in-github",
        "colab_type": "text"
      },
      "source": [
        "<a href=\"https://colab.research.google.com/github/soralee2821/coding/blob/master/2021_04_08.ipynb\" target=\"_parent\"><img src=\"https://colab.research.google.com/assets/colab-badge.svg\" alt=\"Open In Colab\"/></a>"
      ]
    },
    {
      "cell_type": "markdown",
      "metadata": {
        "id": "QEEi_kRHfFAV"
      },
      "source": [
        "## Dictionary\n"
      ]
    },
    {
      "cell_type": "code",
      "metadata": {
        "colab": {
          "base_uri": "https://localhost:8080/"
        },
        "id": "eWVUbDuVGEo0",
        "outputId": "5d9edd81-9deb-4a3c-e1d8-4875b334c4ab"
      },
      "source": [
        "mydict = {\"name\":\"Max\", \"age\":28, \"city\":\"New York\"}\n",
        "print(mydict)"
      ],
      "execution_count": 1,
      "outputs": [
        {
          "output_type": "stream",
          "text": [
            "{'name': 'Max', 'age': 28, 'city': 'New York'}\n"
          ],
          "name": "stdout"
        }
      ]
    },
    {
      "cell_type": "code",
      "metadata": {
        "colab": {
          "base_uri": "https://localhost:8080/"
        },
        "id": "_tbSLH2Afb9e",
        "outputId": "a7215b9a-5405-4090-e327-0471f9cc68d5"
      },
      "source": [
        "mydict2 = dict(name=\"Mary\",age=27, city=\"Boston\")\n",
        "print(mydict2)"
      ],
      "execution_count": 2,
      "outputs": [
        {
          "output_type": "stream",
          "text": [
            "{'name': 'Mary', 'age': 27, 'city': 'Boston'}\n"
          ],
          "name": "stdout"
        }
      ]
    },
    {
      "cell_type": "code",
      "metadata": {
        "colab": {
          "base_uri": "https://localhost:8080/"
        },
        "id": "D-RBbmWCgS6u",
        "outputId": "8ad10c99-66c5-4869-b6b2-6233689176cb"
      },
      "source": [
        "mydict = {\"name\":\"Max\", \"age\":28, \"city\":\"New York\"}\n",
        "print(mydict)\n",
        "\n",
        "value = mydict[\"name\"]\n",
        "print(value)"
      ],
      "execution_count": 3,
      "outputs": [
        {
          "output_type": "stream",
          "text": [
            "{'name': 'Max', 'age': 28, 'city': 'New York'}\n",
            "Max\n"
          ],
          "name": "stdout"
        }
      ]
    },
    {
      "cell_type": "code",
      "metadata": {
        "colab": {
          "base_uri": "https://localhost:8080/"
        },
        "id": "RAbm6sTigZ8i",
        "outputId": "64de2bee-1c7d-4f85-bf52-3ac435d37e5d"
      },
      "source": [
        "mydict = {\"name\":\"Max\", \"age\":28, \"city\":\"New York\"}\n",
        "print(mydict)\n",
        "\n",
        "mydict[\"email\"] = \"max@xyz.com\"\n",
        "print(mydict)"
      ],
      "execution_count": 4,
      "outputs": [
        {
          "output_type": "stream",
          "text": [
            "{'name': 'Max', 'age': 28, 'city': 'New York'}\n",
            "{'name': 'Max', 'age': 28, 'city': 'New York', 'email': 'max@xyz.com'}\n"
          ],
          "name": "stdout"
        }
      ]
    },
    {
      "cell_type": "code",
      "metadata": {
        "colab": {
          "base_uri": "https://localhost:8080/"
        },
        "id": "mu76g0YygnDg",
        "outputId": "1688ebba-d151-4999-ef20-434c9b49c13e"
      },
      "source": [
        "mydict = {\"name\":\"Max\", \"age\":28, \"city\":\"New York\"}\n",
        "print(mydict)\n",
        "\n",
        "mydict[\"email\"] = \"max@xyz.com\"\n",
        "mydict[\"email\"] = \"coolmax@xyz.com\"\n",
        "\n",
        "print(mydict)"
      ],
      "execution_count": 6,
      "outputs": [
        {
          "output_type": "stream",
          "text": [
            "{'name': 'Max', 'age': 28, 'city': 'New York'}\n",
            "{'name': 'Max', 'age': 28, 'city': 'New York', 'email': 'coolmax@xyz.com'}\n"
          ],
          "name": "stdout"
        }
      ]
    },
    {
      "cell_type": "code",
      "metadata": {
        "colab": {
          "base_uri": "https://localhost:8080/"
        },
        "id": "i5c-9ipTgrn3",
        "outputId": "83b49cf5-090a-4148-9aea-8e4d37f91b2e"
      },
      "source": [
        "mydict = {\"name\":\"Max\", \"age\":28, \"city\":\"New York\"}\n",
        "print(mydict)\n",
        "\n",
        "del mydict[\"name\"]\n",
        "print(mydict)"
      ],
      "execution_count": 7,
      "outputs": [
        {
          "output_type": "stream",
          "text": [
            "{'name': 'Max', 'age': 28, 'city': 'New York'}\n",
            "{'age': 28, 'city': 'New York'}\n"
          ],
          "name": "stdout"
        }
      ]
    },
    {
      "cell_type": "code",
      "metadata": {
        "colab": {
          "base_uri": "https://localhost:8080/"
        },
        "id": "fqUIUI9KhLOg",
        "outputId": "ef543963-8d8c-4584-c440-6de5b5b4369a"
      },
      "source": [
        "mydict = {\"name\":\"Max\", \"age\":28, \"city\":\"New York\"}\n",
        "print(mydict)\n",
        "\n",
        "mydict.pop(\"age\")\n",
        "print(mydict)"
      ],
      "execution_count": 8,
      "outputs": [
        {
          "output_type": "stream",
          "text": [
            "{'name': 'Max', 'age': 28, 'city': 'New York'}\n",
            "{'name': 'Max', 'city': 'New York'}\n"
          ],
          "name": "stdout"
        }
      ]
    },
    {
      "cell_type": "code",
      "metadata": {
        "colab": {
          "base_uri": "https://localhost:8080/"
        },
        "id": "FCNdtAmAhR6t",
        "outputId": "b17204cf-832b-46ae-b358-ab2582e1d741"
      },
      "source": [
        "mydict = {\"name\":\"Max\", \"age\":28, \"city\":\"New York\"}\n",
        "print(mydict)\n",
        "\n",
        "mydict.popitem()\n",
        "print(mydict)"
      ],
      "execution_count": 9,
      "outputs": [
        {
          "output_type": "stream",
          "text": [
            "{'name': 'Max', 'age': 28, 'city': 'New York'}\n",
            "{'name': 'Max', 'age': 28}\n"
          ],
          "name": "stdout"
        }
      ]
    },
    {
      "cell_type": "code",
      "metadata": {
        "colab": {
          "base_uri": "https://localhost:8080/"
        },
        "id": "q9bkbR52j1Dz",
        "outputId": "022a1067-53c7-44cc-d90e-4b4b6049220b"
      },
      "source": [
        "mydict = {\"name\":\"Max\", \"age\":28, \"city\":\"New York\"}\n",
        "print(mydict)\n",
        "\n",
        "if \"name\" in mydict:\n",
        "    print(mydict[\"name\"])"
      ],
      "execution_count": 10,
      "outputs": [
        {
          "output_type": "stream",
          "text": [
            "{'name': 'Max', 'age': 28, 'city': 'New York'}\n",
            "Max\n"
          ],
          "name": "stdout"
        }
      ]
    },
    {
      "cell_type": "code",
      "metadata": {
        "colab": {
          "base_uri": "https://localhost:8080/"
        },
        "id": "-BheDjBQj7Qs",
        "outputId": "394be1ac-a274-4be2-b46b-06879ab881b2"
      },
      "source": [
        "mydict = {\"name\":\"Max\", \"age\":28, \"city\":\"New York\"}\n",
        "print(mydict)\n",
        "\n",
        "try:\n",
        "    print(mydict[\"lastname\"])\n",
        "except:\n",
        "    print(\"Error\")"
      ],
      "execution_count": 12,
      "outputs": [
        {
          "output_type": "stream",
          "text": [
            "{'name': 'Max', 'age': 28, 'city': 'New York'}\n",
            "Error\n"
          ],
          "name": "stdout"
        }
      ]
    },
    {
      "cell_type": "code",
      "metadata": {
        "colab": {
          "base_uri": "https://localhost:8080/"
        },
        "id": "BPa2vLRpkG6s",
        "outputId": "34a9be61-d94a-4721-cf16-194fd8e78f97"
      },
      "source": [
        "mydict = {\"name\":\"Max\", \"age\":28, \"city\":\"New York\"}\n",
        "print(mydict)\n",
        "\n",
        "for key in mydict:\n",
        "    print(key)"
      ],
      "execution_count": 13,
      "outputs": [
        {
          "output_type": "stream",
          "text": [
            "{'name': 'Max', 'age': 28, 'city': 'New York'}\n",
            "name\n",
            "age\n",
            "city\n"
          ],
          "name": "stdout"
        }
      ]
    },
    {
      "cell_type": "code",
      "metadata": {
        "colab": {
          "base_uri": "https://localhost:8080/"
        },
        "id": "KxYZ1WDhkQZ_",
        "outputId": "d84c22b4-52e3-4e83-f1ff-0196eb528818"
      },
      "source": [
        "mydict = {\"name\":\"Max\", \"age\":28, \"city\":\"New York\"}\n",
        "print(mydict)\n",
        "\n",
        "for key in mydict.keys():\n",
        "    print(key)"
      ],
      "execution_count": 14,
      "outputs": [
        {
          "output_type": "stream",
          "text": [
            "{'name': 'Max', 'age': 28, 'city': 'New York'}\n",
            "name\n",
            "age\n",
            "city\n"
          ],
          "name": "stdout"
        }
      ]
    },
    {
      "cell_type": "code",
      "metadata": {
        "colab": {
          "base_uri": "https://localhost:8080/"
        },
        "id": "O8Uf-junkV8p",
        "outputId": "b11e00fa-5b20-4d42-b062-9bf18be6085e"
      },
      "source": [
        "mydict = {\"name\":\"Max\", \"age\":28, \"city\":\"New York\"}\n",
        "print(mydict)\n",
        "\n",
        "for value in mydict.values():\n",
        "    print(value)"
      ],
      "execution_count": 15,
      "outputs": [
        {
          "output_type": "stream",
          "text": [
            "{'name': 'Max', 'age': 28, 'city': 'New York'}\n",
            "Max\n",
            "28\n",
            "New York\n"
          ],
          "name": "stdout"
        }
      ]
    },
    {
      "cell_type": "code",
      "metadata": {
        "colab": {
          "base_uri": "https://localhost:8080/"
        },
        "id": "NnRWws64kbyJ",
        "outputId": "96cea87f-fb14-4f19-9131-f6cde6a97d1e"
      },
      "source": [
        "mydict = {\"name\":\"Max\", \"age\":28, \"city\":\"New York\"}\n",
        "print(mydict)\n",
        "\n",
        "for key, value in mydict.items():\n",
        "    print(key, value)"
      ],
      "execution_count": 16,
      "outputs": [
        {
          "output_type": "stream",
          "text": [
            "{'name': 'Max', 'age': 28, 'city': 'New York'}\n",
            "name Max\n",
            "age 28\n",
            "city New York\n"
          ],
          "name": "stdout"
        }
      ]
    },
    {
      "cell_type": "code",
      "metadata": {
        "colab": {
          "base_uri": "https://localhost:8080/"
        },
        "id": "C4jUHOWkkg4h",
        "outputId": "e288bf80-6801-4a50-8988-ed307db85292"
      },
      "source": [
        "mydict = {\"name\":\"Max\", \"age\":28, \"city\":\"New York\"}\n",
        "print(mydict)\n",
        "\n",
        "mydict_cpy = mydict\n",
        "#both dictionaries refer to the same memory.\n",
        "\n",
        "mydict_cpy[\"email\"] = \"max@xyz.com\"\n",
        "print(mydict_cpy)\n",
        "print(mydict)"
      ],
      "execution_count": 19,
      "outputs": [
        {
          "output_type": "stream",
          "text": [
            "{'name': 'Max', 'age': 28, 'city': 'New York'}\n",
            "{'name': 'Max', 'age': 28, 'city': 'New York', 'email': 'max@xyz.com'}\n",
            "{'name': 'Max', 'age': 28, 'city': 'New York', 'email': 'max@xyz.com'}\n"
          ],
          "name": "stdout"
        }
      ]
    },
    {
      "cell_type": "code",
      "metadata": {
        "colab": {
          "base_uri": "https://localhost:8080/"
        },
        "id": "FHq1WA58k4fj",
        "outputId": "ac366ac2-f7f8-4d3b-fee5-7cdc1eac6f2f"
      },
      "source": [
        "mydict = {\"name\":\"Max\", \"age\":28, \"city\":\"New York\"}\n",
        "print(mydict)\n",
        "\n",
        "mydict_cpy = mydict.copy()\n",
        "#both dictionaries refer to the same memory.\n",
        "\n",
        "mydict_cpy[\"email\"] = \"max@xyz.com\"\n",
        "print(mydict_cpy)\n",
        "print(mydict)"
      ],
      "execution_count": 20,
      "outputs": [
        {
          "output_type": "stream",
          "text": [
            "{'name': 'Max', 'age': 28, 'city': 'New York'}\n",
            "{'name': 'Max', 'age': 28, 'city': 'New York', 'email': 'max@xyz.com'}\n",
            "{'name': 'Max', 'age': 28, 'city': 'New York'}\n"
          ],
          "name": "stdout"
        }
      ]
    },
    {
      "cell_type": "code",
      "metadata": {
        "colab": {
          "base_uri": "https://localhost:8080/"
        },
        "id": "6mwV_395lRTS",
        "outputId": "52c313ae-258b-4b74-e941-5dd6520a2ace"
      },
      "source": [
        "mydict = {\"name\":\"Max\", \"age\":28, \"city\":\"New York\"}\n",
        "print(mydict)\n",
        "\n",
        "mydict_cpy = dict(mydict)\n",
        "#both dictionaries refer to the same memory.\n",
        "\n",
        "mydict_cpy[\"email\"] = \"max@xyz.com\"\n",
        "print(mydict_cpy)\n",
        "print(mydict)"
      ],
      "execution_count": 21,
      "outputs": [
        {
          "output_type": "stream",
          "text": [
            "{'name': 'Max', 'age': 28, 'city': 'New York'}\n",
            "{'name': 'Max', 'age': 28, 'city': 'New York', 'email': 'max@xyz.com'}\n",
            "{'name': 'Max', 'age': 28, 'city': 'New York'}\n"
          ],
          "name": "stdout"
        }
      ]
    },
    {
      "cell_type": "code",
      "metadata": {
        "colab": {
          "base_uri": "https://localhost:8080/"
        },
        "id": "Sw1ffX9UlWpG",
        "outputId": "2b3f6605-3a09-4489-f068-afcc1edb0624"
      },
      "source": [
        "my_dict = {\"name\":\"Max\", \"age\":28, \"email\":\"max@xyz.com\"}\n",
        "my_dict2 = {\"name\":\"Mary\", \"age\":27, \"city\":\"Boston\"}\n",
        "\n",
        "my_dict.update(mydict2)\n",
        "print(my_dict)"
      ],
      "execution_count": 22,
      "outputs": [
        {
          "output_type": "stream",
          "text": [
            "{'name': 'Mary', 'age': 27, 'email': 'max@xyz.com', 'city': 'Boston'}\n"
          ],
          "name": "stdout"
        }
      ]
    },
    {
      "cell_type": "code",
      "metadata": {
        "colab": {
          "base_uri": "https://localhost:8080/"
        },
        "id": "cZd5WMWUmEep",
        "outputId": "c7b8d9fb-622b-46f1-fc06-050f33cf53c6"
      },
      "source": [
        "my_dict = {3:9, 6:36, 9:81}\n",
        "print(my_dict)\n",
        "\n",
        "value = my_dict[3]\n",
        "print(value)"
      ],
      "execution_count": 25,
      "outputs": [
        {
          "output_type": "stream",
          "text": [
            "{3: 9, 6: 36, 9: 81}\n",
            "9\n"
          ],
          "name": "stdout"
        }
      ]
    },
    {
      "cell_type": "code",
      "metadata": {
        "colab": {
          "base_uri": "https://localhost:8080/"
        },
        "id": "7tKxoSiHmV4r",
        "outputId": "64283a1d-0d02-4f5f-c888-1c20d86f836b"
      },
      "source": [
        "#A tuple can be a key\n",
        "mytuple= (3, 7)\n",
        "mydict = {mytuple: 15}\n",
        "print(mydict)"
      ],
      "execution_count": 26,
      "outputs": [
        {
          "output_type": "stream",
          "text": [
            "{(3, 7): 15}\n"
          ],
          "name": "stdout"
        }
      ]
    },
    {
      "cell_type": "code",
      "metadata": {
        "colab": {
          "base_uri": "https://localhost:8080/",
          "height": 204
        },
        "id": "Qwo3XlcWmx0D",
        "outputId": "e2833399-7451-4af9-b8b8-9baff678874d"
      },
      "source": [
        "#A list is mutable, so a list cannot be a key.\n",
        "mylist= [3, 7]\n",
        "mydict = {mylist: 15}\n",
        "print(mydict)"
      ],
      "execution_count": 27,
      "outputs": [
        {
          "output_type": "error",
          "ename": "TypeError",
          "evalue": "ignored",
          "traceback": [
            "\u001b[0;31m---------------------------------------------------------------------------\u001b[0m",
            "\u001b[0;31mTypeError\u001b[0m                                 Traceback (most recent call last)",
            "\u001b[0;32m<ipython-input-27-18e006e256aa>\u001b[0m in \u001b[0;36m<module>\u001b[0;34m()\u001b[0m\n\u001b[1;32m      1\u001b[0m \u001b[0mmylist\u001b[0m\u001b[0;34m=\u001b[0m \u001b[0;34m[\u001b[0m\u001b[0;36m3\u001b[0m\u001b[0;34m,\u001b[0m \u001b[0;36m7\u001b[0m\u001b[0;34m]\u001b[0m\u001b[0;34m\u001b[0m\u001b[0;34m\u001b[0m\u001b[0m\n\u001b[0;32m----> 2\u001b[0;31m \u001b[0mmydict\u001b[0m \u001b[0;34m=\u001b[0m \u001b[0;34m{\u001b[0m\u001b[0mmylist\u001b[0m\u001b[0;34m:\u001b[0m \u001b[0;36m15\u001b[0m\u001b[0;34m}\u001b[0m\u001b[0;34m\u001b[0m\u001b[0;34m\u001b[0m\u001b[0m\n\u001b[0m\u001b[1;32m      3\u001b[0m \u001b[0mprint\u001b[0m\u001b[0;34m(\u001b[0m\u001b[0mmydict\u001b[0m\u001b[0;34m)\u001b[0m\u001b[0;34m\u001b[0m\u001b[0;34m\u001b[0m\u001b[0m\n",
            "\u001b[0;31mTypeError\u001b[0m: unhashable type: 'list'"
          ]
        }
      ]
    }
  ]
}