{
  "nbformat": 4,
  "nbformat_minor": 0,
  "metadata": {
    "colab": {
      "name": "2020-11-21.ipynb",
      "provenance": [],
      "authorship_tag": "ABX9TyOmaYiUMe/LMdrgtyZta3W0",
      "include_colab_link": true
    },
    "kernelspec": {
      "name": "python3",
      "display_name": "Python 3"
    }
  },
  "cells": [
    {
      "cell_type": "markdown",
      "metadata": {
        "id": "view-in-github",
        "colab_type": "text"
      },
      "source": [
        "<a href=\"https://colab.research.google.com/github/soralee2821/coding/blob/master/2020_11_21.ipynb\" target=\"_parent\"><img src=\"https://colab.research.google.com/assets/colab-badge.svg\" alt=\"Open In Colab\"/></a>"
      ]
    },
    {
      "cell_type": "code",
      "metadata": {
        "colab": {
          "base_uri": "https://localhost:8080/"
        },
        "id": "U1JLTkQaxhUI",
        "outputId": "50257588-753c-4d5f-a831-76ff03b64c3e"
      },
      "source": [
        "x, y, w, h = map(int, input().split())\n",
        "print(min([x,y,w-x,h-y]))"
      ],
      "execution_count": 2,
      "outputs": [
        {
          "output_type": "stream",
          "text": [
            "6 2 10 3\n",
            "1\n"
          ],
          "name": "stdout"
        }
      ]
    },
    {
      "cell_type": "code",
      "metadata": {
        "colab": {
          "base_uri": "https://localhost:8080/"
        },
        "id": "vF-J6RU7x7Aq",
        "outputId": "6b46082e-ac87-4ef1-e886-8545d7a3ad2d"
      },
      "source": [
        "x, y = 0, 0\n",
        "x1, y1 = map(int, input().split())\n",
        "x2, y2 = map(int, input().split())\n",
        "x3, y3 = map(int, input().split())\n",
        "xlist = [x1,x2,x3]\n",
        "ylist = [y1,y2,y3]\n",
        "for i in xlist:\n",
        "    if (xlist.count(i)==1):\n",
        "        x = i\n",
        "for i in ylist:\n",
        "    if (ylist.count(i)==1):\n",
        "        y = i\n",
        "print(x,y)"
      ],
      "execution_count": 3,
      "outputs": [
        {
          "output_type": "stream",
          "text": [
            "30 20\n",
            "10 10\n",
            "10 20\n",
            "30 10\n"
          ],
          "name": "stdout"
        }
      ]
    },
    {
      "cell_type": "code",
      "metadata": {
        "colab": {
          "base_uri": "https://localhost:8080/"
        },
        "id": "QFwX9xWS3Vv2",
        "outputId": "88fcc41c-ff63-4f2f-e378-df7f4a0e3f08"
      },
      "source": [
        "x1, y1 = map(int, input().split())\n",
        "x2, y2 = map(int, input().split())\n",
        "x3, y3 = map(int, input().split())\n",
        "\n",
        "if x1 == x2:\n",
        "    x = x3\n",
        "elif x1 == x3:\n",
        "    x = x2\n",
        "else:\n",
        "    x = x1\n",
        "\n",
        "if y1 == y2:\n",
        "    y = y3\n",
        "elif y1 == y3:\n",
        "    y = y2\n",
        "else:\n",
        "    y = y1\n",
        "\n",
        "print(x,y)"
      ],
      "execution_count": 4,
      "outputs": [
        {
          "output_type": "stream",
          "text": [
            "30 20\n",
            "10 10\n",
            "10 20\n",
            "30 10\n"
          ],
          "name": "stdout"
        }
      ]
    },
    {
      "cell_type": "code",
      "metadata": {
        "id": "iUtcFi4V344Z"
      },
      "source": [
        ""
      ],
      "execution_count": null,
      "outputs": []
    }
  ]
}