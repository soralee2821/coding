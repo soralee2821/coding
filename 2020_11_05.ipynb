{
  "nbformat": 4,
  "nbformat_minor": 0,
  "metadata": {
    "colab": {
      "name": "2020-11-05.ipynb",
      "provenance": [],
      "authorship_tag": "ABX9TyNZm0h4gQ9PfKC+uO6iUQRJ",
      "include_colab_link": true
    },
    "kernelspec": {
      "name": "python3",
      "display_name": "Python 3"
    }
  },
  "cells": [
    {
      "cell_type": "markdown",
      "metadata": {
        "id": "view-in-github",
        "colab_type": "text"
      },
      "source": [
        "<a href=\"https://colab.research.google.com/github/soralee2821/coding/blob/master/2020_11_05.ipynb\" target=\"_parent\"><img src=\"https://colab.research.google.com/assets/colab-badge.svg\" alt=\"Open In Colab\"/></a>"
      ]
    },
    {
      "cell_type": "code",
      "metadata": {
        "id": "zFDbRovYfOqf",
        "outputId": "823599c8-5ae5-4e43-9d04-72c7144842a1",
        "colab": {
          "base_uri": "https://localhost:8080/"
        }
      },
      "source": [
        "T = int(input())\n",
        "for i in range(T):\n",
        "    H, W, N = map(int, input().split())\n",
        "    floor = 0\n",
        "    dist = 0\n",
        "    if N%H == 0:\n",
        "        floor = H*100\n",
        "        dist = N//H\n",
        "    else:\n",
        "        floor = (N%H)*100\n",
        "        dist = N//H + 1\n",
        "    print(floor+dist)"
      ],
      "execution_count": 2,
      "outputs": [
        {
          "output_type": "stream",
          "text": [
            "2\n",
            "6 12 10\n",
            "402\n",
            "30 50 72\n",
            "1203\n"
          ],
          "name": "stdout"
        }
      ]
    },
    {
      "cell_type": "code",
      "metadata": {
        "id": "zAhQjaLxqnzW"
      },
      "source": [
        ""
      ],
      "execution_count": null,
      "outputs": []
    }
  ]
}