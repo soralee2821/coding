{
  "nbformat": 4,
  "nbformat_minor": 0,
  "metadata": {
    "colab": {
      "name": "2021-04-15.ipynb",
      "provenance": [],
      "authorship_tag": "ABX9TyNfzQkwDgKQYQMFmJ/WbtY6",
      "include_colab_link": true
    },
    "kernelspec": {
      "name": "python3",
      "display_name": "Python 3"
    },
    "language_info": {
      "name": "python"
    }
  },
  "cells": [
    {
      "cell_type": "markdown",
      "metadata": {
        "id": "view-in-github",
        "colab_type": "text"
      },
      "source": [
        "<a href=\"https://colab.research.google.com/github/soralee2821/coding/blob/master/2021_04_15.ipynb\" target=\"_parent\"><img src=\"https://colab.research.google.com/assets/colab-badge.svg\" alt=\"Open In Colab\"/></a>"
      ]
    },
    {
      "cell_type": "code",
      "metadata": {
        "colab": {
          "base_uri": "https://localhost:8080/"
        },
        "id": "Jg1_d0hUV_HJ",
        "outputId": "0ea7df10-02ef-4f21-ce65-7c62d29d8451"
      },
      "source": [
        "add10 = lambda x: x + 10\n",
        "print(add10(5))"
      ],
      "execution_count": 1,
      "outputs": [
        {
          "output_type": "stream",
          "text": [
            "15\n"
          ],
          "name": "stdout"
        }
      ]
    },
    {
      "cell_type": "code",
      "metadata": {
        "colab": {
          "base_uri": "https://localhost:8080/"
        },
        "id": "a0had0YeYRlW",
        "outputId": "14141d74-382c-4eef-8678-2be50fa1365d"
      },
      "source": [
        "mult = lambda x,y: x*y\n",
        "print(mult(2,7))"
      ],
      "execution_count": 2,
      "outputs": [
        {
          "output_type": "stream",
          "text": [
            "14\n"
          ],
          "name": "stdout"
        }
      ]
    },
    {
      "cell_type": "code",
      "metadata": {
        "colab": {
          "base_uri": "https://localhost:8080/"
        },
        "id": "lEJrPaCyYgn4",
        "outputId": "f9ccdc52-e605-4584-8842-b8fc6f9c853a"
      },
      "source": [
        "points2D = [(1,2), (15,1), (5,-1), (10,4)]\n",
        "points2D_sorted = sorted(points2D)\n",
        "\n",
        "print(points2D)\n",
        "print(points2D_sorted)"
      ],
      "execution_count": 3,
      "outputs": [
        {
          "output_type": "stream",
          "text": [
            "[(1, 2), (15, 1), (5, -1), (10, 4)]\n",
            "[(1, 2), (5, -1), (10, 4), (15, 1)]\n"
          ],
          "name": "stdout"
        }
      ]
    },
    {
      "cell_type": "code",
      "metadata": {
        "colab": {
          "base_uri": "https://localhost:8080/"
        },
        "id": "4cCQN3pIZKBy",
        "outputId": "a228af53-2614-4ecd-ca31-d90fa6b89936"
      },
      "source": [
        "points2D = [(1,2), (15,1), (5,-1), (10,4)]\n",
        "points2D_sorted = sorted(points2D, key=lambda x: x[1])\n",
        "\n",
        "print(points2D)\n",
        "print(points2D_sorted)"
      ],
      "execution_count": 4,
      "outputs": [
        {
          "output_type": "stream",
          "text": [
            "[(1, 2), (15, 1), (5, -1), (10, 4)]\n",
            "[(5, -1), (15, 1), (1, 2), (10, 4)]\n"
          ],
          "name": "stdout"
        }
      ]
    },
    {
      "cell_type": "code",
      "metadata": {
        "colab": {
          "base_uri": "https://localhost:8080/"
        },
        "id": "gjuky_sLZeMG",
        "outputId": "b8b04268-fc28-4b07-fe61-c06fc8dc3d02"
      },
      "source": [
        "points2D = [(1,2), (15,1), (5,-1), (10,4)]\n",
        "points2D_sorted = sorted(points2D, key=lambda x: x[0] + x[1])\n",
        "\n",
        "print(points2D)\n",
        "print(points2D_sorted)"
      ],
      "execution_count": 5,
      "outputs": [
        {
          "output_type": "stream",
          "text": [
            "[(1, 2), (15, 1), (5, -1), (10, 4)]\n",
            "[(1, 2), (5, -1), (10, 4), (15, 1)]\n"
          ],
          "name": "stdout"
        }
      ]
    },
    {
      "cell_type": "code",
      "metadata": {
        "colab": {
          "base_uri": "https://localhost:8080/"
        },
        "id": "3ZcVHnDfZ8Ni",
        "outputId": "ec16f954-6ed9-49dc-fcbb-173ff8e8d73e"
      },
      "source": [
        "a = [1,2,3,4,5]\n",
        "b = map(lambda x: x*2, a)\n",
        "print(b)\n",
        "print(list(b))"
      ],
      "execution_count": 7,
      "outputs": [
        {
          "output_type": "stream",
          "text": [
            "<map object at 0x7feae14a6b50>\n",
            "[2, 4, 6, 8, 10]\n"
          ],
          "name": "stdout"
        }
      ]
    },
    {
      "cell_type": "code",
      "metadata": {
        "colab": {
          "base_uri": "https://localhost:8080/"
        },
        "id": "UBi8wfXeaPPf",
        "outputId": "96b48003-fa7d-4fbe-ce54-69b2e6e99796"
      },
      "source": [
        "a = [1,2,3,4,5]\n",
        "c = [x*2 for x in a]\n",
        "print(c)"
      ],
      "execution_count": 8,
      "outputs": [
        {
          "output_type": "stream",
          "text": [
            "[2, 4, 6, 8, 10]\n"
          ],
          "name": "stdout"
        }
      ]
    },
    {
      "cell_type": "code",
      "metadata": {
        "colab": {
          "base_uri": "https://localhost:8080/"
        },
        "id": "zctlLWDnacxG",
        "outputId": "9a754bbd-66d9-4756-df18-2716066b6548"
      },
      "source": [
        "a = [1,2,3,4,5,6]\n",
        "b = filter(lambda x: x%2==0, a)\n",
        "print(list(b))"
      ],
      "execution_count": 9,
      "outputs": [
        {
          "output_type": "stream",
          "text": [
            "[2, 4, 6]\n"
          ],
          "name": "stdout"
        }
      ]
    },
    {
      "cell_type": "code",
      "metadata": {
        "colab": {
          "base_uri": "https://localhost:8080/"
        },
        "id": "KtmJm4r7atgs",
        "outputId": "6fb1f04d-100b-485b-d240-2cf6267584d9"
      },
      "source": [
        "a = [1,2,3,4,5,6]\n",
        "c = [x for x in a if x%2==0]\n",
        "print(c)"
      ],
      "execution_count": 10,
      "outputs": [
        {
          "output_type": "stream",
          "text": [
            "[2, 4, 6]\n"
          ],
          "name": "stdout"
        }
      ]
    },
    {
      "cell_type": "code",
      "metadata": {
        "colab": {
          "base_uri": "https://localhost:8080/"
        },
        "id": "MdOvAerJa01P",
        "outputId": "d78f562e-db3a-4646-ca3a-951ca7467e71"
      },
      "source": [
        "from functools import reduce\n",
        "a = [1,2,3,4]\n",
        "\n",
        "product_a = reduce(lambda x,y: x*y, a)\n",
        "print(product_a)"
      ],
      "execution_count": 12,
      "outputs": [
        {
          "output_type": "stream",
          "text": [
            "24\n"
          ],
          "name": "stdout"
        }
      ]
    },
    {
      "cell_type": "code",
      "metadata": {
        "id": "yeIGznsebONh"
      },
      "source": [
        ""
      ],
      "execution_count": null,
      "outputs": []
    }
  ]
}