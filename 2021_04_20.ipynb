{
  "nbformat": 4,
  "nbformat_minor": 0,
  "metadata": {
    "colab": {
      "name": "2021-04-20.ipynb",
      "provenance": [],
      "authorship_tag": "ABX9TyM+o7qHXPr8RBoHSGqvLYRs",
      "include_colab_link": true
    },
    "kernelspec": {
      "name": "python3",
      "display_name": "Python 3"
    },
    "language_info": {
      "name": "python"
    }
  },
  "cells": [
    {
      "cell_type": "markdown",
      "metadata": {
        "id": "view-in-github",
        "colab_type": "text"
      },
      "source": [
        "<a href=\"https://colab.research.google.com/github/soralee2821/coding/blob/master/2021_04_20.ipynb\" target=\"_parent\"><img src=\"https://colab.research.google.com/assets/colab-badge.svg\" alt=\"Open In Colab\"/></a>"
      ]
    },
    {
      "cell_type": "markdown",
      "metadata": {
        "id": "YJUCpMRqyl2A"
      },
      "source": [
        "##Random Numbers"
      ]
    },
    {
      "cell_type": "code",
      "metadata": {
        "id": "4UQdJ1VGyiDZ"
      },
      "source": [
        "import random"
      ],
      "execution_count": 1,
      "outputs": []
    },
    {
      "cell_type": "code",
      "metadata": {
        "colab": {
          "base_uri": "https://localhost:8080/"
        },
        "id": "3YccIEtp70H-",
        "outputId": "9b1dae5d-bf62-4c4d-ccd9-56d0832dba56"
      },
      "source": [
        "# a random number from 0 to 1\n",
        "a = random.random()\n",
        "print(a)"
      ],
      "execution_count": 2,
      "outputs": [
        {
          "output_type": "stream",
          "text": [
            "0.5818491351844585\n"
          ],
          "name": "stdout"
        }
      ]
    },
    {
      "cell_type": "code",
      "metadata": {
        "colab": {
          "base_uri": "https://localhost:8080/"
        },
        "id": "Q8OiPF6I76I2",
        "outputId": "027ff795-6f46-4770-a206-599acdaeea00"
      },
      "source": [
        "# a random number in the range\n",
        "a = random.uniform(1,10)\n",
        "print(a)"
      ],
      "execution_count": 3,
      "outputs": [
        {
          "output_type": "stream",
          "text": [
            "7.51129839807193\n"
          ],
          "name": "stdout"
        }
      ]
    },
    {
      "cell_type": "code",
      "metadata": {
        "colab": {
          "base_uri": "https://localhost:8080/"
        },
        "id": "PGTN-oPN8AJu",
        "outputId": "5aa3710c-9625-4fd5-a20f-93393ecb9b31"
      },
      "source": [
        "# a random integer in the range\n",
        "a = random.randint(1,10)\n",
        "print(a)"
      ],
      "execution_count": 4,
      "outputs": [
        {
          "output_type": "stream",
          "text": [
            "4\n"
          ],
          "name": "stdout"
        }
      ]
    },
    {
      "cell_type": "code",
      "metadata": {
        "colab": {
          "base_uri": "https://localhost:8080/"
        },
        "id": "WyId3knh8DyA",
        "outputId": "2a71cd0a-1878-4f5a-e04d-8d0ca1bece24"
      },
      "source": [
        "# a random integer in the range (the end number X)\n",
        "a = random.randrange(1,10)\n",
        "print(a)"
      ],
      "execution_count": 5,
      "outputs": [
        {
          "output_type": "stream",
          "text": [
            "5\n"
          ],
          "name": "stdout"
        }
      ]
    },
    {
      "cell_type": "code",
      "metadata": {
        "colab": {
          "base_uri": "https://localhost:8080/"
        },
        "id": "Ha09NrCN8KeY",
        "outputId": "e824f227-9b59-4fca-ec8e-a12e2e7d6248"
      },
      "source": [
        "# a random number in the graph of normal distribution\n",
        "a = random.normalvariate(0,1)\n",
        "print(a)"
      ],
      "execution_count": 6,
      "outputs": [
        {
          "output_type": "stream",
          "text": [
            "0.4393035857757438\n"
          ],
          "name": "stdout"
        }
      ]
    },
    {
      "cell_type": "code",
      "metadata": {
        "colab": {
          "base_uri": "https://localhost:8080/"
        },
        "id": "eywKBKUuPT2-",
        "outputId": "b807cf33-bbfe-453d-a10e-5401304c41c8"
      },
      "source": [
        "# randomly choose an element in the list\n",
        "mylist = list(\"ABCDEFGH\")\n",
        "a = random.choice(mylist)\n",
        "print(a)"
      ],
      "execution_count": 7,
      "outputs": [
        {
          "output_type": "stream",
          "text": [
            "E\n"
          ],
          "name": "stdout"
        }
      ]
    },
    {
      "cell_type": "code",
      "metadata": {
        "colab": {
          "base_uri": "https://localhost:8080/"
        },
        "id": "15JCMmLWPp9s",
        "outputId": "0f946987-f154-4c18-d3d5-13d8ea543197"
      },
      "source": [
        "# randomly choose unique elements in the list\n",
        "mylist = list(\"ABCDEFGH\")\n",
        "a = random.sample(mylist, 3)\n",
        "print(a)"
      ],
      "execution_count": 8,
      "outputs": [
        {
          "output_type": "stream",
          "text": [
            "['E', 'A', 'D']\n"
          ],
          "name": "stdout"
        }
      ]
    },
    {
      "cell_type": "code",
      "metadata": {
        "colab": {
          "base_uri": "https://localhost:8080/"
        },
        "id": "RQPSMTGjQIWJ",
        "outputId": "61957d0d-6101-48ec-b077-df00ed540e1d"
      },
      "source": [
        "# randomly choose multiple elements in the list\n",
        "mylist = list(\"ABCDEFGH\")\n",
        "a = random.choices(mylist, k=3)\n",
        "print(a)"
      ],
      "execution_count": 9,
      "outputs": [
        {
          "output_type": "stream",
          "text": [
            "['A', 'A', 'E']\n"
          ],
          "name": "stdout"
        }
      ]
    },
    {
      "cell_type": "code",
      "metadata": {
        "colab": {
          "base_uri": "https://localhost:8080/"
        },
        "id": "6F8jpwhkQw54",
        "outputId": "4ea6ac5e-b405-406f-a15b-e3545d148b6b"
      },
      "source": [
        "# shuffle elements\n",
        "mylist = list(\"ABCDEFGH\")\n",
        "random.shuffle(mylist)\n",
        "print(mylist)"
      ],
      "execution_count": 10,
      "outputs": [
        {
          "output_type": "stream",
          "text": [
            "['D', 'E', 'B', 'A', 'G', 'F', 'H', 'C']\n"
          ],
          "name": "stdout"
        }
      ]
    },
    {
      "cell_type": "code",
      "metadata": {
        "colab": {
          "base_uri": "https://localhost:8080/"
        },
        "id": "Ak99Gz0cRIsb",
        "outputId": "d44af840-8640-403a-f9b3-681fd7ce32a9"
      },
      "source": [
        "# fix the random numbers\n",
        "random.seed(1)\n",
        "print(random.random())\n",
        "print(random.randint(1,10))\n",
        "random.seed(1)\n",
        "print(random.random())\n",
        "print(random.randint(1,10))"
      ],
      "execution_count": 11,
      "outputs": [
        {
          "output_type": "stream",
          "text": [
            "0.13436424411240122\n",
            "2\n",
            "0.13436424411240122\n",
            "2\n"
          ],
          "name": "stdout"
        }
      ]
    },
    {
      "cell_type": "code",
      "metadata": {
        "colab": {
          "base_uri": "https://localhost:8080/"
        },
        "id": "DZzRcWYXRo7F",
        "outputId": "b12d34e1-2ec5-4991-95ff-8be06ed5ae11"
      },
      "source": [
        "# if the value of seed is the same, the random number is the same\n",
        "random.seed(1)\n",
        "print(random.random())\n",
        "print(random.randint(1,10))\n",
        "random.seed(2)\n",
        "print(random.random())\n",
        "print(random.randint(1,10))\n",
        "random.seed(1)\n",
        "print(random.random())\n",
        "print(random.randint(1,10))"
      ],
      "execution_count": 12,
      "outputs": [
        {
          "output_type": "stream",
          "text": [
            "0.13436424411240122\n",
            "2\n",
            "0.9560342718892494\n",
            "1\n",
            "0.13436424411240122\n",
            "2\n"
          ],
          "name": "stdout"
        }
      ]
    },
    {
      "cell_type": "code",
      "metadata": {
        "colab": {
          "base_uri": "https://localhost:8080/"
        },
        "id": "9vEaAWs2SBZT",
        "outputId": "74c3f0c7-23b1-48c7-e86d-141bdfd46b51"
      },
      "source": [
        "# a random integer from 0 to the number(not include)\n",
        "import secrets\n",
        "\n",
        "a = secrets.randbelow(10)\n",
        "print(a)"
      ],
      "execution_count": 13,
      "outputs": [
        {
          "output_type": "stream",
          "text": [
            "6\n"
          ],
          "name": "stdout"
        }
      ]
    },
    {
      "cell_type": "code",
      "metadata": {
        "colab": {
          "base_uri": "https://localhost:8080/"
        },
        "id": "dsdqNu3PTH9U",
        "outputId": "16e02cb4-6d82-4ba2-d5f9-f7c88cde6d6a"
      },
      "source": [
        "# a random integer from 0 to the bit number(1111->16)\n",
        "import secrets\n",
        "\n",
        "a = secrets.randbits(4)\n",
        "#1111\n",
        "print(a)"
      ],
      "execution_count": 14,
      "outputs": [
        {
          "output_type": "stream",
          "text": [
            "6\n"
          ],
          "name": "stdout"
        }
      ]
    },
    {
      "cell_type": "code",
      "metadata": {
        "colab": {
          "base_uri": "https://localhost:8080/"
        },
        "id": "PBtuzj9QUM5C",
        "outputId": "47f69959-1a4e-4063-bd1d-fa96e4e194e2"
      },
      "source": [
        "mylist = list(\"ABCDEFGH\")\n",
        "a = secrets.choice(mylist)\n",
        "print(a)"
      ],
      "execution_count": 15,
      "outputs": [
        {
          "output_type": "stream",
          "text": [
            "B\n"
          ],
          "name": "stdout"
        }
      ]
    },
    {
      "cell_type": "code",
      "metadata": {
        "colab": {
          "base_uri": "https://localhost:8080/"
        },
        "id": "uhKAbpRvUyE5",
        "outputId": "92801639-844e-44a2-eda1-bead50361166"
      },
      "source": [
        "# n개의 random floats\n",
        "import numpy as np\n",
        "\n",
        "a = np.random.rand(3)\n",
        "print(a)"
      ],
      "execution_count": 16,
      "outputs": [
        {
          "output_type": "stream",
          "text": [
            "[0.30916796 0.24752194 0.83608838]\n"
          ],
          "name": "stdout"
        }
      ]
    },
    {
      "cell_type": "code",
      "metadata": {
        "colab": {
          "base_uri": "https://localhost:8080/"
        },
        "id": "B-TU2qswVK_1",
        "outputId": "efb21bc4-df06-4ec9-b2be-9819cd4a3668"
      },
      "source": [
        "# n by n array-like of random floats\n",
        "\n",
        "a = np.random.rand(3,3)\n",
        "print(a)"
      ],
      "execution_count": 17,
      "outputs": [
        {
          "output_type": "stream",
          "text": [
            "[[0.82499177 0.21003413 0.4922123 ]\n",
            " [0.88785885 0.38917665 0.65083142]\n",
            " [0.81969818 0.48335979 0.38758167]]\n"
          ],
          "name": "stdout"
        }
      ]
    },
    {
      "cell_type": "code",
      "metadata": {
        "colab": {
          "base_uri": "https://localhost:8080/"
        },
        "id": "ubotBgkJWZG_",
        "outputId": "223a2eb3-3d71-488d-c461-6abc1a47fc33"
      },
      "source": [
        "# random integers in the range with the interval\n",
        "a = np.random.randint(0,10,3)\n",
        "print(a)"
      ],
      "execution_count": 18,
      "outputs": [
        {
          "output_type": "stream",
          "text": [
            "[2 8 4]\n"
          ],
          "name": "stdout"
        }
      ]
    },
    {
      "cell_type": "code",
      "metadata": {
        "colab": {
          "base_uri": "https://localhost:8080/"
        },
        "id": "imHc9cnDWexh",
        "outputId": "1ce3a64f-a38a-405c-ade6-94ad46cd9c1d"
      },
      "source": [
        "# random integers in the range with n by n array-like\n",
        "a = np.random.randint(0,10,(3,4))\n",
        "print(a)"
      ],
      "execution_count": 19,
      "outputs": [
        {
          "output_type": "stream",
          "text": [
            "[[9 7 2 3]\n",
            " [5 5 4 0]\n",
            " [6 6 6 1]]\n"
          ],
          "name": "stdout"
        }
      ]
    },
    {
      "cell_type": "code",
      "metadata": {
        "colab": {
          "base_uri": "https://localhost:8080/"
        },
        "id": "QtfiEBLNWzAC",
        "outputId": "adbfa6c3-158c-472b-feaa-e5a2aad39ae3"
      },
      "source": [
        "# switch the first axis in the array(not elements)\n",
        "arr = np.array([[1,2,3],[4,5,6],[7,8,9]])\n",
        "print(arr)\n",
        "np.random.shuffle(arr)\n",
        "print(arr)"
      ],
      "execution_count": 20,
      "outputs": [
        {
          "output_type": "stream",
          "text": [
            "[[1 2 3]\n",
            " [4 5 6]\n",
            " [7 8 9]]\n",
            "[[4 5 6]\n",
            " [1 2 3]\n",
            " [7 8 9]]\n"
          ],
          "name": "stdout"
        }
      ]
    },
    {
      "cell_type": "code",
      "metadata": {
        "colab": {
          "base_uri": "https://localhost:8080/"
        },
        "id": "VKaf7fUMXggZ",
        "outputId": "2f1d6146-dd9a-47bc-93fc-9e6c7d0002aa"
      },
      "source": [
        "np.random.seed(1)\n",
        "print(np.random.rand(3,3))\n",
        "np.random.seed(1)\n",
        "print(np.random.rand(3,3))"
      ],
      "execution_count": 21,
      "outputs": [
        {
          "output_type": "stream",
          "text": [
            "[[4.17022005e-01 7.20324493e-01 1.14374817e-04]\n",
            " [3.02332573e-01 1.46755891e-01 9.23385948e-02]\n",
            " [1.86260211e-01 3.45560727e-01 3.96767474e-01]]\n",
            "[[4.17022005e-01 7.20324493e-01 1.14374817e-04]\n",
            " [3.02332573e-01 1.46755891e-01 9.23385948e-02]\n",
            " [1.86260211e-01 3.45560727e-01 3.96767474e-01]]\n"
          ],
          "name": "stdout"
        }
      ]
    }
  ]
}