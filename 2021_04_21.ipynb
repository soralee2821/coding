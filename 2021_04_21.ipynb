{
  "nbformat": 4,
  "nbformat_minor": 0,
  "metadata": {
    "colab": {
      "name": "2021-04-21.ipynb",
      "provenance": [],
      "authorship_tag": "ABX9TyOz65b1kre0uIEbLSkRs1oW",
      "include_colab_link": true
    },
    "kernelspec": {
      "name": "python3",
      "display_name": "Python 3"
    },
    "language_info": {
      "name": "python"
    }
  },
  "cells": [
    {
      "cell_type": "markdown",
      "metadata": {
        "id": "view-in-github",
        "colab_type": "text"
      },
      "source": [
        "<a href=\"https://colab.research.google.com/github/soralee2821/coding/blob/master/2021_04_21.ipynb\" target=\"_parent\"><img src=\"https://colab.research.google.com/assets/colab-badge.svg\" alt=\"Open In Colab\"/></a>"
      ]
    },
    {
      "cell_type": "markdown",
      "metadata": {
        "id": "Z89T1LpxuOld"
      },
      "source": [
        "##Decorators"
      ]
    },
    {
      "cell_type": "code",
      "metadata": {
        "colab": {
          "base_uri": "https://localhost:8080/"
        },
        "id": "xcRFfkweowBX",
        "outputId": "575f7579-1d88-41cd-a381-8e1d507de4ce"
      },
      "source": [
        "# function decorator\n",
        "def start_end_decorator(func):\n",
        "    \n",
        "    def wrapper():\n",
        "        print('Start')\n",
        "        func()\n",
        "        print('End')\n",
        "    return wrapper\n",
        "\n",
        "def print_name():\n",
        "    print('Alex')\n",
        "\n",
        "print_name = start_end_decorator(print_name)\n",
        "\n",
        "print_name()"
      ],
      "execution_count": 1,
      "outputs": [
        {
          "output_type": "stream",
          "text": [
            "Start\n",
            "Alex\n",
            "End\n"
          ],
          "name": "stdout"
        }
      ]
    },
    {
      "cell_type": "code",
      "metadata": {
        "colab": {
          "base_uri": "https://localhost:8080/"
        },
        "id": "1VNY8PHmccAd",
        "outputId": "e7e6ff47-d0fd-42b6-85d9-4de4ffec36f6"
      },
      "source": [
        "def start_end_decorator(func):\n",
        "    \n",
        "    def wrapper():\n",
        "        print('Start')\n",
        "        func()\n",
        "        print('End')\n",
        "    return wrapper\n",
        "\n",
        "@start_end_decorator\n",
        "def print_name():\n",
        "    print('Alex')\n",
        "\n",
        "print_name()"
      ],
      "execution_count": 2,
      "outputs": [
        {
          "output_type": "stream",
          "text": [
            "Start\n",
            "Alex\n",
            "End\n"
          ],
          "name": "stdout"
        }
      ]
    },
    {
      "cell_type": "code",
      "metadata": {
        "colab": {
          "base_uri": "https://localhost:8080/"
        },
        "id": "MF9d8jdIcojG",
        "outputId": "a088a227-4485-4975-e607-4934680db374"
      },
      "source": [
        "def start_end_decorator(func):\n",
        "    \n",
        "    def wrapper(*args, **kwargs):\n",
        "        print('Start')\n",
        "        result = func(*args, **kwargs)\n",
        "        print('End')\n",
        "        return result\n",
        "    return wrapper\n",
        "\n",
        "@start_end_decorator\n",
        "def add5(x):\n",
        "    return x + 5\n",
        "\n",
        "result = add5(10)\n",
        "print(result)"
      ],
      "execution_count": 3,
      "outputs": [
        {
          "output_type": "stream",
          "text": [
            "Start\n",
            "End\n",
            "15\n"
          ],
          "name": "stdout"
        }
      ]
    },
    {
      "cell_type": "code",
      "metadata": {
        "colab": {
          "base_uri": "https://localhost:8080/"
        },
        "id": "mUx4mymSc-0p",
        "outputId": "1cdfd9a3-a883-4842-9337-4f21353a242a"
      },
      "source": [
        "def start_end_decorator(func):\n",
        "    \n",
        "    def wrapper(*args, **kwargs):\n",
        "        print('Start')\n",
        "        result = func(*args, **kwargs)\n",
        "        print('End')\n",
        "        return result\n",
        "    return wrapper\n",
        "\n",
        "@start_end_decorator\n",
        "def add5(x):\n",
        "    return x + 5\n",
        "\n",
        "result = add5(10)\n",
        "print(help(add5))\n",
        "print(add5.__name__)"
      ],
      "execution_count": 4,
      "outputs": [
        {
          "output_type": "stream",
          "text": [
            "Start\n",
            "End\n",
            "Help on function wrapper in module __main__:\n",
            "\n",
            "wrapper(*args, **kwargs)\n",
            "\n",
            "None\n",
            "wrapper\n"
          ],
          "name": "stdout"
        }
      ]
    },
    {
      "cell_type": "code",
      "metadata": {
        "colab": {
          "base_uri": "https://localhost:8080/"
        },
        "id": "YAiLskU6dlqf",
        "outputId": "5ca09cac-c43f-4a7d-8c98-84413d56a3d3"
      },
      "source": [
        "import functools\n",
        "\n",
        "def start_end_decorator(func):\n",
        "    @functools.wraps(func)\n",
        "    def wrapper(*args, **kwargs):\n",
        "        print('Start')\n",
        "        result = func(*args, **kwargs)\n",
        "        print('End')\n",
        "        return result\n",
        "    return wrapper\n",
        "\n",
        "@start_end_decorator\n",
        "def add5(x):\n",
        "    return x + 5\n",
        "\n",
        "\n",
        "print(add5.__name__)"
      ],
      "execution_count": 5,
      "outputs": [
        {
          "output_type": "stream",
          "text": [
            "add5\n"
          ],
          "name": "stdout"
        }
      ]
    },
    {
      "cell_type": "code",
      "metadata": {
        "colab": {
          "base_uri": "https://localhost:8080/"
        },
        "id": "eBqO6TWuviFZ",
        "outputId": "9a583ebd-fb16-4d17-b237-bd4b5e6e1095"
      },
      "source": [
        "def repeat(num_times):\n",
        "    def decorator_repeat(func):\n",
        "        @functools.wraps(func)\n",
        "        def wrapper(*args, **kwargs):\n",
        "            for _ in range(num_times):\n",
        "                result = func(*args, **kwargs)\n",
        "            return result\n",
        "        return wrapper\n",
        "    return decorator_repeat\n",
        "\n",
        "@repeat(num_times=3)\n",
        "def greet(name):\n",
        "    print(f'Hello {name}')\n",
        "\n",
        "greet('Alex')"
      ],
      "execution_count": 6,
      "outputs": [
        {
          "output_type": "stream",
          "text": [
            "Hello Alex\n",
            "Hello Alex\n",
            "Hello Alex\n"
          ],
          "name": "stdout"
        }
      ]
    },
    {
      "cell_type": "code",
      "metadata": {
        "colab": {
          "base_uri": "https://localhost:8080/",
          "height": 123
        },
        "id": "6N4ZAW_HyTcS",
        "outputId": "5ccd1035-aea6-4ae9-9752-cf018d6160d8"
      },
      "source": [
        "def start_end_decorator(func):\n",
        "    @functools.wraps(func)\n",
        "    def wrapper(*args, **kwargs):\n",
        "        print('Start')\n",
        "        result = func(*args, **kwargs)\n",
        "        print('End')\n",
        "        return result\n",
        "    return wrapper\n",
        "\n",
        "def debug(func):\n",
        "    @functools.wraps(func)\n",
        "    def wrapper(*args, **kwargs):\n",
        "        args_repr = [repr(a) for a in args]\n",
        "        kwargs_repr = [f'{k}={v!r}' for k,v in kwargs.items()]\n",
        "        signature = \",\".join(args_repr + kwargs_repr)\n",
        "        print(f'Calling {func.__name__}{signature}')\n",
        "        result = func(*args, **kwargs)\n",
        "        print(f'{func.__name__!r} returned {result!r}')\n",
        "        return result\n",
        "    return wrapper\n",
        "\n",
        "@debug\n",
        "@start_end_decorator\n",
        "def say_hello(name):\n",
        "    greeting = f'Hello {name}'\n",
        "    print(greeting)\n",
        "    return greeting\n",
        "\n",
        "say_hello('Alex')"
      ],
      "execution_count": 7,
      "outputs": [
        {
          "output_type": "stream",
          "text": [
            "Calling say_hello'Alex'\n",
            "Start\n",
            "Hello Alex\n",
            "End\n",
            "'say_hello' returned 'Hello Alex'\n"
          ],
          "name": "stdout"
        },
        {
          "output_type": "execute_result",
          "data": {
            "application/vnd.google.colaboratory.intrinsic+json": {
              "type": "string"
            },
            "text/plain": [
              "'Hello Alex'"
            ]
          },
          "metadata": {
            "tags": []
          },
          "execution_count": 7
        }
      ]
    },
    {
      "cell_type": "code",
      "metadata": {
        "colab": {
          "base_uri": "https://localhost:8080/"
        },
        "id": "5kHBmCY90niR",
        "outputId": "c8da99de-186c-4f9d-ed4e-4b46f1975509"
      },
      "source": [
        "# class decorator\n",
        "class CountCalls:\n",
        "\n",
        "    def __init__(self, func):\n",
        "        self.func = func\n",
        "        self.num_calls = 0\n",
        "\n",
        "    def __call__(self, *args, **kwargs):\n",
        "        self.num_calls += 1\n",
        "        print(f'This is executed {self.num_calls} times')\n",
        "        return self.func(*args, **kwargs)\n",
        "\n",
        "@CountCalls\n",
        "def say_hello():\n",
        "    print('Hello')\n",
        "\n",
        "say_hello()\n",
        "say_hello()"
      ],
      "execution_count": 8,
      "outputs": [
        {
          "output_type": "stream",
          "text": [
            "This is executed 1 times\n",
            "Hello\n",
            "This is executed 2 times\n",
            "Hello\n"
          ],
          "name": "stdout"
        }
      ]
    }
  ]
}