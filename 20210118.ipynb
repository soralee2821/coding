{
  "nbformat": 4,
  "nbformat_minor": 0,
  "metadata": {
    "colab": {
      "name": "20210118.ipynb",
      "provenance": [],
      "authorship_tag": "ABX9TyPBotRbzMlZrPylpJYAgBbd",
      "include_colab_link": true
    },
    "kernelspec": {
      "name": "python3",
      "display_name": "Python 3"
    }
  },
  "cells": [
    {
      "cell_type": "markdown",
      "metadata": {
        "id": "view-in-github",
        "colab_type": "text"
      },
      "source": [
        "<a href=\"https://colab.research.google.com/github/soralee2821/coding/blob/master/20210118.ipynb\" target=\"_parent\"><img src=\"https://colab.research.google.com/assets/colab-badge.svg\" alt=\"Open In Colab\"/></a>"
      ]
    },
    {
      "cell_type": "markdown",
      "metadata": {
        "id": "UJ5oeAi-YydJ"
      },
      "source": [
        "### if 문"
      ]
    },
    {
      "cell_type": "code",
      "metadata": {
        "colab": {
          "base_uri": "https://localhost:8080/"
        },
        "id": "apFhhSzdjjTm",
        "outputId": "2df11118-d167-4edc-f9d5-e2cc695ed953"
      },
      "source": [
        "#if문 - boolean\r\n",
        "money = True\r\n",
        "\r\n",
        "if money:\r\n",
        "    print(\"택시를 타고 가라\")\r\n",
        "else:\r\n",
        "    print(\"걸어 가라\")"
      ],
      "execution_count": 6,
      "outputs": [
        {
          "output_type": "stream",
          "text": [
            "택시를 타고 가라\n"
          ],
          "name": "stdout"
        }
      ]
    },
    {
      "cell_type": "code",
      "metadata": {
        "colab": {
          "base_uri": "https://localhost:8080/"
        },
        "id": "bjPcxSFYwfGm",
        "outputId": "5548699a-1ab2-4ab3-8f9d-d443f76c7c19"
      },
      "source": [
        "#if문 - 비교연산자\r\n",
        "money = 2000\r\n",
        "\r\n",
        "if money >= 3000:\r\n",
        "    print(\"택시를 타고 가라\")\r\n",
        "else:\r\n",
        "    print(\"걸어 가라\")"
      ],
      "execution_count": 9,
      "outputs": [
        {
          "output_type": "stream",
          "text": [
            "걸어 가라\n"
          ],
          "name": "stdout"
        }
      ]
    },
    {
      "cell_type": "code",
      "metadata": {
        "colab": {
          "base_uri": "https://localhost:8080/"
        },
        "id": "tEA1ADNONFbe",
        "outputId": "f8b8ea2a-65ee-4a0b-d793-da9de18b0204"
      },
      "source": [
        "#if문 - or/|(둘 중 하나라도 True면 True)\r\n",
        "#if문 - and/&(둘 다 True여야만 True)\r\n",
        "#if문 - not(not True == False, not False == True)\r\n",
        "money = 2000\r\n",
        "card = 1\r\n",
        "if money >= 3000 or card:\r\n",
        "    print(\"택시를 타고 가라\")\r\n",
        "else:\r\n",
        "    print(\"걸어 가라\")"
      ],
      "execution_count": 14,
      "outputs": [
        {
          "output_type": "stream",
          "text": [
            "택시를 타고 가라\n"
          ],
          "name": "stdout"
        }
      ]
    },
    {
      "cell_type": "code",
      "metadata": {
        "colab": {
          "base_uri": "https://localhost:8080/"
        },
        "id": "Jp6W6c7zNp3L",
        "outputId": "c9952d9e-4421-48f1-9a54-6b63cd20f2c4"
      },
      "source": [
        "#if문 - in\r\n",
        "\r\n",
        "if 1 in [1,2,3]:\r\n",
        "    print(\"있습니다\")\r\n",
        "else:\r\n",
        "    print(\"없습니다\")"
      ],
      "execution_count": 15,
      "outputs": [
        {
          "output_type": "stream",
          "text": [
            "있습니다\n"
          ],
          "name": "stdout"
        }
      ]
    },
    {
      "cell_type": "code",
      "metadata": {
        "id": "XRLo9XRXPYdr"
      },
      "source": [
        "#if문 - pass\r\n",
        "\r\n",
        "if 1 in [1,2,3]:\r\n",
        "    pass\r\n",
        "else:\r\n",
        "    print(\"다시 입력해주세요\")"
      ],
      "execution_count": 17,
      "outputs": []
    },
    {
      "cell_type": "code",
      "metadata": {
        "colab": {
          "base_uri": "https://localhost:8080/"
        },
        "id": "Z87BMNeIPv0S",
        "outputId": "8e727726-025a-4d94-a607-97c2cfb62989"
      },
      "source": [
        "#다중조건문 - elif\r\n",
        "\r\n",
        "pocket = ['paper','cellphone']\r\n",
        "card = True\r\n",
        "if 'money' in pocket:\r\n",
        "    pass\r\n",
        "elif card:\r\n",
        "    print(\"택시를 타고가라\")\r\n",
        "else:\r\n",
        "    print(\"걸어가라\")"
      ],
      "execution_count": 18,
      "outputs": [
        {
          "output_type": "stream",
          "text": [
            "택시를 타고가라\n"
          ],
          "name": "stdout"
        }
      ]
    },
    {
      "cell_type": "code",
      "metadata": {
        "colab": {
          "base_uri": "https://localhost:8080/"
        },
        "id": "payB1RXxQdrl",
        "outputId": "64f125a4-3315-4bca-cc62-9b293e3a9647"
      },
      "source": [
        "#if문 - 조건부 표현식(성공일 때의 조건을 먼저 써준 후, 조건식을 써준다)\r\n",
        "score = 70\r\n",
        "message = \"success\" if score >= 60 else \"failure\"\r\n",
        "print(message)"
      ],
      "execution_count": 21,
      "outputs": [
        {
          "output_type": "stream",
          "text": [
            "success\n"
          ],
          "name": "stdout"
        }
      ]
    },
    {
      "cell_type": "markdown",
      "metadata": {
        "id": "RwsBWuPGZBR_"
      },
      "source": [
        "### While문"
      ]
    },
    {
      "cell_type": "code",
      "metadata": {
        "colab": {
          "base_uri": "https://localhost:8080/"
        },
        "id": "BlZqfvLDRgeF",
        "outputId": "dacdf523-567b-40a6-d69d-5aed42ba0189"
      },
      "source": [
        "#while문\r\n",
        "treeHit = 0\r\n",
        "while treeHit < 10:\r\n",
        "    treeHit += 1\r\n",
        "    print(\"나무를 %d번 찍었습니다.\" % treeHit)\r\n",
        "    if treeHit == 10:\r\n",
        "        print(\"나무 넘어갑니다.\")"
      ],
      "execution_count": 22,
      "outputs": [
        {
          "output_type": "stream",
          "text": [
            "나무를 1번 찍었습니다.\n",
            "나무를 2번 찍었습니다.\n",
            "나무를 3번 찍었습니다.\n",
            "나무를 4번 찍었습니다.\n",
            "나무를 5번 찍었습니다.\n",
            "나무를 6번 찍었습니다.\n",
            "나무를 7번 찍었습니다.\n",
            "나무를 8번 찍었습니다.\n",
            "나무를 9번 찍었습니다.\n",
            "나무를 10번 찍었습니다.\n",
            "나무 넘어갑니다.\n"
          ],
          "name": "stdout"
        }
      ]
    },
    {
      "cell_type": "code",
      "metadata": {
        "colab": {
          "base_uri": "https://localhost:8080/"
        },
        "id": "XeJ_Ct_WVYfr",
        "outputId": "e669b48f-b6c0-473e-bea4-f652a4075480"
      },
      "source": [
        "#while문 - break(반복 중지)\r\n",
        "coffee = 10\r\n",
        "money = 30\r\n",
        "while money:\r\n",
        "    print(\"돈을 받았으니 커피를 줍니다\")\r\n",
        "    coffee -= 1\r\n",
        "    print(\"남은 커피 양은 %d개 입니다\" % coffee)\r\n",
        "    if not coffee:\r\n",
        "        print(\"커피가 다 떨어졌습니다. 판매를 종료합니다\")\r\n",
        "        break"
      ],
      "execution_count": 23,
      "outputs": [
        {
          "output_type": "stream",
          "text": [
            "돈을 받았으니 커피를 줍니다\n",
            "남은 커피 양은 9개 입니다\n",
            "돈을 받았으니 커피를 줍니다\n",
            "남은 커피 양은 8개 입니다\n",
            "돈을 받았으니 커피를 줍니다\n",
            "남은 커피 양은 7개 입니다\n",
            "돈을 받았으니 커피를 줍니다\n",
            "남은 커피 양은 6개 입니다\n",
            "돈을 받았으니 커피를 줍니다\n",
            "남은 커피 양은 5개 입니다\n",
            "돈을 받았으니 커피를 줍니다\n",
            "남은 커피 양은 4개 입니다\n",
            "돈을 받았으니 커피를 줍니다\n",
            "남은 커피 양은 3개 입니다\n",
            "돈을 받았으니 커피를 줍니다\n",
            "남은 커피 양은 2개 입니다\n",
            "돈을 받았으니 커피를 줍니다\n",
            "남은 커피 양은 1개 입니다\n",
            "돈을 받았으니 커피를 줍니다\n",
            "남은 커피 양은 0개 입니다\n",
            "커피가 다 떨어졌습니다. 판매를 종료합니다\n"
          ],
          "name": "stdout"
        }
      ]
    },
    {
      "cell_type": "code",
      "metadata": {
        "colab": {
          "base_uri": "https://localhost:8080/"
        },
        "id": "4OFWakcnXM2F",
        "outputId": "38a26d3d-3ba9-4e9e-def3-16086e76bad4"
      },
      "source": [
        "#while문 - continue(반복문 첫 구문으로 돌아가기)\r\n",
        "a = 0\r\n",
        "while a < 10:\r\n",
        "    a += 1\r\n",
        "    if a % 2 == 0:\r\n",
        "        continue\r\n",
        "    print(a)"
      ],
      "execution_count": 24,
      "outputs": [
        {
          "output_type": "stream",
          "text": [
            "1\n",
            "3\n",
            "5\n",
            "7\n",
            "9\n"
          ],
          "name": "stdout"
        }
      ]
    },
    {
      "cell_type": "markdown",
      "metadata": {
        "id": "0iLdgo_vZZgh"
      },
      "source": [
        "###for문"
      ]
    },
    {
      "cell_type": "code",
      "metadata": {
        "colab": {
          "base_uri": "https://localhost:8080/"
        },
        "id": "82ThCE5sYrFS",
        "outputId": "99933062-68e7-4ea4-8c94-b45a600e8547"
      },
      "source": [
        "test_list = ['one', 'two', 'three']\r\n",
        "for i in test_list:\r\n",
        "    print(i)"
      ],
      "execution_count": 25,
      "outputs": [
        {
          "output_type": "stream",
          "text": [
            "one\n",
            "two\n",
            "three\n"
          ],
          "name": "stdout"
        }
      ]
    },
    {
      "cell_type": "code",
      "metadata": {
        "colab": {
          "base_uri": "https://localhost:8080/"
        },
        "id": "6rnXG9JuZ9Rh",
        "outputId": "92040e83-5c4f-467f-a84a-34410cd6aefa"
      },
      "source": [
        "a= [(1,2),(3,4),(5,6)]\r\n",
        "for (first,last) in a:\r\n",
        "    print(first + last)"
      ],
      "execution_count": 28,
      "outputs": [
        {
          "output_type": "stream",
          "text": [
            "3\n",
            "7\n",
            "11\n"
          ],
          "name": "stdout"
        }
      ]
    },
    {
      "cell_type": "code",
      "metadata": {
        "colab": {
          "base_uri": "https://localhost:8080/"
        },
        "id": "Mjv7LCGlf5OU",
        "outputId": "14c27860-e08b-4fbd-be65-a2aafb12a5cb"
      },
      "source": [
        "marks = [90, 25, 67, 45, 80]\r\n",
        "number = 0\r\n",
        "for mark in marks:\r\n",
        "    number += 1\r\n",
        "    if mark >= 60:\r\n",
        "        print(\"%d번 학생은 합격입니다.\" % number)\r\n",
        "    else:\r\n",
        "        print(\"%d번 학생은 불합격입니다\" % number)"
      ],
      "execution_count": 29,
      "outputs": [
        {
          "output_type": "stream",
          "text": [
            "1번 학생은 합격입니다.\n",
            "2번 학생은 불합격입니다\n",
            "3번 학생은 합격입니다.\n",
            "4번 학생은 불합격입니다\n",
            "5번 학생은 합격입니다.\n"
          ],
          "name": "stdout"
        }
      ]
    },
    {
      "cell_type": "code",
      "metadata": {
        "colab": {
          "base_uri": "https://localhost:8080/"
        },
        "id": "Bqr5uF7nhb0U",
        "outputId": "98298e29-1a3d-4836-e2b1-611dcf613d81"
      },
      "source": [
        "#for문 - continue\r\n",
        "marks = [90, 25, 67, 45, 80]\r\n",
        "number = 0\r\n",
        "for mark in marks:\r\n",
        "    number += 1\r\n",
        "    if mark < 60: continue\r\n",
        "    print(\"%d번 학생은 합격입니다.\" % number)"
      ],
      "execution_count": 31,
      "outputs": [
        {
          "output_type": "stream",
          "text": [
            "1번 학생은 합격입니다.\n",
            "3번 학생은 합격입니다.\n",
            "5번 학생은 합격입니다.\n"
          ],
          "name": "stdout"
        }
      ]
    },
    {
      "cell_type": "code",
      "metadata": {
        "colab": {
          "base_uri": "https://localhost:8080/"
        },
        "id": "aNu_JDrliWpQ",
        "outputId": "cad4ebf6-352d-45a7-ad9b-ec29db0d40dd"
      },
      "source": [
        "#for문-range\r\n",
        "sum = 0\r\n",
        "for i in range(1,11):\r\n",
        "    sum += i\r\n",
        "print(sum)"
      ],
      "execution_count": 32,
      "outputs": [
        {
          "output_type": "stream",
          "text": [
            "55\n"
          ],
          "name": "stdout"
        }
      ]
    },
    {
      "cell_type": "code",
      "metadata": {
        "colab": {
          "base_uri": "https://localhost:8080/"
        },
        "id": "nwRE0QoRjSpq",
        "outputId": "a167ff39-8e4f-47ce-cb0a-7e8750fa7e3a"
      },
      "source": [
        "#이중for문\r\n",
        "for i in range(2,10):\r\n",
        "    for j in range(1,10):\r\n",
        "        print(i*j, end=\" \")\r\n",
        "    print('')"
      ],
      "execution_count": 35,
      "outputs": [
        {
          "output_type": "stream",
          "text": [
            "2 4 6 8 10 12 14 16 18 \n",
            "3 6 9 12 15 18 21 24 27 \n",
            "4 8 12 16 20 24 28 32 36 \n",
            "5 10 15 20 25 30 35 40 45 \n",
            "6 12 18 24 30 36 42 48 54 \n",
            "7 14 21 28 35 42 49 56 63 \n",
            "8 16 24 32 40 48 56 64 72 \n",
            "9 18 27 36 45 54 63 72 81 \n"
          ],
          "name": "stdout"
        }
      ]
    },
    {
      "cell_type": "code",
      "metadata": {
        "colab": {
          "base_uri": "https://localhost:8080/"
        },
        "id": "z0CZPkBXkL0f",
        "outputId": "f41da4ab-63b8-4c65-fc0f-125ffffaf8d3"
      },
      "source": [
        "#for문 - List comprehension\r\n",
        "a = [1,2,3,4,5]\r\n",
        "result = [num * 3 for num in a]\r\n",
        "print(result)"
      ],
      "execution_count": 36,
      "outputs": [
        {
          "output_type": "stream",
          "text": [
            "[3, 6, 9, 12, 15]\n"
          ],
          "name": "stdout"
        }
      ]
    },
    {
      "cell_type": "code",
      "metadata": {
        "colab": {
          "base_uri": "https://localhost:8080/"
        },
        "id": "p9vHNcIkmFLr",
        "outputId": "c076c94f-f30b-411c-e67b-de42fc99f864"
      },
      "source": [
        "#for문 - List comprehension(뒤에 조건 추가)\r\n",
        "a = [1,2,3,4,5]\r\n",
        "result = [num * 3 for num in a if num%2==0]\r\n",
        "print(result)"
      ],
      "execution_count": 37,
      "outputs": [
        {
          "output_type": "stream",
          "text": [
            "[6, 12]\n"
          ],
          "name": "stdout"
        }
      ]
    },
    {
      "cell_type": "code",
      "metadata": {
        "colab": {
          "base_uri": "https://localhost:8080/"
        },
        "id": "ZZtsnxyYmOAL",
        "outputId": "c5ae34ed-d770-4164-a408-4fb70bef1f43"
      },
      "source": [
        "#for문 - List comprehension(이중for문)\r\n",
        "result = [x*y for x in range(2,10) for y in range(1,10)]\r\n",
        "print(result)"
      ],
      "execution_count": 39,
      "outputs": [
        {
          "output_type": "stream",
          "text": [
            "[2, 4, 6, 8, 10, 12, 14, 16, 18, 3, 6, 9, 12, 15, 18, 21, 24, 27, 4, 8, 12, 16, 20, 24, 28, 32, 36, 5, 10, 15, 20, 25, 30, 35, 40, 45, 6, 12, 18, 24, 30, 36, 42, 48, 54, 7, 14, 21, 28, 35, 42, 49, 56, 63, 8, 16, 24, 32, 40, 48, 56, 64, 72, 9, 18, 27, 36, 45, 54, 63, 72, 81]\n"
          ],
          "name": "stdout"
        }
      ]
    },
    {
      "cell_type": "code",
      "metadata": {
        "id": "PpDtbPWkmban"
      },
      "source": [
        ""
      ],
      "execution_count": null,
      "outputs": []
    }
  ]
}