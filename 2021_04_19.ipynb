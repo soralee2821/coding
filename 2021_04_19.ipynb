{
  "nbformat": 4,
  "nbformat_minor": 0,
  "metadata": {
    "colab": {
      "name": "2021-04-19.ipynb",
      "provenance": [],
      "authorship_tag": "ABX9TyOng6+JlGHIsl0kTgQeqBvT",
      "include_colab_link": true
    },
    "kernelspec": {
      "name": "python3",
      "display_name": "Python 3"
    },
    "language_info": {
      "name": "python"
    }
  },
  "cells": [
    {
      "cell_type": "markdown",
      "metadata": {
        "id": "view-in-github",
        "colab_type": "text"
      },
      "source": [
        "<a href=\"https://colab.research.google.com/github/soralee2821/coding/blob/master/2021_04_19.ipynb\" target=\"_parent\"><img src=\"https://colab.research.google.com/assets/colab-badge.svg\" alt=\"Open In Colab\"/></a>"
      ]
    },
    {
      "cell_type": "markdown",
      "metadata": {
        "id": "F3uOZYMLDRF8"
      },
      "source": [
        "##JSON"
      ]
    },
    {
      "cell_type": "code",
      "metadata": {
        "colab": {
          "base_uri": "https://localhost:8080/"
        },
        "id": "0WzGxM02d-KJ",
        "outputId": "290b2836-ab11-4629-cf52-c18b8f5bc2f9"
      },
      "source": [
        "#python -> json as string\n",
        "import json\n",
        "\n",
        "person = {'name':'John','age':30, 'city':'New York', 'titles': ['engineer','programmer']}\n",
        "\n",
        "personJSON = json.dumps(person)\n",
        "print(personJSON)"
      ],
      "execution_count": 1,
      "outputs": [
        {
          "output_type": "stream",
          "text": [
            "{\"name\": \"John\", \"age\": 30, \"city\": \"New York\", \"titles\": [\"engineer\", \"programmer\"]}\n"
          ],
          "name": "stdout"
        }
      ]
    },
    {
      "cell_type": "code",
      "metadata": {
        "colab": {
          "base_uri": "https://localhost:8080/"
        },
        "id": "rxXiM-S0fK_h",
        "outputId": "b8085b0d-b315-46d9-e1cb-6fa83395b211"
      },
      "source": [
        "#add indent\n",
        "import json\n",
        "\n",
        "person = {'name':'John','age':30, 'city':'New York', 'titles': ['engineer','programmer']}\n",
        "\n",
        "personJSON = json.dumps(person, indent=4)\n",
        "print(personJSON)"
      ],
      "execution_count": 2,
      "outputs": [
        {
          "output_type": "stream",
          "text": [
            "{\n",
            "    \"name\": \"John\",\n",
            "    \"age\": 30,\n",
            "    \"city\": \"New York\",\n",
            "    \"titles\": [\n",
            "        \"engineer\",\n",
            "        \"programmer\"\n",
            "    ]\n",
            "}\n"
          ],
          "name": "stdout"
        }
      ]
    },
    {
      "cell_type": "code",
      "metadata": {
        "colab": {
          "base_uri": "https://localhost:8080/"
        },
        "id": "7vM2cdbvfPeK",
        "outputId": "d08a824e-753b-4889-92e4-b4e93fdfc103"
      },
      "source": [
        "#replace ; to =\n",
        "import json\n",
        "\n",
        "person = {'name':'John','age':30, 'city':'New York', 'titles': ['engineer','programmer']}\n",
        "\n",
        "personJSON = json.dumps(person, indent=4, separators=('; ','= '))\n",
        "print(personJSON)"
      ],
      "execution_count": 3,
      "outputs": [
        {
          "output_type": "stream",
          "text": [
            "{\n",
            "    \"name\"= \"John\"; \n",
            "    \"age\"= 30; \n",
            "    \"city\"= \"New York\"; \n",
            "    \"titles\"= [\n",
            "        \"engineer\"; \n",
            "        \"programmer\"\n",
            "    ]\n",
            "}\n"
          ],
          "name": "stdout"
        }
      ]
    },
    {
      "cell_type": "code",
      "metadata": {
        "colab": {
          "base_uri": "https://localhost:8080/"
        },
        "id": "cRMMhAf8ftej",
        "outputId": "e6b9aa67-cceb-4489-cae3-9e1b50f71a21"
      },
      "source": [
        "#sort keys\n",
        "import json\n",
        "\n",
        "person = {'name':'John','age':30, 'city':'New York', 'titles': ['engineer','programmer']}\n",
        "\n",
        "personJSON = json.dumps(person, indent=4, sort_keys=True)\n",
        "print(personJSON)"
      ],
      "execution_count": 4,
      "outputs": [
        {
          "output_type": "stream",
          "text": [
            "{\n",
            "    \"age\": 30,\n",
            "    \"city\": \"New York\",\n",
            "    \"name\": \"John\",\n",
            "    \"titles\": [\n",
            "        \"engineer\",\n",
            "        \"programmer\"\n",
            "    ]\n",
            "}\n"
          ],
          "name": "stdout"
        }
      ]
    },
    {
      "cell_type": "code",
      "metadata": {
        "colab": {
          "base_uri": "https://localhost:8080/"
        },
        "id": "1EUAwiMPgAQM",
        "outputId": "cd65eca3-1ad4-40be-efc0-dacf6386b45f"
      },
      "source": [
        "#make json file \n",
        "import json\n",
        "\n",
        "person = {'name':'John','age':30, 'city':'New York', 'titles': ['engineer','programmer']}\n",
        "\n",
        "personJSON = json.dumps(person, indent=4, sort_keys=True)\n",
        "print(personJSON)\n",
        "\n",
        "with open('person.json', 'w') as file:\n",
        "  json.dump(person, file)"
      ],
      "execution_count": 5,
      "outputs": [
        {
          "output_type": "stream",
          "text": [
            "{\n",
            "    \"age\": 30,\n",
            "    \"city\": \"New York\",\n",
            "    \"name\": \"John\",\n",
            "    \"titles\": [\n",
            "        \"engineer\",\n",
            "        \"programmer\"\n",
            "    ]\n",
            "}\n"
          ],
          "name": "stdout"
        }
      ]
    },
    {
      "cell_type": "code",
      "metadata": {
        "colab": {
          "base_uri": "https://localhost:8080/"
        },
        "id": "iNqV3kyNgSzE",
        "outputId": "c485ca2e-59f8-4f36-91a1-971ed8ddb4d4"
      },
      "source": [
        "import json\n",
        "\n",
        "person = {'name':'John','age':30, 'city':'New York', 'titles': ['engineer','programmer']}\n",
        "\n",
        "personJSON = json.dumps(person, indent=4, sort_keys=True)\n",
        "print(personJSON)\n",
        "\n",
        "with open('person.json', 'w') as file:\n",
        "  json.dump(person, file, indent=4)"
      ],
      "execution_count": 6,
      "outputs": [
        {
          "output_type": "stream",
          "text": [
            "{\n",
            "    \"age\": 30,\n",
            "    \"city\": \"New York\",\n",
            "    \"name\": \"John\",\n",
            "    \"titles\": [\n",
            "        \"engineer\",\n",
            "        \"programmer\"\n",
            "    ]\n",
            "}\n"
          ],
          "name": "stdout"
        }
      ]
    },
    {
      "cell_type": "code",
      "metadata": {
        "colab": {
          "base_uri": "https://localhost:8080/"
        },
        "id": "rf7A8UIEgqbO",
        "outputId": "3aded700-a473-41a6-8fa6-f34f5e9e274c"
      },
      "source": [
        "#json -> python as string\n",
        "import json\n",
        "\n",
        "person = {'name':'John','age':30, 'city':'New York', 'titles': ['engineer','programmer']}\n",
        "\n",
        "personJSON = json.dumps(person, indent=4, sort_keys=True)\n",
        "\n",
        "person = json.loads(personJSON)\n",
        "print(person)"
      ],
      "execution_count": 7,
      "outputs": [
        {
          "output_type": "stream",
          "text": [
            "{'age': 30, 'city': 'New York', 'name': 'John', 'titles': ['engineer', 'programmer']}\n"
          ],
          "name": "stdout"
        }
      ]
    },
    {
      "cell_type": "code",
      "metadata": {
        "colab": {
          "base_uri": "https://localhost:8080/"
        },
        "id": "SsfZ1jjShPx4",
        "outputId": "127994df-f2a6-4c1f-94f8-873e9243eaad"
      },
      "source": [
        "#json file -> python\n",
        "import json\n",
        "\n",
        "person = {'name':'John','age':30, 'city':'New York', 'titles': ['engineer','programmer']}\n",
        "\n",
        "personJSON = json.dumps(person, indent=4, sort_keys=True)\n",
        "\n",
        "with open('person.json','r') as file:\n",
        "  person = json.load(file)\n",
        "  print(person)"
      ],
      "execution_count": 8,
      "outputs": [
        {
          "output_type": "stream",
          "text": [
            "{'name': 'John', 'age': 30, 'city': 'New York', 'titles': ['engineer', 'programmer']}\n"
          ],
          "name": "stdout"
        }
      ]
    },
    {
      "cell_type": "code",
      "metadata": {
        "colab": {
          "base_uri": "https://localhost:8080/",
          "height": 351
        },
        "id": "BVkp53CLhvwR",
        "outputId": "84ce722f-7827-46d6-a014-792bbddad487"
      },
      "source": [
        "#custom class\n",
        "import json\n",
        "\n",
        "class User:\n",
        "    \n",
        "    def __init__(self, name, age):\n",
        "        self.name = name\n",
        "        self.age = age\n",
        "\n",
        "user = User('Max', 27)\n",
        "\n",
        "userJSON = json.dumps(user)"
      ],
      "execution_count": 10,
      "outputs": [
        {
          "output_type": "error",
          "ename": "TypeError",
          "evalue": "ignored",
          "traceback": [
            "\u001b[0;31m---------------------------------------------------------------------------\u001b[0m",
            "\u001b[0;31mTypeError\u001b[0m                                 Traceback (most recent call last)",
            "\u001b[0;32m<ipython-input-10-e87b250342ef>\u001b[0m in \u001b[0;36m<module>\u001b[0;34m()\u001b[0m\n\u001b[1;32m     10\u001b[0m \u001b[0muser\u001b[0m \u001b[0;34m=\u001b[0m \u001b[0mUser\u001b[0m\u001b[0;34m(\u001b[0m\u001b[0;34m'Max'\u001b[0m\u001b[0;34m,\u001b[0m \u001b[0;36m27\u001b[0m\u001b[0;34m)\u001b[0m\u001b[0;34m\u001b[0m\u001b[0;34m\u001b[0m\u001b[0m\n\u001b[1;32m     11\u001b[0m \u001b[0;34m\u001b[0m\u001b[0m\n\u001b[0;32m---> 12\u001b[0;31m \u001b[0muserJSON\u001b[0m \u001b[0;34m=\u001b[0m \u001b[0mjson\u001b[0m\u001b[0;34m.\u001b[0m\u001b[0mdumps\u001b[0m\u001b[0;34m(\u001b[0m\u001b[0muser\u001b[0m\u001b[0;34m)\u001b[0m\u001b[0;34m\u001b[0m\u001b[0;34m\u001b[0m\u001b[0m\n\u001b[0m",
            "\u001b[0;32m/usr/lib/python3.7/json/__init__.py\u001b[0m in \u001b[0;36mdumps\u001b[0;34m(obj, skipkeys, ensure_ascii, check_circular, allow_nan, cls, indent, separators, default, sort_keys, **kw)\u001b[0m\n\u001b[1;32m    229\u001b[0m         \u001b[0mcls\u001b[0m \u001b[0;32mis\u001b[0m \u001b[0;32mNone\u001b[0m \u001b[0;32mand\u001b[0m \u001b[0mindent\u001b[0m \u001b[0;32mis\u001b[0m \u001b[0;32mNone\u001b[0m \u001b[0;32mand\u001b[0m \u001b[0mseparators\u001b[0m \u001b[0;32mis\u001b[0m \u001b[0;32mNone\u001b[0m \u001b[0;32mand\u001b[0m\u001b[0;34m\u001b[0m\u001b[0;34m\u001b[0m\u001b[0m\n\u001b[1;32m    230\u001b[0m         default is None and not sort_keys and not kw):\n\u001b[0;32m--> 231\u001b[0;31m         \u001b[0;32mreturn\u001b[0m \u001b[0m_default_encoder\u001b[0m\u001b[0;34m.\u001b[0m\u001b[0mencode\u001b[0m\u001b[0;34m(\u001b[0m\u001b[0mobj\u001b[0m\u001b[0;34m)\u001b[0m\u001b[0;34m\u001b[0m\u001b[0;34m\u001b[0m\u001b[0m\n\u001b[0m\u001b[1;32m    232\u001b[0m     \u001b[0;32mif\u001b[0m \u001b[0mcls\u001b[0m \u001b[0;32mis\u001b[0m \u001b[0;32mNone\u001b[0m\u001b[0;34m:\u001b[0m\u001b[0;34m\u001b[0m\u001b[0;34m\u001b[0m\u001b[0m\n\u001b[1;32m    233\u001b[0m         \u001b[0mcls\u001b[0m \u001b[0;34m=\u001b[0m \u001b[0mJSONEncoder\u001b[0m\u001b[0;34m\u001b[0m\u001b[0;34m\u001b[0m\u001b[0m\n",
            "\u001b[0;32m/usr/lib/python3.7/json/encoder.py\u001b[0m in \u001b[0;36mencode\u001b[0;34m(self, o)\u001b[0m\n\u001b[1;32m    197\u001b[0m         \u001b[0;31m# exceptions aren't as detailed.  The list call should be roughly\u001b[0m\u001b[0;34m\u001b[0m\u001b[0;34m\u001b[0m\u001b[0;34m\u001b[0m\u001b[0m\n\u001b[1;32m    198\u001b[0m         \u001b[0;31m# equivalent to the PySequence_Fast that ''.join() would do.\u001b[0m\u001b[0;34m\u001b[0m\u001b[0;34m\u001b[0m\u001b[0;34m\u001b[0m\u001b[0m\n\u001b[0;32m--> 199\u001b[0;31m         \u001b[0mchunks\u001b[0m \u001b[0;34m=\u001b[0m \u001b[0mself\u001b[0m\u001b[0;34m.\u001b[0m\u001b[0miterencode\u001b[0m\u001b[0;34m(\u001b[0m\u001b[0mo\u001b[0m\u001b[0;34m,\u001b[0m \u001b[0m_one_shot\u001b[0m\u001b[0;34m=\u001b[0m\u001b[0;32mTrue\u001b[0m\u001b[0;34m)\u001b[0m\u001b[0;34m\u001b[0m\u001b[0;34m\u001b[0m\u001b[0m\n\u001b[0m\u001b[1;32m    200\u001b[0m         \u001b[0;32mif\u001b[0m \u001b[0;32mnot\u001b[0m \u001b[0misinstance\u001b[0m\u001b[0;34m(\u001b[0m\u001b[0mchunks\u001b[0m\u001b[0;34m,\u001b[0m \u001b[0;34m(\u001b[0m\u001b[0mlist\u001b[0m\u001b[0;34m,\u001b[0m \u001b[0mtuple\u001b[0m\u001b[0;34m)\u001b[0m\u001b[0;34m)\u001b[0m\u001b[0;34m:\u001b[0m\u001b[0;34m\u001b[0m\u001b[0;34m\u001b[0m\u001b[0m\n\u001b[1;32m    201\u001b[0m             \u001b[0mchunks\u001b[0m \u001b[0;34m=\u001b[0m \u001b[0mlist\u001b[0m\u001b[0;34m(\u001b[0m\u001b[0mchunks\u001b[0m\u001b[0;34m)\u001b[0m\u001b[0;34m\u001b[0m\u001b[0;34m\u001b[0m\u001b[0m\n",
            "\u001b[0;32m/usr/lib/python3.7/json/encoder.py\u001b[0m in \u001b[0;36miterencode\u001b[0;34m(self, o, _one_shot)\u001b[0m\n\u001b[1;32m    255\u001b[0m                 \u001b[0mself\u001b[0m\u001b[0;34m.\u001b[0m\u001b[0mkey_separator\u001b[0m\u001b[0;34m,\u001b[0m \u001b[0mself\u001b[0m\u001b[0;34m.\u001b[0m\u001b[0mitem_separator\u001b[0m\u001b[0;34m,\u001b[0m \u001b[0mself\u001b[0m\u001b[0;34m.\u001b[0m\u001b[0msort_keys\u001b[0m\u001b[0;34m,\u001b[0m\u001b[0;34m\u001b[0m\u001b[0;34m\u001b[0m\u001b[0m\n\u001b[1;32m    256\u001b[0m                 self.skipkeys, _one_shot)\n\u001b[0;32m--> 257\u001b[0;31m         \u001b[0;32mreturn\u001b[0m \u001b[0m_iterencode\u001b[0m\u001b[0;34m(\u001b[0m\u001b[0mo\u001b[0m\u001b[0;34m,\u001b[0m \u001b[0;36m0\u001b[0m\u001b[0;34m)\u001b[0m\u001b[0;34m\u001b[0m\u001b[0;34m\u001b[0m\u001b[0m\n\u001b[0m\u001b[1;32m    258\u001b[0m \u001b[0;34m\u001b[0m\u001b[0m\n\u001b[1;32m    259\u001b[0m def _make_iterencode(markers, _default, _encoder, _indent, _floatstr,\n",
            "\u001b[0;32m/usr/lib/python3.7/json/encoder.py\u001b[0m in \u001b[0;36mdefault\u001b[0;34m(self, o)\u001b[0m\n\u001b[1;32m    177\u001b[0m \u001b[0;34m\u001b[0m\u001b[0m\n\u001b[1;32m    178\u001b[0m         \"\"\"\n\u001b[0;32m--> 179\u001b[0;31m         raise TypeError(f'Object of type {o.__class__.__name__} '\n\u001b[0m\u001b[1;32m    180\u001b[0m                         f'is not JSON serializable')\n\u001b[1;32m    181\u001b[0m \u001b[0;34m\u001b[0m\u001b[0m\n",
            "\u001b[0;31mTypeError\u001b[0m: Object of type User is not JSON serializable"
          ]
        }
      ]
    },
    {
      "cell_type": "code",
      "metadata": {
        "colab": {
          "base_uri": "https://localhost:8080/"
        },
        "id": "4F6C8rtdmSY_",
        "outputId": "ca477360-4c0f-4225-f1cb-bfe2767336bc"
      },
      "source": [
        "#encode customed object\n",
        "import json\n",
        "\n",
        "class User:\n",
        "    \n",
        "    def __init__(self, name, age):\n",
        "        self.name = name\n",
        "        self.age = age\n",
        "\n",
        "user = User('Max', 27)\n",
        "\n",
        "def encode_user(o):\n",
        "    if isinstance(o, User):\n",
        "        return {'name': o.name, 'age': o.age, o.__class__.__name__: True}\n",
        "    else:\n",
        "        raise TypeError('Object of type User is not JSON serializable')\n",
        "\n",
        "userJSON = json.dumps(user, default=encode_user)\n",
        "print(userJSON)"
      ],
      "execution_count": 11,
      "outputs": [
        {
          "output_type": "stream",
          "text": [
            "{\"name\": \"Max\", \"age\": 27, \"User\": true}\n"
          ],
          "name": "stdout"
        }
      ]
    },
    {
      "cell_type": "code",
      "metadata": {
        "colab": {
          "base_uri": "https://localhost:8080/"
        },
        "id": "2l6WSiDgm16l",
        "outputId": "e6f32637-480a-4ca9-a99f-4fc547c18ee1"
      },
      "source": [
        "#encode customed object 2\n",
        "import json\n",
        "from json import JSONEncoder\n",
        "\n",
        "class User:\n",
        "    \n",
        "    def __init__(self, name, age):\n",
        "        self.name = name\n",
        "        self.age = age\n",
        "\n",
        "user = User('Max', 27)\n",
        "\n",
        "class UserEncoder(JSONEncoder):\n",
        "    \n",
        "    def default(self, o):\n",
        "        if isinstance(o, User):\n",
        "            return {'name': o.name, 'age': o.age, o.__class__.__name__: True}\n",
        "        return JSONEncoder.default(self, o)\n",
        "\n",
        "userJSON = json.dumps(user, cls=UserEncoder)\n",
        "print(userJSON)"
      ],
      "execution_count": 12,
      "outputs": [
        {
          "output_type": "stream",
          "text": [
            "{\"name\": \"Max\", \"age\": 27, \"User\": true}\n"
          ],
          "name": "stdout"
        }
      ]
    },
    {
      "cell_type": "code",
      "metadata": {
        "colab": {
          "base_uri": "https://localhost:8080/"
        },
        "id": "6um4u8ABo-bM",
        "outputId": "7f9e8f7d-a478-4669-8c35-afb9af573007"
      },
      "source": [
        "#encode customed object 3\n",
        "import json\n",
        "from json import JSONEncoder\n",
        "\n",
        "class User:\n",
        "    \n",
        "    def __init__(self, name, age):\n",
        "        self.name = name\n",
        "        self.age = age\n",
        "\n",
        "user = User('Max', 27)\n",
        "\n",
        "class UserEncoder(JSONEncoder):\n",
        "    \n",
        "    def default(self, o):\n",
        "        if isinstance(o, User):\n",
        "            return {'name': o.name, 'age': o.age, o.__class__.__name__: True}\n",
        "        return JSONEncoder.default(self, o)\n",
        "\n",
        "userJSON = UserEncoder().encode(user)\n",
        "print(userJSON)"
      ],
      "execution_count": 13,
      "outputs": [
        {
          "output_type": "stream",
          "text": [
            "{\"name\": \"Max\", \"age\": 27, \"User\": true}\n"
          ],
          "name": "stdout"
        }
      ]
    },
    {
      "cell_type": "code",
      "metadata": {
        "colab": {
          "base_uri": "https://localhost:8080/"
        },
        "id": "CMPziHAtpMvP",
        "outputId": "f8a8c7d2-d1f8-4356-d3b7-d4a2fef1828c"
      },
      "source": [
        "#decode object\n",
        "import json\n",
        "from json import JSONEncoder\n",
        "\n",
        "class User:\n",
        "    \n",
        "    def __init__(self, name, age):\n",
        "        self.name = name\n",
        "        self.age = age\n",
        "\n",
        "user = User('Max', 27)\n",
        "\n",
        "class UserEncoder(JSONEncoder):\n",
        "    \n",
        "    def default(self, o):\n",
        "        if isinstance(o, User):\n",
        "            return {'name': o.name, 'age': o.age, o.__class__.__name__: True}\n",
        "        return JSONEncoder.default(self, o)\n",
        "\n",
        "userJSON = UserEncoder().encode(user)\n",
        "print(userJSON)\n",
        "\n",
        "def decode_user(dct):\n",
        "    if User.__name__ in dct:\n",
        "        return User(name=dct['name'], age=dct['age'])\n",
        "    return dct\n",
        "\n",
        "user = json.loads(userJSON, object_hook=decode_user)\n",
        "print(type(user))\n",
        "print(user.name)\n"
      ],
      "execution_count": 14,
      "outputs": [
        {
          "output_type": "stream",
          "text": [
            "{\"name\": \"Max\", \"age\": 27, \"User\": true}\n",
            "<class '__main__.User'>\n",
            "Max\n"
          ],
          "name": "stdout"
        }
      ]
    }
  ]
}