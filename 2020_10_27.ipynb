{
  "nbformat": 4,
  "nbformat_minor": 0,
  "metadata": {
    "colab": {
      "name": "2020-10-27.ipynb",
      "provenance": [],
      "authorship_tag": "ABX9TyNwWcW8Sz2snpnRLzrS+pTK",
      "include_colab_link": true
    },
    "kernelspec": {
      "name": "python3",
      "display_name": "Python 3"
    }
  },
  "cells": [
    {
      "cell_type": "markdown",
      "metadata": {
        "id": "view-in-github",
        "colab_type": "text"
      },
      "source": [
        "<a href=\"https://colab.research.google.com/github/soralee2821/coding/blob/master/2020_10_27.ipynb\" target=\"_parent\"><img src=\"https://colab.research.google.com/assets/colab-badge.svg\" alt=\"Open In Colab\"/></a>"
      ]
    },
    {
      "cell_type": "code",
      "metadata": {
        "id": "Jsk6IV801O_r",
        "outputId": "1590ae06-1700-41de-9cf3-94dbff96bfee",
        "colab": {
          "base_uri": "https://localhost:8080/",
          "height": 52
        }
      },
      "source": [
        "croa = ['c=','c-','dz=','d-','lj','nj','s=','z=']\n",
        "word = input()\n",
        "count = 0\n",
        "\n",
        "for i in range(len(croa)):\n",
        "  word = word.replace(croa[i],str(i))\n",
        "print(len(word))"
      ],
      "execution_count": 10,
      "outputs": [
        {
          "output_type": "stream",
          "text": [
            "ljes=njak\n",
            "6\n"
          ],
          "name": "stdout"
        }
      ]
    },
    {
      "cell_type": "code",
      "metadata": {
        "id": "VEdthnfK38Ke",
        "outputId": "39c23c76-9e81-457e-9137-85c5e9a0ddef",
        "colab": {
          "base_uri": "https://localhost:8080/",
          "height": 105
        }
      },
      "source": [
        "N = int(input())\n",
        "count = 0\n",
        "for i in range(N):\n",
        "  word = list(input())\n",
        "  for j in range(len(word)):\n",
        "    if j != len(word)-1:\n",
        "      if word[j] == word[j+1]:\n",
        "        pass\n",
        "      elif word[j] in word[j+1:]:\n",
        "          break\n",
        "    else:\n",
        "      count += 1\n",
        "print(count)"
      ],
      "execution_count": 11,
      "outputs": [
        {
          "output_type": "stream",
          "text": [
            "3\n",
            "happy\n",
            "new\n",
            "year\n",
            "3\n"
          ],
          "name": "stdout"
        }
      ]
    },
    {
      "cell_type": "code",
      "metadata": {
        "id": "SvWqd50oMu7_"
      },
      "source": [
        ""
      ],
      "execution_count": null,
      "outputs": []
    }
  ]
}