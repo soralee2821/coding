{
  "nbformat": 4,
  "nbformat_minor": 0,
  "metadata": {
    "colab": {
      "name": "2020-10-19.ipynb",
      "provenance": [],
      "authorship_tag": "ABX9TyMHguwpGIlDG42w4gwwHtfR",
      "include_colab_link": true
    },
    "kernelspec": {
      "name": "python3",
      "display_name": "Python 3"
    }
  },
  "cells": [
    {
      "cell_type": "markdown",
      "metadata": {
        "id": "view-in-github",
        "colab_type": "text"
      },
      "source": [
        "<a href=\"https://colab.research.google.com/github/soralee2821/coding/blob/master/2020_10_19.ipynb\" target=\"_parent\"><img src=\"https://colab.research.google.com/assets/colab-badge.svg\" alt=\"Open In Colab\"/></a>"
      ]
    },
    {
      "cell_type": "code",
      "metadata": {
        "id": "steXwpeujcpr",
        "outputId": "7eb4ba42-1cd6-466b-a47d-60e5a26dee03",
        "colab": {
          "base_uri": "https://localhost:8080/",
          "height": 210
        }
      },
      "source": [
        "B = []\n",
        "for _ in range(10):\n",
        "  a = int(input())\n",
        "  b = a%42\n",
        "  B.append(b)\n",
        "B = set(B)\n",
        "print(len(B))"
      ],
      "execution_count": 8,
      "outputs": [
        {
          "output_type": "stream",
          "text": [
            "39\n",
            "40\n",
            "41\n",
            "42\n",
            "43\n",
            "44\n",
            "82\n",
            "83\n",
            "84\n",
            "85\n",
            "6\n"
          ],
          "name": "stdout"
        }
      ]
    },
    {
      "cell_type": "code",
      "metadata": {
        "id": "XXokrGODkObO",
        "outputId": "06d8d05f-6578-47b2-fc2f-bc6b47433718",
        "colab": {
          "base_uri": "https://localhost:8080/",
          "height": 210
        }
      },
      "source": [
        "A = []\n",
        "B = []\n",
        "\n",
        "for _ in range(10):\n",
        "  A.append(int(input()))\n",
        "\n",
        "for a in A:\n",
        "  b = a%42\n",
        "  if b in B:\n",
        "    pass\n",
        "  else:\n",
        "    B.append(b)\n",
        "\n",
        "print(len(B))"
      ],
      "execution_count": 9,
      "outputs": [
        {
          "output_type": "stream",
          "text": [
            "39\n",
            "40\n",
            "41\n",
            "42\n",
            "43\n",
            "44\n",
            "82\n",
            "83\n",
            "84\n",
            "85\n",
            "6\n"
          ],
          "name": "stdout"
        }
      ]
    },
    {
      "cell_type": "code",
      "metadata": {
        "id": "DcSvY3kAtSVs",
        "outputId": "9273eccf-cd0f-4c42-8980-d273565c6cf7",
        "colab": {
          "base_uri": "https://localhost:8080/",
          "height": 70
        }
      },
      "source": [
        "N = int(input())\n",
        "score = [int(s) for s in input().split()]\n",
        "score_max = max(score)\n",
        "new_score = [(s/score_max)*100 for s in score]\n",
        "print(sum(new_score)/len(new_score))"
      ],
      "execution_count": 20,
      "outputs": [
        {
          "output_type": "stream",
          "text": [
            "3\n",
            "40 80 60\n",
            "75.0\n"
          ],
          "name": "stdout"
        }
      ]
    },
    {
      "cell_type": "code",
      "metadata": {
        "id": "-zjf4igLuCGL"
      },
      "source": [
        ""
      ],
      "execution_count": null,
      "outputs": []
    }
  ]
}