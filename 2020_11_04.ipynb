{
  "nbformat": 4,
  "nbformat_minor": 0,
  "metadata": {
    "colab": {
      "name": "2020-11-04.ipynb",
      "provenance": [],
      "authorship_tag": "ABX9TyPrqUvRXIQHuLFE+2EMvWwH",
      "include_colab_link": true
    },
    "kernelspec": {
      "name": "python3",
      "display_name": "Python 3"
    }
  },
  "cells": [
    {
      "cell_type": "markdown",
      "metadata": {
        "id": "view-in-github",
        "colab_type": "text"
      },
      "source": [
        "<a href=\"https://colab.research.google.com/github/soralee2821/coding/blob/master/2020_11_04.ipynb\" target=\"_parent\"><img src=\"https://colab.research.google.com/assets/colab-badge.svg\" alt=\"Open In Colab\"/></a>"
      ]
    },
    {
      "cell_type": "code",
      "metadata": {
        "id": "YjjVNASLDXOY",
        "outputId": "3d6eacdf-ee09-4906-ea53-cbf1de8fb958",
        "colab": {
          "base_uri": "https://localhost:8080/"
        }
      },
      "source": [
        "A, B, V =map(int, input().split())\n",
        "count = 0\n",
        "for i in range(100000000):\n",
        "    count += 1\n",
        "    V -= A\n",
        "    if V > 0:\n",
        "        V += B\n",
        "    else:\n",
        "      print(count)\n",
        "      break\n",
        "#시간 초과#"
      ],
      "execution_count": 7,
      "outputs": [
        {
          "output_type": "stream",
          "text": [
            "2 1 5\n",
            "4\n"
          ],
          "name": "stdout"
        }
      ]
    },
    {
      "cell_type": "code",
      "metadata": {
        "id": "iIdmOdxdD2Ue",
        "outputId": "97159f9e-e89c-48c8-9dc4-1127e09c803c",
        "colab": {
          "base_uri": "https://localhost:8080/"
        }
      },
      "source": [
        "A, B, V =map(int, input().split())\n",
        "count = 0\n",
        "if (V - B) % (A - B) != 0:\n",
        "    count = ((V - B) // (A - B)) + 1\n",
        "else:\n",
        "    count = ((V - B) // (A - B))\n",
        "print(count)"
      ],
      "execution_count": 8,
      "outputs": [
        {
          "output_type": "stream",
          "text": [
            "2 1 5\n",
            "4\n"
          ],
          "name": "stdout"
        }
      ]
    },
    {
      "cell_type": "code",
      "metadata": {
        "id": "XPmO2d49Hz4s"
      },
      "source": [
        ""
      ],
      "execution_count": null,
      "outputs": []
    }
  ]
}