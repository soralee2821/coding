{
  "nbformat": 4,
  "nbformat_minor": 0,
  "metadata": {
    "colab": {
      "name": "2021-05-01.ipynb",
      "provenance": [],
      "authorship_tag": "ABX9TyMBnXGyGoyEy0JIDMsaXREC",
      "include_colab_link": true
    },
    "kernelspec": {
      "name": "python3",
      "display_name": "Python 3"
    },
    "language_info": {
      "name": "python"
    }
  },
  "cells": [
    {
      "cell_type": "markdown",
      "metadata": {
        "id": "view-in-github",
        "colab_type": "text"
      },
      "source": [
        "<a href=\"https://colab.research.google.com/github/soralee2821/coding/blob/master/2021_05_01.ipynb\" target=\"_parent\"><img src=\"https://colab.research.google.com/assets/colab-badge.svg\" alt=\"Open In Colab\"/></a>"
      ]
    },
    {
      "cell_type": "markdown",
      "metadata": {
        "id": "kSv9SpD7eyi0"
      },
      "source": [
        "# Context Managers"
      ]
    },
    {
      "cell_type": "code",
      "metadata": {
        "id": "evKGWVRHZsuZ"
      },
      "source": [
        "with open('notes.txt','w') as file:\n",
        "    file.write('some todo...')"
      ],
      "execution_count": 1,
      "outputs": []
    },
    {
      "cell_type": "code",
      "metadata": {
        "id": "Es5qjfy5gGoq"
      },
      "source": [
        "from threading import Lock\n",
        "lock = Lock()\n",
        "with lock:\n",
        "  open('notes.txt','r')"
      ],
      "execution_count": 2,
      "outputs": []
    },
    {
      "cell_type": "code",
      "metadata": {
        "colab": {
          "base_uri": "https://localhost:8080/"
        },
        "id": "EQUen1NkgZZe",
        "outputId": "137aff8c-91eb-42d1-ead7-c88301547c27"
      },
      "source": [
        "class ManagedFile:\n",
        "    def __init__(self, filename):\n",
        "        print('init')\n",
        "        self.filename = filename\n",
        "    def __enter__(self):\n",
        "        print('enter')\n",
        "        self.file = open(self.filename, 'w')\n",
        "        return self.file\n",
        "    def __exit__(self, exc_type, exc_value, exc_traceback):\n",
        "        if self.file:\n",
        "            self.file.close()\n",
        "        print('exit')\n",
        "\n",
        "with ManagedFile('notes.txt') as file:\n",
        "    print('do some stuff...')\n",
        "    file.write('some todo...')        "
      ],
      "execution_count": 3,
      "outputs": [
        {
          "output_type": "stream",
          "text": [
            "init\n",
            "enter\n",
            "do some stuff...\n",
            "exit\n"
          ],
          "name": "stdout"
        }
      ]
    },
    {
      "cell_type": "code",
      "metadata": {
        "colab": {
          "base_uri": "https://localhost:8080/"
        },
        "id": "Leox2xUHh1D8",
        "outputId": "860f48a5-bb70-49e6-d9c1-aca84c9090c9"
      },
      "source": [
        "class ManagedFile:\n",
        "    def __init__(self, filename):\n",
        "        print('init')\n",
        "        self.filename = filename\n",
        "    def __enter__(self):\n",
        "        print('enter')\n",
        "        self.file = open(self.filename, 'w')\n",
        "        return self.file\n",
        "    def __exit__(self, exc_type, exc_value, exc_traceback):\n",
        "        if self.file:\n",
        "            self.file.close()\n",
        "        print('exc:', exc_type, exc_value)\n",
        "        print('exit')\n",
        "\n",
        "with ManagedFile('notes.txt') as file:\n",
        "    print('do some stuff...')\n",
        "    file.write('some todo...')\n",
        "print('continue...')"
      ],
      "execution_count": 4,
      "outputs": [
        {
          "output_type": "stream",
          "text": [
            "init\n",
            "enter\n",
            "do some stuff...\n",
            "exc: None None\n",
            "exit\n",
            "continue...\n"
          ],
          "name": "stdout"
        }
      ]
    },
    {
      "cell_type": "code",
      "metadata": {
        "colab": {
          "base_uri": "https://localhost:8080/",
          "height": 310
        },
        "id": "I8YzYEVhidbT",
        "outputId": "b168d36f-291c-4a65-f6bc-d19bb7a49bad"
      },
      "source": [
        "class ManagedFile:\n",
        "    def __init__(self, filename):\n",
        "        print('init')\n",
        "        self.filename = filename\n",
        "    def __enter__(self):\n",
        "        print('enter')\n",
        "        self.file = open(self.filename, 'w')\n",
        "        return self.file\n",
        "    def __exit__(self, exc_type, exc_value, exc_traceback):\n",
        "        if self.file:\n",
        "            self.file.close()\n",
        "        print('exc:', exc_type, exc_value)\n",
        "        print('exit')\n",
        "\n",
        "with ManagedFile('notes.txt') as file:\n",
        "    print('do some stuff...')\n",
        "    file.write('some todo...')\n",
        "    file.somemethod()\n",
        "print('continue...')"
      ],
      "execution_count": 5,
      "outputs": [
        {
          "output_type": "stream",
          "text": [
            "init\n",
            "enter\n",
            "do some stuff...\n",
            "exc: <class 'AttributeError'> '_io.TextIOWrapper' object has no attribute 'somemethod'\n",
            "exit\n"
          ],
          "name": "stdout"
        },
        {
          "output_type": "error",
          "ename": "AttributeError",
          "evalue": "ignored",
          "traceback": [
            "\u001b[0;31m---------------------------------------------------------------------------\u001b[0m",
            "\u001b[0;31mAttributeError\u001b[0m                            Traceback (most recent call last)",
            "\u001b[0;32m<ipython-input-5-6d3caf20969f>\u001b[0m in \u001b[0;36m<module>\u001b[0;34m()\u001b[0m\n\u001b[1;32m     16\u001b[0m     \u001b[0mprint\u001b[0m\u001b[0;34m(\u001b[0m\u001b[0;34m'do some stuff...'\u001b[0m\u001b[0;34m)\u001b[0m\u001b[0;34m\u001b[0m\u001b[0;34m\u001b[0m\u001b[0m\n\u001b[1;32m     17\u001b[0m     \u001b[0mfile\u001b[0m\u001b[0;34m.\u001b[0m\u001b[0mwrite\u001b[0m\u001b[0;34m(\u001b[0m\u001b[0;34m'some todo...'\u001b[0m\u001b[0;34m)\u001b[0m\u001b[0;34m\u001b[0m\u001b[0;34m\u001b[0m\u001b[0m\n\u001b[0;32m---> 18\u001b[0;31m     \u001b[0mfile\u001b[0m\u001b[0;34m.\u001b[0m\u001b[0msomemethod\u001b[0m\u001b[0;34m(\u001b[0m\u001b[0;34m)\u001b[0m\u001b[0;34m\u001b[0m\u001b[0;34m\u001b[0m\u001b[0m\n\u001b[0m\u001b[1;32m     19\u001b[0m \u001b[0mprint\u001b[0m\u001b[0;34m(\u001b[0m\u001b[0;34m'continue...'\u001b[0m\u001b[0;34m)\u001b[0m\u001b[0;34m\u001b[0m\u001b[0;34m\u001b[0m\u001b[0m\n",
            "\u001b[0;31mAttributeError\u001b[0m: '_io.TextIOWrapper' object has no attribute 'somemethod'"
          ]
        }
      ]
    },
    {
      "cell_type": "code",
      "metadata": {
        "colab": {
          "base_uri": "https://localhost:8080/"
        },
        "id": "G6GT5hpgipYi",
        "outputId": "25c2cebc-b032-4674-d705-cc82e8d057d8"
      },
      "source": [
        "class ManagedFile:\n",
        "    def __init__(self, filename):\n",
        "        print('init')\n",
        "        self.filename = filename\n",
        "    def __enter__(self):\n",
        "        print('enter')\n",
        "        self.file = open(self.filename, 'w')\n",
        "        return self.file\n",
        "    def __exit__(self, exc_type, exc_value, exc_traceback):\n",
        "        if self.file:\n",
        "            self.file.close()\n",
        "        if exc_type:\n",
        "            print('exception has been handled')\n",
        "        print('exit')\n",
        "        return True\n",
        "\n",
        "with ManagedFile('notes.txt') as file:\n",
        "    print('do some stuff...')\n",
        "    file.write('some todo...')\n",
        "    file.somemethod()\n",
        "print('continue...')"
      ],
      "execution_count": 6,
      "outputs": [
        {
          "output_type": "stream",
          "text": [
            "init\n",
            "enter\n",
            "do some stuff...\n",
            "exception has been handled\n",
            "exit\n",
            "continue...\n"
          ],
          "name": "stdout"
        }
      ]
    },
    {
      "cell_type": "code",
      "metadata": {
        "colab": {
          "base_uri": "https://localhost:8080/"
        },
        "id": "veupCZwojOCW",
        "outputId": "c84f83d7-92a2-46f9-fe40-f84752d526d1"
      },
      "source": [
        "from contextlib import contextmanager\n",
        "\n",
        "@contextmanager\n",
        "def open_managed_file(filename):\n",
        "    f = open(filename, 'w')\n",
        "    try:\n",
        "        yield file\n",
        "    finally:\n",
        "        f.close()\n",
        "\n",
        "open_managed_file('notes.txt')"
      ],
      "execution_count": 7,
      "outputs": [
        {
          "output_type": "execute_result",
          "data": {
            "text/plain": [
              "<contextlib._GeneratorContextManager at 0x7fdae0124b90>"
            ]
          },
          "metadata": {
            "tags": []
          },
          "execution_count": 7
        }
      ]
    }
  ]
}