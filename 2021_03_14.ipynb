{
  "nbformat": 4,
  "nbformat_minor": 0,
  "metadata": {
    "colab": {
      "name": "2021-03-14.ipynb",
      "provenance": [],
      "authorship_tag": "ABX9TyO4xIO3jTQGljVVojhk+RKJ",
      "include_colab_link": true
    },
    "kernelspec": {
      "name": "python3",
      "display_name": "Python 3"
    },
    "language_info": {
      "name": "python"
    }
  },
  "cells": [
    {
      "cell_type": "markdown",
      "metadata": {
        "id": "view-in-github",
        "colab_type": "text"
      },
      "source": [
        "<a href=\"https://colab.research.google.com/github/soralee2821/coding/blob/master/2021_03_14.ipynb\" target=\"_parent\"><img src=\"https://colab.research.google.com/assets/colab-badge.svg\" alt=\"Open In Colab\"/></a>"
      ]
    },
    {
      "cell_type": "markdown",
      "metadata": {
        "id": "EwiS-X8UnZbK"
      },
      "source": [
        "##Collection"
      ]
    },
    {
      "cell_type": "code",
      "metadata": {
        "colab": {
          "base_uri": "https://localhost:8080/"
        },
        "id": "eNlQXRDRnBRv",
        "outputId": "380e3dac-8511-4eca-a2fb-a59633fa9fa2"
      },
      "source": [
        "from collections import Counter\n",
        "\n",
        "a = \"aaaaabbbbccc\"\n",
        "my_counter = Counter(a)\n",
        "print(my_counter)\n",
        "print(my_counter.items())\n",
        "print(my_counter.keys())\n",
        "print(my_counter.values())"
      ],
      "execution_count": 2,
      "outputs": [
        {
          "output_type": "stream",
          "text": [
            "Counter({'a': 5, 'b': 4, 'c': 3})\n",
            "dict_items([('a', 5), ('b', 4), ('c', 3)])\n",
            "dict_keys(['a', 'b', 'c'])\n",
            "dict_values([5, 4, 3])\n"
          ],
          "name": "stdout"
        }
      ]
    },
    {
      "cell_type": "code",
      "metadata": {
        "colab": {
          "base_uri": "https://localhost:8080/"
        },
        "id": "3UUe3uJpnmeX",
        "outputId": "8bc61e23-5821-485c-bc5c-8b44458b67ea"
      },
      "source": [
        "from collections import Counter\n",
        "\n",
        "a = \"aaaaabbbbccc\"\n",
        "my_counter = Counter(a)\n",
        "print(my_counter.most_common(1))\n",
        "print(my_counter.most_common(1)[0])\n",
        "print(my_counter.most_common(1)[0][0])\n",
        "print(my_counter.most_common(2))"
      ],
      "execution_count": 6,
      "outputs": [
        {
          "output_type": "stream",
          "text": [
            "[('a', 5)]\n",
            "('a', 5)\n",
            "a\n",
            "[('a', 5), ('b', 4)]\n"
          ],
          "name": "stdout"
        }
      ]
    },
    {
      "cell_type": "code",
      "metadata": {
        "colab": {
          "base_uri": "https://localhost:8080/"
        },
        "id": "ssZ3FRHfn_zD",
        "outputId": "7ca1c5de-ba3f-4d0b-ad7b-9c55b710a1bd"
      },
      "source": [
        "from collections import Counter\n",
        "\n",
        "a = \"aaaaabbbbccc\"\n",
        "my_counter = Counter(a)\n",
        "print(my_counter)\n",
        "print(my_counter.elements())\n",
        "print(list(my_counter.elements()))"
      ],
      "execution_count": 8,
      "outputs": [
        {
          "output_type": "stream",
          "text": [
            "Counter({'a': 5, 'b': 4, 'c': 3})\n",
            "<itertools.chain object at 0x7feceebd6cd0>\n",
            "['a', 'a', 'a', 'a', 'a', 'b', 'b', 'b', 'b', 'c', 'c', 'c']\n"
          ],
          "name": "stdout"
        }
      ]
    },
    {
      "cell_type": "code",
      "metadata": {
        "colab": {
          "base_uri": "https://localhost:8080/"
        },
        "id": "py731622odE8",
        "outputId": "c2f3cf24-3474-416d-b515-6ff334969690"
      },
      "source": [
        "from collections import namedtuple\n",
        "Point = namedtuple('Point', 'x,y')\n",
        "pt = Point(1, -4)\n",
        "print(pt)\n",
        "print(pt.x, pt.y)"
      ],
      "execution_count": 10,
      "outputs": [
        {
          "output_type": "stream",
          "text": [
            "Point(x=1, y=-4)\n",
            "1 -4\n"
          ],
          "name": "stdout"
        }
      ]
    },
    {
      "cell_type": "code",
      "metadata": {
        "colab": {
          "base_uri": "https://localhost:8080/"
        },
        "id": "80cNnea_pAgb",
        "outputId": "7087a02e-be58-434d-c262-f4aae048ae80"
      },
      "source": [
        "from collections import OrderedDict\n",
        "ordered_dict = OrderedDict()\n",
        "ordered_dict['a'] = 1\n",
        "ordered_dict['b'] = 2\n",
        "ordered_dict['c'] = 3\n",
        "ordered_dict['d'] = 4\n",
        "print(ordered_dict)"
      ],
      "execution_count": 11,
      "outputs": [
        {
          "output_type": "stream",
          "text": [
            "OrderedDict([('a', 1), ('b', 2), ('c', 3), ('d', 4)])\n"
          ],
          "name": "stdout"
        }
      ]
    },
    {
      "cell_type": "code",
      "metadata": {
        "colab": {
          "base_uri": "https://localhost:8080/"
        },
        "id": "aTYAGycephdz",
        "outputId": "ac3388db-8df8-4685-ffa7-354b426939b7"
      },
      "source": [
        "from collections import OrderedDict\n",
        "ordered_dict = OrderedDict()\n",
        "ordered_dict['b'] = 2\n",
        "ordered_dict['c'] = 3\n",
        "ordered_dict['d'] = 4\n",
        "ordered_dict['a'] = 1\n",
        "print(ordered_dict)"
      ],
      "execution_count": 12,
      "outputs": [
        {
          "output_type": "stream",
          "text": [
            "OrderedDict([('b', 2), ('c', 3), ('d', 4), ('a', 1)])\n"
          ],
          "name": "stdout"
        }
      ]
    },
    {
      "cell_type": "code",
      "metadata": {
        "colab": {
          "base_uri": "https://localhost:8080/"
        },
        "id": "4oOpFWmIps5n",
        "outputId": "5ab15a75-f80f-4596-c4bf-0ed6da259378"
      },
      "source": [
        "from collections import defaultdict\n",
        "d = defaultdict(int)\n",
        "d['a'] = 1\n",
        "d['b'] = 2\n",
        "print(d)\n",
        "print(d['a'])\n",
        "print(d['b'])\n",
        "print(d['c'])"
      ],
      "execution_count": 16,
      "outputs": [
        {
          "output_type": "stream",
          "text": [
            "defaultdict(<class 'int'>, {'a': 1, 'b': 2})\n",
            "1\n",
            "2\n",
            "0\n"
          ],
          "name": "stdout"
        }
      ]
    },
    {
      "cell_type": "code",
      "metadata": {
        "colab": {
          "base_uri": "https://localhost:8080/"
        },
        "id": "IjbRz8o8p_M5",
        "outputId": "1d3987c4-7e94-4f9c-a87b-9223c3b0d0e0"
      },
      "source": [
        "from collections import defaultdict\n",
        "d = defaultdict(float)\n",
        "d['a'] = 1\n",
        "d['b'] = 2\n",
        "print(d)\n",
        "print(d['c'])"
      ],
      "execution_count": 17,
      "outputs": [
        {
          "output_type": "stream",
          "text": [
            "defaultdict(<class 'float'>, {'a': 1, 'b': 2})\n",
            "0.0\n"
          ],
          "name": "stdout"
        }
      ]
    },
    {
      "cell_type": "code",
      "metadata": {
        "colab": {
          "base_uri": "https://localhost:8080/"
        },
        "id": "IvM2nQ7tqQch",
        "outputId": "76c3d169-88dd-4116-e61e-88ea6f9f2226"
      },
      "source": [
        "from collections import defaultdict\n",
        "d = defaultdict(list)\n",
        "d['a'] = 1\n",
        "d['b'] = 2\n",
        "print(d)\n",
        "print(d['c'])"
      ],
      "execution_count": 18,
      "outputs": [
        {
          "output_type": "stream",
          "text": [
            "defaultdict(<class 'list'>, {'a': 1, 'b': 2})\n",
            "[]\n"
          ],
          "name": "stdout"
        }
      ]
    },
    {
      "cell_type": "code",
      "metadata": {
        "colab": {
          "base_uri": "https://localhost:8080/",
          "height": 222
        },
        "id": "KsbI_A2oqTW0",
        "outputId": "16d945c4-8d2c-4b19-9018-c6dc303bc062"
      },
      "source": [
        "from collections import defaultdict\n",
        "d = {}\n",
        "d['a'] = 1\n",
        "d['b'] = 2\n",
        "print(d)\n",
        "print(d['c'])"
      ],
      "execution_count": 19,
      "outputs": [
        {
          "output_type": "stream",
          "text": [
            "{'a': 1, 'b': 2}\n"
          ],
          "name": "stdout"
        },
        {
          "output_type": "error",
          "ename": "KeyError",
          "evalue": "ignored",
          "traceback": [
            "\u001b[0;31m---------------------------------------------------------------------------\u001b[0m",
            "\u001b[0;31mKeyError\u001b[0m                                  Traceback (most recent call last)",
            "\u001b[0;32m<ipython-input-19-7c5ce0a98c20>\u001b[0m in \u001b[0;36m<module>\u001b[0;34m()\u001b[0m\n\u001b[1;32m      4\u001b[0m \u001b[0md\u001b[0m\u001b[0;34m[\u001b[0m\u001b[0;34m'b'\u001b[0m\u001b[0;34m]\u001b[0m \u001b[0;34m=\u001b[0m \u001b[0;36m2\u001b[0m\u001b[0;34m\u001b[0m\u001b[0;34m\u001b[0m\u001b[0m\n\u001b[1;32m      5\u001b[0m \u001b[0mprint\u001b[0m\u001b[0;34m(\u001b[0m\u001b[0md\u001b[0m\u001b[0;34m)\u001b[0m\u001b[0;34m\u001b[0m\u001b[0;34m\u001b[0m\u001b[0m\n\u001b[0;32m----> 6\u001b[0;31m \u001b[0mprint\u001b[0m\u001b[0;34m(\u001b[0m\u001b[0md\u001b[0m\u001b[0;34m[\u001b[0m\u001b[0;34m'c'\u001b[0m\u001b[0;34m]\u001b[0m\u001b[0;34m)\u001b[0m\u001b[0;34m\u001b[0m\u001b[0;34m\u001b[0m\u001b[0m\n\u001b[0m",
            "\u001b[0;31mKeyError\u001b[0m: 'c'"
          ]
        }
      ]
    },
    {
      "cell_type": "code",
      "metadata": {
        "colab": {
          "base_uri": "https://localhost:8080/"
        },
        "id": "Yy8ZKEUFqahV",
        "outputId": "c065bca9-b4b8-4515-c185-31560fb51581"
      },
      "source": [
        "from collections import deque\n",
        "d = deque()\n",
        "\n",
        "d.append(1)\n",
        "d.append(2)\n",
        "\n",
        "d.appendleft(3)\n",
        "print(d)"
      ],
      "execution_count": 25,
      "outputs": [
        {
          "output_type": "stream",
          "text": [
            "deque([3, 1, 2])\n"
          ],
          "name": "stdout"
        }
      ]
    },
    {
      "cell_type": "code",
      "metadata": {
        "colab": {
          "base_uri": "https://localhost:8080/"
        },
        "id": "aN-CCNxLqlAn",
        "outputId": "98c750d2-cf2f-4492-cb3e-db432899d7e1"
      },
      "source": [
        "from collections import deque\n",
        "d = deque()\n",
        "\n",
        "d.append(1)\n",
        "d.append(2)\n",
        "d.append(3)\n",
        "print(d)\n",
        "\n",
        "d.pop()\n",
        "print(d)"
      ],
      "execution_count": 26,
      "outputs": [
        {
          "output_type": "stream",
          "text": [
            "deque([1, 2, 3])\n",
            "deque([1, 2])\n"
          ],
          "name": "stdout"
        }
      ]
    },
    {
      "cell_type": "code",
      "metadata": {
        "colab": {
          "base_uri": "https://localhost:8080/"
        },
        "id": "YnfdU9EwrDpJ",
        "outputId": "cdbf60d8-3e95-4589-f404-7cb05dc36599"
      },
      "source": [
        "from collections import deque\n",
        "d = deque()\n",
        "\n",
        "d.append(1)\n",
        "d.append(2)\n",
        "d.append(3)\n",
        "print(d)\n",
        "\n",
        "d.popleft()\n",
        "print(d)"
      ],
      "execution_count": 27,
      "outputs": [
        {
          "output_type": "stream",
          "text": [
            "deque([1, 2, 3])\n",
            "deque([2, 3])\n"
          ],
          "name": "stdout"
        }
      ]
    },
    {
      "cell_type": "code",
      "metadata": {
        "colab": {
          "base_uri": "https://localhost:8080/"
        },
        "id": "BCVgbOttrGfv",
        "outputId": "635a9499-8241-40eb-9c2f-d3661f351164"
      },
      "source": [
        "from collections import deque\n",
        "d = deque()\n",
        "\n",
        "d.append(1)\n",
        "d.append(2)\n",
        "d.append(3)\n",
        "print(d)\n",
        "\n",
        "d.clear()\n",
        "print(d)"
      ],
      "execution_count": 28,
      "outputs": [
        {
          "output_type": "stream",
          "text": [
            "deque([1, 2, 3])\n",
            "deque([])\n"
          ],
          "name": "stdout"
        }
      ]
    },
    {
      "cell_type": "code",
      "metadata": {
        "colab": {
          "base_uri": "https://localhost:8080/"
        },
        "id": "bDMB0aTdrJgv",
        "outputId": "950ac4fe-877a-42cc-c28a-835913055abc"
      },
      "source": [
        "from collections import deque\n",
        "d = deque()\n",
        "\n",
        "d.append(1)\n",
        "d.append(2)\n",
        "d.append(3)\n",
        "print(d)\n",
        "\n",
        "d.extend([4,5,6])\n",
        "print(d)"
      ],
      "execution_count": 29,
      "outputs": [
        {
          "output_type": "stream",
          "text": [
            "deque([1, 2, 3])\n",
            "deque([1, 2, 3, 4, 5, 6])\n"
          ],
          "name": "stdout"
        }
      ]
    },
    {
      "cell_type": "code",
      "metadata": {
        "colab": {
          "base_uri": "https://localhost:8080/"
        },
        "id": "KS-KgN2crNiR",
        "outputId": "3d9c47a2-e497-4a89-b2ed-358653197b10"
      },
      "source": [
        "from collections import deque\n",
        "d = deque()\n",
        "\n",
        "d.append(1)\n",
        "d.append(2)\n",
        "d.append(3)\n",
        "print(d)\n",
        "\n",
        "d.extendleft([4,5,6])\n",
        "print(d)"
      ],
      "execution_count": 30,
      "outputs": [
        {
          "output_type": "stream",
          "text": [
            "deque([1, 2, 3])\n",
            "deque([6, 5, 4, 1, 2, 3])\n"
          ],
          "name": "stdout"
        }
      ]
    },
    {
      "cell_type": "code",
      "metadata": {
        "colab": {
          "base_uri": "https://localhost:8080/"
        },
        "id": "RjZMW58FrQ_J",
        "outputId": "229dc03c-26ce-499b-cdaf-cd3907e87b41"
      },
      "source": [
        "from collections import deque\n",
        "d = deque()\n",
        "\n",
        "d.append(1)\n",
        "d.append(2)\n",
        "d.append(3)\n",
        "d.append(4)\n",
        "d.append(5)\n",
        "print(d)\n",
        "\n",
        "d.rotate(1)\n",
        "print(d)"
      ],
      "execution_count": 32,
      "outputs": [
        {
          "output_type": "stream",
          "text": [
            "deque([1, 2, 3, 4, 5])\n",
            "deque([5, 1, 2, 3, 4])\n"
          ],
          "name": "stdout"
        }
      ]
    },
    {
      "cell_type": "code",
      "metadata": {
        "colab": {
          "base_uri": "https://localhost:8080/"
        },
        "id": "JJEWwe5OrY3E",
        "outputId": "c3c6ee6e-7550-421f-b40f-8603b0444d04"
      },
      "source": [
        "from collections import deque\n",
        "d = deque()\n",
        "\n",
        "d.append(1)\n",
        "d.append(2)\n",
        "d.append(3)\n",
        "d.append(4)\n",
        "d.append(5)\n",
        "print(d)\n",
        "\n",
        "d.rotate(2)\n",
        "print(d)"
      ],
      "execution_count": 33,
      "outputs": [
        {
          "output_type": "stream",
          "text": [
            "deque([1, 2, 3, 4, 5])\n",
            "deque([4, 5, 1, 2, 3])\n"
          ],
          "name": "stdout"
        }
      ]
    },
    {
      "cell_type": "code",
      "metadata": {
        "colab": {
          "base_uri": "https://localhost:8080/"
        },
        "id": "HZ4P5nm1rngU",
        "outputId": "d48e27f0-e9dd-4378-8942-55e4b9bc195c"
      },
      "source": [
        "from collections import deque\n",
        "d = deque()\n",
        "\n",
        "d.append(1)\n",
        "d.append(2)\n",
        "d.append(3)\n",
        "d.append(4)\n",
        "d.append(5)\n",
        "print(d)\n",
        "\n",
        "d.rotate(3)\n",
        "print(d)"
      ],
      "execution_count": 34,
      "outputs": [
        {
          "output_type": "stream",
          "text": [
            "deque([1, 2, 3, 4, 5])\n",
            "deque([3, 4, 5, 1, 2])\n"
          ],
          "name": "stdout"
        }
      ]
    },
    {
      "cell_type": "code",
      "metadata": {
        "colab": {
          "base_uri": "https://localhost:8080/"
        },
        "id": "75hkpHhkrqAA",
        "outputId": "56304ac9-3df8-4b0a-9b39-bbef729467ff"
      },
      "source": [
        "from collections import deque\n",
        "d = deque()\n",
        "\n",
        "d.append(1)\n",
        "d.append(2)\n",
        "d.append(3)\n",
        "d.append(4)\n",
        "d.append(5)\n",
        "print(d)\n",
        "\n",
        "d.rotate(-1)\n",
        "print(d)"
      ],
      "execution_count": 35,
      "outputs": [
        {
          "output_type": "stream",
          "text": [
            "deque([1, 2, 3, 4, 5])\n",
            "deque([2, 3, 4, 5, 1])\n"
          ],
          "name": "stdout"
        }
      ]
    },
    {
      "cell_type": "code",
      "metadata": {
        "id": "TPQoaSYMrsjk"
      },
      "source": [
        ""
      ],
      "execution_count": null,
      "outputs": []
    }
  ]
}