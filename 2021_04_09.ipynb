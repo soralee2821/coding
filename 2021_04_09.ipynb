{
  "nbformat": 4,
  "nbformat_minor": 0,
  "metadata": {
    "colab": {
      "name": "2021-04-09.ipynb",
      "provenance": [],
      "authorship_tag": "ABX9TyM56wt+drkTWQW+8lGCvXdr",
      "include_colab_link": true
    },
    "kernelspec": {
      "name": "python3",
      "display_name": "Python 3"
    },
    "language_info": {
      "name": "python"
    }
  },
  "cells": [
    {
      "cell_type": "markdown",
      "metadata": {
        "id": "view-in-github",
        "colab_type": "text"
      },
      "source": [
        "<a href=\"https://colab.research.google.com/github/soralee2821/coding/blob/master/2021_04_09.ipynb\" target=\"_parent\"><img src=\"https://colab.research.google.com/assets/colab-badge.svg\" alt=\"Open In Colab\"/></a>"
      ]
    },
    {
      "cell_type": "markdown",
      "metadata": {
        "id": "nc0-fcVrlfFd"
      },
      "source": [
        "##Set"
      ]
    },
    {
      "cell_type": "code",
      "metadata": {
        "colab": {
          "base_uri": "https://localhost:8080/"
        },
        "id": "HdD2A3VphEhX",
        "outputId": "0712555c-2903-4d0c-cf3e-e811e7c9cf98"
      },
      "source": [
        "myset = {1,2,3}\n",
        "print(myset)"
      ],
      "execution_count": 1,
      "outputs": [
        {
          "output_type": "stream",
          "text": [
            "{1, 2, 3}\n"
          ],
          "name": "stdout"
        }
      ]
    },
    {
      "cell_type": "code",
      "metadata": {
        "colab": {
          "base_uri": "https://localhost:8080/"
        },
        "id": "ZFnqm0N9lmz7",
        "outputId": "3498e7fa-e95d-4ff3-cfb2-7c853e233a8e"
      },
      "source": [
        "#Set does not allow duplicates\n",
        "myset = {1,2,3,1,2}\n",
        "print(myset)"
      ],
      "execution_count": 2,
      "outputs": [
        {
          "output_type": "stream",
          "text": [
            "{1, 2, 3}\n"
          ],
          "name": "stdout"
        }
      ]
    },
    {
      "cell_type": "code",
      "metadata": {
        "colab": {
          "base_uri": "https://localhost:8080/"
        },
        "id": "GdlTWEndl0Eq",
        "outputId": "71252577-8c04-4146-c86c-a8ee9d5340b9"
      },
      "source": [
        "myset = set([1,2,3])\n",
        "print(myset)"
      ],
      "execution_count": 3,
      "outputs": [
        {
          "output_type": "stream",
          "text": [
            "{1, 2, 3}\n"
          ],
          "name": "stdout"
        }
      ]
    },
    {
      "cell_type": "code",
      "metadata": {
        "colab": {
          "base_uri": "https://localhost:8080/"
        },
        "id": "B17ALWz3l590",
        "outputId": "4337615a-ae0a-4fd9-88b1-88ddce99e5b2"
      },
      "source": [
        "myset = set(\"Hello\")\n",
        "print(myset)"
      ],
      "execution_count": 4,
      "outputs": [
        {
          "output_type": "stream",
          "text": [
            "{'e', 'H', 'o', 'l'}\n"
          ],
          "name": "stdout"
        }
      ]
    },
    {
      "cell_type": "code",
      "metadata": {
        "colab": {
          "base_uri": "https://localhost:8080/"
        },
        "id": "lDUFDKUdl8j0",
        "outputId": "1f9892c6-77f2-4f68-88aa-9716ede7eacf"
      },
      "source": [
        "myset = {}\n",
        "print(type(myset))\n",
        "myset1 = set()\n",
        "print(type(myset1))"
      ],
      "execution_count": 5,
      "outputs": [
        {
          "output_type": "stream",
          "text": [
            "<class 'dict'>\n",
            "<class 'set'>\n"
          ],
          "name": "stdout"
        }
      ]
    },
    {
      "cell_type": "code",
      "metadata": {
        "colab": {
          "base_uri": "https://localhost:8080/"
        },
        "id": "ZElvO0eJmQK2",
        "outputId": "64443eee-359f-4fec-d58c-16b6ec1b18b3"
      },
      "source": [
        "myset = set()\n",
        "\n",
        "myset.add(1)\n",
        "myset.add(2)\n",
        "myset.add(3)\n",
        "\n",
        "print(myset)"
      ],
      "execution_count": 6,
      "outputs": [
        {
          "output_type": "stream",
          "text": [
            "{1, 2, 3}\n"
          ],
          "name": "stdout"
        }
      ]
    },
    {
      "cell_type": "code",
      "metadata": {
        "colab": {
          "base_uri": "https://localhost:8080/"
        },
        "id": "qrCojjF5m4pQ",
        "outputId": "9d524916-d0e1-4cca-8978-33503caab29e"
      },
      "source": [
        "myset = {1,2,3}\n",
        "print(myset)\n",
        "myset.remove(3)\n",
        "print(myset)"
      ],
      "execution_count": 7,
      "outputs": [
        {
          "output_type": "stream",
          "text": [
            "{1, 2, 3}\n",
            "{1, 2}\n"
          ],
          "name": "stdout"
        }
      ]
    },
    {
      "cell_type": "code",
      "metadata": {
        "colab": {
          "base_uri": "https://localhost:8080/",
          "height": 239
        },
        "id": "N68Fn5_rnPEY",
        "outputId": "4dcdadbf-5008-4e84-ace3-01acbbe3e33a"
      },
      "source": [
        "myset = {1,2,3}\n",
        "print(myset)\n",
        "myset.remove(4)\n",
        "print(myset)"
      ],
      "execution_count": 8,
      "outputs": [
        {
          "output_type": "stream",
          "text": [
            "{1, 2, 3}\n"
          ],
          "name": "stdout"
        },
        {
          "output_type": "error",
          "ename": "KeyError",
          "evalue": "ignored",
          "traceback": [
            "\u001b[0;31m---------------------------------------------------------------------------\u001b[0m",
            "\u001b[0;31mKeyError\u001b[0m                                  Traceback (most recent call last)",
            "\u001b[0;32m<ipython-input-8-5684a4fa3f53>\u001b[0m in \u001b[0;36m<module>\u001b[0;34m()\u001b[0m\n\u001b[1;32m      1\u001b[0m \u001b[0mmyset\u001b[0m \u001b[0;34m=\u001b[0m \u001b[0;34m{\u001b[0m\u001b[0;36m1\u001b[0m\u001b[0;34m,\u001b[0m\u001b[0;36m2\u001b[0m\u001b[0;34m,\u001b[0m\u001b[0;36m3\u001b[0m\u001b[0;34m}\u001b[0m\u001b[0;34m\u001b[0m\u001b[0;34m\u001b[0m\u001b[0m\n\u001b[1;32m      2\u001b[0m \u001b[0mprint\u001b[0m\u001b[0;34m(\u001b[0m\u001b[0mmyset\u001b[0m\u001b[0;34m)\u001b[0m\u001b[0;34m\u001b[0m\u001b[0;34m\u001b[0m\u001b[0m\n\u001b[0;32m----> 3\u001b[0;31m \u001b[0mmyset\u001b[0m\u001b[0;34m.\u001b[0m\u001b[0mremove\u001b[0m\u001b[0;34m(\u001b[0m\u001b[0;36m4\u001b[0m\u001b[0;34m)\u001b[0m\u001b[0;34m\u001b[0m\u001b[0;34m\u001b[0m\u001b[0m\n\u001b[0m\u001b[1;32m      4\u001b[0m \u001b[0mprint\u001b[0m\u001b[0;34m(\u001b[0m\u001b[0mmyset\u001b[0m\u001b[0;34m)\u001b[0m\u001b[0;34m\u001b[0m\u001b[0;34m\u001b[0m\u001b[0m\n",
            "\u001b[0;31mKeyError\u001b[0m: 4"
          ]
        }
      ]
    },
    {
      "cell_type": "code",
      "metadata": {
        "colab": {
          "base_uri": "https://localhost:8080/"
        },
        "id": "4PzaPsT7nCrk",
        "outputId": "52b1b52e-635b-41a5-bf76-3db6bbc14fcb"
      },
      "source": [
        "myset = {1,2,3}\n",
        "print(myset)\n",
        "myset.discard(3)\n",
        "print(myset)"
      ],
      "execution_count": 9,
      "outputs": [
        {
          "output_type": "stream",
          "text": [
            "{1, 2, 3}\n",
            "{1, 2}\n"
          ],
          "name": "stdout"
        }
      ]
    },
    {
      "cell_type": "code",
      "metadata": {
        "colab": {
          "base_uri": "https://localhost:8080/"
        },
        "id": "fwUv5d2PnInx",
        "outputId": "ba00a6f5-f949-4e34-94f3-f71840948a28"
      },
      "source": [
        "myset = {1,2,3}\n",
        "print(myset)\n",
        "myset.discard(4)\n",
        "print(myset)"
      ],
      "execution_count": 10,
      "outputs": [
        {
          "output_type": "stream",
          "text": [
            "{1, 2, 3}\n",
            "{1, 2, 3}\n"
          ],
          "name": "stdout"
        }
      ]
    },
    {
      "cell_type": "code",
      "metadata": {
        "colab": {
          "base_uri": "https://localhost:8080/"
        },
        "id": "n4BxrgG0nWIV",
        "outputId": "4f43cf9d-5d0b-42d7-8cd8-61307c98fc16"
      },
      "source": [
        "myset = {1,2,3}\n",
        "print(myset)\n",
        "myset.clear()\n",
        "print(myset)"
      ],
      "execution_count": 11,
      "outputs": [
        {
          "output_type": "stream",
          "text": [
            "{1, 2, 3}\n",
            "set()\n"
          ],
          "name": "stdout"
        }
      ]
    },
    {
      "cell_type": "code",
      "metadata": {
        "colab": {
          "base_uri": "https://localhost:8080/"
        },
        "id": "AhGuwDI1naiP",
        "outputId": "542df97c-9991-45fa-b8d1-28b0a42d8f5d"
      },
      "source": [
        "myset = {1,2,3}\n",
        "print(myset)\n",
        "myset.pop()\n",
        "print(myset)"
      ],
      "execution_count": 12,
      "outputs": [
        {
          "output_type": "stream",
          "text": [
            "{1, 2, 3}\n",
            "{2, 3}\n"
          ],
          "name": "stdout"
        }
      ]
    },
    {
      "cell_type": "code",
      "metadata": {
        "colab": {
          "base_uri": "https://localhost:8080/"
        },
        "id": "o76sQWSZndwo",
        "outputId": "d7a55b61-c262-4f9a-f982-98a6f9349cca"
      },
      "source": [
        "myset = {1,2,3}\n",
        "\n",
        "for i in myset:\n",
        "    print(i)"
      ],
      "execution_count": 13,
      "outputs": [
        {
          "output_type": "stream",
          "text": [
            "1\n",
            "2\n",
            "3\n"
          ],
          "name": "stdout"
        }
      ]
    },
    {
      "cell_type": "code",
      "metadata": {
        "colab": {
          "base_uri": "https://localhost:8080/"
        },
        "id": "AuSxybfynquq",
        "outputId": "09786bc1-3dbd-481e-b0c8-28bba94085cb"
      },
      "source": [
        "myset = {1,2,3}\n",
        "\n",
        "if 1 in myset:\n",
        "    print(\"yes\")\n",
        "else:\n",
        "    print(\"no\")"
      ],
      "execution_count": 14,
      "outputs": [
        {
          "output_type": "stream",
          "text": [
            "yes\n"
          ],
          "name": "stdout"
        }
      ]
    },
    {
      "cell_type": "code",
      "metadata": {
        "colab": {
          "base_uri": "https://localhost:8080/"
        },
        "id": "CcRZM2C1n7l9",
        "outputId": "2ed24ae7-cb45-4a0f-a812-76b9fe44db8e"
      },
      "source": [
        "odds = {1,3,5,7,9}\n",
        "evens = {0,2,4,6,8}\n",
        "primes = {2,3,5,7}\n",
        "\n",
        "u = odds.union(evens)\n",
        "print(u)"
      ],
      "execution_count": 16,
      "outputs": [
        {
          "output_type": "stream",
          "text": [
            "{0, 1, 2, 3, 4, 5, 6, 7, 8, 9}\n"
          ],
          "name": "stdout"
        }
      ]
    },
    {
      "cell_type": "code",
      "metadata": {
        "colab": {
          "base_uri": "https://localhost:8080/"
        },
        "id": "C5ispPCfo3Og",
        "outputId": "77912f0e-e55e-468a-a9cc-2950211cf66c"
      },
      "source": [
        "odds = {1,3,5,7,9}\n",
        "evens = {0,2,4,6,8}\n",
        "primes = {2,3,5,7}\n",
        "\n",
        "i = odds.intersection(evens)\n",
        "print(i)\n",
        "j = odds.intersection(primes)\n",
        "print(j)\n",
        "k = evens.intersection(primes)\n",
        "print(k)"
      ],
      "execution_count": 19,
      "outputs": [
        {
          "output_type": "stream",
          "text": [
            "set()\n",
            "{3, 5, 7}\n",
            "{2}\n"
          ],
          "name": "stdout"
        }
      ]
    },
    {
      "cell_type": "code",
      "metadata": {
        "colab": {
          "base_uri": "https://localhost:8080/"
        },
        "id": "VzaoKCHKpITv",
        "outputId": "852e247d-fefb-4245-c83d-1313e9ce3c81"
      },
      "source": [
        "setA = {1,2,3,4,5,6,7,8,9}\n",
        "setB = {1,2,3,10,11,12}\n",
        "\n",
        "diff = setA.difference(setB)\n",
        "print(diff)\n",
        "diff1 = setB.difference(setA)\n",
        "print(diff1)"
      ],
      "execution_count": 21,
      "outputs": [
        {
          "output_type": "stream",
          "text": [
            "{4, 5, 6, 7, 8, 9}\n",
            "{10, 11, 12}\n"
          ],
          "name": "stdout"
        }
      ]
    },
    {
      "cell_type": "code",
      "metadata": {
        "colab": {
          "base_uri": "https://localhost:8080/"
        },
        "id": "AMVF63vOpubN",
        "outputId": "3a7d1bd1-d373-4050-f501-cfd673f0affc"
      },
      "source": [
        "setA = {1,2,3,4,5,6,7,8,9}\n",
        "setB = {1,2,3,10,11,12}\n",
        "\n",
        "diff = setA.symmetric_difference(setB)\n",
        "print(diff)\n",
        "diff = setB.symmetric_difference(setA)\n",
        "print(diff)"
      ],
      "execution_count": 22,
      "outputs": [
        {
          "output_type": "stream",
          "text": [
            "{4, 5, 6, 7, 8, 9, 10, 11, 12}\n",
            "{4, 5, 6, 7, 8, 9, 10, 11, 12}\n"
          ],
          "name": "stdout"
        }
      ]
    },
    {
      "cell_type": "code",
      "metadata": {
        "colab": {
          "base_uri": "https://localhost:8080/"
        },
        "id": "FeUkHPNVqfn_",
        "outputId": "493d2623-fe8e-47bb-f267-014aa251008c"
      },
      "source": [
        "setA = {1,2,3,4,5,6,7,8,9}\n",
        "setB = {1,2,3,10,11,12}\n",
        "\n",
        "setA.update(setB)\n",
        "print(setA)"
      ],
      "execution_count": 23,
      "outputs": [
        {
          "output_type": "stream",
          "text": [
            "{1, 2, 3, 4, 5, 6, 7, 8, 9, 10, 11, 12}\n"
          ],
          "name": "stdout"
        }
      ]
    },
    {
      "cell_type": "code",
      "metadata": {
        "colab": {
          "base_uri": "https://localhost:8080/"
        },
        "id": "-uLsB_5Iqtw-",
        "outputId": "49342980-776a-4e49-ede1-3df571030c41"
      },
      "source": [
        "setA = {1,2,3,4,5,6,7,8,9}\n",
        "setB = {1,2,3,10,11,12}\n",
        "\n",
        "setA.intersection_update(setB)\n",
        "print(setA)"
      ],
      "execution_count": 24,
      "outputs": [
        {
          "output_type": "stream",
          "text": [
            "{1, 2, 3}\n"
          ],
          "name": "stdout"
        }
      ]
    },
    {
      "cell_type": "code",
      "metadata": {
        "colab": {
          "base_uri": "https://localhost:8080/"
        },
        "id": "txF8VvmprKcH",
        "outputId": "211341d0-6cc5-48a2-fff8-a1ba3ebfee9c"
      },
      "source": [
        "setA = {1,2,3,4,5,6,7,8,9}\n",
        "setB = {1,2,3,10,11,12}\n",
        "\n",
        "setA.difference_update(setB)\n",
        "print(setA)"
      ],
      "execution_count": 25,
      "outputs": [
        {
          "output_type": "stream",
          "text": [
            "{4, 5, 6, 7, 8, 9}\n"
          ],
          "name": "stdout"
        }
      ]
    },
    {
      "cell_type": "code",
      "metadata": {
        "colab": {
          "base_uri": "https://localhost:8080/"
        },
        "id": "Ty1RPk5NrRRM",
        "outputId": "0a780537-4611-4178-fc52-11cbbcb09869"
      },
      "source": [
        "setA = {1,2,3,4,5,6,7,8,9}\n",
        "setB = {1,2,3,10,11,12}\n",
        "\n",
        "setA.symmetric_difference_update(setB)\n",
        "print(setA)"
      ],
      "execution_count": 26,
      "outputs": [
        {
          "output_type": "stream",
          "text": [
            "{4, 5, 6, 7, 8, 9, 10, 11, 12}\n"
          ],
          "name": "stdout"
        }
      ]
    },
    {
      "cell_type": "code",
      "metadata": {
        "colab": {
          "base_uri": "https://localhost:8080/"
        },
        "id": "yORZ-O0vrco5",
        "outputId": "7b948ee2-5cfa-4f4d-caa6-6c7e2200c0d6"
      },
      "source": [
        "setA = {1,2,3,4,5,6,7,8,9}\n",
        "setB = {1,2,3}\n",
        "\n",
        "print(setA.issubset(setB))\n",
        "print(setB.issubset(setA))"
      ],
      "execution_count": 27,
      "outputs": [
        {
          "output_type": "stream",
          "text": [
            "False\n",
            "True\n"
          ],
          "name": "stdout"
        }
      ]
    },
    {
      "cell_type": "code",
      "metadata": {
        "colab": {
          "base_uri": "https://localhost:8080/"
        },
        "id": "vB4C3fGaut_A",
        "outputId": "c1d01213-7179-4cb4-e3ed-04ae7255353b"
      },
      "source": [
        "setA = {1,2,3,4,5,6,7,8,9}\n",
        "setB = {1,2,3}\n",
        "\n",
        "print(setA.issuperset(setB))\n",
        "print(setB.issuperset(setA))"
      ],
      "execution_count": 28,
      "outputs": [
        {
          "output_type": "stream",
          "text": [
            "True\n",
            "False\n"
          ],
          "name": "stdout"
        }
      ]
    },
    {
      "cell_type": "code",
      "metadata": {
        "colab": {
          "base_uri": "https://localhost:8080/"
        },
        "id": "uhT0Mtw2u5h1",
        "outputId": "1692a1e9-44bc-4c33-8618-838fd9b25197"
      },
      "source": [
        "setA = {1,2,3,4,5,6}\n",
        "setB = {1,2,3}\n",
        "setC = {7,8}\n",
        "\n",
        "print(setA.isdisjoint(setB))\n",
        "print(setA.isdisjoint(setC))"
      ],
      "execution_count": 29,
      "outputs": [
        {
          "output_type": "stream",
          "text": [
            "False\n",
            "True\n"
          ],
          "name": "stdout"
        }
      ]
    },
    {
      "cell_type": "code",
      "metadata": {
        "colab": {
          "base_uri": "https://localhost:8080/"
        },
        "id": "N8XCe2ZovLF-",
        "outputId": "c23712c9-daa9-4332-a315-5d4c4f9e9253"
      },
      "source": [
        "setA = {1,2,3,4,5,6}\n",
        "\n",
        "setB = setA\n",
        "#Both sets refer to the same memory.\n",
        "\n",
        "setB.add(7)\n",
        "print(setB)\n",
        "print(setA)"
      ],
      "execution_count": 30,
      "outputs": [
        {
          "output_type": "stream",
          "text": [
            "{1, 2, 3, 4, 5, 6, 7}\n",
            "{1, 2, 3, 4, 5, 6, 7}\n"
          ],
          "name": "stdout"
        }
      ]
    },
    {
      "cell_type": "code",
      "metadata": {
        "colab": {
          "base_uri": "https://localhost:8080/"
        },
        "id": "rBL51rFcvZjE",
        "outputId": "4567a2db-6ef7-4eba-e974-4218258f4f3f"
      },
      "source": [
        "setA = {1,2,3,4,5,6}\n",
        "\n",
        "setB = setA.copy()\n",
        "\n",
        "setB.add(7)\n",
        "print(setB)\n",
        "print(setA)"
      ],
      "execution_count": 31,
      "outputs": [
        {
          "output_type": "stream",
          "text": [
            "{1, 2, 3, 4, 5, 6, 7}\n",
            "{1, 2, 3, 4, 5, 6}\n"
          ],
          "name": "stdout"
        }
      ]
    },
    {
      "cell_type": "code",
      "metadata": {
        "colab": {
          "base_uri": "https://localhost:8080/"
        },
        "id": "mIh7LL8gvkmN",
        "outputId": "e65bc1db-07f7-46d2-a168-7da4850130ec"
      },
      "source": [
        "setA = {1,2,3,4,5,6}\n",
        "\n",
        "setB = set(setA)\n",
        "\n",
        "setB.add(7)\n",
        "print(setB)\n",
        "print(setA)"
      ],
      "execution_count": 32,
      "outputs": [
        {
          "output_type": "stream",
          "text": [
            "{1, 2, 3, 4, 5, 6, 7}\n",
            "{1, 2, 3, 4, 5, 6}\n"
          ],
          "name": "stdout"
        }
      ]
    },
    {
      "cell_type": "code",
      "metadata": {
        "colab": {
          "base_uri": "https://localhost:8080/",
          "height": 239
        },
        "id": "sHZeemHNvoob",
        "outputId": "9bf92cbb-546b-4e74-f192-162d2d7cf3a2"
      },
      "source": [
        "a = frozenset([1,2,3,4])\n",
        "\n",
        "a.add(5)\n",
        "\n",
        "print(a)"
      ],
      "execution_count": 34,
      "outputs": [
        {
          "output_type": "error",
          "ename": "AttributeError",
          "evalue": "ignored",
          "traceback": [
            "\u001b[0;31m---------------------------------------------------------------------------\u001b[0m",
            "\u001b[0;31mAttributeError\u001b[0m                            Traceback (most recent call last)",
            "\u001b[0;32m<ipython-input-34-261a6ea1f76c>\u001b[0m in \u001b[0;36m<module>\u001b[0;34m()\u001b[0m\n\u001b[1;32m      1\u001b[0m \u001b[0ma\u001b[0m \u001b[0;34m=\u001b[0m \u001b[0mfrozenset\u001b[0m\u001b[0;34m(\u001b[0m\u001b[0;34m[\u001b[0m\u001b[0;36m1\u001b[0m\u001b[0;34m,\u001b[0m\u001b[0;36m2\u001b[0m\u001b[0;34m,\u001b[0m\u001b[0;36m3\u001b[0m\u001b[0;34m,\u001b[0m\u001b[0;36m4\u001b[0m\u001b[0;34m]\u001b[0m\u001b[0;34m)\u001b[0m\u001b[0;34m\u001b[0m\u001b[0;34m\u001b[0m\u001b[0m\n\u001b[1;32m      2\u001b[0m \u001b[0;34m\u001b[0m\u001b[0m\n\u001b[0;32m----> 3\u001b[0;31m \u001b[0ma\u001b[0m\u001b[0;34m.\u001b[0m\u001b[0madd\u001b[0m\u001b[0;34m(\u001b[0m\u001b[0;36m5\u001b[0m\u001b[0;34m)\u001b[0m\u001b[0;34m\u001b[0m\u001b[0;34m\u001b[0m\u001b[0m\n\u001b[0m\u001b[1;32m      4\u001b[0m \u001b[0;34m\u001b[0m\u001b[0m\n\u001b[1;32m      5\u001b[0m \u001b[0mprint\u001b[0m\u001b[0;34m(\u001b[0m\u001b[0ma\u001b[0m\u001b[0;34m)\u001b[0m\u001b[0;34m\u001b[0m\u001b[0;34m\u001b[0m\u001b[0m\n",
            "\u001b[0;31mAttributeError\u001b[0m: 'frozenset' object has no attribute 'add'"
          ]
        }
      ]
    },
    {
      "cell_type": "code",
      "metadata": {
        "colab": {
          "base_uri": "https://localhost:8080/",
          "height": 239
        },
        "id": "VoARkAKjvy8W",
        "outputId": "61b13e80-a76e-48ef-b376-085204ede8fb"
      },
      "source": [
        "a = frozenset([1,2,3,4])\n",
        "\n",
        "a.remove(5)\n",
        "\n",
        "print(a)"
      ],
      "execution_count": 35,
      "outputs": [
        {
          "output_type": "error",
          "ename": "AttributeError",
          "evalue": "ignored",
          "traceback": [
            "\u001b[0;31m---------------------------------------------------------------------------\u001b[0m",
            "\u001b[0;31mAttributeError\u001b[0m                            Traceback (most recent call last)",
            "\u001b[0;32m<ipython-input-35-6e87312116b9>\u001b[0m in \u001b[0;36m<module>\u001b[0;34m()\u001b[0m\n\u001b[1;32m      1\u001b[0m \u001b[0ma\u001b[0m \u001b[0;34m=\u001b[0m \u001b[0mfrozenset\u001b[0m\u001b[0;34m(\u001b[0m\u001b[0;34m[\u001b[0m\u001b[0;36m1\u001b[0m\u001b[0;34m,\u001b[0m\u001b[0;36m2\u001b[0m\u001b[0;34m,\u001b[0m\u001b[0;36m3\u001b[0m\u001b[0;34m,\u001b[0m\u001b[0;36m4\u001b[0m\u001b[0;34m]\u001b[0m\u001b[0;34m)\u001b[0m\u001b[0;34m\u001b[0m\u001b[0;34m\u001b[0m\u001b[0m\n\u001b[1;32m      2\u001b[0m \u001b[0;34m\u001b[0m\u001b[0m\n\u001b[0;32m----> 3\u001b[0;31m \u001b[0ma\u001b[0m\u001b[0;34m.\u001b[0m\u001b[0mremove\u001b[0m\u001b[0;34m(\u001b[0m\u001b[0;36m5\u001b[0m\u001b[0;34m)\u001b[0m\u001b[0;34m\u001b[0m\u001b[0;34m\u001b[0m\u001b[0m\n\u001b[0m\u001b[1;32m      4\u001b[0m \u001b[0;34m\u001b[0m\u001b[0m\n\u001b[1;32m      5\u001b[0m \u001b[0mprint\u001b[0m\u001b[0;34m(\u001b[0m\u001b[0ma\u001b[0m\u001b[0;34m)\u001b[0m\u001b[0;34m\u001b[0m\u001b[0;34m\u001b[0m\u001b[0m\n",
            "\u001b[0;31mAttributeError\u001b[0m: 'frozenset' object has no attribute 'remove'"
          ]
        }
      ]
    }
  ]
}