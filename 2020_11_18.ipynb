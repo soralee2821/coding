{
  "nbformat": 4,
  "nbformat_minor": 0,
  "metadata": {
    "colab": {
      "name": "2020-11-18.ipynb",
      "provenance": [],
      "authorship_tag": "ABX9TyMN+Sc+ZwnTCGtSNnyynvnz",
      "include_colab_link": true
    },
    "kernelspec": {
      "name": "python3",
      "display_name": "Python 3"
    }
  },
  "cells": [
    {
      "cell_type": "markdown",
      "metadata": {
        "id": "view-in-github",
        "colab_type": "text"
      },
      "source": [
        "<a href=\"https://colab.research.google.com/github/soralee2821/coding/blob/master/2020_11_18.ipynb\" target=\"_parent\"><img src=\"https://colab.research.google.com/assets/colab-badge.svg\" alt=\"Open In Colab\"/></a>"
      ]
    },
    {
      "cell_type": "code",
      "metadata": {
        "colab": {
          "base_uri": "https://localhost:8080/"
        },
        "id": "aLAqjesF76Ye",
        "outputId": "aff85539-fb32-4982-b8f0-63961c2231f3"
      },
      "source": [
        "from math import sqrt\n",
        "def prime(num):\n",
        "    if num == 1: return False\n",
        "    for i in range(2, int(sqrt(num))+1):\n",
        "        if num % i == 0: return False\n",
        "    return True\n",
        "\n",
        "li = []\n",
        "for i in range(2, 10000):\n",
        "    if prime(i): li.append(i)\n",
        "\n",
        "T = int(input())\n",
        "for _ in range(T):\n",
        "    n = int(input())\n",
        "    for i in range(n//2, 1, -1):\n",
        "        if i in li and n-i in li:\n",
        "            a, b = i, n-i\n",
        "            break\n",
        "        else: pass\n",
        "    print(a, b)"
      ],
      "execution_count": 9,
      "outputs": [
        {
          "output_type": "stream",
          "text": [
            "3\n",
            "8\n",
            "3 5\n",
            "10\n",
            "5 5\n",
            "16\n",
            "5 11\n"
          ],
          "name": "stdout"
        }
      ]
    },
    {
      "cell_type": "code",
      "metadata": {
        "id": "Hw2pxGvK-aya"
      },
      "source": [
        ""
      ],
      "execution_count": null,
      "outputs": []
    }
  ]
}