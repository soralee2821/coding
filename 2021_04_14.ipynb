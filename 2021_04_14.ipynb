{
  "nbformat": 4,
  "nbformat_minor": 0,
  "metadata": {
    "colab": {
      "name": "2021-04-14.ipynb",
      "provenance": [],
      "authorship_tag": "ABX9TyP5fUEsFPgK5K+nieZ4SgeH",
      "include_colab_link": true
    },
    "kernelspec": {
      "name": "python3",
      "display_name": "Python 3"
    },
    "language_info": {
      "name": "python"
    }
  },
  "cells": [
    {
      "cell_type": "markdown",
      "metadata": {
        "id": "view-in-github",
        "colab_type": "text"
      },
      "source": [
        "<a href=\"https://colab.research.google.com/github/soralee2821/coding/blob/master/2021_04_14.ipynb\" target=\"_parent\"><img src=\"https://colab.research.google.com/assets/colab-badge.svg\" alt=\"Open In Colab\"/></a>"
      ]
    },
    {
      "cell_type": "markdown",
      "metadata": {
        "id": "3e-gWJAOmq2M"
      },
      "source": [
        "##Itertools"
      ]
    },
    {
      "cell_type": "code",
      "metadata": {
        "colab": {
          "base_uri": "https://localhost:8080/"
        },
        "id": "iLdNfzp7mZPM",
        "outputId": "eefbdbc6-bbe4-423b-9fbb-336b72f6b369"
      },
      "source": [
        "from itertools import product\n",
        "a = [1,2]\n",
        "b = [3,4]\n",
        "prod = product(a,b)\n",
        "print(prod)\n",
        "print(list(prod))"
      ],
      "execution_count": 2,
      "outputs": [
        {
          "output_type": "stream",
          "text": [
            "<itertools.product object at 0x7f171d6019b0>\n",
            "[(1, 3), (1, 4), (2, 3), (2, 4)]\n"
          ],
          "name": "stdout"
        }
      ]
    },
    {
      "cell_type": "code",
      "metadata": {
        "colab": {
          "base_uri": "https://localhost:8080/"
        },
        "id": "4Xcl-Gv4m3gr",
        "outputId": "bf8fd43e-c605-4c50-a138-9032abf05a59"
      },
      "source": [
        "from itertools import product\n",
        "a = [1,2]\n",
        "b = [3,4]\n",
        "prod = product(a,b, repeat=2)\n",
        "print(list(prod))"
      ],
      "execution_count": 3,
      "outputs": [
        {
          "output_type": "stream",
          "text": [
            "[(1, 3, 1, 3), (1, 3, 1, 4), (1, 3, 2, 3), (1, 3, 2, 4), (1, 4, 1, 3), (1, 4, 1, 4), (1, 4, 2, 3), (1, 4, 2, 4), (2, 3, 1, 3), (2, 3, 1, 4), (2, 3, 2, 3), (2, 3, 2, 4), (2, 4, 1, 3), (2, 4, 1, 4), (2, 4, 2, 3), (2, 4, 2, 4)]\n"
          ],
          "name": "stdout"
        }
      ]
    },
    {
      "cell_type": "code",
      "metadata": {
        "colab": {
          "base_uri": "https://localhost:8080/"
        },
        "id": "4cZj8mk0nJuJ",
        "outputId": "0e769575-6e90-442d-bb67-8af321c30d9f"
      },
      "source": [
        "from itertools import permutations\n",
        "a = [1,2,3]\n",
        "perm = permutations(a)\n",
        "print(list(perm))"
      ],
      "execution_count": 4,
      "outputs": [
        {
          "output_type": "stream",
          "text": [
            "[(1, 2, 3), (1, 3, 2), (2, 1, 3), (2, 3, 1), (3, 1, 2), (3, 2, 1)]\n"
          ],
          "name": "stdout"
        }
      ]
    },
    {
      "cell_type": "code",
      "metadata": {
        "colab": {
          "base_uri": "https://localhost:8080/"
        },
        "id": "AyLwuEMKpohb",
        "outputId": "ee8630ea-10d6-47c3-84e0-cc0ded67a3d1"
      },
      "source": [
        "from itertools import permutations\n",
        "a = [1,2,3]\n",
        "perm = permutations(a, 2)\n",
        "print(list(perm))"
      ],
      "execution_count": 5,
      "outputs": [
        {
          "output_type": "stream",
          "text": [
            "[(1, 2), (1, 3), (2, 1), (2, 3), (3, 1), (3, 2)]\n"
          ],
          "name": "stdout"
        }
      ]
    },
    {
      "cell_type": "code",
      "metadata": {
        "colab": {
          "base_uri": "https://localhost:8080/"
        },
        "id": "HEp_g14UpsOV",
        "outputId": "9a42b04d-bf23-4063-d838-970a6bad3243"
      },
      "source": [
        "from itertools import combinations\n",
        "a = [1,2,3,4]\n",
        "comb = combinations(a,2)\n",
        "print(list(comb))"
      ],
      "execution_count": 7,
      "outputs": [
        {
          "output_type": "stream",
          "text": [
            "[(1, 2), (1, 3), (1, 4), (2, 3), (2, 4), (3, 4)]\n"
          ],
          "name": "stdout"
        }
      ]
    },
    {
      "cell_type": "code",
      "metadata": {
        "colab": {
          "base_uri": "https://localhost:8080/"
        },
        "id": "UcN4IoGPqPg1",
        "outputId": "add233e2-81a9-4387-9f3b-b3a69b474426"
      },
      "source": [
        "from itertools import combinations_with_replacement\n",
        "a = [1,2,3,4]\n",
        "comb_wr = combinations_with_replacement(a, 2)\n",
        "print(list(comb_wr))"
      ],
      "execution_count": 9,
      "outputs": [
        {
          "output_type": "stream",
          "text": [
            "[(1, 1), (1, 2), (1, 3), (1, 4), (2, 2), (2, 3), (2, 4), (3, 3), (3, 4), (4, 4)]\n"
          ],
          "name": "stdout"
        }
      ]
    },
    {
      "cell_type": "code",
      "metadata": {
        "colab": {
          "base_uri": "https://localhost:8080/"
        },
        "id": "r9s2keo5qy77",
        "outputId": "ff956881-13b7-4534-cd26-d23000ce80bf"
      },
      "source": [
        "from itertools import accumulate\n",
        "a = [1,2,3,4]\n",
        "acc = accumulate(a)\n",
        "print(a)\n",
        "print(list(acc))"
      ],
      "execution_count": 12,
      "outputs": [
        {
          "output_type": "stream",
          "text": [
            "[1, 2, 3, 4]\n",
            "[1, 3, 6, 10]\n"
          ],
          "name": "stdout"
        }
      ]
    },
    {
      "cell_type": "code",
      "metadata": {
        "colab": {
          "base_uri": "https://localhost:8080/"
        },
        "id": "cTKXhWRirGrk",
        "outputId": "57aec0cc-6fcd-436f-d63d-c0fe4149d475"
      },
      "source": [
        "from itertools import accumulate\n",
        "import operator\n",
        "a = [1,2,3,4]\n",
        "acc = accumulate(a, func=operator.mul)\n",
        "print(a)\n",
        "print(list(acc))"
      ],
      "execution_count": 13,
      "outputs": [
        {
          "output_type": "stream",
          "text": [
            "[1, 2, 3, 4]\n",
            "[1, 2, 6, 24]\n"
          ],
          "name": "stdout"
        }
      ]
    },
    {
      "cell_type": "code",
      "metadata": {
        "colab": {
          "base_uri": "https://localhost:8080/"
        },
        "id": "90LIafLdrjNe",
        "outputId": "98791417-c1fe-4b0b-c54b-b87bef99dc54"
      },
      "source": [
        "from itertools import accumulate\n",
        "a = [1,2,5,3,4]\n",
        "acc = accumulate(a, func=max)\n",
        "print(a)\n",
        "print(list(acc))"
      ],
      "execution_count": 14,
      "outputs": [
        {
          "output_type": "stream",
          "text": [
            "[1, 2, 5, 3, 4]\n",
            "[1, 2, 5, 5, 5]\n"
          ],
          "name": "stdout"
        }
      ]
    },
    {
      "cell_type": "code",
      "metadata": {
        "colab": {
          "base_uri": "https://localhost:8080/"
        },
        "id": "uyJxzt2Orqd_",
        "outputId": "f30452c0-72d8-4393-86d0-0b5532107a18"
      },
      "source": [
        "from itertools import groupby\n",
        "\n",
        "def smaller_than_3(x):\n",
        "    return x < 3\n",
        "\n",
        "a = [1,2,3,4]\n",
        "group_obj = groupby(a, key=smaller_than_3)\n",
        "\n",
        "for key, value in group_obj:\n",
        "    print(key, list(value))"
      ],
      "execution_count": 15,
      "outputs": [
        {
          "output_type": "stream",
          "text": [
            "True [1, 2]\n",
            "False [3, 4]\n"
          ],
          "name": "stdout"
        }
      ]
    },
    {
      "cell_type": "code",
      "metadata": {
        "colab": {
          "base_uri": "https://localhost:8080/"
        },
        "id": "53aM6anNsQkG",
        "outputId": "ac10db50-2f23-4b16-bdec-3a14f2cee3db"
      },
      "source": [
        "from itertools import groupby\n",
        "\n",
        "a = [1,2,3,4]\n",
        "group_obj = groupby(a, key=lambda x: x<3)\n",
        "\n",
        "for key, value in group_obj:\n",
        "    print(key, list(value))"
      ],
      "execution_count": 16,
      "outputs": [
        {
          "output_type": "stream",
          "text": [
            "True [1, 2]\n",
            "False [3, 4]\n"
          ],
          "name": "stdout"
        }
      ]
    },
    {
      "cell_type": "code",
      "metadata": {
        "colab": {
          "base_uri": "https://localhost:8080/"
        },
        "id": "SniZgOLFskNM",
        "outputId": "bafe63ea-242b-42ed-ec80-3099f26a2859"
      },
      "source": [
        "from itertools import groupby\n",
        "\n",
        "persons = [{'name':'Tim', 'age':25}, {'name':'Dan','age':25},\n",
        "           {'name':'Lisa','age':27},{'name':'Clare','age':28}]\n",
        "\n",
        "group_obj = groupby(persons, key=lambda x: x['age'])\n",
        "\n",
        "for key, value in group_obj:\n",
        "    print(key, list(value))"
      ],
      "execution_count": 17,
      "outputs": [
        {
          "output_type": "stream",
          "text": [
            "25 [{'name': 'Tim', 'age': 25}, {'name': 'Dan', 'age': 25}]\n",
            "27 [{'name': 'Lisa', 'age': 27}]\n",
            "28 [{'name': 'Clare', 'age': 28}]\n"
          ],
          "name": "stdout"
        }
      ]
    },
    {
      "cell_type": "code",
      "metadata": {
        "colab": {
          "base_uri": "https://localhost:8080/"
        },
        "id": "H0hICMY5tfmf",
        "outputId": "3988fc3a-2ea4-43d8-80d9-af4a9d6e4023"
      },
      "source": [
        "from itertools import count\n",
        "\n",
        "for i in count(10):\n",
        "    print(i)\n",
        "    if i == 15:\n",
        "        break"
      ],
      "execution_count": 19,
      "outputs": [
        {
          "output_type": "stream",
          "text": [
            "10\n",
            "11\n",
            "12\n",
            "13\n",
            "14\n",
            "15\n"
          ],
          "name": "stdout"
        }
      ]
    },
    {
      "cell_type": "code",
      "metadata": {
        "colab": {
          "base_uri": "https://localhost:8080/"
        },
        "id": "IsvVcVjft8lf",
        "outputId": "96d6d693-e314-47e8-8d92-957b168f76dc"
      },
      "source": [
        "from itertools import cycle\n",
        "\n",
        "a = [1,2,3]\n",
        "count = 0\n",
        "for i in cycle(a):\n",
        "    print(i)\n",
        "    count += 1\n",
        "    if count == 15:\n",
        "        break"
      ],
      "execution_count": 20,
      "outputs": [
        {
          "output_type": "stream",
          "text": [
            "1\n",
            "2\n",
            "3\n",
            "1\n",
            "2\n",
            "3\n",
            "1\n",
            "2\n",
            "3\n",
            "1\n",
            "2\n",
            "3\n",
            "1\n",
            "2\n",
            "3\n"
          ],
          "name": "stdout"
        }
      ]
    },
    {
      "cell_type": "code",
      "metadata": {
        "colab": {
          "base_uri": "https://localhost:8080/"
        },
        "id": "5WVBxMMNuUnb",
        "outputId": "5f5b45d5-8e06-43fb-8e98-79c60915fcff"
      },
      "source": [
        "from itertools import repeat\n",
        "\n",
        "a = [1,2,3]\n",
        "for i in repeat(a, 3):\n",
        "    print(i)"
      ],
      "execution_count": 21,
      "outputs": [
        {
          "output_type": "stream",
          "text": [
            "[1, 2, 3]\n",
            "[1, 2, 3]\n",
            "[1, 2, 3]\n"
          ],
          "name": "stdout"
        }
      ]
    }
  ]
}