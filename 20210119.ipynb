{
  "nbformat": 4,
  "nbformat_minor": 0,
  "metadata": {
    "colab": {
      "name": "20210119.ipynb",
      "provenance": [],
      "authorship_tag": "ABX9TyMb956U8SjpqtKtTTBsBtca",
      "include_colab_link": true
    },
    "kernelspec": {
      "name": "python3",
      "display_name": "Python 3"
    }
  },
  "cells": [
    {
      "cell_type": "markdown",
      "metadata": {
        "id": "view-in-github",
        "colab_type": "text"
      },
      "source": [
        "<a href=\"https://colab.research.google.com/github/soralee2821/coding/blob/master/20210119.ipynb\" target=\"_parent\"><img src=\"https://colab.research.google.com/assets/colab-badge.svg\" alt=\"Open In Colab\"/></a>"
      ]
    },
    {
      "cell_type": "markdown",
      "metadata": {
        "id": "TFH_PqKcqfXV"
      },
      "source": [
        "###함수"
      ]
    },
    {
      "cell_type": "code",
      "metadata": {
        "colab": {
          "base_uri": "https://localhost:8080/"
        },
        "id": "YfMbnOQjI1ml",
        "outputId": "43b2f23f-e38e-4006-a4d1-f4e26c2896ba"
      },
      "source": [
        "#함수\r\n",
        "def sum(a,b):\r\n",
        "    result = a + b\r\n",
        "    return result\r\n",
        "\r\n",
        "#함수 호출\r\n",
        "print(sum(1,2))"
      ],
      "execution_count": 1,
      "outputs": [
        {
          "output_type": "stream",
          "text": [
            "3\n"
          ],
          "name": "stdout"
        }
      ]
    },
    {
      "cell_type": "code",
      "metadata": {
        "colab": {
          "base_uri": "https://localhost:8080/"
        },
        "id": "_GbZMzuGJu9W",
        "outputId": "d08d7552-3a04-4647-eb50-dbbbf3ce4058"
      },
      "source": [
        "#입력값(매개변수)이 없는 함수\r\n",
        "def say():\r\n",
        "    return 'hi'\r\n",
        "\r\n",
        "print(say())"
      ],
      "execution_count": 2,
      "outputs": [
        {
          "output_type": "stream",
          "text": [
            "hi\n"
          ],
          "name": "stdout"
        }
      ]
    },
    {
      "cell_type": "code",
      "metadata": {
        "colab": {
          "base_uri": "https://localhost:8080/"
        },
        "id": "5ACWFz7yKQNx",
        "outputId": "2c18afaa-1bcb-4c6c-e679-c6748aeecd18"
      },
      "source": [
        "#결과값(return)이 없는 함수\r\n",
        "def sum(a,b):\r\n",
        "    print(\"%d, %d의 합은 %d입니다.\" %(a,b,a+b))\r\n",
        "\r\n",
        "print(sum(1,2))"
      ],
      "execution_count": 3,
      "outputs": [
        {
          "output_type": "stream",
          "text": [
            "1, 2의 합은 3입니다.\n",
            "None\n"
          ],
          "name": "stdout"
        }
      ]
    },
    {
      "cell_type": "code",
      "metadata": {
        "colab": {
          "base_uri": "https://localhost:8080/"
        },
        "id": "xPTGNSnrK1fr",
        "outputId": "b7d2755b-3737-4347-f10b-b3363cdf0dd6"
      },
      "source": [
        "#입력값과 출력값이 없는 함수\r\n",
        "def say():\r\n",
        "    print('hi')\r\n",
        "\r\n",
        "print(say())"
      ],
      "execution_count": 4,
      "outputs": [
        {
          "output_type": "stream",
          "text": [
            "hi\n",
            "None\n"
          ],
          "name": "stdout"
        }
      ]
    },
    {
      "cell_type": "code",
      "metadata": {
        "colab": {
          "base_uri": "https://localhost:8080/"
        },
        "id": "bRIzDQf2Lb9f",
        "outputId": "0093cdd5-6d2d-412f-ac96-162a6993dedd"
      },
      "source": [
        "#입력값으로 여러 매개변수를 받을 때 : *args(arguments)\r\n",
        "def sum_many(*args):\r\n",
        "    sum = 0\r\n",
        "    for i in args:\r\n",
        "        sum = sum + i\r\n",
        "    return sum\r\n",
        "\r\n",
        "print(sum_many(1,2,3))"
      ],
      "execution_count": 9,
      "outputs": [
        {
          "output_type": "stream",
          "text": [
            "6\n"
          ],
          "name": "stdout"
        }
      ]
    },
    {
      "cell_type": "code",
      "metadata": {
        "colab": {
          "base_uri": "https://localhost:8080/"
        },
        "id": "03PsU17SVDxx",
        "outputId": "3b88676d-d637-47bd-f614-fb98ec8f0734"
      },
      "source": [
        "#dictionary 형태로 여러 매개변수를 받을 때 : **kwargs(keyword arguments)\r\n",
        "def print_kwargs(**kwargs):\r\n",
        "    for k in kwargs.keys():\r\n",
        "        if (k==\"name\"):\r\n",
        "            print(\"What your \" + k + \"?\")\r\n",
        "\r\n",
        "print_kwargs(name=\"이소라\",b=\"2\")"
      ],
      "execution_count": 15,
      "outputs": [
        {
          "output_type": "stream",
          "text": [
            "What your name?\n"
          ],
          "name": "stdout"
        }
      ]
    },
    {
      "cell_type": "code",
      "metadata": {
        "colab": {
          "base_uri": "https://localhost:8080/"
        },
        "id": "xpuqpOYNXAtC",
        "outputId": "2a02323b-3a9e-4ce1-c74b-024298191e24"
      },
      "source": [
        "#return값은 하나의 튜플\r\n",
        "def sum_and_mul(a,b):\r\n",
        "    return a+b, a*b, a-b\r\n",
        "\r\n",
        "print(sum_and_mul(1,2))\r\n",
        "print(sum_and_mul(1,2)[0])   #return값 중 원하는 값을 선택 가능"
      ],
      "execution_count": 17,
      "outputs": [
        {
          "output_type": "stream",
          "text": [
            "(3, 2, -1)\n",
            "3\n"
          ],
          "name": "stdout"
        }
      ]
    },
    {
      "cell_type": "code",
      "metadata": {
        "colab": {
          "base_uri": "https://localhost:8080/"
        },
        "id": "dSKT3QloYMLS",
        "outputId": "053636da-40e8-4414-dc40-2c775f3d702c"
      },
      "source": [
        "#입력 매개변수의 기본값 설정 가능\r\n",
        " def say_myself(name, old, man=True):\r\n",
        "    print(\"나의 이름은 %s입니다.\"% name)\r\n",
        "    print(\"나의 나이는 %d살입니다.\"% old)\r\n",
        "    if man:\r\n",
        "        print(\"나는 남자입니다.\")\r\n",
        "    else:\r\n",
        "        print(\"나는 여자입니다.\")\r\n",
        "\r\n",
        "say_myself(\"홍길동\",20,True)"
      ],
      "execution_count": 19,
      "outputs": [
        {
          "output_type": "stream",
          "text": [
            "나의 이름은 홍길동입니다.\n",
            "나의 나이는 20살입니다.\n",
            "나는 남자입니다.\n"
          ],
          "name": "stdout"
        }
      ]
    },
    {
      "cell_type": "code",
      "metadata": {
        "colab": {
          "base_uri": "https://localhost:8080/"
        },
        "id": "eu3ANxzekazY",
        "outputId": "e4242b34-ed9a-48a2-859e-e7d2853c7899"
      },
      "source": [
        "#입력할 매개변수를 언급하면 순서 변경 가능\r\n",
        "def say_myself(name, old, man=True):\r\n",
        "    print(\"나의 이름은 %s입니다.\"% name)\r\n",
        "    print(\"나의 나이는 %d살입니다.\"% old)\r\n",
        "    if man:\r\n",
        "        print(\"나는 남자입니다.\")\r\n",
        "    else:\r\n",
        "        print(\"나는 여자입니다.\")\r\n",
        "\r\n",
        "say_myself(old=20,name=\"홍길동\",man=True)"
      ],
      "execution_count": 22,
      "outputs": [
        {
          "output_type": "stream",
          "text": [
            "나의 이름은 홍길동입니다.\n",
            "나의 나이는 20살입니다.\n",
            "나는 남자입니다.\n"
          ],
          "name": "stdout"
        }
      ]
    },
    {
      "cell_type": "code",
      "metadata": {
        "colab": {
          "base_uri": "https://localhost:8080/"
        },
        "id": "4pd8a9ERlNtY",
        "outputId": "bc203847-97e8-43a4-823b-a244a22d6ded"
      },
      "source": [
        "#함수 안에 있는 변수는 지역변수이므로 전역변수에 영향 못 미침\r\n",
        "a = 1\r\n",
        "def vartest(a):\r\n",
        "    a = a + 1\r\n",
        "\r\n",
        "vartest(a)\r\n",
        "print(a)"
      ],
      "execution_count": 23,
      "outputs": [
        {
          "output_type": "stream",
          "text": [
            "1\n"
          ],
          "name": "stdout"
        }
      ]
    },
    {
      "cell_type": "code",
      "metadata": {
        "colab": {
          "base_uri": "https://localhost:8080/"
        },
        "id": "QqInbTiLoRAG",
        "outputId": "2e56a4c0-5995-4d59-f046-386e888fb244"
      },
      "source": [
        "#함수 안에서 함수 밖 변수를 변경하는 방법1(변수에 return값을 대입)\r\n",
        "a = 1\r\n",
        "def vartest(a):\r\n",
        "    a = a + 1\r\n",
        "    return a\r\n",
        "\r\n",
        "a = vartest(a)\r\n",
        "print(a)"
      ],
      "execution_count": 26,
      "outputs": [
        {
          "output_type": "stream",
          "text": [
            "2\n"
          ],
          "name": "stdout"
        }
      ]
    },
    {
      "cell_type": "code",
      "metadata": {
        "colab": {
          "base_uri": "https://localhost:8080/"
        },
        "id": "OXGhEBJloZcL",
        "outputId": "0b845567-2e2d-4ae7-bb06-8135961373f4"
      },
      "source": [
        "#함수 안에서 함수 밖 변수를 변경하는 방법2(함수 안 변수에 global 선언)\r\n",
        "a = 1\r\n",
        "def vartest():\r\n",
        "    global a\r\n",
        "    a = a + 1\r\n",
        "\r\n",
        "vartest()\r\n",
        "print(a)"
      ],
      "execution_count": 27,
      "outputs": [
        {
          "output_type": "stream",
          "text": [
            "2\n"
          ],
          "name": "stdout"
        }
      ]
    },
    {
      "cell_type": "code",
      "metadata": {
        "colab": {
          "base_uri": "https://localhost:8080/"
        },
        "id": "g2KbYcn0pJv1",
        "outputId": "7cb281ab-b72a-4071-e37e-0152ea6d5208"
      },
      "source": [
        "#lambda(함수 축약모드)\r\n",
        "add = lambda a, b: a+b\r\n",
        "\r\n",
        "print(add(1,2))"
      ],
      "execution_count": 28,
      "outputs": [
        {
          "output_type": "stream",
          "text": [
            "3\n"
          ],
          "name": "stdout"
        }
      ]
    },
    {
      "cell_type": "code",
      "metadata": {
        "colab": {
          "base_uri": "https://localhost:8080/"
        },
        "id": "qypzbnzxpxx8",
        "outputId": "b3a3e348-acfd-4527-d63c-52d9b76af842"
      },
      "source": [
        "#list안에 lambda 사용 가능\r\n",
        "myList = [lambda a,b: a+b, lambda a,b:a*b]\r\n",
        "\r\n",
        "print(myList[0](1,2))\r\n",
        "print(myList[1](1,2))"
      ],
      "execution_count": 31,
      "outputs": [
        {
          "output_type": "stream",
          "text": [
            "3\n",
            "2\n"
          ],
          "name": "stdout"
        }
      ]
    },
    {
      "cell_type": "markdown",
      "metadata": {
        "id": "NVTc0Dsyqpe-"
      },
      "source": [
        "###사용자 입력과 출력"
      ]
    },
    {
      "cell_type": "code",
      "metadata": {
        "colab": {
          "base_uri": "https://localhost:8080/"
        },
        "id": "Y7570Plcqkje",
        "outputId": "4b9f7b03-72be-43a4-f845-6d8e38117717"
      },
      "source": [
        "#input\r\n",
        "a = input()"
      ],
      "execution_count": 32,
      "outputs": [
        {
          "output_type": "stream",
          "text": [
            "1\n"
          ],
          "name": "stdout"
        }
      ]
    },
    {
      "cell_type": "code",
      "metadata": {
        "colab": {
          "base_uri": "https://localhost:8080/"
        },
        "id": "ER0wmeGMrVxQ",
        "outputId": "48986062-444a-425f-8bef-74abd79041ac"
      },
      "source": [
        "#input 매개변수 안에 작성 가능\r\n",
        "number = input(\"숫자를 입력하세요: \")"
      ],
      "execution_count": 33,
      "outputs": [
        {
          "output_type": "stream",
          "text": [
            "숫자를 입력하세요: 3\n"
          ],
          "name": "stdout"
        }
      ]
    },
    {
      "cell_type": "code",
      "metadata": {
        "colab": {
          "base_uri": "https://localhost:8080/"
        },
        "id": "41E8yD5Yrbfu",
        "outputId": "91ce30f5-57da-4920-d3db-2cae6ebe3da2"
      },
      "source": [
        "#print - string은 연속 사용 가능, 콤마 삽입시 띄어쓰기로 표시됨\r\n",
        "print(\"Life\"\"is\"\"good\")\r\n",
        "print(\"Life\",\"is\",\"good\")"
      ],
      "execution_count": 34,
      "outputs": [
        {
          "output_type": "stream",
          "text": [
            "Lifeisgood\n",
            "Life is good\n"
          ],
          "name": "stdout"
        }
      ]
    },
    {
      "cell_type": "code",
      "metadata": {
        "colab": {
          "base_uri": "https://localhost:8080/"
        },
        "id": "p0WmLomtr5ie",
        "outputId": "38c8efd5-c244-43c7-b6a9-0494a9008f94"
      },
      "source": [
        "#print의 end 옵션(줄바꾸지 않고 end값으로 구분하여 한줄에 씀)\r\n",
        "for i in range(10):\r\n",
        "    print(i, end=' ')"
      ],
      "execution_count": 35,
      "outputs": [
        {
          "output_type": "stream",
          "text": [
            "0 1 2 3 4 5 6 7 8 9 "
          ],
          "name": "stdout"
        }
      ]
    },
    {
      "cell_type": "markdown",
      "metadata": {
        "id": "csTpC7CNsrIw"
      },
      "source": [
        "###파일 읽고 쓰기"
      ]
    },
    {
      "cell_type": "code",
      "metadata": {
        "id": "CdYs8e6SsUyS"
      },
      "source": [
        "#파일 쓰기\r\n",
        "f = open(\"새파일.txt\",'w')\r\n",
        "f.close()"
      ],
      "execution_count": 37,
      "outputs": []
    },
    {
      "cell_type": "code",
      "metadata": {
        "id": "xUEEmhPYucda"
      },
      "source": [
        "#f = open(\"C:\\test\\새파일.txt\",'w', encoding=\"UTF-8\")\r\n",
        "f = open(\"새파일.txt\",'w')\r\n",
        "for i in range(1,11):\r\n",
        "    data = \"%d번째 줄입니다.\\n\" % i\r\n",
        "    f.write(data)\r\n",
        "f.close()"
      ],
      "execution_count": 51,
      "outputs": []
    },
    {
      "cell_type": "code",
      "metadata": {
        "colab": {
          "base_uri": "https://localhost:8080/"
        },
        "id": "DcW6xMVqvqjg",
        "outputId": "558dc7a7-8f37-4fd9-9ce8-38b234f6df3e"
      },
      "source": [
        "#readline : 한줄 읽기\r\n",
        "f = open(\"새파일.txt\",'r')\r\n",
        "line = f.readline()\r\n",
        "print(line)\r\n",
        "f.close()"
      ],
      "execution_count": 52,
      "outputs": [
        {
          "output_type": "stream",
          "text": [
            "1번째 줄입니다.\n",
            "\n"
          ],
          "name": "stdout"
        }
      ]
    },
    {
      "cell_type": "code",
      "metadata": {
        "colab": {
          "base_uri": "https://localhost:8080/"
        },
        "id": "l5VUWB0HxN7h",
        "outputId": "8627e742-75d6-4050-c164-348aa5ca0fc3"
      },
      "source": [
        "f = open(\"새파일.txt\",'r')\r\n",
        "while True:\r\n",
        "    line = f.readline()\r\n",
        "    if not line: break   #line이 아무값도 없을 때 반복문을 멈춤\r\n",
        "    print(line)\r\n",
        "f.close()"
      ],
      "execution_count": 53,
      "outputs": [
        {
          "output_type": "stream",
          "text": [
            "1번째 줄입니다.\n",
            "\n",
            "2번째 줄입니다.\n",
            "\n",
            "3번째 줄입니다.\n",
            "\n",
            "4번째 줄입니다.\n",
            "\n",
            "5번째 줄입니다.\n",
            "\n",
            "6번째 줄입니다.\n",
            "\n",
            "7번째 줄입니다.\n",
            "\n",
            "8번째 줄입니다.\n",
            "\n",
            "9번째 줄입니다.\n",
            "\n",
            "10번째 줄입니다.\n",
            "\n"
          ],
          "name": "stdout"
        }
      ]
    },
    {
      "cell_type": "code",
      "metadata": {
        "colab": {
          "base_uri": "https://localhost:8080/"
        },
        "id": "gkvN1B_KyEHv",
        "outputId": "fb1953b0-2f5b-4ab4-b821-95cf79323aa4"
      },
      "source": [
        "#readlines : 모든 줄을 list 형태로 가져옴\r\n",
        "f = open(\"새파일.txt\",'r')\r\n",
        "lines = f.readlines()\r\n",
        "for line in lines:\r\n",
        "    print(line)\r\n",
        "f.close()"
      ],
      "execution_count": 54,
      "outputs": [
        {
          "output_type": "stream",
          "text": [
            "1번째 줄입니다.\n",
            "\n",
            "2번째 줄입니다.\n",
            "\n",
            "3번째 줄입니다.\n",
            "\n",
            "4번째 줄입니다.\n",
            "\n",
            "5번째 줄입니다.\n",
            "\n",
            "6번째 줄입니다.\n",
            "\n",
            "7번째 줄입니다.\n",
            "\n",
            "8번째 줄입니다.\n",
            "\n",
            "9번째 줄입니다.\n",
            "\n",
            "10번째 줄입니다.\n",
            "\n"
          ],
          "name": "stdout"
        }
      ]
    },
    {
      "cell_type": "code",
      "metadata": {
        "colab": {
          "base_uri": "https://localhost:8080/"
        },
        "id": "edZFTVJny-tO",
        "outputId": "ab443187-e09e-4f29-a085-3657193102e9"
      },
      "source": [
        "#새파일.txt의 모든 줄 끝에 \\n이 존재했음 -> end=\" \"옵션으로 바꿔줌\r\n",
        "f = open(\"새파일.txt\",'r')\r\n",
        "lines = f.readlines()\r\n",
        "for line in lines:\r\n",
        "    print(line, end=\" \")\r\n",
        "f.close()"
      ],
      "execution_count": 55,
      "outputs": [
        {
          "output_type": "stream",
          "text": [
            "1번째 줄입니다.\n",
            " 2번째 줄입니다.\n",
            " 3번째 줄입니다.\n",
            " 4번째 줄입니다.\n",
            " 5번째 줄입니다.\n",
            " 6번째 줄입니다.\n",
            " 7번째 줄입니다.\n",
            " 8번째 줄입니다.\n",
            " 9번째 줄입니다.\n",
            " 10번째 줄입니다.\n",
            " "
          ],
          "name": "stdout"
        }
      ]
    },
    {
      "cell_type": "code",
      "metadata": {
        "colab": {
          "base_uri": "https://localhost:8080/"
        },
        "id": "pwjAEA-NziNT",
        "outputId": "cd1855ae-2f42-4ccc-c06e-60f8c13e2c3f"
      },
      "source": [
        "#strip함수를 통해 \\n을 없애줌\r\n",
        "f = open(\"새파일.txt\",'r')\r\n",
        "lines = f.readlines()\r\n",
        "for line in lines:\r\n",
        "    print(line.strip('\\n'))\r\n",
        "f.close()"
      ],
      "execution_count": 56,
      "outputs": [
        {
          "output_type": "stream",
          "text": [
            "1번째 줄입니다.\n",
            "2번째 줄입니다.\n",
            "3번째 줄입니다.\n",
            "4번째 줄입니다.\n",
            "5번째 줄입니다.\n",
            "6번째 줄입니다.\n",
            "7번째 줄입니다.\n",
            "8번째 줄입니다.\n",
            "9번째 줄입니다.\n",
            "10번째 줄입니다.\n"
          ],
          "name": "stdout"
        }
      ]
    },
    {
      "cell_type": "code",
      "metadata": {
        "colab": {
          "base_uri": "https://localhost:8080/"
        },
        "id": "ZkajhdZO0BsG",
        "outputId": "89cfb613-66dd-4005-f406-332921df8930"
      },
      "source": [
        "#한줄로 쓰기(strip함수로 \\n 제거, end 옵션)\r\n",
        "f = open(\"새파일.txt\",'r')\r\n",
        "lines = f.readlines()\r\n",
        "for line in lines:\r\n",
        "    print(line.strip('\\n'), end=\" \")\r\n",
        "f.close()"
      ],
      "execution_count": 57,
      "outputs": [
        {
          "output_type": "stream",
          "text": [
            "1번째 줄입니다. 2번째 줄입니다. 3번째 줄입니다. 4번째 줄입니다. 5번째 줄입니다. 6번째 줄입니다. 7번째 줄입니다. 8번째 줄입니다. 9번째 줄입니다. 10번째 줄입니다. "
          ],
          "name": "stdout"
        }
      ]
    },
    {
      "cell_type": "code",
      "metadata": {
        "colab": {
          "base_uri": "https://localhost:8080/"
        },
        "id": "IquX8B-X0PsH",
        "outputId": "b4771dd6-bcd6-49c2-b068-1c9c7e185a84"
      },
      "source": [
        "#read함수 : 통째로 읽어줌\r\n",
        "f = open(\"새파일.txt\",'r')\r\n",
        "data = f.read()\r\n",
        "print(data)\r\n",
        "f.close()"
      ],
      "execution_count": 58,
      "outputs": [
        {
          "output_type": "stream",
          "text": [
            "1번째 줄입니다.\n",
            "2번째 줄입니다.\n",
            "3번째 줄입니다.\n",
            "4번째 줄입니다.\n",
            "5번째 줄입니다.\n",
            "6번째 줄입니다.\n",
            "7번째 줄입니다.\n",
            "8번째 줄입니다.\n",
            "9번째 줄입니다.\n",
            "10번째 줄입니다.\n",
            "\n"
          ],
          "name": "stdout"
        }
      ]
    },
    {
      "cell_type": "code",
      "metadata": {
        "id": "1BsYHhu40zUf"
      },
      "source": [
        "#a는 파일에 내용추가/w를 중복해서 쓰면 덮어쓰기\r\n",
        "f = open(\"새파일.txt\",'a')\r\n",
        "for i in range(11,21):\r\n",
        "    data = \"%d번째 줄입니다.\\n\" % i\r\n",
        "    f.write(data)\r\n",
        "f.close()"
      ],
      "execution_count": 59,
      "outputs": []
    },
    {
      "cell_type": "code",
      "metadata": {
        "colab": {
          "base_uri": "https://localhost:8080/"
        },
        "id": "RCI6eGrN1nGW",
        "outputId": "74511a13-fe00-4d53-fe89-0372a9453908"
      },
      "source": [
        "f = open(\"새파일.txt\",'r')\r\n",
        "data = f.read()\r\n",
        "print(data)\r\n",
        "f.close()"
      ],
      "execution_count": 60,
      "outputs": [
        {
          "output_type": "stream",
          "text": [
            "1번째 줄입니다.\n",
            "2번째 줄입니다.\n",
            "3번째 줄입니다.\n",
            "4번째 줄입니다.\n",
            "5번째 줄입니다.\n",
            "6번째 줄입니다.\n",
            "7번째 줄입니다.\n",
            "8번째 줄입니다.\n",
            "9번째 줄입니다.\n",
            "10번째 줄입니다.\n",
            "11번째 줄입니다.\n",
            "12번째 줄입니다.\n",
            "13번째 줄입니다.\n",
            "14번째 줄입니다.\n",
            "15번째 줄입니다.\n",
            "16번째 줄입니다.\n",
            "17번째 줄입니다.\n",
            "18번째 줄입니다.\n",
            "19번째 줄입니다.\n",
            "20번째 줄입니다.\n",
            "\n"
          ],
          "name": "stdout"
        }
      ]
    },
    {
      "cell_type": "code",
      "metadata": {
        "id": "8gcYzdTc1tbm"
      },
      "source": [
        "#close를 사용하지 않는 방법 : with open ~ as f(~를 열어서 f라는 변수에 저장)\r\n",
        "#f는 지역변수이므로 close 하지 않아도 됨\r\n",
        "with open(\"poo.txt\",\"w\") as f:\r\n",
        "    f.write(\"Life is too short, you need python\")"
      ],
      "execution_count": 61,
      "outputs": []
    },
    {
      "cell_type": "code",
      "metadata": {
        "id": "Nrd0qSBn2OA4"
      },
      "source": [
        ""
      ],
      "execution_count": null,
      "outputs": []
    }
  ]
}