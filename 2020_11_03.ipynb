{
  "nbformat": 4,
  "nbformat_minor": 0,
  "metadata": {
    "colab": {
      "name": "2020-11-03.ipynb",
      "provenance": [],
      "authorship_tag": "ABX9TyMBq1J4/lT24eq8yI8k902D",
      "include_colab_link": true
    },
    "kernelspec": {
      "name": "python3",
      "display_name": "Python 3"
    }
  },
  "cells": [
    {
      "cell_type": "markdown",
      "metadata": {
        "id": "view-in-github",
        "colab_type": "text"
      },
      "source": [
        "<a href=\"https://colab.research.google.com/github/soralee2821/coding/blob/master/2020_11_03.ipynb\" target=\"_parent\"><img src=\"https://colab.research.google.com/assets/colab-badge.svg\" alt=\"Open In Colab\"/></a>"
      ]
    },
    {
      "cell_type": "code",
      "metadata": {
        "id": "A_Jnq6qE1Nz3",
        "outputId": "39f3890d-7aef-4a47-a1c1-6600c5e92428",
        "colab": {
          "base_uri": "https://localhost:8080/"
        }
      },
      "source": [
        "X = int(input())\n",
        "\n",
        "line = 1\n",
        "while X > line:\n",
        "    X -= line\n",
        "    line += 1\n",
        "\n",
        "if line % 2 == 0: #짝수 줄은 분모가 내림차순\n",
        "    top = X\n",
        "    bottom = line - X + 1\n",
        "else:\n",
        "    top = line - X + 1 #홀수 줄은 분자가 내림차순\n",
        "    bottom = X\n",
        "\n",
        "print(top, '/', bottom, sep='')"
      ],
      "execution_count": 3,
      "outputs": [
        {
          "output_type": "stream",
          "text": [
            "14\n",
            "2/4\n"
          ],
          "name": "stdout"
        }
      ]
    },
    {
      "cell_type": "code",
      "metadata": {
        "id": "cAdVt3gu3WOV"
      },
      "source": [
        ""
      ],
      "execution_count": null,
      "outputs": []
    }
  ]
}