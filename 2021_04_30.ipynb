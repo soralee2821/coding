{
  "nbformat": 4,
  "nbformat_minor": 0,
  "metadata": {
    "colab": {
      "name": "2021-04-30.ipynb",
      "provenance": [],
      "authorship_tag": "ABX9TyNYrC4vInL2nNx8rvBQKpSO",
      "include_colab_link": true
    },
    "kernelspec": {
      "name": "python3",
      "display_name": "Python 3"
    },
    "language_info": {
      "name": "python"
    }
  },
  "cells": [
    {
      "cell_type": "markdown",
      "metadata": {
        "id": "view-in-github",
        "colab_type": "text"
      },
      "source": [
        "<a href=\"https://colab.research.google.com/github/soralee2821/coding/blob/master/2021_04_30.ipynb\" target=\"_parent\"><img src=\"https://colab.research.google.com/assets/colab-badge.svg\" alt=\"Open In Colab\"/></a>"
      ]
    },
    {
      "cell_type": "markdown",
      "metadata": {
        "id": "8LLYeMvDasLV"
      },
      "source": [
        "# Shallow vs Deep Copying"
      ]
    },
    {
      "cell_type": "markdown",
      "metadata": {
        "id": "8-oXmd0shbu_"
      },
      "source": [
        "\n",
        "*   shallow copy : one level deep, only reference of nested child objects\n",
        "*   deep copy : full indepedent copy\n",
        "\n"
      ]
    },
    {
      "cell_type": "code",
      "metadata": {
        "colab": {
          "base_uri": "https://localhost:8080/"
        },
        "id": "FYxXp5R1aepK",
        "outputId": "6fc7027f-a4eb-4e08-a693-1e88f9a4dd72"
      },
      "source": [
        "# assign operator does not copy original content\n",
        "org = [0,1,2,3,4]\n",
        "cpy = org\n",
        "cpy[0] = -10\n",
        "print(cpy)\n",
        "print(org)"
      ],
      "execution_count": 2,
      "outputs": [
        {
          "output_type": "stream",
          "text": [
            "[-10, 1, 2, 3, 4]\n",
            "[-10, 1, 2, 3, 4]\n"
          ],
          "name": "stdout"
        }
      ]
    },
    {
      "cell_type": "markdown",
      "metadata": {
        "id": "UNW3zG_KiPeI"
      },
      "source": [
        "## Shallow copy"
      ]
    },
    {
      "cell_type": "code",
      "metadata": {
        "colab": {
          "base_uri": "https://localhost:8080/"
        },
        "id": "OOUZPqiMg2v8",
        "outputId": "d8751646-b3dd-4cf2-e2d7-6272f62cf62e"
      },
      "source": [
        "import copy\n",
        "org = [0,1,2,3,4]\n",
        "cpy = copy.copy(org)\n",
        "cpy[0] = -10\n",
        "print(cpy)\n",
        "print(org)"
      ],
      "execution_count": 3,
      "outputs": [
        {
          "output_type": "stream",
          "text": [
            "[-10, 1, 2, 3, 4]\n",
            "[0, 1, 2, 3, 4]\n"
          ],
          "name": "stdout"
        }
      ]
    },
    {
      "cell_type": "code",
      "metadata": {
        "colab": {
          "base_uri": "https://localhost:8080/"
        },
        "id": "mMrtC5HCh9wY",
        "outputId": "30366520-2fc2-4c33-e8f8-6ed89ac7e07c"
      },
      "source": [
        "org = [0,1,2,3,4]\n",
        "cpy = org.copy()\n",
        "cpy[0] = -10\n",
        "print(cpy)\n",
        "print(org)"
      ],
      "execution_count": 4,
      "outputs": [
        {
          "output_type": "stream",
          "text": [
            "[-10, 1, 2, 3, 4]\n",
            "[0, 1, 2, 3, 4]\n"
          ],
          "name": "stdout"
        }
      ]
    },
    {
      "cell_type": "code",
      "metadata": {
        "colab": {
          "base_uri": "https://localhost:8080/"
        },
        "id": "6qn2EmSgiGDS",
        "outputId": "69dc590e-02b3-4640-c511-f1fdd795d2b6"
      },
      "source": [
        "org = [0,1,2,3,4]\n",
        "cpy = list(org)\n",
        "cpy[0] = -10\n",
        "print(cpy)\n",
        "print(org)"
      ],
      "execution_count": 5,
      "outputs": [
        {
          "output_type": "stream",
          "text": [
            "[-10, 1, 2, 3, 4]\n",
            "[0, 1, 2, 3, 4]\n"
          ],
          "name": "stdout"
        }
      ]
    },
    {
      "cell_type": "code",
      "metadata": {
        "colab": {
          "base_uri": "https://localhost:8080/"
        },
        "id": "n3_xAqlQiOBm",
        "outputId": "c132eaa5-ffc1-41fa-bb1d-4c6fca89d203"
      },
      "source": [
        "org = [0,1,2,3,4]\n",
        "cpy = org[:]\n",
        "cpy[0] = -10\n",
        "print(cpy)\n",
        "print(org)"
      ],
      "execution_count": 6,
      "outputs": [
        {
          "output_type": "stream",
          "text": [
            "[-10, 1, 2, 3, 4]\n",
            "[0, 1, 2, 3, 4]\n"
          ],
          "name": "stdout"
        }
      ]
    },
    {
      "cell_type": "code",
      "metadata": {
        "colab": {
          "base_uri": "https://localhost:8080/"
        },
        "id": "WHDMbMhtiXrv",
        "outputId": "918e02c9-8151-4915-ede7-0d67a6329a8b"
      },
      "source": [
        "# shallow copy : one level deep copy\n",
        "import copy\n",
        "org = [[0,1,2,3,4],[5,6,7,8,9]]\n",
        "cpy = copy.copy(org)\n",
        "cpy[0][1] = -10\n",
        "print(cpy)\n",
        "print(org)"
      ],
      "execution_count": 7,
      "outputs": [
        {
          "output_type": "stream",
          "text": [
            "[[0, -10, 2, 3, 4], [5, 6, 7, 8, 9]]\n",
            "[[0, -10, 2, 3, 4], [5, 6, 7, 8, 9]]\n"
          ],
          "name": "stdout"
        }
      ]
    },
    {
      "cell_type": "markdown",
      "metadata": {
        "id": "hOGurGJri8N_"
      },
      "source": [
        "## Deep copy"
      ]
    },
    {
      "cell_type": "code",
      "metadata": {
        "colab": {
          "base_uri": "https://localhost:8080/"
        },
        "id": "CFAW7QaOit8I",
        "outputId": "00d9097e-f826-4775-cd9c-e7bb56cba1f9"
      },
      "source": [
        "# deep copy : full independent copy\n",
        "import copy\n",
        "org = [[0,1,2,3,4],[5,6,7,8,9]]\n",
        "cpy = copy.deepcopy(org)\n",
        "cpy[0][1] = -10\n",
        "print(cpy)\n",
        "print(org)"
      ],
      "execution_count": 8,
      "outputs": [
        {
          "output_type": "stream",
          "text": [
            "[[0, -10, 2, 3, 4], [5, 6, 7, 8, 9]]\n",
            "[[0, 1, 2, 3, 4], [5, 6, 7, 8, 9]]\n"
          ],
          "name": "stdout"
        }
      ]
    },
    {
      "cell_type": "code",
      "metadata": {
        "colab": {
          "base_uri": "https://localhost:8080/"
        },
        "id": "2YqKBVj4jGCz",
        "outputId": "ff25ac33-91a9-4a21-bd00-39727d819e23"
      },
      "source": [
        "class Person:\n",
        "    def __init__(self, name, age):\n",
        "        self.name = name\n",
        "        self.age = age\n",
        "\n",
        "p1 = Person('Alex', 27)\n",
        "p2 = p1\n",
        "\n",
        "p2.age = 28\n",
        "print(p2.age)\n",
        "print(p1.age)"
      ],
      "execution_count": 9,
      "outputs": [
        {
          "output_type": "stream",
          "text": [
            "28\n",
            "28\n"
          ],
          "name": "stdout"
        }
      ]
    },
    {
      "cell_type": "code",
      "metadata": {
        "colab": {
          "base_uri": "https://localhost:8080/"
        },
        "id": "8I3KtX9Sk57t",
        "outputId": "cbbe7193-bdcf-46f6-92c1-84d001964300"
      },
      "source": [
        "# shallow copy\n",
        "class Person:\n",
        "    def __init__(self, name, age):\n",
        "        self.name = name\n",
        "        self.age = age\n",
        "\n",
        "p1 = Person('Alex', 27)\n",
        "p2 = copy.copy(p1)\n",
        "\n",
        "p2.age = 28\n",
        "print(p2.age)\n",
        "print(p1.age)"
      ],
      "execution_count": 10,
      "outputs": [
        {
          "output_type": "stream",
          "text": [
            "28\n",
            "27\n"
          ],
          "name": "stdout"
        }
      ]
    },
    {
      "cell_type": "code",
      "metadata": {
        "colab": {
          "base_uri": "https://localhost:8080/"
        },
        "id": "xwTbpde_lBkh",
        "outputId": "fbb89d9a-2d61-436c-999a-de947b499272"
      },
      "source": [
        "# shallow copy (deep level customized class)\n",
        "class Person:\n",
        "    def __init__(self, name, age):\n",
        "        self.name = name\n",
        "        self.age = age\n",
        "\n",
        "class Company:\n",
        "    def __init__(self, boss, employee):\n",
        "        self.boss = boss\n",
        "        self.employee = employee\n",
        "\n",
        "p1 = Person('Alex', 55)\n",
        "p2 = Person('Joe', 27)\n",
        "\n",
        "company = Company(p1, p2)\n",
        "company_clone = copy.copy(company)\n",
        "company_clone.boss.age = 56\n",
        "print(company_clone.boss.age)\n",
        "print(company.boss.age)"
      ],
      "execution_count": 11,
      "outputs": [
        {
          "output_type": "stream",
          "text": [
            "56\n",
            "56\n"
          ],
          "name": "stdout"
        }
      ]
    },
    {
      "cell_type": "code",
      "metadata": {
        "colab": {
          "base_uri": "https://localhost:8080/"
        },
        "id": "AKyaVcXrlu1y",
        "outputId": "d82438a7-862e-45af-e8f2-f8ca361f9760"
      },
      "source": [
        "# shallow copy (deep level customized class)\n",
        "class Person:\n",
        "    def __init__(self, name, age):\n",
        "        self.name = name\n",
        "        self.age = age\n",
        "\n",
        "class Company:\n",
        "    def __init__(self, boss, employee):\n",
        "        self.boss = boss\n",
        "        self.employee = employee\n",
        "\n",
        "p1 = Person('Alex', 55)\n",
        "p2 = Person('Joe', 27)\n",
        "\n",
        "company = Company(p1, p2)\n",
        "company_clone = copy.deepcopy(company)\n",
        "company_clone.boss.age = 56\n",
        "print(company_clone.boss.age)\n",
        "print(company.boss.age)"
      ],
      "execution_count": 12,
      "outputs": [
        {
          "output_type": "stream",
          "text": [
            "56\n",
            "55\n"
          ],
          "name": "stdout"
        }
      ]
    }
  ]
}