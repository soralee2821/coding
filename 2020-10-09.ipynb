{
 "cells": [
  {
   "cell_type": "code",
   "execution_count": 1,
   "metadata": {},
   "outputs": [
    {
     "name": "stdout",
     "output_type": "stream",
     "text": [
      "1\n",
      "-1\n",
      "4\n",
      "time : -3.2901883125305176\n"
     ]
    }
   ],
   "source": [
    "import time\n",
    "start = time.time()\n",
    "\n",
    "a = int(input())\n",
    "b = int(input())\n",
    "if a > 0:\n",
    "    if b > 0:\n",
    "        print(1)\n",
    "    else:\n",
    "        print(4)\n",
    "elif a < 0:\n",
    "    if b > 0:\n",
    "        print(2)\n",
    "    else:\n",
    "        print(3)\n",
    "\n",
    "end = time.time()\n",
    "print(\"time :\", start - end)"
   ]
  },
  {
   "cell_type": "code",
   "execution_count": 2,
   "metadata": {},
   "outputs": [
    {
     "name": "stdout",
     "output_type": "stream",
     "text": [
      "2\n",
      "-2\n",
      "4\n",
      "time : -3.586205244064331\n"
     ]
    }
   ],
   "source": [
    "import time\n",
    "start = time.time()\n",
    "\n",
    "a = int(input())\n",
    "b = int(input())\n",
    "if a > 0:\n",
    "    if b > 0:\n",
    "        print(1)\n",
    "    elif b < 0:\n",
    "        print(4)\n",
    "elif a < 0:\n",
    "    if b > 0:\n",
    "        print(2)\n",
    "    elif b < 0:\n",
    "        print(3)\n",
    "\n",
    "end = time.time()\n",
    "print(\"time :\", start - end)"
   ]
  },
  {
   "cell_type": "code",
   "execution_count": 3,
   "metadata": {},
   "outputs": [
    {
     "name": "stdout",
     "output_type": "stream",
     "text": [
      "3\n",
      "-3\n",
      "4\n",
      "time : -3.110177755355835\n"
     ]
    }
   ],
   "source": [
    "import time\n",
    "start = time.time()\n",
    "\n",
    "a = int(input())\n",
    "b = int(input())\n",
    "if a > 0 and b > 0:\n",
    "    print(1)\n",
    "elif a > 0 and b < 0:\n",
    "    print(4)\n",
    "elif a < 0 and b > 0:\n",
    "    print(2)\n",
    "elif a < 0 and b < 0:\n",
    "    print(3)\n",
    "\n",
    "end = time.time()\n",
    "print(\"time :\", start - end)"
   ]
  },
  {
   "cell_type": "code",
   "execution_count": 4,
   "metadata": {},
   "outputs": [
    {
     "name": "stdout",
     "output_type": "stream",
     "text": [
      "4\n",
      "-4\n",
      "4\n",
      "time : -3.5642037391662598\n"
     ]
    }
   ],
   "source": [
    "import time\n",
    "start = time.time()\n",
    "\n",
    "a = int(input())\n",
    "b = int(input())\n",
    "\n",
    "ans = 0\n",
    "if a > 0 and b > 0:\n",
    "    ans = 1\n",
    "elif a > 0 and b < 0:\n",
    "    ans = 4\n",
    "elif a < 0 and b > 0:\n",
    "    ans = 2\n",
    "elif a < 0 and b < 0:\n",
    "    ans = 3\n",
    "print(ans)\n",
    "\n",
    "end = time.time()\n",
    "print(\"time :\", start - end)"
   ]
  },
  {
   "cell_type": "code",
   "execution_count": 5,
   "metadata": {},
   "outputs": [
    {
     "name": "stdout",
     "output_type": "stream",
     "text": [
      "5\n",
      "-5\n",
      "4\n",
      "time : -4.450254678726196\n"
     ]
    }
   ],
   "source": [
    "import time\n",
    "start = time.time()\n",
    "\n",
    "a = int(input())\n",
    "b = int(input())\n",
    "\n",
    "def Quadrant():\n",
    "    if a > 0:\n",
    "        if b > 0:\n",
    "            print(1)\n",
    "        elif b < 0:\n",
    "            print(4)\n",
    "    elif a < 0:\n",
    "        if b > 0:\n",
    "            print(2)\n",
    "        elif b < 0:\n",
    "            print(3)\n",
    "\n",
    "Quadrant()\n",
    "\n",
    "end = time.time()\n",
    "print(\"time :\", start - end)"
   ]
  },
  {
   "cell_type": "code",
   "execution_count": 6,
   "metadata": {},
   "outputs": [
    {
     "name": "stdout",
     "output_type": "stream",
     "text": [
      "6\n",
      "-6\n",
      "4\n",
      "time : -3.4071948528289795\n"
     ]
    }
   ],
   "source": [
    "import time\n",
    "start = time.time()\n",
    "\n",
    "a = int(input())\n",
    "b = int(input())\n",
    "\n",
    "def Quadrant():\n",
    "    if a > 0 and b > 0:\n",
    "        print(1)\n",
    "    elif a > 0 and b < 0:\n",
    "        print(4)\n",
    "    elif a < 0 and b > 0:\n",
    "        print(2)\n",
    "    elif a < 0 and b < 0:\n",
    "        print(3)\n",
    "\n",
    "Quadrant()\n",
    "\n",
    "end = time.time()\n",
    "print(\"time :\", start - end)"
   ]
  },
  {
   "cell_type": "code",
   "execution_count": 7,
   "metadata": {},
   "outputs": [
    {
     "name": "stdout",
     "output_type": "stream",
     "text": [
      "7\n",
      "-7\n",
      "time : -5.054289102554321\n"
     ]
    }
   ],
   "source": [
    "import time\n",
    "start = time.time()\n",
    "\n",
    "a = int(input())\n",
    "b = int(input())\n",
    "\n",
    "def Quadrant():\n",
    "    if a > 0:\n",
    "        if b > 0:\n",
    "            return 1\n",
    "        elif b < 0:\n",
    "            return 4\n",
    "    elif a < 0:\n",
    "        if b > 0:\n",
    "            return 2\n",
    "        elif b < 0:\n",
    "            return 3\n",
    "\n",
    "Quadrant()\n",
    "\n",
    "end = time.time()\n",
    "print(\"time :\", start - end)"
   ]
  },
  {
   "cell_type": "code",
   "execution_count": 8,
   "metadata": {},
   "outputs": [
    {
     "name": "stdout",
     "output_type": "stream",
     "text": [
      "8\n",
      "-8\n",
      "time : -3.81721830368042\n"
     ]
    }
   ],
   "source": [
    "import time\n",
    "start = time.time()\n",
    "\n",
    "a = int(input())\n",
    "b = int(input())\n",
    "\n",
    "def Quadrant():\n",
    "    if a > 0 and b > 0:\n",
    "        return 1\n",
    "    elif a > 0 and b < 0:\n",
    "        return 4\n",
    "    elif a < 0 and b > 0:\n",
    "        return 2\n",
    "    elif a < 0 and b < 0:\n",
    "        return 3\n",
    "\n",
    "Quadrant()\n",
    "\n",
    "end = time.time()\n",
    "print(\"time :\", start - end)"
   ]
  },
  {
   "cell_type": "code",
   "execution_count": 9,
   "metadata": {},
   "outputs": [
    {
     "name": "stdout",
     "output_type": "stream",
     "text": [
      "9\n",
      "-9\n",
      "time : -7.601434946060181\n"
     ]
    }
   ],
   "source": [
    "import time\n",
    "start = time.time()\n",
    "\n",
    "a = int(input())\n",
    "b = int(input())\n",
    "ans = 0\n",
    "def Quadrant():\n",
    "    if a > 0:\n",
    "        if b > 0:\n",
    "            ans = 1\n",
    "        elif b < 0:\n",
    "            ans = 4\n",
    "    elif a < 0:\n",
    "        if b > 0:\n",
    "            ans = 2\n",
    "        elif b < 0:\n",
    "            ans = 3\n",
    "    return ans\n",
    "\n",
    "Quadrant()\n",
    "\n",
    "end = time.time()\n",
    "print(\"time :\", start - end)"
   ]
  },
  {
   "cell_type": "code",
   "execution_count": null,
   "metadata": {
    "collapsed": true
   },
   "outputs": [],
   "source": []
  }
 ],
 "metadata": {
  "kernelspec": {
   "display_name": "Python 3",
   "language": "python",
   "name": "python3"
  },
  "language_info": {
   "codemirror_mode": {
    "name": "ipython",
    "version": 3
   },
   "file_extension": ".py",
   "mimetype": "text/x-python",
   "name": "python",
   "nbconvert_exporter": "python",
   "pygments_lexer": "ipython3",
   "version": "3.6.1"
  }
 },
 "nbformat": 4,
 "nbformat_minor": 2
}
