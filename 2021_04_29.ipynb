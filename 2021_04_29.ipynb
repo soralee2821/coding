{
  "nbformat": 4,
  "nbformat_minor": 0,
  "metadata": {
    "colab": {
      "name": "2021-04-29.ipynb",
      "provenance": [],
      "authorship_tag": "ABX9TyPuI+LFk/Npi+yxewLYD5kA",
      "include_colab_link": true
    },
    "kernelspec": {
      "name": "python3",
      "display_name": "Python 3"
    },
    "language_info": {
      "name": "python"
    }
  },
  "cells": [
    {
      "cell_type": "markdown",
      "metadata": {
        "id": "view-in-github",
        "colab_type": "text"
      },
      "source": [
        "<a href=\"https://colab.research.google.com/github/soralee2821/coding/blob/master/2021_04_29.ipynb\" target=\"_parent\"><img src=\"https://colab.research.google.com/assets/colab-badge.svg\" alt=\"Open In Colab\"/></a>"
      ]
    },
    {
      "cell_type": "markdown",
      "metadata": {
        "id": "hDqDoGvDVLdC"
      },
      "source": [
        "# Asterick Operation (*)"
      ]
    },
    {
      "cell_type": "code",
      "metadata": {
        "colab": {
          "base_uri": "https://localhost:8080/"
        },
        "id": "b_Al7ZRwTzeF",
        "outputId": "cb65be9a-62fc-4bfa-a81f-9eddce5899e8"
      },
      "source": [
        "# * : multiple operation\n",
        "result = 5 * 7\n",
        "print(result)"
      ],
      "execution_count": 1,
      "outputs": [
        {
          "output_type": "stream",
          "text": [
            "35\n"
          ],
          "name": "stdout"
        }
      ]
    },
    {
      "cell_type": "code",
      "metadata": {
        "colab": {
          "base_uri": "https://localhost:8080/"
        },
        "id": "6DHfGi-rVy98",
        "outputId": "e1bd3258-087e-47bd-e5b8-b741f2168aa7"
      },
      "source": [
        "# ** : power operation\n",
        "result = 2 ** 4\n",
        "print(result)"
      ],
      "execution_count": 2,
      "outputs": [
        {
          "output_type": "stream",
          "text": [
            "16\n"
          ],
          "name": "stdout"
        }
      ]
    },
    {
      "cell_type": "code",
      "metadata": {
        "colab": {
          "base_uri": "https://localhost:8080/"
        },
        "id": "gCfc22KMV2vl",
        "outputId": "e4ea294e-fa92-4275-dde9-be1c7859286f"
      },
      "source": [
        "# repeat element of list\n",
        "zeros = [0] * 10\n",
        "print(zeros)"
      ],
      "execution_count": 3,
      "outputs": [
        {
          "output_type": "stream",
          "text": [
            "[0, 0, 0, 0, 0, 0, 0, 0, 0, 0]\n"
          ],
          "name": "stdout"
        }
      ]
    },
    {
      "cell_type": "code",
      "metadata": {
        "colab": {
          "base_uri": "https://localhost:8080/"
        },
        "id": "rmAwrhHKWHY7",
        "outputId": "f5aed358-11a8-4037-8ab7-b3bb907edd6c"
      },
      "source": [
        "# repeat elements of list\n",
        "zeros = [0, 1] * 10\n",
        "print(zeros)"
      ],
      "execution_count": 4,
      "outputs": [
        {
          "output_type": "stream",
          "text": [
            "[0, 1, 0, 1, 0, 1, 0, 1, 0, 1, 0, 1, 0, 1, 0, 1, 0, 1, 0, 1]\n"
          ],
          "name": "stdout"
        }
      ]
    },
    {
      "cell_type": "code",
      "metadata": {
        "colab": {
          "base_uri": "https://localhost:8080/"
        },
        "id": "e5D6RpH5WUda",
        "outputId": "77a3da1c-b90e-4167-a9e0-29f0a475410c"
      },
      "source": [
        "# repeat elements of tuple\n",
        "zeros = (0, 1) * 10\n",
        "print(zeros)"
      ],
      "execution_count": 5,
      "outputs": [
        {
          "output_type": "stream",
          "text": [
            "(0, 1, 0, 1, 0, 1, 0, 1, 0, 1, 0, 1, 0, 1, 0, 1, 0, 1, 0, 1)\n"
          ],
          "name": "stdout"
        }
      ]
    },
    {
      "cell_type": "code",
      "metadata": {
        "colab": {
          "base_uri": "https://localhost:8080/"
        },
        "id": "kAUjjrNBWX90",
        "outputId": "3c7aa888-9b07-495f-83c0-738a373d499f"
      },
      "source": [
        "# repeat string\n",
        "str = \"AB\" * 10\n",
        "print(str)"
      ],
      "execution_count": 6,
      "outputs": [
        {
          "output_type": "stream",
          "text": [
            "ABABABABABABABABABAB\n"
          ],
          "name": "stdout"
        }
      ]
    },
    {
      "cell_type": "code",
      "metadata": {
        "colab": {
          "base_uri": "https://localhost:8080/"
        },
        "id": "lZ7tthuMWmQ-",
        "outputId": "044b6389-b038-43dc-f595-1848b99031f0"
      },
      "source": [
        "# *args, **kwargs\n",
        "def foo(a, b, *args, **kwargs):\n",
        "    print(a)\n",
        "    for arg in args:\n",
        "        print(arg)\n",
        "    for key in kwargs:\n",
        "        print(key, kwargs[key])\n",
        "\n",
        "foo(1,2,3,4,5,six=6,seven=7)"
      ],
      "execution_count": 7,
      "outputs": [
        {
          "output_type": "stream",
          "text": [
            "1\n",
            "3\n",
            "4\n",
            "5\n",
            "six 6\n",
            "seven 7\n"
          ],
          "name": "stdout"
        }
      ]
    },
    {
      "cell_type": "code",
      "metadata": {
        "colab": {
          "base_uri": "https://localhost:8080/"
        },
        "id": "gcXgPq_bXVdh",
        "outputId": "3d61017c-683a-4fe3-f388-2690199f450d"
      },
      "source": [
        "# keyward arguments follows next to *\n",
        "def foo(a, b, *, c):\n",
        "    print(a, b, c)\n",
        "\n",
        "foo(1,2,c=3)"
      ],
      "execution_count": 8,
      "outputs": [
        {
          "output_type": "stream",
          "text": [
            "1 2 3\n"
          ],
          "name": "stdout"
        }
      ]
    },
    {
      "cell_type": "code",
      "metadata": {
        "colab": {
          "base_uri": "https://localhost:8080/"
        },
        "id": "FjUvrI0BXpU3",
        "outputId": "34197334-ba4b-433f-d533-cf0832c6772a"
      },
      "source": [
        "# unpacking operation\n",
        "def foo(a, b, c):\n",
        "    print(a, b, c)\n",
        "\n",
        "my_list = [0, 1, 2]\n",
        "foo(*my_list)"
      ],
      "execution_count": 9,
      "outputs": [
        {
          "output_type": "stream",
          "text": [
            "0 1 2\n"
          ],
          "name": "stdout"
        }
      ]
    },
    {
      "cell_type": "code",
      "metadata": {
        "colab": {
          "base_uri": "https://localhost:8080/"
        },
        "id": "luZswlPtX3eJ",
        "outputId": "7ea29036-f45d-4c33-ee05-4b60d8157000"
      },
      "source": [
        "# unpacking operation\n",
        "def foo(a, b, c):\n",
        "    print(a, b, c)\n",
        "\n",
        "my_dict = {'a':1, 'b':1, 'c':2}\n",
        "foo(*my_dict)"
      ],
      "execution_count": 10,
      "outputs": [
        {
          "output_type": "stream",
          "text": [
            "a b c\n"
          ],
          "name": "stdout"
        }
      ]
    },
    {
      "cell_type": "code",
      "metadata": {
        "colab": {
          "base_uri": "https://localhost:8080/"
        },
        "id": "094TLMssYHB4",
        "outputId": "c2bcce7f-59af-4569-c287-dc3ee5193076"
      },
      "source": [
        "# unpack the elements of a list\n",
        "numbers = [1, 2, 3, 4, 5, 6]\n",
        "\n",
        "*beginning, last = numbers\n",
        "print(beginning)\n",
        "print(last)"
      ],
      "execution_count": 11,
      "outputs": [
        {
          "output_type": "stream",
          "text": [
            "[1, 2, 3, 4, 5]\n",
            "6\n"
          ],
          "name": "stdout"
        }
      ]
    },
    {
      "cell_type": "code",
      "metadata": {
        "colab": {
          "base_uri": "https://localhost:8080/"
        },
        "id": "-9SS07eHYWhs",
        "outputId": "92d00100-0856-4a4b-8817-a6374d02bb85"
      },
      "source": [
        "# unpack the elements of a tuple\n",
        "numbers = (1, 2, 3, 4, 5, 6)\n",
        "\n",
        "*beginning, last = numbers\n",
        "print(beginning)\n",
        "print(last)"
      ],
      "execution_count": 12,
      "outputs": [
        {
          "output_type": "stream",
          "text": [
            "[1, 2, 3, 4, 5]\n",
            "6\n"
          ],
          "name": "stdout"
        }
      ]
    },
    {
      "cell_type": "code",
      "metadata": {
        "colab": {
          "base_uri": "https://localhost:8080/"
        },
        "id": "ZusyROEYYuN8",
        "outputId": "042734d9-8bfe-4890-f1a8-038d0bb0fdcb"
      },
      "source": [
        "# unpack remaining elements\n",
        "numbers = (1, 2, 3, 4, 5, 6)\n",
        "\n",
        "beginning, *last = numbers\n",
        "print(beginning)\n",
        "print(last)"
      ],
      "execution_count": 13,
      "outputs": [
        {
          "output_type": "stream",
          "text": [
            "1\n",
            "[2, 3, 4, 5, 6]\n"
          ],
          "name": "stdout"
        }
      ]
    },
    {
      "cell_type": "code",
      "metadata": {
        "colab": {
          "base_uri": "https://localhost:8080/"
        },
        "id": "1IgkXXGXZK7R",
        "outputId": "bb7e5eef-2988-4f2d-dcbc-fc75b931c2c1"
      },
      "source": [
        "# unpack the elements between first and last element\n",
        "numbers = (1, 2, 3, 4, 5, 6)\n",
        "\n",
        "beginning, *middle, last = numbers\n",
        "print(beginning)\n",
        "print(middle)\n",
        "print(last)"
      ],
      "execution_count": 14,
      "outputs": [
        {
          "output_type": "stream",
          "text": [
            "1\n",
            "[2, 3, 4, 5]\n",
            "6\n"
          ],
          "name": "stdout"
        }
      ]
    },
    {
      "cell_type": "code",
      "metadata": {
        "colab": {
          "base_uri": "https://localhost:8080/"
        },
        "id": "gWYyL_qNZYdV",
        "outputId": "de67174f-9ef6-4314-97c4-231177603f58"
      },
      "source": [
        "numbers = (1, 2, 3, 4, 5, 6)\n",
        "\n",
        "beginning, *middle, secondlast, last = numbers\n",
        "print(beginning)\n",
        "print(middle)\n",
        "print(secondlast)\n",
        "print(last)"
      ],
      "execution_count": 15,
      "outputs": [
        {
          "output_type": "stream",
          "text": [
            "1\n",
            "[2, 3, 4]\n",
            "5\n",
            "6\n"
          ],
          "name": "stdout"
        }
      ]
    },
    {
      "cell_type": "code",
      "metadata": {
        "colab": {
          "base_uri": "https://localhost:8080/"
        },
        "id": "fMjtlTlQZrjh",
        "outputId": "6acaea05-abdf-43ef-8092-55b205008a4d"
      },
      "source": [
        "# merge tuple and list into a list\n",
        "my_tuple = (1, 2, 3)\n",
        "my_list = [4, 5, 6]\n",
        "\n",
        "new_list = [*my_tuple, *my_list]\n",
        "print(new_list)"
      ],
      "execution_count": 16,
      "outputs": [
        {
          "output_type": "stream",
          "text": [
            "[1, 2, 3, 4, 5, 6]\n"
          ],
          "name": "stdout"
        }
      ]
    },
    {
      "cell_type": "code",
      "metadata": {
        "colab": {
          "base_uri": "https://localhost:8080/"
        },
        "id": "clSXcommZ-Km",
        "outputId": "55bfc369-999c-4fee-afba-b4326de99726"
      },
      "source": [
        "# merge tuple and set into a list\n",
        "my_tuple = (1, 2, 3)\n",
        "my_set = {4, 5, 6}\n",
        "\n",
        "new_list = [*my_tuple, *my_list]\n",
        "print(new_list)"
      ],
      "execution_count": 17,
      "outputs": [
        {
          "output_type": "stream",
          "text": [
            "[1, 2, 3, 4, 5, 6]\n"
          ],
          "name": "stdout"
        }
      ]
    },
    {
      "cell_type": "code",
      "metadata": {
        "colab": {
          "base_uri": "https://localhost:8080/"
        },
        "id": "ts5IhYxdaKGX",
        "outputId": "ea2e6054-19f5-4f29-c380-95a57f207d42"
      },
      "source": [
        "# merge dictionaries with **\n",
        "dict_a = {'a':1, 'b':2}\n",
        "dict_b = {'c':3, 'd':4}\n",
        "\n",
        "my_dict = {**dict_a, **dict_b}\n",
        "print(my_dict)"
      ],
      "execution_count": 18,
      "outputs": [
        {
          "output_type": "stream",
          "text": [
            "{'a': 1, 'b': 2, 'c': 3, 'd': 4}\n"
          ],
          "name": "stdout"
        }
      ]
    }
  ]
}