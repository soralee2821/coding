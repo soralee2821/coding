{
  "nbformat": 4,
  "nbformat_minor": 0,
  "metadata": {
    "colab": {
      "name": "2011-11-11.ipynb",
      "provenance": [],
      "authorship_tag": "ABX9TyMrbitB+UYpKS7ZXemczjif",
      "include_colab_link": true
    },
    "kernelspec": {
      "name": "python3",
      "display_name": "Python 3"
    }
  },
  "cells": [
    {
      "cell_type": "markdown",
      "metadata": {
        "id": "view-in-github",
        "colab_type": "text"
      },
      "source": [
        "<a href=\"https://colab.research.google.com/github/soralee2821/coding/blob/master/2011_11_11.ipynb\" target=\"_parent\"><img src=\"https://colab.research.google.com/assets/colab-badge.svg\" alt=\"Open In Colab\"/></a>"
      ]
    },
    {
      "cell_type": "code",
      "metadata": {
        "id": "7qAPNPmadZHh",
        "outputId": "715abc7f-2e8e-4c73-aedc-f4311978e90c",
        "colab": {
          "base_uri": "https://localhost:8080/"
        }
      },
      "source": [
        "T = int(input())\n",
        "for i in range(T):\n",
        "    a = int(input())\n",
        "    b = int(input())\n",
        "    ppl = [x for x in range(1, b+1)]\n",
        "    for _ in range(a):\n",
        "        for y in range(1,b):\n",
        "            ppl[y] += ppl[y-1]\n",
        "    print(ppl[-1])"
      ],
      "execution_count": 13,
      "outputs": [
        {
          "output_type": "stream",
          "text": [
            "2\n",
            "1\n",
            "3\n",
            "6\n",
            "2\n",
            "3\n",
            "10\n"
          ],
          "name": "stdout"
        }
      ]
    },
    {
      "cell_type": "code",
      "metadata": {
        "id": "I4dKISEUkaan",
        "outputId": "18c118f3-39fb-4bf6-b67c-507164d4a8d1",
        "colab": {
          "base_uri": "https://localhost:8080/"
        }
      },
      "source": [
        "T = int(input())\n",
        "for _ in range(T):\n",
        "    x, y = map(int, input().split())\n",
        "    distance = y - x\n",
        "    count = 0\n",
        "    move = 1\n",
        "    move_sum = 0\n",
        "    while move_sum < distance:\n",
        "        count += 1\n",
        "        move_sum += move\n",
        "        if count % 2 == 0:\n",
        "            move += 1\n",
        "    print(count)"
      ],
      "execution_count": 40,
      "outputs": [
        {
          "output_type": "stream",
          "text": [
            "3\n",
            "0 3\n",
            "3\n",
            "1 5\n",
            "3\n",
            "45 50\n",
            "4\n"
          ],
          "name": "stdout"
        }
      ]
    },
    {
      "cell_type": "code",
      "metadata": {
        "id": "ts5GL5a22L6_"
      },
      "source": [
        ""
      ],
      "execution_count": null,
      "outputs": []
    }
  ]
}