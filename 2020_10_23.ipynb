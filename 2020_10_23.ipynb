{
  "nbformat": 4,
  "nbformat_minor": 0,
  "metadata": {
    "colab": {
      "name": "2020-10-23.ipynb",
      "provenance": [],
      "authorship_tag": "ABX9TyOQCA68Xi1ACznumXM7Pa3t",
      "include_colab_link": true
    },
    "kernelspec": {
      "name": "python3",
      "display_name": "Python 3"
    }
  },
  "cells": [
    {
      "cell_type": "markdown",
      "metadata": {
        "id": "view-in-github",
        "colab_type": "text"
      },
      "source": [
        "<a href=\"https://colab.research.google.com/github/soralee2821/coding/blob/master/2020_10_23.ipynb\" target=\"_parent\"><img src=\"https://colab.research.google.com/assets/colab-badge.svg\" alt=\"Open In Colab\"/></a>"
      ]
    },
    {
      "cell_type": "code",
      "metadata": {
        "id": "2dZaufTZUSzT",
        "outputId": "861cab4b-d4f9-4e83-c3fd-9d6cebdfeb12",
        "colab": {
          "base_uri": "https://localhost:8080/",
          "height": 105
        }
      },
      "source": [
        "t = int(input())\n",
        "for _ in range(t):\n",
        "  p = ''\n",
        "  n, s = input().split()\n",
        "  n = int(n)\n",
        "  s = list(s)\n",
        "  for i in range(len(s)):\n",
        "    p += s[i]*n\n",
        "  print(p)"
      ],
      "execution_count": 1,
      "outputs": [
        {
          "output_type": "stream",
          "text": [
            "2\n",
            "3 ABC\n",
            "AAABBBCCC\n",
            "5 /HTP\n",
            "/////HHHHHTTTTTPPPPP\n"
          ],
          "name": "stdout"
        }
      ]
    },
    {
      "cell_type": "code",
      "metadata": {
        "id": "9nZUQJtBVDst",
        "outputId": "7e9b3062-1ec9-4b95-cb1f-17b8ef02c339",
        "colab": {
          "base_uri": "https://localhost:8080/",
          "height": 52
        }
      },
      "source": [
        "word = input().upper()\n",
        "unique_word = list(set(word))\n",
        "cnt_list = []\n",
        "for i in unique_word:\n",
        "  cnt = word.count(i)\n",
        "  cnt_list.append(cnt)\n",
        "if cnt_list.count(max(cnt_list)) > 1:\n",
        "  print('?')\n",
        "else:\n",
        "  max_idx = cnt_list.index(max(cnt_list))\n",
        "  print(unique_word[max_idx])"
      ],
      "execution_count": 8,
      "outputs": [
        {
          "output_type": "stream",
          "text": [
            "Mississipi\n",
            "?\n"
          ],
          "name": "stdout"
        }
      ]
    },
    {
      "cell_type": "code",
      "metadata": {
        "id": "HqrBMgciWeFm"
      },
      "source": [
        ""
      ],
      "execution_count": null,
      "outputs": []
    }
  ]
}