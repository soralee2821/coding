{
  "nbformat": 4,
  "nbformat_minor": 0,
  "metadata": {
    "colab": {
      "name": "2021-04-26.ipynb",
      "provenance": [],
      "authorship_tag": "ABX9TyPInOeTjgRJG/Z5TUTKPGAa",
      "include_colab_link": true
    },
    "kernelspec": {
      "name": "python3",
      "display_name": "Python 3"
    },
    "language_info": {
      "name": "python"
    }
  },
  "cells": [
    {
      "cell_type": "markdown",
      "metadata": {
        "id": "view-in-github",
        "colab_type": "text"
      },
      "source": [
        "<a href=\"https://colab.research.google.com/github/soralee2821/coding/blob/master/2021_04_26.ipynb\" target=\"_parent\"><img src=\"https://colab.research.google.com/assets/colab-badge.svg\" alt=\"Open In Colab\"/></a>"
      ]
    },
    {
      "cell_type": "markdown",
      "metadata": {
        "id": "Zw9ZBAeB-BO1"
      },
      "source": [
        "# Multithreading"
      ]
    },
    {
      "cell_type": "code",
      "metadata": {
        "colab": {
          "base_uri": "https://localhost:8080/"
        },
        "id": "ATngR_in9_yD",
        "outputId": "9dddc311-b7f4-410c-ce24-a68c79b0e2ab"
      },
      "source": [
        "# 2 threads change the same variant simultaneously\n",
        "from threading import Thread\n",
        "import time\n",
        "\n",
        "database_value = 0\n",
        "\n",
        "def increase():\n",
        "    global database_value\n",
        "\n",
        "    local_copy = database_value\n",
        "\n",
        "    #processing\n",
        "    local_copy += 1\n",
        "    time.sleep(0.1)\n",
        "    database_value = local_copy\n",
        "\n",
        "if __name__ == \"__main__\":\n",
        "    print('start value', database_value)\n",
        "\n",
        "    thread1 = Thread(target=increase)\n",
        "    thread2 = Thread(target=increase)\n",
        "\n",
        "    thread1.start()\n",
        "    thread2.start()\n",
        "\n",
        "    thread1.join()\n",
        "    thread2.join()\n",
        "\n",
        "    print('end value', database_value)\n",
        "\n",
        "    print('end main')"
      ],
      "execution_count": 1,
      "outputs": [
        {
          "output_type": "stream",
          "text": [
            "start value 0\n",
            "end value 1\n",
            "end main\n"
          ],
          "name": "stdout"
        }
      ]
    },
    {
      "cell_type": "code",
      "metadata": {
        "colab": {
          "base_uri": "https://localhost:8080/"
        },
        "id": "rClshSj7-iBh",
        "outputId": "88d5622e-8d5e-47d8-aaa7-ddc90af09b69"
      },
      "source": [
        "# 1 thread state locked -> released -> 2 thread start\n",
        "from threading import Thread, Lock\n",
        "import time\n",
        "\n",
        "database_value = 0\n",
        "\n",
        "def increase(lock):\n",
        "    global database_value\n",
        "\n",
        "    lock.acquire()\n",
        "    local_copy = database_value\n",
        "    #processing\n",
        "    local_copy += 1\n",
        "    time.sleep(0.1)\n",
        "    database_value = local_copy\n",
        "    lock.release()\n",
        "\n",
        "if __name__ == \"__main__\":\n",
        "\n",
        "    lock = Lock()\n",
        "    print('start value', database_value)\n",
        "\n",
        "    thread1 = Thread(target=increase, args=(lock,))\n",
        "    thread2 = Thread(target=increase, args=(lock,))\n",
        "\n",
        "    thread1.start()\n",
        "    thread2.start()\n",
        "\n",
        "    thread1.join()\n",
        "    thread2.join()\n",
        "\n",
        "    print('end value', database_value)\n",
        "\n",
        "    print('end main')"
      ],
      "execution_count": 2,
      "outputs": [
        {
          "output_type": "stream",
          "text": [
            "start value 0\n",
            "end value 2\n",
            "end main\n"
          ],
          "name": "stdout"
        }
      ]
    },
    {
      "cell_type": "code",
      "metadata": {
        "colab": {
          "base_uri": "https://localhost:8080/"
        },
        "id": "tGdNiqjPB45-",
        "outputId": "aa0840bb-646c-47f6-dc4e-d7ab578b3fd8"
      },
      "source": [
        "# with lock\n",
        "from threading import Thread, Lock\n",
        "import time\n",
        "\n",
        "database_value = 0\n",
        "\n",
        "def increase(lock):\n",
        "    global database_value\n",
        "\n",
        "    with lock:\n",
        "        local_copy = database_value\n",
        "        local_copy += 1\n",
        "        time.sleep(0.1)\n",
        "        database_value = local_copy\n",
        "\n",
        "if __name__ == \"__main__\":\n",
        "\n",
        "    lock = Lock()\n",
        "    print('start value', database_value)\n",
        "\n",
        "    thread1 = Thread(target=increase, args=(lock,))\n",
        "    thread2 = Thread(target=increase, args=(lock,))\n",
        "\n",
        "    thread1.start()\n",
        "    thread2.start()\n",
        "\n",
        "    thread1.join()\n",
        "    thread2.join()\n",
        "\n",
        "    print('end value', database_value)\n",
        "\n",
        "    print('end main')"
      ],
      "execution_count": 3,
      "outputs": [
        {
          "output_type": "stream",
          "text": [
            "start value 0\n",
            "end value 2\n",
            "end main\n"
          ],
          "name": "stdout"
        }
      ]
    },
    {
      "cell_type": "code",
      "metadata": {
        "colab": {
          "base_uri": "https://localhost:8080/"
        },
        "id": "LTuFctgcCyut",
        "outputId": "ac3c2919-27bf-4a06-cc3e-11905eb338f0"
      },
      "source": [
        "# Queue\n",
        "from threading import Thread, Lock\n",
        "from queue import Queue\n",
        "import time\n",
        "\n",
        "\n",
        "if __name__ == \"__main__\":\n",
        "\n",
        "    q = Queue()\n",
        "\n",
        "    q.put(1)\n",
        "    q.put(2)\n",
        "    q.put(3)\n",
        "    # 3 2 1\n",
        "\n",
        "    first = q.get()\n",
        "    print(first)\n",
        "\n",
        "    print('end main')"
      ],
      "execution_count": 4,
      "outputs": [
        {
          "output_type": "stream",
          "text": [
            "1\n",
            "end main\n"
          ],
          "name": "stdout"
        }
      ]
    },
    {
      "cell_type": "code",
      "metadata": {
        "colab": {
          "base_uri": "https://localhost:8080/"
        },
        "id": "jj46j8LjEK88",
        "outputId": "c57bbc19-1617-4ca6-c568-3105a92ab7df"
      },
      "source": [
        "# Queue & Thread\n",
        "# daeman thread died when main thread died\n",
        "from threading import Thread, Lock, current_thread\n",
        "from queue import Queue\n",
        "import time\n",
        "\n",
        "def worker(q):\n",
        "    while True:\n",
        "        value = q.get()\n",
        "        # processing\n",
        "        print(f'in {current_thread().name} got {value}')\n",
        "        q.task_done()\n",
        "\n",
        "if __name__ == \"__main__\":\n",
        "\n",
        "    q = Queue()\n",
        "\n",
        "    num_threads = 10\n",
        "\n",
        "    for i in range(num_threads):\n",
        "        thread = Thread(target=worker, args=(q,))\n",
        "        thread.daemon = True\n",
        "        thread.start()\n",
        "    \n",
        "    for i in range(1,21):\n",
        "        q.put(i)\n",
        "\n",
        "    q.join()\n",
        "    \n",
        "    print('end main')"
      ],
      "execution_count": 5,
      "outputs": [
        {
          "output_type": "stream",
          "text": [
            "in Thread-17 got 1\n",
            "in Thread-17 got 2\n",
            "in Thread-17 got 3\n",
            "in Thread-17 got 4\n",
            "in Thread-17 got 5\n",
            "in Thread-18 got 6\n",
            "in Thread-18 got 7\n",
            "in Thread-18 got 8\n",
            "in Thread-25 got 9\n",
            "in Thread-25 got 10\n",
            "in Thread-25 got 11in Thread-17 got 12\n",
            "in Thread-17 got 13\n",
            "in Thread-17 got 14\n",
            "in Thread-17 got 15in Thread-21 got 16\n",
            "in Thread-21 got 17\n",
            "in Thread-21 got 18\n",
            "in Thread-21 got 19\n",
            "in Thread-21 got 20\n",
            "\n",
            "\n",
            "end main\n"
          ],
          "name": "stdout"
        }
      ]
    },
    {
      "cell_type": "code",
      "metadata": {
        "colab": {
          "base_uri": "https://localhost:8080/"
        },
        "id": "xK2T9sk9FxyA",
        "outputId": "120ec5fe-9755-45e7-94c0-6893cb2e5315"
      },
      "source": [
        "# Queue with lock\n",
        "from threading import Thread, Lock, current_thread\n",
        "from queue import Queue\n",
        "import time\n",
        "\n",
        "def worker(q, lock):\n",
        "    while True:\n",
        "        value = q.get()\n",
        "        # processing\n",
        "        with lock:\n",
        "            print(f'in {current_thread().name} got {value}')\n",
        "        q.task_done()\n",
        "\n",
        "if __name__ == \"__main__\":\n",
        "\n",
        "    q = Queue()\n",
        "    lock = Lock()\n",
        "    num_threads = 10\n",
        "\n",
        "    for i in range(num_threads):\n",
        "        thread = Thread(target=worker, args=(q,lock))\n",
        "        thread.daemon = True\n",
        "        thread.start()\n",
        "    \n",
        "    for i in range(1,21):\n",
        "        q.put(i)\n",
        "\n",
        "    q.join()\n",
        "    \n",
        "    print('end main')"
      ],
      "execution_count": 6,
      "outputs": [
        {
          "output_type": "stream",
          "text": [
            "in Thread-27 got 1\n",
            "in Thread-28 got 2\n",
            "in Thread-28 got 12\n",
            "in Thread-28 got 13\n",
            "in Thread-28 got 14\n",
            "in Thread-32 got 6\n",
            "in Thread-32 got 16\n",
            "in Thread-32 got 17\n",
            "in Thread-32 got 18\n",
            "in Thread-32 got 19\n",
            "in Thread-32 got 20\n",
            "in Thread-34 got 8\n",
            "in Thread-30 got 4\n",
            "in Thread-31 got 5\n",
            "in Thread-28 got 15\n",
            "in Thread-35 got 9\n",
            "in Thread-33 got 7\n",
            "in Thread-29 got 3\n",
            "in Thread-27 got 11\n",
            "in Thread-36 got 10\n",
            "end main\n"
          ],
          "name": "stdout"
        }
      ]
    }
  ]
}