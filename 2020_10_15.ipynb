{
  "nbformat": 4,
  "nbformat_minor": 0,
  "metadata": {
    "colab": {
      "name": "2020-10-15.ipynb",
      "provenance": [],
      "authorship_tag": "ABX9TyMuiAOZ+/aiVH1JhEnEEq2N",
      "include_colab_link": true
    },
    "kernelspec": {
      "name": "python3",
      "display_name": "Python 3"
    }
  },
  "cells": [
    {
      "cell_type": "markdown",
      "metadata": {
        "id": "view-in-github",
        "colab_type": "text"
      },
      "source": [
        "<a href=\"https://colab.research.google.com/github/soralee2821/coding/blob/master/2020_10_15.ipynb\" target=\"_parent\"><img src=\"https://colab.research.google.com/assets/colab-badge.svg\" alt=\"Open In Colab\"/></a>"
      ]
    },
    {
      "cell_type": "code",
      "metadata": {
        "id": "4VNXL-Ag6gQJ"
      },
      "source": [
        "while True:\n",
        "  try:\n",
        "    a, b = map(int, input().split())\n",
        "    print(a+b)\n",
        "  except:\n",
        "    break"
      ],
      "execution_count": null,
      "outputs": []
    },
    {
      "cell_type": "code",
      "metadata": {
        "id": "HiyoMMxrNMme"
      },
      "source": [
        "n = int(input())\n",
        "num = n\n",
        "count = 0\n",
        "while True:\n",
        "  ten = num//10\n",
        "  one = num%10\n",
        "  total = ten + one\n",
        "  count += 1\n",
        "  num = one*10 + total%10\n",
        "  if num == n:\n",
        "    break\n",
        "print(count)"
      ],
      "execution_count": null,
      "outputs": []
    },
    {
      "cell_type": "code",
      "metadata": {
        "id": "yGy3ASenNfO3"
      },
      "source": [
        "n = int(input())\n",
        "num = n\n",
        "count = 0\n",
        "while True:\n",
        "  ten = num//10\n",
        "  one = num%10\n",
        "  total = ten + one\n",
        "  count += 1\n",
        "  num = int(str(one) + str(total%10))\n",
        "  if num == n:\n",
        "    break\n",
        "print(count)"
      ],
      "execution_count": null,
      "outputs": []
    }
  ]
}