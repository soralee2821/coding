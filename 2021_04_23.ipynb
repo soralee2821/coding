{
  "nbformat": 4,
  "nbformat_minor": 0,
  "metadata": {
    "colab": {
      "name": "2021-04-23.ipynb",
      "provenance": [],
      "authorship_tag": "ABX9TyPu8JDfFrHEZ4xPNxgMK7OG",
      "include_colab_link": true
    },
    "kernelspec": {
      "name": "python3",
      "display_name": "Python 3"
    },
    "language_info": {
      "name": "python"
    }
  },
  "cells": [
    {
      "cell_type": "markdown",
      "metadata": {
        "id": "view-in-github",
        "colab_type": "text"
      },
      "source": [
        "<a href=\"https://colab.research.google.com/github/soralee2821/coding/blob/master/2021_04_23.ipynb\" target=\"_parent\"><img src=\"https://colab.research.google.com/assets/colab-badge.svg\" alt=\"Open In Colab\"/></a>"
      ]
    },
    {
      "cell_type": "markdown",
      "metadata": {
        "id": "nJsvpFvZuD2M"
      },
      "source": [
        "#Threading & Multiprocessing"
      ]
    },
    {
      "cell_type": "markdown",
      "metadata": {
        "id": "BgaOvBTqxixg"
      },
      "source": [
        "## Process : An instance of a program\n",
        "\n",
        "\n",
        "\n",
        "*   use mulitple CPUs and cores\n",
        "*   separate memory space\n",
        "*   interruptable / killable\n",
        "\n",
        "*   heavyweight\n",
        "*   slower than a thread\n",
        "\n",
        "\n",
        "\n"
      ]
    },
    {
      "cell_type": "markdown",
      "metadata": {
        "id": "11dodFIEyD7-"
      },
      "source": [
        "## Thread : An entity within a process that can be scheduled\n",
        "\n",
        "\n",
        "*   all thread within a process share the same memory\n",
        "*   lightweight\n",
        "*   faster than a process\n",
        "\n",
        "*   Only one thread at a time\n",
        "*   Not interruptable / killable\n",
        "\n",
        "\n",
        "\n"
      ]
    },
    {
      "cell_type": "markdown",
      "metadata": {
        "id": "XEhTLB8W18dJ"
      },
      "source": [
        "## GIL : Global Interpreter Lock\n",
        "\n",
        "\n",
        "*   A lock that allows only one thread at a time to excute\n",
        "*   needed in CPython\n",
        "\n",
        "\n",
        "\n",
        "Avoid GIL\n",
        "\n",
        "*   use multiprocessing\n",
        "*   use a different, free_thread Python implementation (Jython, IronPython)\n",
        "*   use Python as a wrapper for 3rd-party libraries(C/C++) -> numpy, scipy\n",
        "\n",
        "\n",
        "\n",
        "\n"
      ]
    },
    {
      "cell_type": "code",
      "metadata": {
        "colab": {
          "base_uri": "https://localhost:8080/"
        },
        "id": "w8PNDWsVuIgN",
        "outputId": "38691bb9-5b74-4268-bda7-f52b66636af5"
      },
      "source": [
        "from multiprocessing import Process\n",
        "import os\n",
        "import time\n",
        "\n",
        "def square_numbers():\n",
        "    for i in range(100):\n",
        "        i * i\n",
        "        time.sleep(0.1)\n",
        "\n",
        "processes = []\n",
        "num_processes = os.cpu_count()\n",
        "\n",
        "#creat processes\n",
        "for i in range(num_processes):\n",
        "    p = Process(target=square_numbers)\n",
        "    processes.append(p)\n",
        "\n",
        "#start\n",
        "for p in processes:\n",
        "    p.start()\n",
        "\n",
        "#join\n",
        "for p in processes:\n",
        "    p.join()\n",
        "\n",
        "print('end main')"
      ],
      "execution_count": 2,
      "outputs": [
        {
          "output_type": "stream",
          "text": [
            "end main\n"
          ],
          "name": "stdout"
        }
      ]
    },
    {
      "cell_type": "code",
      "metadata": {
        "colab": {
          "base_uri": "https://localhost:8080/"
        },
        "id": "UhibGfvC4hP7",
        "outputId": "76fb13c5-14f9-42cd-b9a7-becba916123b"
      },
      "source": [
        "from threading import Thread\n",
        "import os\n",
        "import time\n",
        "\n",
        "def square_numbers():\n",
        "    for i in range(100):\n",
        "        i * i\n",
        "        time.sleep(0.1)\n",
        "\n",
        "threads = []\n",
        "num_threads = 10\n",
        "\n",
        "#creat theads\n",
        "for i in range(num_threads):\n",
        "    t = Thread(target=square_numbers)\n",
        "    threads.append(t)\n",
        "\n",
        "#start\n",
        "for t in threads:\n",
        "    t.start()\n",
        "\n",
        "#join\n",
        "for t in threads:\n",
        "    t.join()\n",
        "\n",
        "print('end main')"
      ],
      "execution_count": 3,
      "outputs": [
        {
          "output_type": "stream",
          "text": [
            "end main\n"
          ],
          "name": "stdout"
        }
      ]
    }
  ]
}