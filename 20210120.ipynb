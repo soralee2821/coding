{
  "nbformat": 4,
  "nbformat_minor": 0,
  "metadata": {
    "colab": {
      "name": "20210120.ipynb",
      "provenance": [],
      "authorship_tag": "ABX9TyMoE2w1oLW3ZwOw+zbHrSEU",
      "include_colab_link": true
    },
    "kernelspec": {
      "name": "python3",
      "display_name": "Python 3"
    }
  },
  "cells": [
    {
      "cell_type": "markdown",
      "metadata": {
        "id": "view-in-github",
        "colab_type": "text"
      },
      "source": [
        "<a href=\"https://colab.research.google.com/github/soralee2821/coding/blob/master/20210120.ipynb\" target=\"_parent\"><img src=\"https://colab.research.google.com/assets/colab-badge.svg\" alt=\"Open In Colab\"/></a>"
      ]
    },
    {
      "cell_type": "code",
      "metadata": {
        "id": "pu7ZKZ4okRz5"
      },
      "source": [
        "#Immutable(변하지 않는 자료형) : 정수, 실수, 문자열, 튜플\r\n",
        "#mmutable(변할 수 있는 자료형) : 리스트, 딕셔너리, 집합"
      ],
      "execution_count": null,
      "outputs": []
    },
    {
      "cell_type": "markdown",
      "metadata": {
        "id": "TxGcCoF9o2k9"
      },
      "source": [
        "###클래스"
      ]
    },
    {
      "cell_type": "code",
      "metadata": {
        "colab": {
          "base_uri": "https://localhost:8080/"
        },
        "id": "KVo9z4B2pp1p",
        "outputId": "c631f8a7-6dd3-4402-b4ed-0ca59ea97518"
      },
      "source": [
        "class Calculator:\r\n",
        "    def __init__(self):\r\n",
        "        self.result = 0\r\n",
        "    \r\n",
        "    def add(self, num):\r\n",
        "        self.result += num\r\n",
        "        return self.result\r\n",
        "\r\n",
        "cal1 = Calculator()\r\n",
        "cal2 = Calculator()\r\n",
        "\r\n",
        "print(cal1.add(3))\r\n",
        "print(cal1.add(4))\r\n",
        "print(cal2.add(3))\r\n",
        "print(cal2.add(7))"
      ],
      "execution_count": 2,
      "outputs": [
        {
          "output_type": "stream",
          "text": [
            "3\n",
            "7\n",
            "3\n",
            "10\n"
          ],
          "name": "stdout"
        }
      ]
    },
    {
      "cell_type": "code",
      "metadata": {
        "colab": {
          "base_uri": "https://localhost:8080/"
        },
        "id": "IbCX5wi3rYxf",
        "outputId": "774e3fa3-674f-4aef-ae8a-01640d2695a1"
      },
      "source": [
        "class Fourcal:\r\n",
        "    pass\r\n",
        "\r\n",
        "a = Fourcal()\r\n",
        "print(a)\r\n",
        "print(type(a))"
      ],
      "execution_count": 4,
      "outputs": [
        {
          "output_type": "stream",
          "text": [
            "<__main__.Fourcal object at 0x7f9778115668>\n",
            "<class '__main__.Fourcal'>\n"
          ],
          "name": "stdout"
        }
      ]
    },
    {
      "cell_type": "code",
      "metadata": {
        "colab": {
          "base_uri": "https://localhost:8080/"
        },
        "id": "Lu5Ky81tsQIW",
        "outputId": "f38210c8-39c9-4343-fde2-179b2b0f8d3d"
      },
      "source": [
        "class Fourcal:\r\n",
        "    def setdata(self, first, second):\r\n",
        "        self.first = first\r\n",
        "        self.second = second\r\n",
        "\r\n",
        "a = Fourcal()\r\n",
        "a.setdata(1,2)\r\n",
        "print(a.first)\r\n",
        "print(a.second)"
      ],
      "execution_count": 5,
      "outputs": [
        {
          "output_type": "stream",
          "text": [
            "1\n",
            "2\n"
          ],
          "name": "stdout"
        }
      ]
    },
    {
      "cell_type": "code",
      "metadata": {
        "colab": {
          "base_uri": "https://localhost:8080/"
        },
        "id": "lf9D2A0bs-Hl",
        "outputId": "e5c419f8-a0f9-495d-a3a9-c7cf8abf9b99"
      },
      "source": [
        "class Fourcal:\r\n",
        "    def setdata(self, first, second):\r\n",
        "        self.first = first\r\n",
        "        self.second = second\r\n",
        "    def add(self):\r\n",
        "        result = self.first + self.second\r\n",
        "        return result\r\n",
        "\r\n",
        "a = Fourcal()\r\n",
        "a.setdata(4,2)\r\n",
        "print(a.add())"
      ],
      "execution_count": 10,
      "outputs": [
        {
          "output_type": "stream",
          "text": [
            "6\n"
          ],
          "name": "stdout"
        }
      ]
    },
    {
      "cell_type": "code",
      "metadata": {
        "id": "hHBhDeOmxlHZ"
      },
      "source": [
        "# __init__ : 초기값 설정(생성자)\r\n",
        "class Fourcal:\r\n",
        "    def __init__(self, first, second):\r\n",
        "        self.first = first\r\n",
        "        self.second = second\r\n",
        "    def setdata(self, first, second):\r\n",
        "        self.first = first\r\n",
        "        self.second = second\r\n",
        "    def add(self):\r\n",
        "        result = self.first + self.second\r\n",
        "        return result\r\n",
        "\r\n",
        "a = Fourcal(1,2)"
      ],
      "execution_count": 13,
      "outputs": []
    },
    {
      "cell_type": "code",
      "metadata": {
        "colab": {
          "base_uri": "https://localhost:8080/"
        },
        "id": "aFMo2xsoymxq",
        "outputId": "5767664c-1c39-48a4-cc7b-5f1f1043b40b"
      },
      "source": [
        "#클래스 상속 : 부모 클래스의 생성자를 그대로 물려받음\r\n",
        "\r\n",
        "#부모 클래스\r\n",
        "class Fourcal:\r\n",
        "    def __init__(self, first, second):\r\n",
        "        self.first = first\r\n",
        "        self.second = second\r\n",
        "    def setdata(self, first, second):\r\n",
        "        self.first = first\r\n",
        "        self.second = second\r\n",
        "    def add(self):\r\n",
        "        result = self.first + self.second\r\n",
        "        return result\r\n",
        "\r\n",
        "#자식 클래스\r\n",
        "class MoreFourCal(Fourcal):\r\n",
        "    pass\r\n",
        "\r\n",
        "a = MoreFourCal(4,2)\r\n",
        "a.add()"
      ],
      "execution_count": 15,
      "outputs": [
        {
          "output_type": "execute_result",
          "data": {
            "text/plain": [
              "6"
            ]
          },
          "metadata": {
            "tags": []
          },
          "execution_count": 15
        }
      ]
    },
    {
      "cell_type": "code",
      "metadata": {
        "colab": {
          "base_uri": "https://localhost:8080/"
        },
        "id": "ZFumbhTlzjni",
        "outputId": "5c60290f-a8a8-4da1-a709-040855bf8320"
      },
      "source": [
        "#클래스 상속 - 메서드 추가\r\n",
        "class Fourcal:\r\n",
        "    def __init__(self, first, second):\r\n",
        "        self.first = first\r\n",
        "        self.second = second\r\n",
        "    def setdata(self, first, second):\r\n",
        "        self.first = first\r\n",
        "        self.second = second\r\n",
        "    def add(self):\r\n",
        "        result = self.first + self.second\r\n",
        "        return result\r\n",
        "\r\n",
        "class MoreFourCal(Fourcal):\r\n",
        "    def pow(self):\r\n",
        "        result = self.first ** self.second\r\n",
        "        return result\r\n",
        "\r\n",
        "a = MoreFourCal(4,2)\r\n",
        "a.pow()"
      ],
      "execution_count": 18,
      "outputs": [
        {
          "output_type": "execute_result",
          "data": {
            "text/plain": [
              "16"
            ]
          },
          "metadata": {
            "tags": []
          },
          "execution_count": 18
        }
      ]
    },
    {
      "cell_type": "code",
      "metadata": {
        "colab": {
          "base_uri": "https://localhost:8080/"
        },
        "id": "FJWQRz130rT7",
        "outputId": "9c4b017e-34b3-4245-9052-0a5d69fb378a"
      },
      "source": [
        "#메서드 오버라이딩 - 부모와 자식 모두 같은 메서드 존재할 경우, 자식 메서드로 덮어짐\r\n",
        "class Fourcal:\r\n",
        "    def __init__(self, first, second):\r\n",
        "        self.first = first\r\n",
        "        self.second = second\r\n",
        "    def setdata(self, first, second):\r\n",
        "        self.first = first\r\n",
        "        self.second = second\r\n",
        "    def add(self):\r\n",
        "        result = self.first + self.second\r\n",
        "        return result\r\n",
        "    def sub(self):\r\n",
        "        result = self.first - self.second\r\n",
        "        return result\r\n",
        "    def mul(self):\r\n",
        "        result = self.first * self.second\r\n",
        "        return result\r\n",
        "    def div(self):\r\n",
        "        result = self.first/self.second\r\n",
        "        return result\r\n",
        "\r\n",
        "class SafeFourCal(Fourcal):\r\n",
        "    def div(self):\r\n",
        "        if self.second == 0:\r\n",
        "            return 0\r\n",
        "        else:\r\n",
        "            return self.first/self.second\r\n",
        "\r\n",
        "#a = Fourcal(4,0)\r\n",
        "#a.div()  #zero divided error\r\n",
        "a = SafeFourCal(4,0)\r\n",
        "a.div()   #method overriding"
      ],
      "execution_count": 21,
      "outputs": [
        {
          "output_type": "execute_result",
          "data": {
            "text/plain": [
              "0"
            ]
          },
          "metadata": {
            "tags": []
          },
          "execution_count": 21
        }
      ]
    },
    {
      "cell_type": "code",
      "metadata": {
        "colab": {
          "base_uri": "https://localhost:8080/"
        },
        "id": "8lYnUoBX2nOf",
        "outputId": "750e6ca7-c2c2-4f01-b6d6-b62d0a967e54"
      },
      "source": [
        "#클래스 변수(공통으로 쓸 때) / 객체 변수(각각 따로 쓸 때)\r\n",
        "class Family:\r\n",
        "    lastname = \"김\"   #클래스 변수\r\n",
        "\r\n",
        "Family.lastname = \"박\"\r\n",
        "\r\n",
        "a = Family()\r\n",
        "b = Family()\r\n",
        "print(a.lastname)\r\n",
        "print(b.lastname)"
      ],
      "execution_count": 23,
      "outputs": [
        {
          "output_type": "stream",
          "text": [
            "박\n",
            "박\n"
          ],
          "name": "stdout"
        }
      ]
    },
    {
      "cell_type": "markdown",
      "metadata": {
        "id": "iyq7faiV4hXT"
      },
      "source": [
        "###모듈"
      ]
    },
    {
      "cell_type": "code",
      "metadata": {
        "colab": {
          "base_uri": "https://localhost:8080/"
        },
        "id": "SUrQ2-Hn4LsQ",
        "outputId": "044d50de-adc8-4203-e7be-10a500e2d4d9"
      },
      "source": [
        "f = open(\"mod1.py\",\"w\")\r\n",
        "def add(a,b):\r\n",
        "    return a+b\r\n",
        "def sub(a,b):\r\n",
        "    return a-b\r\n",
        "\r\n",
        "#__name__ == \"__main__\" : 현재 실행하는 파일에서만 실행\r\n",
        "if __name__ == \"__main__\":\r\n",
        "    print(add(1,4))\r\n",
        "    print(add(4,2))\r\n",
        "f.close()"
      ],
      "execution_count": 24,
      "outputs": [
        {
          "output_type": "stream",
          "text": [
            "5\n",
            "6\n"
          ],
          "name": "stdout"
        }
      ]
    },
    {
      "cell_type": "code",
      "metadata": {
        "colab": {
          "base_uri": "https://localhost:8080/"
        },
        "id": "v2Tjr1Yw6R1A",
        "outputId": "1dcc5d36-21f7-4ed6-b5d7-debbff296af0"
      },
      "source": [
        "#모듈 불러오기\r\n",
        "import mod1\r\n",
        "add(1,2)"
      ],
      "execution_count": 25,
      "outputs": [
        {
          "output_type": "execute_result",
          "data": {
            "text/plain": [
              "3"
            ]
          },
          "metadata": {
            "tags": []
          },
          "execution_count": 25
        }
      ]
    },
    {
      "cell_type": "code",
      "metadata": {
        "colab": {
          "base_uri": "https://localhost:8080/"
        },
        "id": "GrKxQtdk62Ws",
        "outputId": "06b3265a-fa02-41df-d30c-9a7687b120a5"
      },
      "source": [
        "#sys.path.append : 다른 폴더에 있을 경우, 경로를 알려줌\r\n",
        "import sys\r\n",
        "sys.path.append(\"C:\\\\Users\\\\sora\\\\Documents\\\\Downloads\")\r\n",
        "import mod1\r\n",
        "print(add(3,4))"
      ],
      "execution_count": 32,
      "outputs": [
        {
          "output_type": "stream",
          "text": [
            "7\n"
          ],
          "name": "stdout"
        }
      ]
    },
    {
      "cell_type": "markdown",
      "metadata": {
        "id": "mR4kv5XH9FI6"
      },
      "source": [
        "###예외처리"
      ]
    },
    {
      "cell_type": "code",
      "metadata": {
        "colab": {
          "base_uri": "https://localhost:8080/"
        },
        "id": "k3e8UY678JyM",
        "outputId": "38fadacf-8a9c-4869-efe5-947965c25914"
      },
      "source": [
        "#오류가 예외처리되어 다음 구문이 정상적으로 실행됨\r\n",
        "try:\r\n",
        "    4/0\r\n",
        "except ZeroDivisionError as e:\r\n",
        "    print(e)\r\n",
        "\r\n",
        "print(\"안녕하세요\")"
      ],
      "execution_count": 34,
      "outputs": [
        {
          "output_type": "stream",
          "text": [
            "division by zero\n",
            "안녕하세요\n"
          ],
          "name": "stdout"
        }
      ]
    },
    {
      "cell_type": "code",
      "metadata": {
        "colab": {
          "base_uri": "https://localhost:8080/"
        },
        "id": "nD8NLoH1_AVr",
        "outputId": "5ac10d99-af99-4dfc-c80a-fc9a73cf8dd8"
      },
      "source": [
        "#else 구문 : try 구문에 에러가 없을 경우 실행\r\n",
        "try:\r\n",
        "    f = open('none','r')\r\n",
        "except FileNotFoundError as e:\r\n",
        "    print(str(e))\r\n",
        "else:\r\n",
        "    data = f.read()\r\n",
        "    print(data)\r\n",
        "    f.close()"
      ],
      "execution_count": 35,
      "outputs": [
        {
          "output_type": "stream",
          "text": [
            "[Errno 2] No such file or directory: 'none'\n"
          ],
          "name": "stdout"
        }
      ]
    },
    {
      "cell_type": "code",
      "metadata": {
        "colab": {
          "base_uri": "https://localhost:8080/"
        },
        "id": "zqCd-4Vq_tSA",
        "outputId": "641ed2ef-5185-4b85-c842-6ea02f27ad4e"
      },
      "source": [
        "#finally 구문 : 에러 발생과 관계없이 실행\r\n",
        "#Exception : 모든 에러를 포함함\r\n",
        "try:\r\n",
        "    f = open('none','r')\r\n",
        "except Exception as e:\r\n",
        "    print(e)\r\n",
        "finally:\r\n",
        "    f.close()"
      ],
      "execution_count": 36,
      "outputs": [
        {
          "output_type": "stream",
          "text": [
            "[Errno 2] No such file or directory: 'none'\n"
          ],
          "name": "stdout"
        }
      ]
    },
    {
      "cell_type": "code",
      "metadata": {
        "colab": {
          "base_uri": "https://localhost:8080/"
        },
        "id": "yJ8ZL4eNAOtu",
        "outputId": "9a96489e-44c8-4ad8-feaa-2d73c63873ee"
      },
      "source": [
        "#여러 개의 예외 처리 가능\r\n",
        "try:\r\n",
        "    a = [2,3]\r\n",
        "    print(a[3])\r\n",
        "    4/0\r\n",
        "except ZeroDivisionError:\r\n",
        "    print(\"0으로 나눌 수 없습니다\")\r\n",
        "except IndexError:\r\n",
        "    print(\"인덱싱할 수 없습니다\")"
      ],
      "execution_count": 38,
      "outputs": [
        {
          "output_type": "stream",
          "text": [
            "인덱싱할 수 없습니다\n"
          ],
          "name": "stdout"
        }
      ]
    },
    {
      "cell_type": "code",
      "metadata": {
        "id": "mC2QvS_2BHCA"
      },
      "source": [
        "#에러 넘어가기\r\n",
        "try:\r\n",
        "    f = open('none','r')\r\n",
        "except FileNotFoundError:\r\n",
        "    pass"
      ],
      "execution_count": 39,
      "outputs": []
    },
    {
      "cell_type": "code",
      "metadata": {
        "colab": {
          "base_uri": "https://localhost:8080/"
        },
        "id": "E4hKT-i2BhBx",
        "outputId": "9c3b827d-d519-4c29-c8ec-3ae64739f0e1"
      },
      "source": [
        "# class의 method를 변형하는 것을 강제하기 위해 에러를 일으킴\r\n",
        "class Bird:\r\n",
        "    def fly(self):\r\n",
        "        raise NotImplementedError\r\n",
        "\r\n",
        "class Eagle(Bird):\r\n",
        "    def fly(self):\r\n",
        "        print(\"very fast\")\r\n",
        "\r\n",
        "eagle = Eagle()\r\n",
        "eagle.fly()"
      ],
      "execution_count": 41,
      "outputs": [
        {
          "output_type": "stream",
          "text": [
            "very fast\n"
          ],
          "name": "stdout"
        }
      ]
    },
    {
      "cell_type": "markdown",
      "metadata": {
        "id": "icDz4_SqeFjm"
      },
      "source": [
        "###내장함수"
      ]
    },
    {
      "cell_type": "code",
      "metadata": {
        "colab": {
          "base_uri": "https://localhost:8080/"
        },
        "id": "8C28s3QGCXuy",
        "outputId": "2bd15c72-1b09-42ce-cb39-434673de763d"
      },
      "source": [
        "#abs : 절대값\r\n",
        "print(abs(-3))"
      ],
      "execution_count": 42,
      "outputs": [
        {
          "output_type": "stream",
          "text": [
            "3\n"
          ],
          "name": "stdout"
        }
      ]
    },
    {
      "cell_type": "code",
      "metadata": {
        "colab": {
          "base_uri": "https://localhost:8080/"
        },
        "id": "lyZtqjxZeQL0",
        "outputId": "6a7a7fdb-28f4-45c5-ef8d-9218f45aa7c7"
      },
      "source": [
        "#all : 모두 참인지 검사\r\n",
        "all([1,2,3])"
      ],
      "execution_count": 43,
      "outputs": [
        {
          "output_type": "execute_result",
          "data": {
            "text/plain": [
              "True"
            ]
          },
          "metadata": {
            "tags": []
          },
          "execution_count": 43
        }
      ]
    },
    {
      "cell_type": "code",
      "metadata": {
        "colab": {
          "base_uri": "https://localhost:8080/"
        },
        "id": "TWq8FtQ_eXA1",
        "outputId": "c78e7fca-5cbd-4fa2-e476-8a94b594fe08"
      },
      "source": [
        "all([1,2,3,0])"
      ],
      "execution_count": 44,
      "outputs": [
        {
          "output_type": "execute_result",
          "data": {
            "text/plain": [
              "False"
            ]
          },
          "metadata": {
            "tags": []
          },
          "execution_count": 44
        }
      ]
    },
    {
      "cell_type": "code",
      "metadata": {
        "colab": {
          "base_uri": "https://localhost:8080/"
        },
        "id": "rz1Oad-oeY6J",
        "outputId": "8d1c56bf-f07e-4e23-f1c7-8fcb02b29a15"
      },
      "source": [
        "#any : 하나라도 참이 있는지 검사\r\n",
        "any([1,2,3,0])"
      ],
      "execution_count": 45,
      "outputs": [
        {
          "output_type": "execute_result",
          "data": {
            "text/plain": [
              "True"
            ]
          },
          "metadata": {
            "tags": []
          },
          "execution_count": 45
        }
      ]
    },
    {
      "cell_type": "code",
      "metadata": {
        "colab": {
          "base_uri": "https://localhost:8080/"
        },
        "id": "erCJ3y_2ejUG",
        "outputId": "ad2626d6-08bd-4313-c88a-551e1617faad"
      },
      "source": [
        "any([0,\"\"])"
      ],
      "execution_count": 46,
      "outputs": [
        {
          "output_type": "execute_result",
          "data": {
            "text/plain": [
              "False"
            ]
          },
          "metadata": {
            "tags": []
          },
          "execution_count": 46
        }
      ]
    },
    {
      "cell_type": "code",
      "metadata": {
        "colab": {
          "base_uri": "https://localhost:8080/",
          "height": 35
        },
        "id": "cO4WIeUBelGq",
        "outputId": "df982b47-ef58-4b55-ec24-6527a5aca2fb"
      },
      "source": [
        "#chr : ASCII 코드를 입력받아 문자 출력\r\n",
        "#ASCII 코드 : 0~127 숫자를 문자와 대응\r\n",
        "chr(97)"
      ],
      "execution_count": 47,
      "outputs": [
        {
          "output_type": "execute_result",
          "data": {
            "application/vnd.google.colaboratory.intrinsic+json": {
              "type": "string"
            },
            "text/plain": [
              "'a'"
            ]
          },
          "metadata": {
            "tags": []
          },
          "execution_count": 47
        }
      ]
    },
    {
      "cell_type": "code",
      "metadata": {
        "colab": {
          "base_uri": "https://localhost:8080/"
        },
        "id": "laVup3KHewqm",
        "outputId": "1359377c-de03-48e8-eb15-f0c732661792"
      },
      "source": [
        "#dir : 자체적으로 가지고 있는 변수나 함수를 보여줌\r\n",
        "print(dir([1,2,3]))"
      ],
      "execution_count": 49,
      "outputs": [
        {
          "output_type": "stream",
          "text": [
            "['__add__', '__class__', '__contains__', '__delattr__', '__delitem__', '__dir__', '__doc__', '__eq__', '__format__', '__ge__', '__getattribute__', '__getitem__', '__gt__', '__hash__', '__iadd__', '__imul__', '__init__', '__init_subclass__', '__iter__', '__le__', '__len__', '__lt__', '__mul__', '__ne__', '__new__', '__reduce__', '__reduce_ex__', '__repr__', '__reversed__', '__rmul__', '__setattr__', '__setitem__', '__sizeof__', '__str__', '__subclasshook__', 'append', 'clear', 'copy', 'count', 'extend', 'index', 'insert', 'pop', 'remove', 'reverse', 'sort']\n"
          ],
          "name": "stdout"
        }
      ]
    },
    {
      "cell_type": "code",
      "metadata": {
        "colab": {
          "base_uri": "https://localhost:8080/"
        },
        "id": "SN0aqINmfM2p",
        "outputId": "09a7a4e7-4280-4c9e-fb2f-616d6e15963f"
      },
      "source": [
        "#divmod : 몫과 나머지를 튜플 형태로 반환\r\n",
        "divmod(7,3)"
      ],
      "execution_count": 50,
      "outputs": [
        {
          "output_type": "execute_result",
          "data": {
            "text/plain": [
              "(2, 1)"
            ]
          },
          "metadata": {
            "tags": []
          },
          "execution_count": 50
        }
      ]
    },
    {
      "cell_type": "code",
      "metadata": {
        "colab": {
          "base_uri": "https://localhost:8080/"
        },
        "id": "EGhDDPnufgcI",
        "outputId": "2c5160be-889d-498a-fe29-f8577a0d92b0"
      },
      "source": [
        "divmod(1.3,0.2)"
      ],
      "execution_count": 51,
      "outputs": [
        {
          "output_type": "execute_result",
          "data": {
            "text/plain": [
              "(6.0, 0.09999999999999998)"
            ]
          },
          "metadata": {
            "tags": []
          },
          "execution_count": 51
        }
      ]
    },
    {
      "cell_type": "code",
      "metadata": {
        "colab": {
          "base_uri": "https://localhost:8080/"
        },
        "id": "J0UCnabcflbP",
        "outputId": "6dea353d-e3e2-45ce-bffb-bf97b643aad3"
      },
      "source": [
        "#enumerate : list를 dictionary형태로 열거\r\n",
        "for i, name in enumerate(['a','b','c']):\r\n",
        "    print(i,name)"
      ],
      "execution_count": 53,
      "outputs": [
        {
          "output_type": "stream",
          "text": [
            "0 a\n",
            "1 b\n",
            "2 c\n"
          ],
          "name": "stdout"
        }
      ]
    },
    {
      "cell_type": "code",
      "metadata": {
        "colab": {
          "base_uri": "https://localhost:8080/"
        },
        "id": "yOmYLA6mgGLW",
        "outputId": "c622ab68-4ebb-4636-cfbc-ac6d4c12ee95"
      },
      "source": [
        "#eval : 안에 있는 계산식을 실행 후 결과값을 반환\r\n",
        "eval('1+2')"
      ],
      "execution_count": 54,
      "outputs": [
        {
          "output_type": "execute_result",
          "data": {
            "text/plain": [
              "3"
            ]
          },
          "metadata": {
            "tags": []
          },
          "execution_count": 54
        }
      ]
    },
    {
      "cell_type": "code",
      "metadata": {
        "colab": {
          "base_uri": "https://localhost:8080/"
        },
        "id": "fy1ofQUngcRM",
        "outputId": "89982be6-b254-4735-a9f8-19170a9bbdb8"
      },
      "source": [
        "eval('divmod(4,2)')"
      ],
      "execution_count": 57,
      "outputs": [
        {
          "output_type": "execute_result",
          "data": {
            "text/plain": [
              "(2, 0)"
            ]
          },
          "metadata": {
            "tags": []
          },
          "execution_count": 57
        }
      ]
    },
    {
      "cell_type": "code",
      "metadata": {
        "colab": {
          "base_uri": "https://localhost:8080/"
        },
        "id": "UivjZgydgiWB",
        "outputId": "bd9b29ee-ea75-4b67-dad8-434d63c83aed"
      },
      "source": [
        "#filter : 함수를 통과하여 참인 것만 반환\r\n",
        "def positive(x):\r\n",
        "    return x > 0\r\n",
        "\r\n",
        "a = list(filter(positive, [1, -3, 2, 0, -5, 6]))\r\n",
        "print(a)"
      ],
      "execution_count": 58,
      "outputs": [
        {
          "output_type": "stream",
          "text": [
            "[1, 2, 6]\n"
          ],
          "name": "stdout"
        }
      ]
    },
    {
      "cell_type": "code",
      "metadata": {
        "colab": {
          "base_uri": "https://localhost:8080/"
        },
        "id": "sPQn8RoHhDSu",
        "outputId": "ebb788ca-5ac0-4ab6-85fb-215c96617260"
      },
      "source": [
        "#id : 주소값\r\n",
        "a = 3\r\n",
        "id(a)"
      ],
      "execution_count": 59,
      "outputs": [
        {
          "output_type": "execute_result",
          "data": {
            "text/plain": [
              "10914560"
            ]
          },
          "metadata": {
            "tags": []
          },
          "execution_count": 59
        }
      ]
    },
    {
      "cell_type": "code",
      "metadata": {
        "colab": {
          "base_uri": "https://localhost:8080/"
        },
        "id": "wwgbiIQKhR5N",
        "outputId": "7ccb73d1-8a92-46f0-e29f-55a99e354693"
      },
      "source": [
        "#int : 10진수 정수로 변환\r\n",
        "int('3')"
      ],
      "execution_count": 62,
      "outputs": [
        {
          "output_type": "execute_result",
          "data": {
            "text/plain": [
              "3"
            ]
          },
          "metadata": {
            "tags": []
          },
          "execution_count": 62
        }
      ]
    },
    {
      "cell_type": "code",
      "metadata": {
        "colab": {
          "base_uri": "https://localhost:8080/"
        },
        "id": "Cnp-6pBQhe9y",
        "outputId": "b2e834b2-2f59-49e1-f0d1-00224cadc40a"
      },
      "source": [
        "int(4.5)"
      ],
      "execution_count": 63,
      "outputs": [
        {
          "output_type": "execute_result",
          "data": {
            "text/plain": [
              "4"
            ]
          },
          "metadata": {
            "tags": []
          },
          "execution_count": 63
        }
      ]
    },
    {
      "cell_type": "code",
      "metadata": {
        "colab": {
          "base_uri": "https://localhost:8080/"
        },
        "id": "ytReF6Xehj6c",
        "outputId": "22e9b0be-8179-423d-a798-31272d222dbf"
      },
      "source": [
        "#len : 길이\r\n",
        "len('python')"
      ],
      "execution_count": 64,
      "outputs": [
        {
          "output_type": "execute_result",
          "data": {
            "text/plain": [
              "6"
            ]
          },
          "metadata": {
            "tags": []
          },
          "execution_count": 64
        }
      ]
    },
    {
      "cell_type": "code",
      "metadata": {
        "colab": {
          "base_uri": "https://localhost:8080/"
        },
        "id": "RujfnJpEh1GM",
        "outputId": "d63d8c3c-7bee-46b0-89a5-27096b51b8e6"
      },
      "source": [
        "len([1,2,3])"
      ],
      "execution_count": 65,
      "outputs": [
        {
          "output_type": "execute_result",
          "data": {
            "text/plain": [
              "3"
            ]
          },
          "metadata": {
            "tags": []
          },
          "execution_count": 65
        }
      ]
    },
    {
      "cell_type": "code",
      "metadata": {
        "colab": {
          "base_uri": "https://localhost:8080/"
        },
        "id": "XJquAot6h3dX",
        "outputId": "376acc71-b1af-4990-fde9-3f8768ce5200"
      },
      "source": [
        "#list : list로 변환\r\n",
        "list('python')"
      ],
      "execution_count": 66,
      "outputs": [
        {
          "output_type": "execute_result",
          "data": {
            "text/plain": [
              "['p', 'y', 't', 'h', 'o', 'n']"
            ]
          },
          "metadata": {
            "tags": []
          },
          "execution_count": 66
        }
      ]
    },
    {
      "cell_type": "code",
      "metadata": {
        "colab": {
          "base_uri": "https://localhost:8080/"
        },
        "id": "xGC8Y58ah9Hx",
        "outputId": "442bc3f2-77d4-416f-9931-2f909f576a42"
      },
      "source": [
        "list((1,2,3))"
      ],
      "execution_count": 67,
      "outputs": [
        {
          "output_type": "execute_result",
          "data": {
            "text/plain": [
              "[1, 2, 3]"
            ]
          },
          "metadata": {
            "tags": []
          },
          "execution_count": 67
        }
      ]
    },
    {
      "cell_type": "code",
      "metadata": {
        "colab": {
          "base_uri": "https://localhost:8080/"
        },
        "id": "GleK5vdJiA4A",
        "outputId": "9e95f4ce-1e07-43a4-8882-335a75e45f11"
      },
      "source": [
        "#map : 각 요소가 수행한 결과를 반환\r\n",
        "def two_times(x): return x*2\r\n",
        "a = list(map(two_times, [1,2,3,4]))\r\n",
        "print(a)"
      ],
      "execution_count": 69,
      "outputs": [
        {
          "output_type": "stream",
          "text": [
            "[2, 4, 6, 8]\n"
          ],
          "name": "stdout"
        }
      ]
    },
    {
      "cell_type": "code",
      "metadata": {
        "colab": {
          "base_uri": "https://localhost:8080/"
        },
        "id": "WwIzWcJpiT9t",
        "outputId": "d6798bca-5a15-4d42-98be-9e4d71c1cb83"
      },
      "source": [
        "a = list(map(lambda a: a*2, [1,2,3,4]))\r\n",
        "print(a)"
      ],
      "execution_count": 70,
      "outputs": [
        {
          "output_type": "stream",
          "text": [
            "[2, 4, 6, 8]\n"
          ],
          "name": "stdout"
        }
      ]
    },
    {
      "cell_type": "code",
      "metadata": {
        "colab": {
          "base_uri": "https://localhost:8080/"
        },
        "id": "4vEw2kYBid4e",
        "outputId": "a2d1dc55-67ca-40f8-cd85-8ec72caa994c"
      },
      "source": [
        "#max : 최대값(숫자)\r\n",
        "max([1,2,3])"
      ],
      "execution_count": 71,
      "outputs": [
        {
          "output_type": "execute_result",
          "data": {
            "text/plain": [
              "3"
            ]
          },
          "metadata": {
            "tags": []
          },
          "execution_count": 71
        }
      ]
    },
    {
      "cell_type": "code",
      "metadata": {
        "colab": {
          "base_uri": "https://localhost:8080/",
          "height": 35
        },
        "id": "-0iWVcofiu-3",
        "outputId": "2e456272-dc10-4c97-9fb4-eda4c0a8c0ab"
      },
      "source": [
        "#max : z에 가까운 문자(문자열)\r\n",
        "max('python')"
      ],
      "execution_count": 72,
      "outputs": [
        {
          "output_type": "execute_result",
          "data": {
            "application/vnd.google.colaboratory.intrinsic+json": {
              "type": "string"
            },
            "text/plain": [
              "'y'"
            ]
          },
          "metadata": {
            "tags": []
          },
          "execution_count": 72
        }
      ]
    },
    {
      "cell_type": "code",
      "metadata": {
        "colab": {
          "base_uri": "https://localhost:8080/"
        },
        "id": "s61vlDVsi1S8",
        "outputId": "a8432807-e63f-4b7a-b7ab-4ce616b8b8c8"
      },
      "source": [
        "#min : 최소값(숫자)\r\n",
        "min([1,2,3])"
      ],
      "execution_count": 73,
      "outputs": [
        {
          "output_type": "execute_result",
          "data": {
            "text/plain": [
              "1"
            ]
          },
          "metadata": {
            "tags": []
          },
          "execution_count": 73
        }
      ]
    },
    {
      "cell_type": "code",
      "metadata": {
        "colab": {
          "base_uri": "https://localhost:8080/",
          "height": 35
        },
        "id": "3lj6CD4ui-P2",
        "outputId": "f8a41256-2616-4c99-8ea7-f8c91cc28ada"
      },
      "source": [
        "#min : a에 가까운 문자(문자열)\r\n",
        "min('python')"
      ],
      "execution_count": 74,
      "outputs": [
        {
          "output_type": "execute_result",
          "data": {
            "application/vnd.google.colaboratory.intrinsic+json": {
              "type": "string"
            },
            "text/plain": [
              "'h'"
            ]
          },
          "metadata": {
            "tags": []
          },
          "execution_count": 74
        }
      ]
    },
    {
      "cell_type": "code",
      "metadata": {
        "colab": {
          "base_uri": "https://localhost:8080/"
        },
        "id": "qBUYdDTpjDi3",
        "outputId": "a1db8892-8d10-486d-a2a8-3ec450c1ba06"
      },
      "source": [
        "#pow : 제곱값 반환\r\n",
        "pow(2,4)"
      ],
      "execution_count": 76,
      "outputs": [
        {
          "output_type": "execute_result",
          "data": {
            "text/plain": [
              "16"
            ]
          },
          "metadata": {
            "tags": []
          },
          "execution_count": 76
        }
      ]
    },
    {
      "cell_type": "code",
      "metadata": {
        "colab": {
          "base_uri": "https://localhost:8080/"
        },
        "id": "LYnKWqnLjLTB",
        "outputId": "13831ac7-82d0-4b1a-aa43-9000891f018f"
      },
      "source": [
        "#round : 반올림\r\n",
        "round(2.8)"
      ],
      "execution_count": 77,
      "outputs": [
        {
          "output_type": "execute_result",
          "data": {
            "text/plain": [
              "3"
            ]
          },
          "metadata": {
            "tags": []
          },
          "execution_count": 77
        }
      ]
    },
    {
      "cell_type": "code",
      "metadata": {
        "colab": {
          "base_uri": "https://localhost:8080/"
        },
        "id": "ujQ09Rm0jWvD",
        "outputId": "d8228b59-ec06-454d-8190-c3e2b8d8e79f"
      },
      "source": [
        "#sorted : 정렬\r\n",
        "sorted([3,1,2])"
      ],
      "execution_count": 78,
      "outputs": [
        {
          "output_type": "execute_result",
          "data": {
            "text/plain": [
              "[1, 2, 3]"
            ]
          },
          "metadata": {
            "tags": []
          },
          "execution_count": 78
        }
      ]
    },
    {
      "cell_type": "code",
      "metadata": {
        "colab": {
          "base_uri": "https://localhost:8080/",
          "height": 35
        },
        "id": "KUxMbHtNjcDp",
        "outputId": "5de4575c-0bf1-45b1-a9f7-1466b8200096"
      },
      "source": [
        "#str : 문자열로 반환\r\n",
        "str(3)"
      ],
      "execution_count": 79,
      "outputs": [
        {
          "output_type": "execute_result",
          "data": {
            "application/vnd.google.colaboratory.intrinsic+json": {
              "type": "string"
            },
            "text/plain": [
              "'3'"
            ]
          },
          "metadata": {
            "tags": []
          },
          "execution_count": 79
        }
      ]
    },
    {
      "cell_type": "code",
      "metadata": {
        "colab": {
          "base_uri": "https://localhost:8080/"
        },
        "id": "lGwMqy1fjhEF",
        "outputId": "7f0d28e0-441a-4929-f3e9-4cca1f8ff5dc"
      },
      "source": [
        "#tuple : 튜플 \r\n",
        "tuple(\"abc\")"
      ],
      "execution_count": 80,
      "outputs": [
        {
          "output_type": "execute_result",
          "data": {
            "text/plain": [
              "('a', 'b', 'c')"
            ]
          },
          "metadata": {
            "tags": []
          },
          "execution_count": 80
        }
      ]
    },
    {
      "cell_type": "code",
      "metadata": {
        "colab": {
          "base_uri": "https://localhost:8080/"
        },
        "id": "_asRTBfxjvbi",
        "outputId": "6da31eb2-2015-4bd5-ac79-a80e8eeeca6b"
      },
      "source": [
        "tuple([1,2,3])"
      ],
      "execution_count": 81,
      "outputs": [
        {
          "output_type": "execute_result",
          "data": {
            "text/plain": [
              "(1, 2, 3)"
            ]
          },
          "metadata": {
            "tags": []
          },
          "execution_count": 81
        }
      ]
    },
    {
      "cell_type": "code",
      "metadata": {
        "colab": {
          "base_uri": "https://localhost:8080/"
        },
        "id": "qLUIuMlPjx_z",
        "outputId": "387c3525-7957-4e0c-d4fa-e229505d9bad"
      },
      "source": [
        "#type : 타입을 출력\r\n",
        "type(\"abc\")"
      ],
      "execution_count": 82,
      "outputs": [
        {
          "output_type": "execute_result",
          "data": {
            "text/plain": [
              "str"
            ]
          },
          "metadata": {
            "tags": []
          },
          "execution_count": 82
        }
      ]
    },
    {
      "cell_type": "code",
      "metadata": {
        "colab": {
          "base_uri": "https://localhost:8080/"
        },
        "id": "2aXjqJHJj4s4",
        "outputId": "c1e5780f-0940-4cd2-a269-0883c69d2406"
      },
      "source": [
        "type([])"
      ],
      "execution_count": 83,
      "outputs": [
        {
          "output_type": "execute_result",
          "data": {
            "text/plain": [
              "list"
            ]
          },
          "metadata": {
            "tags": []
          },
          "execution_count": 83
        }
      ]
    },
    {
      "cell_type": "code",
      "metadata": {
        "colab": {
          "base_uri": "https://localhost:8080/"
        },
        "id": "rMTb_3c9j6Mg",
        "outputId": "1cb02e63-0b15-4f0a-c86f-2e9708c729d7"
      },
      "source": [
        "#zip : 자료형을 묶어주는 역할\r\n",
        "list(zip([1,2,3],[4,5,6]))"
      ],
      "execution_count": 84,
      "outputs": [
        {
          "output_type": "execute_result",
          "data": {
            "text/plain": [
              "[(1, 4), (2, 5), (3, 6)]"
            ]
          },
          "metadata": {
            "tags": []
          },
          "execution_count": 84
        }
      ]
    },
    {
      "cell_type": "code",
      "metadata": {
        "colab": {
          "base_uri": "https://localhost:8080/"
        },
        "id": "TZxhvy5jkERL",
        "outputId": "91314a88-609c-4b87-ba45-0d3e4f6ff33c"
      },
      "source": [
        "list(zip(\"abc\",\"def\"))"
      ],
      "execution_count": 85,
      "outputs": [
        {
          "output_type": "execute_result",
          "data": {
            "text/plain": [
              "[('a', 'd'), ('b', 'e'), ('c', 'f')]"
            ]
          },
          "metadata": {
            "tags": []
          },
          "execution_count": 85
        }
      ]
    },
    {
      "cell_type": "markdown",
      "metadata": {
        "id": "XFuin6LvkRel"
      },
      "source": [
        "###외장함수"
      ]
    },
    {
      "cell_type": "code",
      "metadata": {
        "colab": {
          "base_uri": "https://localhost:8080/"
        },
        "id": "BZoxfg5ekM2k",
        "outputId": "101fcd22-0480-41f8-a8a6-fee2b468fc39"
      },
      "source": [
        "#time.time() : 1970년 1월 1일을 기준으로 지난 시간 초\r\n",
        "import time\r\n",
        "print(time.time())"
      ],
      "execution_count": 86,
      "outputs": [
        {
          "output_type": "stream",
          "text": [
            "1611159251.8038378\n"
          ],
          "name": "stdout"
        }
      ]
    },
    {
      "cell_type": "code",
      "metadata": {
        "colab": {
          "base_uri": "https://localhost:8080/"
        },
        "id": "YMWal_Kak0Pi",
        "outputId": "65509a61-44d0-4c65-9d85-40edf84d2a2f"
      },
      "source": [
        "#time.sleep() : 지정한 시간만큼 쉬어라\r\n",
        "import time\r\n",
        "for i in range(5):\r\n",
        "    print(i)\r\n",
        "    time.sleep(1)"
      ],
      "execution_count": 87,
      "outputs": [
        {
          "output_type": "stream",
          "text": [
            "0\n",
            "1\n",
            "2\n",
            "3\n",
            "4\n"
          ],
          "name": "stdout"
        }
      ]
    },
    {
      "cell_type": "code",
      "metadata": {
        "colab": {
          "base_uri": "https://localhost:8080/"
        },
        "id": "V4IYenhYlNI9",
        "outputId": "26b999f7-74cb-461c-dd1e-f4e2beb48f2f"
      },
      "source": [
        "#random.random() : 0~1 사이의 난수 무작위로 생성\r\n",
        "import random\r\n",
        "print(random.random())"
      ],
      "execution_count": 88,
      "outputs": [
        {
          "output_type": "stream",
          "text": [
            "0.2568372557479033\n"
          ],
          "name": "stdout"
        }
      ]
    },
    {
      "cell_type": "code",
      "metadata": {
        "colab": {
          "base_uri": "https://localhost:8080/"
        },
        "id": "GiPBAFMElfkF",
        "outputId": "78da1e57-cc9d-4240-d907-bdb25f901683"
      },
      "source": [
        "#random.randint() : 범위 안의 정수를 무작위로 추출\r\n",
        "import random\r\n",
        "random.randint(1,10)"
      ],
      "execution_count": 89,
      "outputs": [
        {
          "output_type": "execute_result",
          "data": {
            "text/plain": [
              "9"
            ]
          },
          "metadata": {
            "tags": []
          },
          "execution_count": 89
        }
      ]
    },
    {
      "cell_type": "code",
      "metadata": {
        "colab": {
          "base_uri": "https://localhost:8080/"
        },
        "id": "iMvbxHmmlwUG",
        "outputId": "bd5bd7d8-ffda-4912-9fe1-7b594f59e6cb"
      },
      "source": [
        "#random.sample(): 범위 안에서 지정한 개수만큼의 수를 무작위로 추출\r\n",
        "import random\r\n",
        "lotto = sorted(random.sample(range(1,46),6))\r\n",
        "print(lotto)"
      ],
      "execution_count": 91,
      "outputs": [
        {
          "output_type": "stream",
          "text": [
            "[5, 10, 19, 24, 37, 43]\n"
          ],
          "name": "stdout"
        }
      ]
    },
    {
      "cell_type": "code",
      "metadata": {
        "colab": {
          "base_uri": "https://localhost:8080/"
        },
        "id": "IN3slgN9mMK0",
        "outputId": "af235ff4-45d5-4206-f85f-60a1d9437cda"
      },
      "source": [
        "#webrowser.open : 웹브라우져 열기\r\n",
        "import webbrowser\r\n",
        "webbrowser.open(\"http://google.com\")"
      ],
      "execution_count": 94,
      "outputs": [
        {
          "output_type": "execute_result",
          "data": {
            "text/plain": [
              "False"
            ]
          },
          "metadata": {
            "tags": []
          },
          "execution_count": 94
        }
      ]
    },
    {
      "cell_type": "code",
      "metadata": {
        "id": "GchccPndmljZ"
      },
      "source": [
        ""
      ],
      "execution_count": null,
      "outputs": []
    }
  ]
}