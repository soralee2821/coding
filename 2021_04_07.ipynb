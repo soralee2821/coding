{
  "nbformat": 4,
  "nbformat_minor": 0,
  "metadata": {
    "colab": {
      "name": "2021-04-07.ipynb",
      "provenance": [],
      "authorship_tag": "ABX9TyMWOx471O+EDtGAgPSMLy5G",
      "include_colab_link": true
    },
    "kernelspec": {
      "name": "python3",
      "display_name": "Python 3"
    },
    "language_info": {
      "name": "python"
    }
  },
  "cells": [
    {
      "cell_type": "markdown",
      "metadata": {
        "id": "view-in-github",
        "colab_type": "text"
      },
      "source": [
        "<a href=\"https://colab.research.google.com/github/soralee2821/coding/blob/master/2021_04_07.ipynb\" target=\"_parent\"><img src=\"https://colab.research.google.com/assets/colab-badge.svg\" alt=\"Open In Colab\"/></a>"
      ]
    },
    {
      "cell_type": "markdown",
      "metadata": {
        "id": "7Iysu9O0RzOP"
      },
      "source": [
        "## Tuple"
      ]
    },
    {
      "cell_type": "code",
      "metadata": {
        "colab": {
          "base_uri": "https://localhost:8080/"
        },
        "id": "h0xC1WdgRwJF",
        "outputId": "844c7ad0-f5dc-40de-9c34-eb4c73ae0650"
      },
      "source": [
        "mytuple = (\"Max\", 28, \"Boston\")\n",
        "print(mytuple)"
      ],
      "execution_count": 1,
      "outputs": [
        {
          "output_type": "stream",
          "text": [
            "('Max', 28, 'Boston')\n"
          ],
          "name": "stdout"
        }
      ]
    },
    {
      "cell_type": "code",
      "metadata": {
        "colab": {
          "base_uri": "https://localhost:8080/"
        },
        "id": "8AXizsH8THpx",
        "outputId": "8133092b-9ee5-43eb-a345-b436de205e2a"
      },
      "source": [
        "mytuple = \"Max\", 28, \"Boston\"\n",
        "print(mytuple)"
      ],
      "execution_count": 2,
      "outputs": [
        {
          "output_type": "stream",
          "text": [
            "('Max', 28, 'Boston')\n"
          ],
          "name": "stdout"
        }
      ]
    },
    {
      "cell_type": "code",
      "metadata": {
        "colab": {
          "base_uri": "https://localhost:8080/"
        },
        "id": "uhRFdRsMTK_V",
        "outputId": "01bbfec2-bcdc-4367-f9e5-fbc19b33a399"
      },
      "source": [
        "mytuple = (\"Max\")\n",
        "print(type(mytuple))\n",
        "mytuple1 = (\"Max\",)\n",
        "print(type(mytuple1))"
      ],
      "execution_count": 3,
      "outputs": [
        {
          "output_type": "stream",
          "text": [
            "<class 'str'>\n",
            "<class 'tuple'>\n"
          ],
          "name": "stdout"
        }
      ]
    },
    {
      "cell_type": "code",
      "metadata": {
        "colab": {
          "base_uri": "https://localhost:8080/"
        },
        "id": "_stTozRKTiIS",
        "outputId": "592ad6cf-31c2-44b8-9f0f-9b8b6f0d7d66"
      },
      "source": [
        "mytuple = tuple([\"Max\",28,\"Boston\"])\n",
        "print(mytuple)"
      ],
      "execution_count": 6,
      "outputs": [
        {
          "output_type": "stream",
          "text": [
            "('Max', 28, 'Boston')\n"
          ],
          "name": "stdout"
        }
      ]
    },
    {
      "cell_type": "code",
      "metadata": {
        "colab": {
          "base_uri": "https://localhost:8080/"
        },
        "id": "O9kqQtx7Tv9x",
        "outputId": "f8ec87f5-948b-4ca8-ca54-3ca340483481"
      },
      "source": [
        "mytuple = tuple([\"Max\",28,\"Boston\"])\n",
        "print(mytuple)\n",
        "\n",
        "item = mytuple[0]\n",
        "print(item)\n",
        "item1 = mytuple[1]\n",
        "print(item1)\n",
        "item2 = mytuple[2]\n",
        "print(item2)"
      ],
      "execution_count": 9,
      "outputs": [
        {
          "output_type": "stream",
          "text": [
            "('Max', 28, 'Boston')\n",
            "Max\n",
            "28\n",
            "Boston\n"
          ],
          "name": "stdout"
        }
      ]
    },
    {
      "cell_type": "code",
      "metadata": {
        "colab": {
          "base_uri": "https://localhost:8080/"
        },
        "id": "Kq5UhTwwUI4K",
        "outputId": "813b9729-5a70-45d0-e0da-b4700d289844"
      },
      "source": [
        "mytuple = tuple([\"Max\",28,\"Boston\"])\n",
        "print(mytuple)\n",
        "\n",
        "item1 = mytuple[-1]\n",
        "print(item1)\n",
        "item2 = mytuple[-2]\n",
        "print(item2)"
      ],
      "execution_count": 10,
      "outputs": [
        {
          "output_type": "stream",
          "text": [
            "('Max', 28, 'Boston')\n",
            "Boston\n",
            "28\n"
          ],
          "name": "stdout"
        }
      ]
    },
    {
      "cell_type": "code",
      "metadata": {
        "colab": {
          "base_uri": "https://localhost:8080/",
          "height": 222
        },
        "id": "kswNEdXFUSxk",
        "outputId": "286ab8d8-ffdc-4d55-a167-ed54ef17bf14"
      },
      "source": [
        "#tuple is immutable.\n",
        "mytuple = tuple([\"Max\",28,\"Boston\"])\n",
        "print(mytuple)\n",
        "\n",
        "mytuple[0] = \"Tim\""
      ],
      "execution_count": 11,
      "outputs": [
        {
          "output_type": "stream",
          "text": [
            "('Max', 28, 'Boston')\n"
          ],
          "name": "stdout"
        },
        {
          "output_type": "error",
          "ename": "TypeError",
          "evalue": "ignored",
          "traceback": [
            "\u001b[0;31m---------------------------------------------------------------------------\u001b[0m",
            "\u001b[0;31mTypeError\u001b[0m                                 Traceback (most recent call last)",
            "\u001b[0;32m<ipython-input-11-284b8c34a415>\u001b[0m in \u001b[0;36m<module>\u001b[0;34m()\u001b[0m\n\u001b[1;32m      3\u001b[0m \u001b[0mprint\u001b[0m\u001b[0;34m(\u001b[0m\u001b[0mmytuple\u001b[0m\u001b[0;34m)\u001b[0m\u001b[0;34m\u001b[0m\u001b[0;34m\u001b[0m\u001b[0m\n\u001b[1;32m      4\u001b[0m \u001b[0;34m\u001b[0m\u001b[0m\n\u001b[0;32m----> 5\u001b[0;31m \u001b[0mmytuple\u001b[0m\u001b[0;34m[\u001b[0m\u001b[0;36m0\u001b[0m\u001b[0;34m]\u001b[0m \u001b[0;34m=\u001b[0m \u001b[0;34m\"Tim\"\u001b[0m\u001b[0;34m\u001b[0m\u001b[0;34m\u001b[0m\u001b[0m\n\u001b[0m",
            "\u001b[0;31mTypeError\u001b[0m: 'tuple' object does not support item assignment"
          ]
        }
      ]
    },
    {
      "cell_type": "code",
      "metadata": {
        "colab": {
          "base_uri": "https://localhost:8080/"
        },
        "id": "wR54jA7fWhwb",
        "outputId": "53bd8582-4354-468d-e3b7-766b95331bba"
      },
      "source": [
        "mytuple = tuple([\"Max\",28,\"Boston\"])\n",
        "print(mytuple)\n",
        "\n",
        "for i in mytuple:\n",
        "    print(i)"
      ],
      "execution_count": 12,
      "outputs": [
        {
          "output_type": "stream",
          "text": [
            "('Max', 28, 'Boston')\n",
            "Max\n",
            "28\n",
            "Boston\n"
          ],
          "name": "stdout"
        }
      ]
    },
    {
      "cell_type": "code",
      "metadata": {
        "colab": {
          "base_uri": "https://localhost:8080/"
        },
        "id": "Kb5snOIAWrgq",
        "outputId": "fb2628d5-da97-4f32-a2b5-c9c7e806c03b"
      },
      "source": [
        "mytuple = tuple([\"Max\",28,\"Boston\"])\n",
        "print(mytuple)\n",
        "\n",
        "if \"Max\" in mytuple:\n",
        "    print(\"yes\")\n",
        "else:\n",
        "    print(\"no\")"
      ],
      "execution_count": 13,
      "outputs": [
        {
          "output_type": "stream",
          "text": [
            "('Max', 28, 'Boston')\n",
            "yes\n"
          ],
          "name": "stdout"
        }
      ]
    },
    {
      "cell_type": "code",
      "metadata": {
        "colab": {
          "base_uri": "https://localhost:8080/"
        },
        "id": "pxcExRQYWzg7",
        "outputId": "aff754fc-abc3-407e-880c-69cb4125463e"
      },
      "source": [
        "my_tuple = ('a','p','p','l','e')\n",
        "\n",
        "print(len(my_tuple))"
      ],
      "execution_count": 14,
      "outputs": [
        {
          "output_type": "stream",
          "text": [
            "5\n"
          ],
          "name": "stdout"
        }
      ]
    },
    {
      "cell_type": "code",
      "metadata": {
        "colab": {
          "base_uri": "https://localhost:8080/"
        },
        "id": "0FLENbtqXA3M",
        "outputId": "479a1c42-bb17-41d5-e19c-af9b657ce2c3"
      },
      "source": [
        "my_tuple = ('a','p','p','l','e')\n",
        "\n",
        "print(my_tuple.count('p'))"
      ],
      "execution_count": 15,
      "outputs": [
        {
          "output_type": "stream",
          "text": [
            "2\n"
          ],
          "name": "stdout"
        }
      ]
    },
    {
      "cell_type": "code",
      "metadata": {
        "colab": {
          "base_uri": "https://localhost:8080/"
        },
        "id": "aj8HVMfrXMr7",
        "outputId": "d22432cc-ba49-4244-aac9-5379f6b80408"
      },
      "source": [
        "my_tuple = ('a','p','p','l','e')\n",
        "\n",
        "print(my_tuple.index('p'))"
      ],
      "execution_count": 16,
      "outputs": [
        {
          "output_type": "stream",
          "text": [
            "1\n"
          ],
          "name": "stdout"
        }
      ]
    },
    {
      "cell_type": "code",
      "metadata": {
        "colab": {
          "base_uri": "https://localhost:8080/"
        },
        "id": "WUwStrn4XW40",
        "outputId": "5edcbca2-217d-406d-a9e0-5ff1679d65f9"
      },
      "source": [
        "my_tuple = ('a','p','p','l','e')\n",
        "\n",
        "my_list = list(my_tuple)\n",
        "print(my_list)\n",
        "\n",
        "my_tuple2 = tuple(my_list)\n",
        "print(my_tuple2)"
      ],
      "execution_count": 18,
      "outputs": [
        {
          "output_type": "stream",
          "text": [
            "['a', 'p', 'p', 'l', 'e']\n",
            "('a', 'p', 'p', 'l', 'e')\n"
          ],
          "name": "stdout"
        }
      ]
    },
    {
      "cell_type": "code",
      "metadata": {
        "colab": {
          "base_uri": "https://localhost:8080/"
        },
        "id": "VKPvpN4_iczc",
        "outputId": "0508b849-3a78-41d8-b64d-a941eaca7749"
      },
      "source": [
        "a = (1,2,3,4,5,6,7,8,9,10)\n",
        "\n",
        "b = a[2:5]\n",
        "print(b)"
      ],
      "execution_count": 19,
      "outputs": [
        {
          "output_type": "stream",
          "text": [
            "(3, 4, 5)\n"
          ],
          "name": "stdout"
        }
      ]
    },
    {
      "cell_type": "code",
      "metadata": {
        "colab": {
          "base_uri": "https://localhost:8080/"
        },
        "id": "ptO0BRodjhCf",
        "outputId": "9b4de588-2e6a-47a1-c4b7-1ec89a9f3e7d"
      },
      "source": [
        "a = (1,2,3,4,5,6,7,8,9,10)\n",
        "\n",
        "b = a[:5]\n",
        "print(b)"
      ],
      "execution_count": 20,
      "outputs": [
        {
          "output_type": "stream",
          "text": [
            "(1, 2, 3, 4, 5)\n"
          ],
          "name": "stdout"
        }
      ]
    },
    {
      "cell_type": "code",
      "metadata": {
        "colab": {
          "base_uri": "https://localhost:8080/"
        },
        "id": "Ouwb4dUljq4_",
        "outputId": "af2c9726-09d4-4a39-d28b-fcbb6fabbb3b"
      },
      "source": [
        "a = (1,2,3,4,5,6,7,8,9,10)\n",
        "\n",
        "b = a[2:]\n",
        "print(b)"
      ],
      "execution_count": 21,
      "outputs": [
        {
          "output_type": "stream",
          "text": [
            "(3, 4, 5, 6, 7, 8, 9, 10)\n"
          ],
          "name": "stdout"
        }
      ]
    },
    {
      "cell_type": "code",
      "metadata": {
        "colab": {
          "base_uri": "https://localhost:8080/"
        },
        "id": "CEDKRkv4jtwf",
        "outputId": "58aaac8e-bf91-4444-dbce-d8b06a7500fb"
      },
      "source": [
        "a = (1,2,3,4,5,6,7,8,9,10)\n",
        "\n",
        "b = a[::1]\n",
        "print(b)"
      ],
      "execution_count": 22,
      "outputs": [
        {
          "output_type": "stream",
          "text": [
            "(1, 2, 3, 4, 5, 6, 7, 8, 9, 10)\n"
          ],
          "name": "stdout"
        }
      ]
    },
    {
      "cell_type": "code",
      "metadata": {
        "colab": {
          "base_uri": "https://localhost:8080/"
        },
        "id": "yWRl5ILpjv4p",
        "outputId": "974bec96-1b01-4dbc-9054-cce038114bbe"
      },
      "source": [
        "a = (1,2,3,4,5,6,7,8,9,10)\n",
        "\n",
        "b = a[::2]\n",
        "print(b)"
      ],
      "execution_count": 23,
      "outputs": [
        {
          "output_type": "stream",
          "text": [
            "(1, 3, 5, 7, 9)\n"
          ],
          "name": "stdout"
        }
      ]
    },
    {
      "cell_type": "code",
      "metadata": {
        "colab": {
          "base_uri": "https://localhost:8080/"
        },
        "id": "HG_YxkW_jyRH",
        "outputId": "0ee45804-fdc2-43c4-f524-2e61bcd59321"
      },
      "source": [
        "a = (1,2,3,4,5,6,7,8,9,10)\n",
        "\n",
        "b = a[::-1]\n",
        "print(b)"
      ],
      "execution_count": 24,
      "outputs": [
        {
          "output_type": "stream",
          "text": [
            "(10, 9, 8, 7, 6, 5, 4, 3, 2, 1)\n"
          ],
          "name": "stdout"
        }
      ]
    },
    {
      "cell_type": "code",
      "metadata": {
        "colab": {
          "base_uri": "https://localhost:8080/"
        },
        "id": "zFMvtQ9ej1KL",
        "outputId": "509c8e8d-3225-4b33-9d46-9530a3e388c0"
      },
      "source": [
        "my_tuple=\"Max\",28,\"Boston\"\n",
        "\n",
        "name, age, city = my_tuple\n",
        "print(name)\n",
        "print(age)\n",
        "print(city)"
      ],
      "execution_count": 25,
      "outputs": [
        {
          "output_type": "stream",
          "text": [
            "Max\n",
            "28\n",
            "Boston\n"
          ],
          "name": "stdout"
        }
      ]
    },
    {
      "cell_type": "code",
      "metadata": {
        "colab": {
          "base_uri": "https://localhost:8080/"
        },
        "id": "UY4X3824j-41",
        "outputId": "8ebc26b0-621e-4557-eeae-8c7fd1c450de"
      },
      "source": [
        "my_tuple = (0,1,2,3,4)\n",
        "\n",
        "i1, *i2, i3 = my_tuple\n",
        "print(i1)\n",
        "print(i3)\n",
        "print(i2)"
      ],
      "execution_count": 26,
      "outputs": [
        {
          "output_type": "stream",
          "text": [
            "0\n",
            "4\n",
            "[1, 2, 3]\n"
          ],
          "name": "stdout"
        }
      ]
    },
    {
      "cell_type": "code",
      "metadata": {
        "colab": {
          "base_uri": "https://localhost:8080/"
        },
        "id": "XvN7a7aVnTha",
        "outputId": "758d6bce-5d18-4659-ce71-1bd692d32e2a"
      },
      "source": [
        "import sys\n",
        "my_list = [0, 1, 2, \"hello\", True]\n",
        "my_tuple = (0, 1, 2, \"hello\", True)\n",
        "print(sys.getsizeof(my_list), \"bytes\")\n",
        "print(sys.getsizeof(my_tuple), \"bytes\")"
      ],
      "execution_count": 27,
      "outputs": [
        {
          "output_type": "stream",
          "text": [
            "112 bytes\n",
            "96 bytes\n"
          ],
          "name": "stdout"
        }
      ]
    },
    {
      "cell_type": "code",
      "metadata": {
        "colab": {
          "base_uri": "https://localhost:8080/"
        },
        "id": "hYPU5rz4n88p",
        "outputId": "3b89f216-aa35-4654-d142-267c71eb64a0"
      },
      "source": [
        "import timeit\n",
        "print(timeit.timeit(stmt=\"[0,1,2,3,4,5]\", number=100000))\n",
        "print(timeit.timeit(stmt=\"(0,1,2,3,4,5)\", number=100000))\n",
        "#Sometimes working with tuples is more efficient."
      ],
      "execution_count": 29,
      "outputs": [
        {
          "output_type": "stream",
          "text": [
            "0.012326953000410867\n",
            "0.0012936169996464741\n"
          ],
          "name": "stdout"
        }
      ]
    },
    {
      "cell_type": "code",
      "metadata": {
        "id": "A8jeJa4MoRFm"
      },
      "source": [
        ""
      ],
      "execution_count": null,
      "outputs": []
    }
  ]
}